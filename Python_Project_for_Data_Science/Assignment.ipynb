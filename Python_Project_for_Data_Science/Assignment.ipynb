{
 "metadata": {
  "language_info": {
   "codemirror_mode": {
    "name": "ipython",
    "version": 3
   },
   "file_extension": ".py",
   "mimetype": "text/x-python",
   "name": "python",
   "nbconvert_exporter": "python",
   "pygments_lexer": "ipython3",
   "version": "3.9.1-final"
  },
  "orig_nbformat": 2,
  "kernelspec": {
   "name": "python3",
   "display_name": "Python 3.9.1 64-bit",
   "metadata": {
    "interpreter": {
     "hash": "7812ea015bdcee6f23a998adcdd2ef97c151c0c241b7b7070987d9313e41299d"
    }
   }
  }
 },
 "nbformat": 4,
 "nbformat_minor": 2,
 "cells": [
  {
   "source": [
    "# Analyzing Historical Stock/Revenue Data and Builidng a Dashboard"
   ],
   "cell_type": "markdown",
   "metadata": {}
  },
  {
   "source": [
    "## Question 1. Extracting Tesla Stock Data Using yfinance"
   ],
   "cell_type": "markdown",
   "metadata": {}
  },
  {
   "cell_type": "code",
   "execution_count": 1,
   "metadata": {},
   "outputs": [],
   "source": [
    "# importing libraries\n",
    "import pandas as pd\n",
    "import yfinance as yf"
   ]
  },
  {
   "cell_type": "code",
   "execution_count": 2,
   "metadata": {},
   "outputs": [],
   "source": [
    "# using 'Ticker' module to extract data\n",
    "tesla = yf.Ticker(\"TSLA\")"
   ]
  },
  {
   "cell_type": "code",
   "execution_count": 3,
   "metadata": {},
   "outputs": [
    {
     "output_type": "execute_result",
     "data": {
      "text/plain": [
       "{'zip': '94304',\n",
       " 'sector': 'Consumer Cyclical',\n",
       " 'fullTimeEmployees': 70757,\n",
       " 'longBusinessSummary': 'Tesla, Inc. designs, develops, manufactures, leases, and sells electric vehicles, and energy generation and storage systems in the United States, China, and internationally. The company operates in two segments, Automotive, and Energy Generation and Storage. The Automotive segment offers electric vehicles, as well as sells automotive regulatory credits. It provides sedans and sport utility vehicles through direct and used vehicle sales, a network of Tesla Superchargers, and in-app upgrades; and purchase financing and leasing services. This segment is also involved in the provision of non-warranty after-sales vehicle services, sale of used vehicles, retail merchandise, and vehicle insurance, as well as sale of products through its subsidiaries to third party customers; services for electric vehicles through its company-owned service locations, and Tesla mobile service technicians; and vehicle limited warranties and extended service plans. The Energy Generation and Storage segment engages in the design, manufacture, installation, sale, and leasing of solar energy generation and energy storage products, and related services to residential, commercial, and industrial customers and utilities through its website, stores, and galleries, as well as through a network of channel partners. This segment also offers service and repairs to its energy product customers, including under warranty; and various financing options to its solar customers. The company was formerly known as Tesla Motors, Inc. and changed its name to Tesla, Inc. in February 2017. Tesla, Inc. was founded in 2003 and is headquartered in Palo Alto, California.',\n",
       " 'city': 'Palo Alto',\n",
       " 'phone': '650-681-5000',\n",
       " 'state': 'CA',\n",
       " 'country': 'United States',\n",
       " 'companyOfficers': [],\n",
       " 'website': 'http://www.tesla.com',\n",
       " 'maxAge': 1,\n",
       " 'address1': '3500 Deer Creek Road',\n",
       " 'industry': 'Auto Manufacturers',\n",
       " 'previousClose': 781.3,\n",
       " 'regularMarketOpen': 762.64,\n",
       " 'twoHundredDayAverage': 556.62964,\n",
       " 'trailingAnnualDividendYield': None,\n",
       " 'payoutRatio': 0,\n",
       " 'volume24Hr': None,\n",
       " 'regularMarketDayHigh': 768.5,\n",
       " 'navPrice': None,\n",
       " 'averageDailyVolume10Day': 20621250,\n",
       " 'totalAssets': None,\n",
       " 'regularMarketPreviousClose': 781.3,\n",
       " 'fiftyDayAverage': 828.02423,\n",
       " 'trailingAnnualDividendRate': None,\n",
       " 'open': 762.64,\n",
       " 'toCurrency': None,\n",
       " 'averageVolume10days': 20621250,\n",
       " 'expireDate': None,\n",
       " 'yield': None,\n",
       " 'algorithm': None,\n",
       " 'dividendRate': None,\n",
       " 'exDividendDate': None,\n",
       " 'beta': 2.090715,\n",
       " 'circulatingSupply': None,\n",
       " 'startDate': None,\n",
       " 'regularMarketDayLow': 710.5,\n",
       " 'priceHint': 2,\n",
       " 'currency': 'USD',\n",
       " 'trailingPE': 1116.4062,\n",
       " 'regularMarketVolume': 35628285,\n",
       " 'lastMarket': None,\n",
       " 'maxSupply': None,\n",
       " 'openInterest': None,\n",
       " 'marketCap': 685815693312,\n",
       " 'volumeAllCurrencies': None,\n",
       " 'strikePrice': None,\n",
       " 'averageVolume': 40965440,\n",
       " 'priceToSalesTrailing12Months': 21.747072,\n",
       " 'dayLow': 710.5,\n",
       " 'ask': 0,\n",
       " 'ytdReturn': None,\n",
       " 'askSize': 800,\n",
       " 'volume': 35628285,\n",
       " 'fiftyTwoWeekHigh': 900.4,\n",
       " 'forwardPE': 132.07025,\n",
       " 'fromCurrency': None,\n",
       " 'fiveYearAvgDividendYield': None,\n",
       " 'fiftyTwoWeekLow': 70.102,\n",
       " 'bid': 0,\n",
       " 'tradeable': False,\n",
       " 'dividendYield': None,\n",
       " 'bidSize': 3000,\n",
       " 'dayHigh': 768.5,\n",
       " 'exchange': 'NMS',\n",
       " 'shortName': 'Tesla, Inc.',\n",
       " 'longName': 'Tesla, Inc.',\n",
       " 'exchangeTimezoneName': 'America/New_York',\n",
       " 'exchangeTimezoneShortName': 'EST',\n",
       " 'isEsgPopulated': False,\n",
       " 'gmtOffSetMilliseconds': '-18000000',\n",
       " 'quoteType': 'EQUITY',\n",
       " 'symbol': 'TSLA',\n",
       " 'messageBoardId': 'finmb_27444752',\n",
       " 'market': 'us_market',\n",
       " 'annualHoldingsTurnover': None,\n",
       " 'enterpriseToRevenue': 21.601,\n",
       " 'beta3Year': None,\n",
       " 'profitMargins': 0.02286,\n",
       " 'enterpriseToEbitda': 159.425,\n",
       " '52WeekChange': 3.8836746,\n",
       " 'morningStarRiskRating': None,\n",
       " 'forwardEps': 5.41,\n",
       " 'revenueQuarterlyGrowth': None,\n",
       " 'sharesOutstanding': 959854016,\n",
       " 'fundInceptionDate': None,\n",
       " 'annualReportExpenseRatio': None,\n",
       " 'bookValue': 23.151,\n",
       " 'sharesShort': 52379526,\n",
       " 'sharesPercentSharesOut': 0.0546,\n",
       " 'fundFamily': None,\n",
       " 'lastFiscalYearEnd': 1609372800,\n",
       " 'heldPercentInstitutions': 0.42529,\n",
       " 'netIncomeToCommon': 690000000,\n",
       " 'trailingEps': 0.64,\n",
       " 'lastDividendValue': None,\n",
       " 'SandP52WeekChange': 0.1675049,\n",
       " 'priceToBook': 30.862598,\n",
       " 'heldPercentInsiders': 0.19985001,\n",
       " 'nextFiscalYearEnd': 1672444800,\n",
       " 'mostRecentQuarter': 1609372800,\n",
       " 'shortRatio': 1.4,\n",
       " 'sharesShortPreviousMonthDate': 1609372800,\n",
       " 'floatShares': 771530247,\n",
       " 'enterpriseValue': 681222340608,\n",
       " 'threeYearAverageReturn': None,\n",
       " 'lastSplitDate': 1598832000,\n",
       " 'lastSplitFactor': '5:1',\n",
       " 'legalType': None,\n",
       " 'lastDividendDate': None,\n",
       " 'morningStarOverallRating': None,\n",
       " 'earningsQuarterlyGrowth': 1.571,\n",
       " 'dateShortInterest': 1611878400,\n",
       " 'pegRatio': 6.37,\n",
       " 'lastCapGain': None,\n",
       " 'shortPercentOfFloat': 0.0679,\n",
       " 'sharesShortPriorMonth': 60620873,\n",
       " 'impliedSharesOutstanding': None,\n",
       " 'category': None,\n",
       " 'fiveYearAverageReturn': None,\n",
       " 'regularMarketPrice': 762.64,\n",
       " 'logo_url': 'https://logo.clearbit.com/tesla.com'}"
      ]
     },
     "metadata": {},
     "execution_count": 3
    }
   ],
   "source": [
    "# using the attribue 'info' \n",
    "tesla_info = tesla.info\n",
    "tesla_info"
   ]
  },
  {
   "cell_type": "code",
   "execution_count": 4,
   "metadata": {},
   "outputs": [
    {
     "output_type": "execute_result",
     "data": {
      "text/plain": [
       "             Open   High    Low  Close    Volume  Dividends  Stock Splits\n",
       "Date                                                                     \n",
       "2010-06-29  3.800  5.000  3.508  4.778  93831500          0           0.0\n",
       "2010-06-30  5.158  6.084  4.660  4.766  85935500          0           0.0\n",
       "2010-07-01  5.000  5.184  4.054  4.392  41094000          0           0.0\n",
       "2010-07-02  4.600  4.620  3.742  3.840  25699000          0           0.0\n",
       "2010-07-06  4.000  4.000  3.166  3.222  34334500          0           0.0"
      ],
      "text/html": "<div>\n<style scoped>\n    .dataframe tbody tr th:only-of-type {\n        vertical-align: middle;\n    }\n\n    .dataframe tbody tr th {\n        vertical-align: top;\n    }\n\n    .dataframe thead th {\n        text-align: right;\n    }\n</style>\n<table border=\"1\" class=\"dataframe\">\n  <thead>\n    <tr style=\"text-align: right;\">\n      <th></th>\n      <th>Open</th>\n      <th>High</th>\n      <th>Low</th>\n      <th>Close</th>\n      <th>Volume</th>\n      <th>Dividends</th>\n      <th>Stock Splits</th>\n    </tr>\n    <tr>\n      <th>Date</th>\n      <th></th>\n      <th></th>\n      <th></th>\n      <th></th>\n      <th></th>\n      <th></th>\n      <th></th>\n    </tr>\n  </thead>\n  <tbody>\n    <tr>\n      <th>2010-06-29</th>\n      <td>3.800</td>\n      <td>5.000</td>\n      <td>3.508</td>\n      <td>4.778</td>\n      <td>93831500</td>\n      <td>0</td>\n      <td>0.0</td>\n    </tr>\n    <tr>\n      <th>2010-06-30</th>\n      <td>5.158</td>\n      <td>6.084</td>\n      <td>4.660</td>\n      <td>4.766</td>\n      <td>85935500</td>\n      <td>0</td>\n      <td>0.0</td>\n    </tr>\n    <tr>\n      <th>2010-07-01</th>\n      <td>5.000</td>\n      <td>5.184</td>\n      <td>4.054</td>\n      <td>4.392</td>\n      <td>41094000</td>\n      <td>0</td>\n      <td>0.0</td>\n    </tr>\n    <tr>\n      <th>2010-07-02</th>\n      <td>4.600</td>\n      <td>4.620</td>\n      <td>3.742</td>\n      <td>3.840</td>\n      <td>25699000</td>\n      <td>0</td>\n      <td>0.0</td>\n    </tr>\n    <tr>\n      <th>2010-07-06</th>\n      <td>4.000</td>\n      <td>4.000</td>\n      <td>3.166</td>\n      <td>3.222</td>\n      <td>34334500</td>\n      <td>0</td>\n      <td>0.0</td>\n    </tr>\n  </tbody>\n</table>\n</div>"
     },
     "metadata": {},
     "execution_count": 4
    }
   ],
   "source": [
    "# Extracting share price \n",
    "tesla_share_price_data = tesla.history(period = \"max\")\n",
    "tesla_share_price_data.head()"
   ]
  },
  {
   "source": [
    "## Question 2. Extracting Tesla Revenue Data Using Webscraping"
   ],
   "cell_type": "markdown",
   "metadata": {}
  },
  {
   "cell_type": "code",
   "execution_count": 5,
   "metadata": {},
   "outputs": [],
   "source": [
    "# importing libraries\n",
    "import requests\n",
    "from bs4 import BeautifulSoup"
   ]
  },
  {
   "cell_type": "code",
   "execution_count": 6,
   "metadata": {},
   "outputs": [
    {
     "output_type": "execute_result",
     "data": {
      "text/plain": [
       "<Response [200]>"
      ]
     },
     "metadata": {},
     "execution_count": 6
    }
   ],
   "source": [
    "# using 'requests' library to download the webpage below\n",
    "url = \"https://www.macrotrends.net/stocks/charts/TSLA/tesla/revenue\"\n",
    "html_data = requests.get(url)\n",
    "html_data"
   ]
  },
  {
   "cell_type": "code",
   "execution_count": 7,
   "metadata": {
    "tags": []
   },
   "outputs": [
    {
     "output_type": "stream",
     "name": "stdout",
     "text": [
      "<!DOCTYPE html>\n<!--[if lt IE 7]>      <html class=\"no-js lt-ie9 lt-ie8 lt-ie7\"> <![endif]-->\n<!--[if IE 7]>         <html class=\"no-js lt-ie9 lt-ie8\"> <![endif]-->\n<!--[if IE 8]>         <html class=\"no-js lt-ie9\"> <![endif]-->\n<!--[if gt IE 8]><!-->\n<html class=\"no-js\">\n <!--<![endif]-->\n <head>\n  <meta charset=\"utf-8\"/>\n  <meta content=\"IE=edge,chrome=1\" http-equiv=\"X-UA-Compatible\"/>\n  <link href=\"https://www.macrotrends.net/stocks/charts/TSLA/tesla/revenue\" rel=\"canonical\"/>\n  <title>\n   Tesla Revenue 2009-2020 | TSLA | MacroTrends\n  </title>\n  <meta content=\"Tesla annual/quarterly revenue history and growth rate from 2009 to 2020. Revenue can be defined as the amount of money a company receives from its customers in exchange for the sales of goods or services.  Revenue is the top line item on an income statement from which all costs and expenses are subtracted to arrive at net income.    \n\t\t\t\t\n\t\t\t\t&lt;ul style='margin-top:10px;'&gt;\n\t\t\t\t&lt;li&gt;Tesla revenue for the quarter ending December 31, 2020 was &lt;strong&gt;$10.744B&lt;/strong&gt;, a &lt;strong&gt;45.5% increase&lt;/strong&gt; year-over-year.&lt;/li&gt;\n\t\t\t\t&lt;li&gt;Tesla revenue for the twelve months ending December 31, 2020 was &lt;strong&gt;$31.536B&lt;/strong&gt;, a &lt;strong&gt;28.31% increase&lt;/strong&gt; year-over-year.&lt;/li&gt;\n\t\t\t\t&lt;li&gt;Tesla annual revenue for 2020 was &lt;strong&gt;$31.536B&lt;/strong&gt;, a &lt;strong&gt;28.31% increase&lt;/strong&gt; from 2019.&lt;/li&gt;\n\t\t\t\t&lt;li&gt;Tesla annual revenue for 2019 was &lt;strong&gt;$24.578B&lt;/strong&gt;, a &lt;strong&gt;14.52% increase&lt;/strong&gt; from 2018.&lt;/li&gt;\n\t\t\t\t&lt;li&gt;Tesla annual revenue for 2018 was &lt;strong&gt;$21.461B&lt;/strong&gt;, a &lt;strong&gt;82.51% increase&lt;/strong&gt; from 2017.&lt;/li&gt;\n\t\t\t\t&lt;/ul&gt;\" name=\"description\">\n   <meta content=\"\" name=\"robots\">\n    <link href=\"/assets/images/icons/FAVICON/macro-trends_favicon.ico\" rel=\"shortcut icon\" type=\"image/x-icon\"/>\n    <meta content=\"1228954C688F5907894001CD8E5E624B\" name=\"msvalidate.01\"/>\n    <meta content=\"6MnD_3iDtAP1ZyoGK1YMyVIVck4r5Ws80I9xD3ue4_A\" name=\"google-site-verification\"/>\n    <!-- Load in Roboto Font -->\n    <link href=\"https://fonts.googleapis.com/css?family=Roboto:400,600,700\" rel=\"stylesheet\"/>\n    <!-- Bootstrap -->\n    <link href=\"//maxcdn.bootstrapcdn.com/bootstrap/3.3.7/css/bootstrap.min.css\" rel=\"stylesheet\"/>\n    <!--for Bootstrap CDN version-->\n    <link href=\"//maxcdn.bootstrapcdn.com/bootstrap/3.3.7/css/bootstrap-theme.min.css\" rel=\"stylesheet\"/>\n    <!-- Font Awesome -->\n    <link href=\"//stackpath.bootstrapcdn.com/font-awesome/4.7.0/css/font-awesome.min.css\" rel=\"stylesheet\"/>\n    <!--for Font Awesome CDN version-->\n    <!-- Jquery, Bootstrap and Menu Javascript -->\n    <script crossorigin=\"anonymous\" integrity=\"sha256-ZosEbRLbNQzLpnKIkEdrPv7lOy9C27hHQ+Xp8a4MxAQ=\" src=\"//code.jquery.com/jquery-1.12.4.min.js\">\n    </script>\n    <script src=\"//maxcdn.bootstrapcdn.com/bootstrap/3.3.7/js/bootstrap.min.js\">\n    </script>\n    <!-- Modernizr for cross-browser support -->\n    <script src=\"/assets/javascript/modernizr-2.6.2-respond-1.1.0.min.js\" type=\"text/javascript\">\n    </script>\n    <!-- Latest compiled and minified CSS -->\n    <link href=\"//www.fuelcdn.com/fuelux/3.13.0/css/fuelux.min.css\" rel=\"stylesheet\"/>\n    <!-- Latest compiled and minified JavaScript -->\n    <script src=\"//www.fuelcdn.com/fuelux/3.13.0/js/fuelux.min.js\">\n    </script>\n    <!-- Twitter Card data -->\n    <meta content=\"summary_large_image\" name=\"twitter:card\"/>\n    <meta content=\"@tmacrotrends\" name=\"twitter:site\"/>\n    <meta content=\"Tesla Revenue 2009-2020 | TSLA\" name=\"twitter:title\"/>\n    <meta content=\"Tesla annual/quarterly revenue history and growth rate from 2009 to 2020. Revenue can be defined as the amount of money a company receives from its customers in exchange for the sales of goods or services.  Revenue is the top line item on an income statement from which all costs and expenses are subtracted to arrive at net income.    \n\t\t\t\t\n\t\t\t\t&lt;ul style='margin-top:10px;'&gt;\n\t\t\t\t&lt;li&gt;Tesla revenue for the quarter ending December 31, 2020 was &lt;strong&gt;$10.744B&lt;/strong&gt;, a &lt;strong&gt;45.5% increase&lt;/strong&gt; year-over-year.&lt;/li&gt;\n\t\t\t\t&lt;li&gt;Tesla revenue for the twelve months ending December 31, 2020 was &lt;strong&gt;$31.536B&lt;/strong&gt;, a &lt;strong&gt;28.31% increase&lt;/strong&gt; year-over-year.&lt;/li&gt;\n\t\t\t\t&lt;li&gt;Tesla annual revenue for 2020 was &lt;strong&gt;$31.536B&lt;/strong&gt;, a &lt;strong&gt;28.31% increase&lt;/strong&gt; from 2019.&lt;/li&gt;\n\t\t\t\t&lt;li&gt;Tesla annual revenue for 2019 was &lt;strong&gt;$24.578B&lt;/strong&gt;, a &lt;strong&gt;14.52% increase&lt;/strong&gt; from 2018.&lt;/li&gt;\n\t\t\t\t&lt;li&gt;Tesla annual revenue for 2018 was &lt;strong&gt;$21.461B&lt;/strong&gt;, a &lt;strong&gt;82.51% increase&lt;/strong&gt; from 2017.&lt;/li&gt;\n\t\t\t\t&lt;/ul&gt;\" name=\"twitter:description\"/>\n    <!-- Open Graph data -->\n    <meta content=\"https://www.macrotrends.net/stocks/charts/TSLA/tesla/revenue\" property=\"og:url\">\n     <meta content=\"Tesla Revenue 2009-2020 | TSLA\" property=\"og:title\">\n      <meta content=\"Tesla annual/quarterly revenue history and growth rate from 2009 to 2020. Revenue can be defined as the amount of money a company receives from its customers in exchange for the sales of goods or services.  Revenue is the top line item on an income statement from which all costs and expenses are subtracted to arrive at net income.    \n\t\t\t\t\n\t\t\t\t&lt;ul style='margin-top:10px;'&gt;\n\t\t\t\t&lt;li&gt;Tesla revenue for the quarter ending December 31, 2020 was &lt;strong&gt;$10.744B&lt;/strong&gt;, a &lt;strong&gt;45.5% increase&lt;/strong&gt; year-over-year.&lt;/li&gt;\n\t\t\t\t&lt;li&gt;Tesla revenue for the twelve months ending December 31, 2020 was &lt;strong&gt;$31.536B&lt;/strong&gt;, a &lt;strong&gt;28.31% increase&lt;/strong&gt; year-over-year.&lt;/li&gt;\n\t\t\t\t&lt;li&gt;Tesla annual revenue for 2020 was &lt;strong&gt;$31.536B&lt;/strong&gt;, a &lt;strong&gt;28.31% increase&lt;/strong&gt; from 2019.&lt;/li&gt;\n\t\t\t\t&lt;li&gt;Tesla annual revenue for 2019 was &lt;strong&gt;$24.578B&lt;/strong&gt;, a &lt;strong&gt;14.52% increase&lt;/strong&gt; from 2018.&lt;/li&gt;\n\t\t\t\t&lt;li&gt;Tesla annual revenue for 2018 was &lt;strong&gt;$21.461B&lt;/strong&gt;, a &lt;strong&gt;82.51% increase&lt;/strong&gt; from 2017.&lt;/li&gt;\n\t\t\t\t&lt;/ul&gt;\" property=\"og:description\">\n       <!-- JQXGRID STYLES AND JAVASCRIPT -->\n       <link href=\"/assets/php/jqfiles/jqwidgets/styles/jqx.base.css\" rel=\"stylesheet\" type=\"text/css\">\n        <link href=\"/assets/php/jqfiles/jqwidgets/styles/jqx.bootstrap.css\" rel=\"stylesheet\" type=\"text/css\">\n         <!-- LOAD THESE SCRIPTS EARLY SO THE TICKER INPUT FIELD IS STYLED INSTANTLY -->\n         <script src=\"/assets/php/jqfiles/jqwidgets/jqxcore.js\" type=\"text/javascript\">\n         </script>\n         <script src=\"/assets/php/jqfiles/jqwidgets/jqxdata.js\" type=\"text/javascript\">\n         </script>\n         <script src=\"/assets/php/jqfiles/jqwidgets/jqxinput.js\" type=\"text/javascript\">\n         </script>\n         <!-- Styling for search box -->\n         <link href=\"/assets/php/jquery-typeahead/jquery.typeahead_pages.css\" rel=\"stylesheet\" type=\"text/css\"/>\n         <!-- Search box javascript -->\n         <script src=\"/assets/php/jquery-typeahead/jquery.typeahead.min.js\">\n         </script>\n         <link href=\"//cdnjs.cloudflare.com/ajax/libs/select2/4.0.3/css/select2.min.css\" rel=\"stylesheet\">\n          <script src=\"//cdnjs.cloudflare.com/ajax/libs/select2/4.0.3/js/select2.min.js\">\n          </script>\n          <!-- ToolTips -->\n          <script src=\"/assets/php/tipped-4.6.1/js/tipped/tipped.js\">\n          </script>\n          <link href=\"/assets/php/tipped-4.6.1/css/tipped/tipped.css\" rel=\"stylesheet\"/>\n          <script async=\"\" src=\"https://u5.investingchannel.com/static/uat.js\">\n          </script>\n          <script type=\"text/javascript\">\n           InvestingChannelQueue = window.InvestingChannelQueue || [];\n\t\t\tvar ic_page;\n\t\t\tInvestingChannelQueue.push(function() {ic_page = InvestingChannel.UAT.Run(\"df17ac1e-cc7f-11e8-82a5-0abbb61c4a6a\");});\n          </script>\n          <!-- Global site tag (gtag.js) - Google Analytics -->\n          <script async=\"\" src=\"https://www.googletagmanager.com/gtag/js?id=UA-62099500-1\">\n          </script>\n          <script>\n           window.dataLayer = window.dataLayer || [];\n\t\t  function gtag(){dataLayer.push(arguments);}\n\t\t  gtag('js', new Date());\n\n\t\t  gtag('config', 'UA-62099500-1');\n          </script>\n          <!-- Amcharts Files -->\n          <script src=\"/assets/php/charts/amcharts/amcharts.js\" type=\"text/javascript\">\n          </script>\n          <script src=\"/assets/php/charts/amcharts/serial.js\" type=\"text/javascript\">\n          </script>\n          <script src=\"/assets/php/charts/amcharts/themes/light.js\" type=\"text/javascript\">\n          </script>\n          <script src=\"/assets/php/charts/amcharts/amstock.js\" type=\"text/javascript\">\n          </script>\n          <script src=\"/assets/php/charts/amcharts/plugins/export/export.min.js?version=1527102356\" type=\"text/javascript\">\n          </script>\n          <script src=\"/assets/php/charts/amcharts/plugins/export/libs/fabric.js/fabric.min.js?version=1510086154\" type=\"text/javascript\">\n          </script>\n          <script src=\"/assets/php/charts/amcharts/plugins/export/libs/FileSaver.js/FileSaver.js?version=1500654620\" type=\"text/javascript\">\n          </script>\n          <link href=\"/assets/php/charts/amcharts/plugins/export/export.css\" media=\"all\" rel=\"stylesheet\" type=\"text/css\">\n           <!--<script>\n\t\t\t(function(i,s,o,g,r,a,m){i['GoogleAnalyticsObject']=r;i[r]=i[r]||function(){\n\t\t\t(i[r].q=i[r].q||[]).push(arguments)},i[r].l=1*new Date();a=s.createElement(o),\n\t\t\tm=s.getElementsByTagName(o)[0];a.async=1;a.src=g;m.parentNode.insertBefore(a,m)\n\t\t\t})(window,document,'script','//www.google-analytics.com/analytics.js','ga');\n\n\t\t\tga('create', 'UA-62099500-1', 'auto');\n\t\t\tga('send', 'pageview');\n\t\t\t\n\t\t\t\n\t\t\t\n\t\t   \n\t\t\t//Send one event to GA at 30 seconds to control bounce rate\n\t\t\tsetTimeout(\"ga('send','event','Engaged User','30 Second Engagement')\",30000); \n\n\n\t\t  //This code sends events to ga every 30 seconds when the window is in focus\n\t\t\tvar count = 0;\n\t\t\tvar myInterval;\n\t\t\t\t\t\n\t\t\t// Active\n\t\t\twindow.addEventListener('load', startTimer);\n\t\t\twindow.addEventListener('focus', startTimer);\n\n\t\t\t// Inactive\n\t\t\twindow.addEventListener('blur', stopTimer);\n\n\t\t\tfunction timerHandler() {\n\t\t\t\tcount++;\n\t\t\t\t\n\t\t\t\tif(count % 60 == 0 && count <= 1800) {\n\t\t\t\t\t\n\t\t\t\t\tvar interval = (count/60);\n\t\t\t\t\tinterval = interval.toFixed(0);\n\t\t\t\t\t\n\t\t\t\t\tvar action = interval + \" Minute Engagement\";\n\t\t\t\t\t\n\t\t\t\t\tga('send','event','Engaged User',action);\n\n\t\t\t\t\t\n\t\t\t\t}\n\t\t\t\n\t\t\t}\n\n\t\t\t// Start timer\n\t\t\tfunction startTimer() {\n\t\t\tmyInterval = window.setInterval(timerHandler, 1000);\n\t\t\t}\n\n\t\t\t// Stop timer\n\t\t\tfunction stopTimer() {\n\t\t\twindow.clearInterval(myInterval);\n\t\t\t}\n\t\t\t\n\t\t\t\n\n\t\t</script>-->\n           <style>\n            #style-1::-webkit-scrollbar-track\n{\n\t-webkit-box-shadow: inset 0 0 6px rgba(0,0,0,0.3);\n\tborder-radius: 3px;\n\tbackground-color: #F5F5F5;\n}\n\n#style-1::-webkit-scrollbar\n{\n\twidth: 18px;\n\tbackground-color: #F5F5F5;\n}\n\n#style-1::-webkit-scrollbar-thumb\n{\n\tborder-radius: 3px;\n\t-webkit-box-shadow: inset 0 0 6px rgba(0,0,0,.3);\n\tbackground-color: #5B9BD5;\n}\n\nhtml {\n\twidth:100%;\n\tposition: relative;\n\tmin-height: 100%;\n}\n\nbody {\n\t\n\twidth:100%;\n\n\t/* Margin bottom by footer height */\n\t  margin-bottom: 80px;\n\t  color: #444;\n\t  background-color:#fff;\n\t  font-family: 'Roboto', sans-serif;\n\t  font-size:14px;\n}\n\n\n\n\n\n.header_content_container {\n\t\n\tmin-width: 1280px;\n\tpadding: 0px;\n}\n\n.main_content_container {\n\t\n\tmin-width: 1280px;\n\tmax-width: 1280px;\n\tpadding: 0px 30px 100px 30px;\n\t\n}\n\n.sub_main_content_container {\n\t\n\t\n}\n\n\n\n#main_content {\n\t\n\tpadding:0px 20px 0px 0px;\n\twidth:826px;\n    float:left;\n\t\n}\n\n#right_sidebar {\n\t\n  width: 300px;\n  float:left;\n  height:3170px;\n\t\n}\n\n#sticky_ad_left {\n\t\n  position: -webkit-sticky;\n  position: sticky;\n  top: 30px;\n\t\n\t\n}\n\n#sticky_ad_right {\n\t\n  position: -webkit-sticky;\n  position: sticky;\n  top: 30px;\n\t\n\t\n}\n\n\n\n\n\n.footer {\n  position: absolute;\n  bottom: 0;\n  width: 100%;\n  /* Set the fixed height of the footer here */\n  height: 100px;\n  margin-top: 10px;\t\n  padding: 30px 20px 20px 20px;\n  color:#fff !important;\n  background-color:#444;\n  text-align: center;\n  font-size:16px;\n}\n\n.footer a {\n  color:#fff !important;\n}\n\n.ticker_search_box {\n\t\n\tbackground-color:#F5F5F5;\n\tborder: 1px solid #E0E0E0;\n\tborder-bottom:none;\n\tpadding:10px 30px 10px 10px;\n\tmargin:0px 0px 0px 0px;\n\ttext-align:center;\n\t\n}\n\n.related_tickers {\n\t\n\twidth:100%;\n\tbackground-color:#F5F5F5;\n\tborder: 1px solid #E0E0E0;\n\tborder-top: 0px;\n\tpadding:3px 30px 3px 10px;\n\tmargin:0px 0px 0px 0px;\n\ttext-align:center;\n\t\n}\n\n.statement_type_select {\n\n\twidth:100%;\n\theight:28px;\n\t\n}\n\n.frequency_select {\n\n\twidth:100%;\n\theight:28px;\n\tfont-weight:600;\n\t\n}\n\n\n.select2 {\n\t\n\ttext-align:left;\n\tfont-weight:600;\n\t\n\t}\n\t\n#jqxInput {\n\n\t\twidth:100%;\n\t\theight:28px;\n\t\t\n}\n\n\n\n.header__parent_container {\n\n\twidth:100%;\n\theight:50px;\n\tpadding:15px 0px 10px -20px; \n\tmargin:0px 0px 0px 0px;\n\tbackground-color:#444;\n\n}\n\n.header_container {\n\n\twidth:100%;\n\theight:50px;\n\tpadding:15px 0px 10px -20px; \n\tmargin:0px 0px 0px 0px;\n\tbackground-color:#444;\n\n}\n\n.header_logo {\n\t\n\tpadding-top:10px;\n\tmargin-left:50px;\n\t\n}\n\n.menu_parent_container {\n\t\n\twidth:100%;\n\theight:34px;\n\tfont-size:16px;\n\tpadding:15px 0px 10px -20px; \n\tmargin:0px 0px 0px 0px;\n\tbackground-color:#0089de;\n}\n\n.menu_container {\n\t\n\twidth:1280px;\n\theight:34px;\n\tfont-size:16px;\n\tpadding:11px 0px 0px -20px; \n\tmargin: 0 auto;\n\tbackground-color:#0089de;\n\tz-index:1000;\n}\n\n.menu_item {\n\n\theight:34px;\n\tfloat:left;\n\tfont-size:14px;\n\tfont-weight:bold;\n\tcolor:#fff;\n\ttext-align:center;\n\tpadding:7px 16px 0px 16px;\t\n\n}\n\n.menu_item:hover\n{\n\tbackground-color:#32a0e4;\n\tcursor: pointer;\n}\n\n.menu_item a\n{\n\tcolor:#fff;\n\tcursor: pointer;\n}\n\n.menu_item a:hover\n{\n\ttext-decoration:none;\n\tcursor: pointer;\n}\n\n.leaderboard_ad {\n\n\tmargin-top:20px;\n\tmargin-bottom:20px;\n\ttext-align:center;\n\tmin-height:100px;\n\n}\n\n#filter_result_count {\n\t\n\twidth:100%;\n\ttext-align:center;\n\tfont-size:24px;\n\tfont-weight:bold;\n\tpadding:10px 15px;\n\tbackground-color:#efefef;\n\tborder: 1px solid #dfdfdf;\n\tmargin:20px;\n\t\n}\n\n\nselect {\n  color: #444;\n  background-color: #FFF;\n  border: 1px solid #AAA;\n  border-radius: 4px;\n  box-sizing: border-box;\n  cursor: pointer;\n  display: block;\n  height:40px;\n  line-height: 40px;\n}\n\n.historical_data_table  {\n    table-layout: fixed;\n\tmargin:20px;\n}\n\n.historical_data_table tbody tr td {\n\t\n\tpadding:6px;\n\tvertical-align: middle !important;\n\n}\n\n\n.descriptors {\n\t\n\ttext-align:center;\n\tfont-size:14px;\n\tpadding:15px;\n\t\n}\n\n.td_metric_name {\n\t\n\twidth:110px;\n\tpadding-top:17px;\n\t\n}\n\n.metric_link {\n\t\n\tfont-size:14px;\n\tfont-weight:bold;\n\n}\n\n.help_icon {\n\t\n\twidth:15px;\n\theight:18px; \n\tpadding-bottom:3px;\n\t\n}\n\n.td_min_value {\n\t\n\twidth:75px;\n\ttext-align:center;\n\tfont-size:13px;\n\t\n}\n\n.td_max_value {\n\t\n\twidth:75px;\n\ttext-align:center;\n\tfont-size:13px;\n\t\n}\n\n#myCombobox .form-control {\n\t\n\tbackground-color: #99d5ff;\n\n\t\n}\n\n.dropdown-toggle {\n\t\n\theight:24px;\n\tpadding-top:0px;\n\tpadding-left:7px;\n\twidth:24px;\n\t\n}\n\n.dropdown-menu-right {\n\t\n\tmin-width:75px;\n\tfont-size:13px;\n\t\n}\n\n.form-control {\n\t\n\tfont-size:12px;\t\n\tpadding:5px 10px;\n\theight:24px;\n\n\t\n}\n\n#myPills1 {\n\t\n\tmargin:0px 15px 10px 0px;\n\t\n}\n\n#jqxgrid {\n\t\n\tborder-radius:0px;\n\t\n}\n\n.jqx-widget-header {\n\t\n    font-family: 'Roboto', sans-serif;\n\tfont-size:13px;\t\n\t\n}\n\n.jqx-item {\n\t\n    font-family: 'Roboto', sans-serif;\n\tfont-size: 13px;\n\t\n}\n\n.jqx-widget-content {\n\t\n\tborder-color: #E0E0E0;\n\t\n}\n\n#jqxgrid .jqx-grid-cell {\n\t\n\tborder-color: #E0E0E0;\n\t\n}\n\n#jqxgrid .jqx-grid-cell-pinned {\n\t\n\tborder-color: #E0E0E0;\n\tbackground-color: #F5F5F5;\n\t\n}\n\n#jqxgrid .jqx-grid-column-header {\n\t\n\tborder-color: #E0E0E0;\n\tbackground-color: #F5F5F5;\n\t\n}\n\n.clear_zero {\n\n\theight:0px;\n\n}\n\n\n\n/* Styles for Popup Charts */\n\n.tpd-size-large {\n\t\n\tmargin:0px;\t\n\tpadding: 0px;\n}\n\n.popup_window_wrapper {\n\t\n\tmargin:15px;\n\t\n}\n\n.popup_stock_name {\n\n\tfont-size:16px;\n\tfont-weight:bold;\n\tmargin:5px;\n\n}\n\n.popup_stock_attributes {\n\n\tfont-size:13px;\n\tfont-weight:bold;\n\tmargin:5px;\n\n}\n\n.popup_stock_description {\n\n\tfont-size:12px;\n\tmargin:5px;\n\n}\n\n.jqx-input {\n\t\n\tfont-size:14px;\n\t\n} \n\n.jqx-menu-item {\n\t\n\tfont-size:14px;\n\t\n}\n\n.jqx-input {\n\t\n\tpadding:5px 10px;\n\t\n}\n\n.nav-tabs {\n    border: 1px solid #E0E0E0;\n\tbackground-color:#F5F5F5;\n\tpadding: 3px 5px 0px 5px;\n\tmargin: 0px 0px 10px 0px;\n}\n\n.nav-tabs>li>a {\n\tfont-size:13px;\n\tpadding:7px 12px;\n\tfont-weight:600;\n    margin-right: 0px;\n    line-height: 1.42857143;\n    border: 0px;\n    border-radius: 0px 0px 0 0;\n\tbackground-color:#F5F5F5;\n\n}\n\n.nav-tabs>li>a .active {\n    margin-right: 0px;\n    line-height: 1.42857143;\n    border: 1px solid #E0E0E0;\n    border-radius: 0px 0px 0 0;\n\tbackground-color:#F5F5F5;\n\n}\n\n.nav-tabs>li>a:hover { \n    background-color: #F5F5F5;\n\ttext-decoration: underline;\n\n}\n\n.donate_buttons {\n\n\tmargin-left:20px;\n\t\n\t}\n\n.modal-body {\n\n\tmargin:10px 40px 20px 40px;\n\ttext-align:left;\n\tfont-size:18px;\n\n}\n\n.modal-body li {\n\n\tmargin-top:20px;\n\tfont-size:14px;\n\n}\n\n\n.modal_title {\n\n\n\ttext-align:center;\n\tmargin-bottom:30px;\n\n}\n\n.modal-body th{\n\n\tmargin-left:10px;\n\tfont-size:14px;\n}\n\n.modal-body td {\n\n\tcolor: #337ab7;\n\tmargin-left:10px;\n\tfont-size:14px;\n}\n\n.modal_button {\n\n\tmargin-top:50px;\n\ttext-align:center;\n\tfont-size:16px;\n\n}\n           </style>\n          </link>\n         </link>\n        </link>\n       </link>\n      </meta>\n     </meta>\n    </meta>\n   </meta>\n  </meta>\n </head>\n <body class=\"fuelux\">\n  <!--[if lt IE 7]>\n            <p class=\"browsehappy\">You are using an <strong>outdated</strong> browser. Please <a href=\"https://browsehappy.com/\">upgrade your browser</a> to improve your experience.</p>\n        <![endif]-->\n  <div class=\"header_content_container container-fluid\">\n   <div class=\"header_parent_container\">\n    <div class=\"header_container\">\n     <div class=\"header_logo col-xs-2\">\n      <a class=\"logo\" href=\"https://www.macrotrends.net\" title=\"MacroTrends Home Page\">\n       <img src=\"/assets/images/logo_bright1.png\"/>\n      </a>\n     </div>\n     <div class=\"col-xs-1 pull-right\" style=\"padding-top:8px; margin-right:10px; margin-left:0px; padding-left:0px;\">\n     </div>\n     <div class=\"col-xs-5 pull-right\" style=\"padding-top:8px;\">\n      <form>\n       <div class=\"typeahead__container\">\n        <div class=\"typeahead__field\">\n         <span class=\"typeahead__query\">\n          <input autocomplete=\"off\" autofocus=\"\" class=\"js-typeahead\" name=\"q\" placeholder=\"Search over 200,000 charts...\" type=\"search\"/>\n         </span>\n         <span class=\"typeahead__button\">\n          <button type=\"submit\">\n           <span class=\"typeahead__search-icon\">\n           </span>\n          </button>\n         </span>\n        </div>\n       </div>\n      </form>\n     </div>\n    </div>\n   </div>\n   <div class=\"menu_parent_container\">\n    <div class=\"menu_container\">\n     <a href=\"/stocks/stock-screener\">\n      <div class=\"menu_item\">\n       Stock Screener\n      </div>\n     </a>\n     <a href=\"/stocks/research\">\n      <div class=\"menu_item\">\n       Stock Research\n      </div>\n     </a>\n     <a href=\"/charts/stock-indexes\">\n      <div class=\"menu_item\">\n       Market Indexes\n      </div>\n     </a>\n     <a href=\"/charts/precious-metals\">\n      <div class=\"menu_item\">\n       Precious Metals\n      </div>\n     </a>\n     <a href=\"/charts/energy\">\n      <div class=\"menu_item\">\n       Energy\n      </div>\n     </a>\n     <a href=\"/charts/commodities\">\n      <div class=\"menu_item\">\n       Commodities\n      </div>\n     </a>\n     <a href=\"/charts/exchange-rates\">\n      <div class=\"menu_item\">\n       Exchange Rates\n      </div>\n     </a>\n     <a href=\"/charts/interest-rates\">\n      <div class=\"menu_item\">\n       Interest Rates\n      </div>\n     </a>\n     <a href=\"/futures\">\n      <div class=\"menu_item\">\n       Futures\n      </div>\n     </a>\n     <a href=\"/charts/economy\">\n      <div class=\"menu_item\">\n       Economy\n      </div>\n     </a>\n     <a href=\"/countries/topic-overview\">\n      <div class=\"menu_item\">\n       Global Metrics\n      </div>\n     </a>\n    </div>\n   </div>\n  </div>\n  <div class=\"main_content_container container-fluid\" id=\"main_content_container\">\n   <div class=\"adx_top_ad col-xs-12\" id=\"ic_leaderboard\" style=\"margin: 20px 20px 30px 20px; min-height:265px; text-align:center;\">\n    <!--Smartad # 4058: Macrotrends - 970x250 Image - Placement 2-->\n    <iframe height=\"250\" id=\"dianomi_leaderboard\" scrolling=\"NO\" src=\"//www.dianomi.com/smartads.epl?id=4058\" style=\"height: 250px; border: none; overflow: hidden;\" width=\"970\">\n    </iframe>\n   </div>\n   <div style=\"margin:20px;\">\n    <h2 style=\"margin-left:0px; font-weight:600; color:#444;\">\n     Tesla Revenue 2009-2020 | TSLA\n    </h2>\n   </div>\n   <div class=\"sub_main_content_container\">\n    <div id=\"main_content\">\n     <div class=\"navigation_tabs\" style=\"margin-bottom:20px;\">\n      <ul class=\"nav nav-tabs\" id=\"myTabs\" style=\"font-size:15px;\">\n       <li>\n        <a href=\"https://www.macrotrends.net/stocks/charts/TSLA/tesla/stock-price-history\">\n         Prices\n        </a>\n       </li>\n       <li>\n        <a href=\"https://www.macrotrends.net/stocks/charts/TSLA/tesla/financial-statements\">\n         Financials\n        </a>\n       </li>\n       <li class=\"active\">\n        <a href=\"https://www.macrotrends.net/stocks/charts/TSLA/tesla/revenue\">\n         Revenue &amp; Profit\n        </a>\n       </li>\n       <li>\n        <a href=\"https://www.macrotrends.net/stocks/charts/TSLA/tesla/total-assets\">\n         Assets &amp; Liabilities\n        </a>\n       </li>\n       <li>\n        <a href=\"https://www.macrotrends.net/stocks/charts/TSLA/tesla/profit-margins\">\n         Margins\n        </a>\n       </li>\n       <li>\n        <a href=\"https://www.macrotrends.net/stocks/charts/TSLA/tesla/pe-ratio\">\n         Price Ratios\n        </a>\n       </li>\n       <li>\n        <a href=\"https://www.macrotrends.net/stocks/charts/TSLA/tesla/current-ratio\">\n         Other Ratios\n        </a>\n       </li>\n       <li>\n        <a href=\"https://www.macrotrends.net/stocks/charts/TSLA/tesla/dividend-yield-history\">\n         Other Metrics\n        </a>\n       </li>\n      </ul>\n      <ul class=\"nav nav-tabs\" id=\"myTabs\" style=\"font-size:15px;\">\n       <li class=\"active\">\n        <a href=\"https://www.macrotrends.net/stocks/charts/TSLA/tesla/revenue\">\n         Revenue\n        </a>\n       </li>\n       <li>\n        <a href=\"https://www.macrotrends.net/stocks/charts/TSLA/tesla/gross-profit\">\n         Gross Profit\n        </a>\n       </li>\n       <li>\n        <a href=\"https://www.macrotrends.net/stocks/charts/TSLA/tesla/operating-income\">\n         Operating Income\n        </a>\n       </li>\n       <li>\n        <a href=\"https://www.macrotrends.net/stocks/charts/TSLA/tesla/ebitda\">\n         EBITDA\n        </a>\n       </li>\n       <li>\n        <a href=\"https://www.macrotrends.net/stocks/charts/TSLA/tesla/net-income\">\n         Net Income\n        </a>\n       </li>\n       <li>\n        <a href=\"https://www.macrotrends.net/stocks/charts/TSLA/tesla/eps-earnings-per-share-diluted\">\n         EPS\n        </a>\n       </li>\n       <li>\n        <a href=\"https://www.macrotrends.net/stocks/charts/TSLA/tesla/shares-outstanding\">\n         Shares Outstanding\n        </a>\n       </li>\n      </ul>\n     </div>\n     <div class=\"nav-tabs\" style=\"margin-bottom:20px; padding:15px; text-align:center; font-weight:600;\">\n      <span>\n       For a detailed definition, formula and example for\n       <a href=\"/formulas-definitions/revenue\">\n        Revenue\n       </a>\n       , check out our new background page\n       <a href=\"/formulas-definitions/revenue\">\n        here\n       </a>\n       .\n      </span>\n     </div>\n     <div style=\"background-color:#fff; margin: 0px 0px 20px 0px; padding:20px 30px; border:1px solid #dfdfdf;\">\n      <span style=\"color:#444; line-height: 1.8;\">\n       Tesla annual/quarterly revenue history and growth rate from 2009 to 2020. Revenue can be defined as the amount of money a company receives from its customers in exchange for the sales of goods or services.  Revenue is the top line item on an income statement from which all costs and expenses are subtracted to arrive at net income.\n       <ul style=\"margin-top:10px;\">\n        <li>\n         Tesla revenue for the quarter ending December 31, 2020 was\n         <strong>\n          $10.744B\n         </strong>\n         , a\n         <strong>\n          45.5% increase\n         </strong>\n         year-over-year.\n        </li>\n        <li>\n         Tesla revenue for the twelve months ending December 31, 2020 was\n         <strong>\n          $31.536B\n         </strong>\n         , a\n         <strong>\n          28.31% increase\n         </strong>\n         year-over-year.\n        </li>\n        <li>\n         Tesla annual revenue for 2020 was\n         <strong>\n          $31.536B\n         </strong>\n         , a\n         <strong>\n          28.31% increase\n         </strong>\n         from 2019.\n        </li>\n        <li>\n         Tesla annual revenue for 2019 was\n         <strong>\n          $24.578B\n         </strong>\n         , a\n         <strong>\n          14.52% increase\n         </strong>\n         from 2018.\n        </li>\n        <li>\n         Tesla annual revenue for 2018 was\n         <strong>\n          $21.461B\n         </strong>\n         , a\n         <strong>\n          82.51% increase\n         </strong>\n         from 2017.\n        </li>\n       </ul>\n      </span>\n     </div>\n     <div style=\"background-color:#fff; margin: 30px 0px 30px 0px; text-align:center; min-height:90px;\">\n      <div id=\"ic_728_90\" style=\"margin:10px 20px;\">\n      </div>\n     </div>\n     <div class=\"ticker_search_box\" style=\"text-align:center;\">\n      <div style=\"width:400px; margin-left:20px; border-bottom:none;\">\n       <script type=\"text/javascript\">\n        $(document).ready(function () {\n\t\t\t\t                \n\t\t\t\t\tvar url = \"https://www.macrotrends.net/assets/php/ticker_search_list.php\";\n\t\t\t\t\n                // prepare the data\n                var source =\n                {\n                    datatype: \"json\",\n                    datafields: [\n                        { name: 'n' },\n\t\t\t\t\t\t{ name: 's'}\n                    ],\n                    url: url\n                };\n                var dataAdapter = new $.jqx.dataAdapter(source);\n                // Create a jqxInput\n                $(\"#jqxInput\").jqxInput({ source: dataAdapter, minLength: 1, placeHolder: \"Search for ticker or company name...\", items: 20, searchMode: 'containsignorecase', displayMember: \"n\", valueMember: \"s\", width: '100%', height: 22, theme: 'bootstrap'});\n                $(\"#jqxInput\").on('select', function (event) {\n                    if (event.args) {\n                        var item = event.args.item;\n\t\t\t\t\t\t\n\t\t\t\t\t\t//Have to split the ticker and slug back out since jqxinput only seems to allow one data value\n\t\t\t\t\t\tvar itemArray = item.value.split(\"\\/\"); \n\t\t\t\t\t\tvar ticker = itemArray[0];\n\t\t\t\t\t\tvar slug = itemArray[1];\n                        if (item) {\n\t\t\t\t\t\t\t\n\t\t\t\t\t\t\t\t\t\t\t\t\t\t\n\t\t\t\t\t\t\t\twindow.location = \"https://www.macrotrends.net/stocks/charts/\" + ticker + \"/\" + slug + \"/revenue\";\n\t\t\t\t\t\t\t\n\t\t\t\t\t\t\t                        }\n                    }\n                });\n            });\n       </script>\n       <input id=\"jqxInput\">\n       </input>\n      </div>\n      <div style=\"width:280px; margin-top: -32px; margin-left:80px; border-bottom:none; float:right;\">\n       <button class=\"chart_buttons btn btn-success btn-sm\" id=\"compareStocks\" style=\"margin-right:15px;\">\n        <span class=\"glyphicon glyphicon-stats\">\n        </span>\n        <strong>\n         Compare TSLA With Other Stocks\n        </strong>\n       </button>\n      </div>\n     </div>\n     <div style=\"height:690px; background-color:#fff; border:1px solid #dfdfdf;\">\n      <iframe frameborder=\"0\" height=\"680\" hspace=\"0\" id=\"chart_iframe\" margin=\"0px\" marginheight=\"0\" marginwidth=\"0\" scrolling=\"NO\" src=\"https://www.macrotrends.net/assets/php/fundamental_iframe.php?t=TSLA&amp;type=revenue&amp;statement=income-statement&amp;freq=Q\" title=\"Interactive chart: Tesla Revenue 2009-2020 | TSLA\" valign=\"middle\" vspace=\"0\" width=\"800\">\n      </iframe>\n     </div>\n     <div id=\"ic_video_ad\">\n     </div>\n     <div style=\"background-color:#fff; margin: 30px 0px; padding:10px 30px; border:1px solid #dfdfdf;\">\n      <iframe frameborder=\"0\" height=\"300\" hspace=\"0\" id=\"dianomi_below_chart\" marginheight=\"0\" marginwidth=\"0\" scrolling=\"NO\" src=\"//www.dianomi.com/smartads.epl?id=4057\" valign=\"middle\" vspace=\"0\" width=\"100%\">\n      </iframe>\n     </div>\n     <div id=\"style-1\" style=\"background-color:#fff; height:510px; overflow:auto; margin: 30px 0px 30px 0px; padding:0px 30px 20px 0px; border:1px solid #dfdfdf;\">\n      <div class=\"col-xs-6\">\n       <table class=\"historical_data_table table\">\n        <thead>\n         <tr>\n          <th colspan=\"2\" style=\"text-align:center\">\n           Tesla Annual Revenue\n           <br/>\n           <span style=\"font-size:14px;\">\n            (Millions of US $)\n           </span>\n          </th>\n         </tr>\n        </thead>\n        <tbody>\n         <tr>\n          <td style=\"text-align:center\">\n           2020\n          </td>\n          <td style=\"text-align:center\">\n           $31,536\n          </td>\n         </tr>\n         <tr>\n          <td style=\"text-align:center\">\n           2019\n          </td>\n          <td style=\"text-align:center\">\n           $24,578\n          </td>\n         </tr>\n         <tr>\n          <td style=\"text-align:center\">\n           2018\n          </td>\n          <td style=\"text-align:center\">\n           $21,461\n          </td>\n         </tr>\n         <tr>\n          <td style=\"text-align:center\">\n           2017\n          </td>\n          <td style=\"text-align:center\">\n           $11,759\n          </td>\n         </tr>\n         <tr>\n          <td style=\"text-align:center\">\n           2016\n          </td>\n          <td style=\"text-align:center\">\n           $7,000\n          </td>\n         </tr>\n         <tr>\n          <td style=\"text-align:center\">\n           2015\n          </td>\n          <td style=\"text-align:center\">\n           $4,046\n          </td>\n         </tr>\n         <tr>\n          <td style=\"text-align:center\">\n           2014\n          </td>\n          <td style=\"text-align:center\">\n           $3,198\n          </td>\n         </tr>\n         <tr>\n          <td style=\"text-align:center\">\n           2013\n          </td>\n          <td style=\"text-align:center\">\n           $2,013\n          </td>\n         </tr>\n         <tr>\n          <td style=\"text-align:center\">\n           2012\n          </td>\n          <td style=\"text-align:center\">\n           $413\n          </td>\n         </tr>\n         <tr>\n          <td style=\"text-align:center\">\n           2011\n          </td>\n          <td style=\"text-align:center\">\n           $204\n          </td>\n         </tr>\n         <tr>\n          <td style=\"text-align:center\">\n           2010\n          </td>\n          <td style=\"text-align:center\">\n           $117\n          </td>\n         </tr>\n         <tr>\n          <td style=\"text-align:center\">\n           2009\n          </td>\n          <td style=\"text-align:center\">\n           $112\n          </td>\n         </tr>\n         <tr>\n          <td style=\"text-align:center\">\n           2008\n          </td>\n          <td style=\"text-align:center\">\n           $15\n          </td>\n         </tr>\n        </tbody>\n       </table>\n      </div>\n      <div class=\"col-xs-6\">\n       <table class=\"historical_data_table table\">\n        <thead>\n         <tr>\n          <th colspan=\"2\" style=\"text-align:center\">\n           Tesla Quarterly Revenue\n           <br/>\n           <span style=\"font-size:14px;\">\n            (Millions of US $)\n           </span>\n          </th>\n         </tr>\n        </thead>\n        <tbody>\n         <tr>\n          <td style=\"text-align:center\">\n           2020-12-31\n          </td>\n          <td style=\"text-align:center\">\n           $10,744\n          </td>\n         </tr>\n         <tr>\n          <td style=\"text-align:center\">\n           2020-09-30\n          </td>\n          <td style=\"text-align:center\">\n           $8,771\n          </td>\n         </tr>\n         <tr>\n          <td style=\"text-align:center\">\n           2020-06-30\n          </td>\n          <td style=\"text-align:center\">\n           $6,036\n          </td>\n         </tr>\n         <tr>\n          <td style=\"text-align:center\">\n           2020-03-31\n          </td>\n          <td style=\"text-align:center\">\n           $5,985\n          </td>\n         </tr>\n         <tr>\n          <td style=\"text-align:center\">\n           2019-12-31\n          </td>\n          <td style=\"text-align:center\">\n           $7,384\n          </td>\n         </tr>\n         <tr>\n          <td style=\"text-align:center\">\n           2019-09-30\n          </td>\n          <td style=\"text-align:center\">\n           $6,303\n          </td>\n         </tr>\n         <tr>\n          <td style=\"text-align:center\">\n           2019-06-30\n          </td>\n          <td style=\"text-align:center\">\n           $6,350\n          </td>\n         </tr>\n         <tr>\n          <td style=\"text-align:center\">\n           2019-03-31\n          </td>\n          <td style=\"text-align:center\">\n           $4,541\n          </td>\n         </tr>\n         <tr>\n          <td style=\"text-align:center\">\n           2018-12-31\n          </td>\n          <td style=\"text-align:center\">\n           $7,226\n          </td>\n         </tr>\n         <tr>\n          <td style=\"text-align:center\">\n           2018-09-30\n          </td>\n          <td style=\"text-align:center\">\n           $6,824\n          </td>\n         </tr>\n         <tr>\n          <td style=\"text-align:center\">\n           2018-06-30\n          </td>\n          <td style=\"text-align:center\">\n           $4,002\n          </td>\n         </tr>\n         <tr>\n          <td style=\"text-align:center\">\n           2018-03-31\n          </td>\n          <td style=\"text-align:center\">\n           $3,409\n          </td>\n         </tr>\n         <tr>\n          <td style=\"text-align:center\">\n           2017-12-31\n          </td>\n          <td style=\"text-align:center\">\n           $3,288\n          </td>\n         </tr>\n         <tr>\n          <td style=\"text-align:center\">\n           2017-09-30\n          </td>\n          <td style=\"text-align:center\">\n           $2,985\n          </td>\n         </tr>\n         <tr>\n          <td style=\"text-align:center\">\n           2017-06-30\n          </td>\n          <td style=\"text-align:center\">\n           $2,790\n          </td>\n         </tr>\n         <tr>\n          <td style=\"text-align:center\">\n           2017-03-31\n          </td>\n          <td style=\"text-align:center\">\n           $2,696\n          </td>\n         </tr>\n         <tr>\n          <td style=\"text-align:center\">\n           2016-12-31\n          </td>\n          <td style=\"text-align:center\">\n           $2,285\n          </td>\n         </tr>\n         <tr>\n          <td style=\"text-align:center\">\n           2016-09-30\n          </td>\n          <td style=\"text-align:center\">\n           $2,298\n          </td>\n         </tr>\n         <tr>\n          <td style=\"text-align:center\">\n           2016-06-30\n          </td>\n          <td style=\"text-align:center\">\n           $1,270\n          </td>\n         </tr>\n         <tr>\n          <td style=\"text-align:center\">\n           2016-03-31\n          </td>\n          <td style=\"text-align:center\">\n           $1,147\n          </td>\n         </tr>\n         <tr>\n          <td style=\"text-align:center\">\n           2015-12-31\n          </td>\n          <td style=\"text-align:center\">\n           $1,214\n          </td>\n         </tr>\n         <tr>\n          <td style=\"text-align:center\">\n           2015-09-30\n          </td>\n          <td style=\"text-align:center\">\n           $937\n          </td>\n         </tr>\n         <tr>\n          <td style=\"text-align:center\">\n           2015-06-30\n          </td>\n          <td style=\"text-align:center\">\n           $955\n          </td>\n         </tr>\n         <tr>\n          <td style=\"text-align:center\">\n           2015-03-31\n          </td>\n          <td style=\"text-align:center\">\n           $940\n          </td>\n         </tr>\n         <tr>\n          <td style=\"text-align:center\">\n           2014-12-31\n          </td>\n          <td style=\"text-align:center\">\n           $957\n          </td>\n         </tr>\n         <tr>\n          <td style=\"text-align:center\">\n           2014-09-30\n          </td>\n          <td style=\"text-align:center\">\n           $852\n          </td>\n         </tr>\n         <tr>\n          <td style=\"text-align:center\">\n           2014-06-30\n          </td>\n          <td style=\"text-align:center\">\n           $769\n          </td>\n         </tr>\n         <tr>\n          <td style=\"text-align:center\">\n           2014-03-31\n          </td>\n          <td style=\"text-align:center\">\n           $621\n          </td>\n         </tr>\n         <tr>\n          <td style=\"text-align:center\">\n           2013-12-31\n          </td>\n          <td style=\"text-align:center\">\n           $615\n          </td>\n         </tr>\n         <tr>\n          <td style=\"text-align:center\">\n           2013-09-30\n          </td>\n          <td style=\"text-align:center\">\n           $431\n          </td>\n         </tr>\n         <tr>\n          <td style=\"text-align:center\">\n           2013-06-30\n          </td>\n          <td style=\"text-align:center\">\n           $405\n          </td>\n         </tr>\n         <tr>\n          <td style=\"text-align:center\">\n           2013-03-31\n          </td>\n          <td style=\"text-align:center\">\n           $562\n          </td>\n         </tr>\n         <tr>\n          <td style=\"text-align:center\">\n           2012-12-31\n          </td>\n          <td style=\"text-align:center\">\n           $306\n          </td>\n         </tr>\n         <tr>\n          <td style=\"text-align:center\">\n           2012-09-30\n          </td>\n          <td style=\"text-align:center\">\n           $50\n          </td>\n         </tr>\n         <tr>\n          <td style=\"text-align:center\">\n           2012-06-30\n          </td>\n          <td style=\"text-align:center\">\n           $27\n          </td>\n         </tr>\n         <tr>\n          <td style=\"text-align:center\">\n           2012-03-31\n          </td>\n          <td style=\"text-align:center\">\n           $30\n          </td>\n         </tr>\n         <tr>\n          <td style=\"text-align:center\">\n           2011-12-31\n          </td>\n          <td style=\"text-align:center\">\n           $39\n          </td>\n         </tr>\n         <tr>\n          <td style=\"text-align:center\">\n           2011-09-30\n          </td>\n          <td style=\"text-align:center\">\n           $58\n          </td>\n         </tr>\n         <tr>\n          <td style=\"text-align:center\">\n           2011-06-30\n          </td>\n          <td style=\"text-align:center\">\n           $58\n          </td>\n         </tr>\n         <tr>\n          <td style=\"text-align:center\">\n           2011-03-31\n          </td>\n          <td style=\"text-align:center\">\n           $49\n          </td>\n         </tr>\n         <tr>\n          <td style=\"text-align:center\">\n           2010-12-31\n          </td>\n          <td style=\"text-align:center\">\n           $36\n          </td>\n         </tr>\n         <tr>\n          <td style=\"text-align:center\">\n           2010-09-30\n          </td>\n          <td style=\"text-align:center\">\n           $31\n          </td>\n         </tr>\n         <tr>\n          <td style=\"text-align:center\">\n           2010-06-30\n          </td>\n          <td style=\"text-align:center\">\n           $28\n          </td>\n         </tr>\n         <tr>\n          <td style=\"text-align:center\">\n           2010-03-31\n          </td>\n          <td style=\"text-align:center\">\n           $21\n          </td>\n         </tr>\n         <tr>\n          <td style=\"text-align:center\">\n           2009-12-31\n          </td>\n          <td style=\"text-align:center\">\n          </td>\n         </tr>\n         <tr>\n          <td style=\"text-align:center\">\n           2009-09-30\n          </td>\n          <td style=\"text-align:center\">\n           $46\n          </td>\n         </tr>\n         <tr>\n          <td style=\"text-align:center\">\n           2009-06-30\n          </td>\n          <td style=\"text-align:center\">\n           $27\n          </td>\n         </tr>\n         <tr>\n          <td style=\"text-align:center\">\n           2008-12-31\n          </td>\n          <td style=\"text-align:center\">\n          </td>\n         </tr>\n        </tbody>\n       </table>\n      </div>\n     </div>\n     <div style=\"background-color:#fff; margin: 0px 0px 20px 0px; padding:5px 50px 5px 10px; border:1px solid #dfdfdf;\">\n      <table class=\"historical_data_table table\">\n       <thead>\n        <tr>\n         <th style=\"text-align:center\">\n          Sector\n         </th>\n         <th style=\"text-align:center\">\n          Industry\n         </th>\n         <th style=\"text-align:center\">\n          Market Cap\n         </th>\n         <th style=\"text-align:center\">\n          Revenue\n         </th>\n        </tr>\n       </thead>\n       <tbody>\n        <tr>\n         <td style=\"text-align:center\">\n          <a href=\"https://www.macrotrends.net/stocks/sector/5/auto-tires-trucks\">\n           Auto/Tires/Trucks\n          </a>\n         </td>\n         <td style=\"text-align:center\">\n          <a href=\"https://www.macrotrends.net/stocks/industry/7/\">\n           Auto Manufacturers - Domestic\n          </a>\n         </td>\n         <td style=\"text-align:center\">\n          $749.934B\n         </td>\n         <td style=\"text-align:center\">\n          $31.536B\n         </td>\n        </tr>\n        <tr>\n         <td colspan=\"4\" style=\"padding:15px;\">\n          <span>\n           Tesla Inc. designs, develops, manufactures, and sells electric vehicles and stationary energy storage products. It operates primarily in the United States, China, Norway and internationally. Tesla Inc., formerly known as Tesla Motors Inc., is headquartered in Palo Alto, California.\n          </span>\n         </td>\n        </tr>\n       </tbody>\n      </table>\n     </div>\n     <div style=\"background-color:#fff; margin: 20px 0px 30px 0px; padding:5px 50px 5px 10px; border:1px solid #dfdfdf;\">\n      <table class=\"historical_data_table table\">\n       <thead>\n        <tr>\n         <th style=\"text-align:center; width:40%;\">\n          Stock Name\n         </th>\n         <th style=\"text-align:center; width:20%;\">\n          Country\n         </th>\n         <th style=\"text-align:center; width:20%;\">\n          Market Cap\n         </th>\n         <th style=\"text-align:center; width:20%;\">\n          PE Ratio\n         </th>\n        </tr>\n       </thead>\n       <tbody>\n        <tr>\n         <td style=\"text-align:left\">\n          <a href=\"/stocks/charts/GM/general-motors/revenue\">\n           General Motors (GM)\n          </a>\n         </td>\n         <td style=\"text-align:center\">\n          United States\n         </td>\n         <td style=\"text-align:center\">\n          $75.749B\n         </td>\n         <td style=\"text-align:center\">\n          10.77\n         </td>\n        </tr>\n        <tr>\n         <td style=\"text-align:left\">\n          <a href=\"/stocks/charts/F/ford-motor/revenue\">\n           Ford Motor (F)\n          </a>\n         </td>\n         <td style=\"text-align:center\">\n          United States\n         </td>\n         <td style=\"text-align:center\">\n          $46.073B\n         </td>\n         <td style=\"text-align:center\">\n          28.24\n         </td>\n        </tr>\n        <tr>\n         <td style=\"text-align:left\">\n          <a href=\"/stocks/charts/PCAR/paccar/revenue\">\n           PACCAR (PCAR)\n          </a>\n         </td>\n         <td style=\"text-align:center\">\n          United States\n         </td>\n         <td style=\"text-align:center\">\n          $33.025B\n         </td>\n         <td style=\"text-align:center\">\n          25.45\n         </td>\n        </tr>\n        <tr>\n         <td style=\"text-align:left\">\n          <a href=\"/stocks/charts/IAA/iaa/revenue\">\n           IAA (IAA)\n          </a>\n         </td>\n         <td style=\"text-align:center\">\n          United States\n         </td>\n         <td style=\"text-align:center\">\n          $8.084B\n         </td>\n         <td style=\"text-align:center\">\n          39.29\n         </td>\n        </tr>\n        <tr>\n         <td style=\"text-align:left\">\n          <a href=\"/stocks/charts/PII/polaris/revenue\">\n           Polaris (PII)\n          </a>\n         </td>\n         <td style=\"text-align:center\">\n          United States\n         </td>\n         <td style=\"text-align:center\">\n          $7.552B\n         </td>\n         <td style=\"text-align:center\">\n          15.81\n         </td>\n        </tr>\n        <tr>\n         <td style=\"text-align:left\">\n          <a href=\"/stocks/charts/FOXF/fox-factory-holding/revenue\">\n           Fox Factory Holding (FOXF)\n          </a>\n         </td>\n         <td style=\"text-align:center\">\n          United States\n         </td>\n         <td style=\"text-align:center\">\n          $5.752B\n         </td>\n         <td style=\"text-align:center\">\n          50.32\n         </td>\n        </tr>\n        <tr>\n         <td style=\"text-align:left\">\n          <a href=\"/stocks/charts/HOG/harley-davidson/revenue\">\n           Harley-Davidson (HOG)\n          </a>\n         </td>\n         <td style=\"text-align:center\">\n          United States\n         </td>\n         <td style=\"text-align:center\">\n          $5.513B\n         </td>\n         <td style=\"text-align:center\">\n          46.71\n         </td>\n        </tr>\n        <tr>\n         <td style=\"text-align:left\">\n          <a href=\"/stocks/charts/BLBD/blue-bird/revenue\">\n           Blue Bird (BLBD)\n          </a>\n         </td>\n         <td style=\"text-align:center\">\n          United States\n         </td>\n         <td style=\"text-align:center\">\n          $0.563B\n         </td>\n         <td style=\"text-align:center\">\n          31.92\n         </td>\n        </tr>\n        <tr>\n         <td style=\"text-align:left\">\n          <a href=\"/stocks/charts/AUTO/autobytel/revenue\">\n           Autobytel (AUTO)\n          </a>\n         </td>\n         <td style=\"text-align:center\">\n          United States\n         </td>\n         <td style=\"text-align:center\">\n          $0.040B\n         </td>\n         <td style=\"text-align:center\">\n          0.00\n         </td>\n        </tr>\n       </tbody>\n      </table>\n     </div>\n    </div>\n    <div \"=\"\" id=\"right_sidebar\">\n     <!--<a href=\"/stocks/stock-screener\" style=\"text-decoration:none; color: #fff; \">\n\t\t\t\t\t<div style=\"margin:0px; padding: 20px; width:300px; background-color: #01579b; min-height:150px; text-align:center;\">\n\n\t\t\t\t\t\t<h2 style=\"font-weight:600;\">Try our new<br />stock screener!</h2></a>\n\n\t\t\t\t\t</div>\n\t\t\t\t</a>-->\n     <!--<div style=\"margin-top:0px; min-height:250px;\">\n\n\t\t\t\t\t<script src='//ads.investingchannel.com/adtags/Macrotrends/fundamentalanalysis/300x600.js?zhpos=300_2&multi_size=false' type='text/javascript' charset='utf-8'></script>\n\n\t\t\t\t</div>-->\n     <div style=\"margin-top:0px; min-height:250px;\">\n      <div id=\"ic_300_250\">\n      </div>\n     </div>\n     <div id=\"sticky_ad_right\">\n      <div style=\"margin-top:30px; min-height:250px;\">\n       <div id=\"ic_300_600\">\n       </div>\n      </div>\n     </div>\n    </div>\n   </div>\n  </div>\n  <footer class=\"footer\">\n   <span>\n    © 2010-2021 Macrotrends LLC\n   </span>\n   |\n   <a href=\"/terms\">\n    Terms of Service\n   </a>\n   |\n   <a href=\"/privacy\">\n    Privacy Policy\n   </a>\n   |\n   <a href=\"mailto:%69n%66o@%6Dac%72otrends%2En%65t\">\n    Contact Us\n   </a>\n   |\n   <a href=\"/ccpa\">\n    Do Not Sell My Personal Information\n   </a>\n   <br/>\n   <span>\n    Fundamental data from\n   </span>\n   <a href=\"https://www.zacksdata.com\" rel=\"nofollow\" target=\"_blank\">\n    Zacks Investment Research, Inc.\n   </a>\n  </footer>\n  <div aria-hidden=\"true\" aria-labelledby=\"exampleModalLabel\" class=\"modal\" id=\"smallWidthModal1\" role=\"dialog\" tabindex=\"-1\">\n   <div class=\"modal-dialog modal-lg\">\n    <div class=\"modal-content\">\n     <div class=\"modal-body\">\n      <div class=\"modal_title\">\n       <h2>\n        <strong>\n         We Need Your Support!\n        </strong>\n       </h2>\n      </div>\n      <p>\n       Backlinks from other websites are the lifeblood of our site and a primary source of new traffic.\n       <p>\n        <p>\n         If you use our chart images on your site or blog, we ask that you provide attribution via a \"dofollow\" link back to this page.  We have provided a few examples below that you can copy and paste to your site:\n        </p>\n        <br/>\n        <table class=\"table\">\n         <thead>\n          <tr>\n           <th>\n            Link Preview\n           </th>\n           <th>\n            HTML Code (Click to Copy)\n           </th>\n          </tr>\n         </thead>\n         <tbody>\n          <tr>\n           <td>\n            <a>\n             Tesla Revenue 2009-2020 | TSLA\n            </a>\n           </td>\n           <td>\n            <input class=\"modal_link\" size=\"60\" type=\"text\" value=\"&lt;a href='https://www.macrotrends.net/stocks/charts/TSLA/tesla/revenue'&gt;Tesla Revenue 2009-2020 | TSLA&lt;/a&gt;\"/>\n           </td>\n          </tr>\n          <tr>\n           <td>\n            <a>\n             Macrotrends\n            </a>\n           </td>\n           <td>\n            <input class=\"modal_link\" size=\"60\" type=\"text\" value=\"&lt;a href='https://www.macrotrends.net/stocks/charts/TSLA/tesla/revenue'&gt;Macrotrends&lt;/a&gt;\"/>\n           </td>\n          </tr>\n          <tr>\n           <td>\n            <a>\n             Source\n            </a>\n           </td>\n           <td>\n            <input class=\"modal_link\" size=\"60\" type=\"text\" value=\"&lt;a href='https://www.macrotrends.net/stocks/charts/TSLA/tesla/revenue'&gt;Source&lt;/a&gt;\"/>\n           </td>\n          </tr>\n         </tbody>\n        </table>\n        <br/>\n        <p style=\"text-align:center\">\n         Your image export is now complete.  Please check your download folder.\n        </p>\n       </p>\n      </p>\n     </div>\n     <div class=\"modal-footer\">\n      <button class=\"btn btn-primary\" data-dismiss=\"modal\" type=\"button\">\n       Close Window\n      </button>\n     </div>\n    </div>\n   </div>\n  </div>\n  <div aria-hidden=\"true\" aria-labelledby=\"exampleModalLabel\" class=\"modal\" id=\"smallWidthModal2\" role=\"dialog\" tabindex=\"-1\">\n   <div class=\"modal-dialog modal-lg\">\n    <div class=\"modal-content\">\n     <div class=\"modal-body\">\n      <div class=\"modal_title\">\n       <h2>\n        <strong>\n         We Need Your Support!\n        </strong>\n       </h2>\n      </div>\n      <p>\n       Backlinks from other websites are the lifeblood of our site and a primary source of new traffic.\n       <p>\n        <p>\n         If you use our datasets on your site or blog, we ask that you provide attribution via a \"dofollow\" link back to this page.  We have provided a few examples below that you can copy and paste to your site:\n        </p>\n        <br/>\n        <table class=\"table\">\n         <thead>\n          <tr>\n           <th>\n            Link Preview\n           </th>\n           <th>\n            HTML Code (Click to Copy)\n           </th>\n          </tr>\n         </thead>\n         <tbody>\n          <tr>\n           <td>\n            <a>\n             Tesla Revenue 2009-2020 | TSLA\n            </a>\n           </td>\n           <td>\n            <input class=\"modal_link\" size=\"50\" type=\"text\" value=\"&lt;a href='https://www.macrotrends.net/stocks/charts/TSLA/tesla/revenue'&gt;Tesla Revenue 2009-2020 | TSLA&lt;/a&gt;\"/>\n           </td>\n          </tr>\n          <tr>\n           <td>\n            <a>\n             Macrotrends\n            </a>\n           </td>\n           <td>\n            <input class=\"modal_link\" size=\"50\" type=\"text\" value=\"&lt;a href='https://www.macrotrends.net/stocks/charts/TSLA/tesla/revenue'&gt;Macrotrends&lt;/a&gt;\"/>\n           </td>\n          </tr>\n          <tr>\n           <td>\n            <a>\n             Source\n            </a>\n           </td>\n           <td>\n            <input class=\"modal_link\" size=\"50\" type=\"text\" value=\"&lt;a href='https://www.macrotrends.net/stocks/charts/TSLA/tesla/revenue'&gt;Source&lt;/a&gt;\"/>\n           </td>\n          </tr>\n         </tbody>\n        </table>\n        <br/>\n        <p style=\"text-align:center\">\n         Your data export is now complete.  Please check your download folder.\n        </p>\n       </p>\n      </p>\n     </div>\n     <div class=\"modal-footer\">\n      <button class=\"btn btn-primary\" data-dismiss=\"modal\" type=\"button\">\n       Close Window\n      </button>\n     </div>\n    </div>\n   </div>\n  </div>\n  <script type=\"text/javascript\">\n   $.typeahead({\n\t\tinput: '.js-typeahead',\n\t\tminLength: 1,\n\t\tfilter: false,  //Disables typahead filter to just show everything in the results from the database\n\t\tdebug: false,\n\t\thighlight: true,\n\t\tmaxItem: 10,\n\t\tdynamic: true,\n\t\tdelay: 200,\n\t\tsearchOnFocus: true,\n\t\tbackdrop: {\n\t\t\t\"background-color\": \"#fff\"\n\t\t},\n\t\thref: \"{{url}}\",\n\t\temptyTemplate: \"no result for {{query}}\",\n\t\tdisplay: [\"name\"],\n\t\tsource: {\n\t\t\tusers: {\n\t\t\t\tajax: {\n\t\t\t\t\turl: '/assets/php/all_pages_query.php',\n\t\t\t\t\tdata: {\n\t\t\t\t\t\tq: '{{query}}'\n\t\t\t\t\t}\n\t\t\t\t}\n\t\t\t}\n\t\t}\n\t});\n  </script>\n  <script>\n   if (screen.width >= 1280) {\n\t\n\t$( \"#ic_video_ad\" ).append( \"<div id=\\\"IC_D_3x6\\\" style=\\\"margin:30px;\\\"></div>\" );\n\n\t\t\t\t\n}\n\n\t// /*! js-cookie v3.0.0-rc.1 | MIT */\n\t// !function(e,t){\"object\"==typeof exports&&\"undefined\"!=typeof module?module.exports=t():\"function\"==typeof define&&define.amd?define(t):(e=e||self,function(){var n=e.Cookies,r=e.Cookies=t();r.noConflict=function(){return e.Cookies=n,r}}())}(this,function(){\"use strict\";function e(e){for(var t=1;t<arguments.length;t++){var n=arguments[t];for(var r in n)e[r]=n[r]}return e}var t={read:function(e){return e.replace(/(%[\\dA-F]{2})+/gi,decodeURIComponent)},write:function(e){return encodeURIComponent(e).replace(/%(2[346BF]|3[AC-F]|40|5[BDE]|60|7[BCD])/g,decodeURIComponent)}};return function n(r,o){function i(t,n,i){if(\"undefined\"!=typeof document){\"number\"==typeof(i=e({},o,i)).expires&&(i.expires=new Date(Date.now()+864e5*i.expires)),i.expires&&(i.expires=i.expires.toUTCString()),t=encodeURIComponent(t).replace(/%(2[346B]|5E|60|7C)/g,decodeURIComponent).replace(/[()]/g,escape),n=r.write(n,t);var c=\"\";for(var u in i)i[u]&&(c+=\"; \"+u,!0!==i[u]&&(c+=\"=\"+i[u].split(\";\")[0]));return document.cookie=t+\"=\"+n+c}}return Object.create({set:i,get:function(e){if(\"undefined\"!=typeof document&&(!arguments.length||e)){for(var n=document.cookie?document.cookie.split(\"; \"):[],o={},i=0;i<n.length;i++){var c=n[i].split(\"=\"),u=c.slice(1).join(\"=\");'\"'===u[0]&&(u=u.slice(1,-1));try{var f=t.read(c[0]);if(o[f]=r.read(u,f),e===f)break}catch(e){}}return e?o[e]:o}},remove:function(t,n){i(t,\"\",e({},n,{expires:-1}))},withAttributes:function(t){return n(this.converter,e({},this.attributes,t))},withConverter:function(t){return n(e({},this.converter,t),this.attributes)}},{attributes:{value:Object.freeze(o)},converter:{value:Object.freeze(r)}})}(t,{path:\"/\"})});\n\n\t\t\t\n\t// // Cookie Settings\n\t// var maxCookieValue = 4, initCookie = 1, expirationDays = 1;\n\t// var cookieName = \"session_pageviews\";\n\t// var getCookie = Cookies.get(cookieName);\n\n\t// // Under the Hood\n\t// if (getCookie == null) {\n\t\t// Cookies.set(cookieName, initCookie, { expires: expirationDays });\n\t\t// console.log('Cookie set to value 1');\n\t\t// $( \"#ic_video_ad\" ).append( \"<div id=\\\"IC_D_3x6\\\" style=\\\"margin:30px;\\\"></div>\" );\n\t// } else {\n\t\t// if (getCookie >= initCookie && getCookie < maxCookieValue) {\n\t\t\t// getCookie++;\n\t\t\t// Cookies.set(cookieName, getCookie, { expires: expirationDays });\n\t\t\t// console.log('Cookie incremented. New value is ' + getCookie);\n\t\t\t// $( \"#ic_video_ad\" ).append( \"<div id=\\\"IC_D_3x6\\\" style=\\\"margin:30px;\\\"></div>\" );\n\t\t// }\n\t\t// else if (getCookie >= maxCookieValue && getCookie < 7) {\n\t\t\t// getCookie++;\n\t\t\t// Cookies.set(cookieName, getCookie, { expires: expirationDays });\n\t\t\t// console.log('Cookie max allowed value reached. No video ads showing. New value is ' + getCookie);\n\t\t\t// //Cookies.remove(cookieName);\n\t\t\t// // if cookie is equal with the number you've set, then do something\n\t\t\t// // hide an element, delete the cookie etc...\n\t\t// }\n\t\t// else if (getCookie >= 7) {\n\t\t\t// Cookies.remove(cookieName);\n\t\t\t// // if cookie is equal with the number you've set, then do something\n\t\t\t// // hide an element, delete the cookie etc...\n\t\t// }\t\n\t// }\n  </script>\n  <script>\n   $(document).ready(function() {\n\t\n\t// Selects all of the text in the chart export window when clicked\n\t$(\".modal_link\").focus(function() {\n\t\tvar $this = $(this);\n\t\t$this.select();\n\n\t\t// Work around Chrome's little problem\n\t\t$this.mouseup(function() {\n\t\t\t// Prevent further mouseup intervention\n\t\t\t$this.unbind(\"mouseup\");\n\t\t\treturn false;\n\t\t});\n\t});\t\n\t\n\t\n\t$('[data-toggle=\"tooltip\"]').tooltip();\n\t\n    $('.statement_type_select').select2({\n\t\n\ttheme: \"classic\",\n\tminimumResultsForSearch: 20\n\t\n\t});\n\n    $('.frequency_select').select2({\n\t\n\ttheme: \"classic\",\n\tminimumResultsForSearch: 20\n\t\n\t});\n\t\n\t\n});\n\n$( \"#compareStocks\" ).click(function() {\n\t\n\t\n\twindow.location.href = '/stocks/stock-comparison?s=revenue&axis=single&comp=TSLA';\n\t\n\t\n});\n\n$( \"#chartExport\" ).click(function() {\n\t\n\t\twindow.$('#smallWidthModal1').modal();\n\n\t\t//Turn off scroll bar for image export\n\t\tchart.chartScrollbarSettings.enabled = false;\n\t\tchart.validateNow(); \n\t\t\n\t\t\n\t\tchart.export.capture({},function() {\n\t\t\tthis.toPNG({},function(data) {\n\t\t\t\t// Download the image to the browser\n\t\t\t\tthis.download( data, \"image/png\", \"TSLA-revenue-2021-02-23-macrotrends.png\" );\n\t\t\t\t\n\t\t\t\t});\n\n\t\t//Turn scroll bar back on again\n\t\tchart.chartScrollbarSettings.enabled = true;\n\t\tchart.validateNow(); \n\t\t\t\t\n\t});\n\n});\n\n$( \".statement_type_select\" ).change(function() {\n  \n  window.location.href = 'https://testing.macrotrends.net/assets/php/income_statement_testing.php?t=AUTO&type=' + this.value + '&freq=Q';\n\n});\n\n$( \".frequency_select\" ).change(function() {\n  \n  window.location.href = '/assets/php/new_chart_page.php?t=AUTO&type=revenue&freq=' + this.value;\n\n});\n  </script>\n  <!--<div class=\"modal\" id=\"contribute_modal\" tabindex=\"-1\" role=\"dialog\" aria-labelledby=\"exampleModalLabel\" aria-hidden=\"false\">\n  <div class=\"modal-dialog modal-lg\">\n    <div class=\"modal-content\">\n      <div class=\"modal-body\" style=\"margin:20px 40px 20px 40px; text-align:left;font-size:18px;\">\n\t  \t  \n\n\n<div class=\"row\">\n\n<div class=\"col-xs-6\">\n\n<script src=\"https://donorbox.org/widget.js\" paypalExpress=\"true\"></script><iframe src=\"https://donorbox.org/embed/macrotrends-donations?hide_donation_meter=true\" height=\"685px\" width=\"100%\" style=\"max-width:500px; min-width:310px; max-height:none!important\" seamless=\"seamless\" name=\"donorbox\" frameborder=\"0\" scrolling=\"no\" allowpaymentrequest></iframe>\n\n</div>\n\n<div class=\"col-xs-6\">\n\n\t\t<div class=\"modal_title\"><h1><strong>We Need Your Support!</strong></h1></div>\n\n\t\t<p><strong>Macrotrends has been subscription-free since 2010 and we want to keep it that way.</strong></p>\n\n<p>Our goal has always been to serve as an easily accessible, high quality source of investment research for both professionals and amateurs alike.</p>\n\n<p>Any amount that you can contribute will help ensure we can keep the site completely free for many years to come.</p>\n\n<p style=\"margin-top:20px;\">Regards,</p>\n<p>The Macrotrends Team</p>\n\n</div>\n\n</div>\n\n</div>\n\n      <div class=\"modal-footer\" style=\"text-align:center;\">\n        <button type=\"button\" class=\"btn btn-success\" data-dismiss=\"modal\">Maybe Next Time...</button>\n      </div>\n    </div>\n  </div>\n</div>\t\n\n\n<script src=\"/ads.js\" type=\"text/javascript\"></script>\n\n<script>\n\n$(document).ready(function() {\n\t\n\tvar botPattern = \"(googlebot\\/|Googlebot-Mobile|Googlebot-Image|Google favicon|Mediapartners-Google|bingbot|slurp|java|wget|curl|Commons-HttpClient|Python-urllib|libwww|httpunit|nutch|phpcrawl|msnbot|jyxobot|FAST-WebCrawler|FAST Enterprise Crawler|biglotron|teoma|convera|seekbot|gigablast|exabot|ngbot|ia_archiver|GingerCrawler|webmon |httrack|webcrawler|grub.org|UsineNouvelleCrawler|antibot|netresearchserver|speedy|fluffy|bibnum.bnf|findlink|msrbot|panscient|yacybot|AISearchBot|IOI|ips-agent|tagoobot|MJ12bot|dotbot|woriobot|yanga|buzzbot|mlbot|yandexbot|purebot|Linguee Bot|Voyager|CyberPatrol|voilabot|baiduspider|citeseerxbot|spbot|twengabot|postrank|turnitinbot|scribdbot|page2rss|sitebot|linkdex|Adidxbot|blekkobot|ezooms|dotbot|Mail.RU_Bot|discobot|heritrix|findthatfile|europarchive.org|NerdByNature.Bot|sistrix crawler|ahrefsbot|Aboundex|domaincrawler|wbsearchbot|summify|ccbot|edisterbot|seznambot|ec2linkfinder|gslfbot|aihitbot|intelium_bot|facebookexternalhit|yeti|RetrevoPageAnalyzer|lb-spider|sogou|lssbot|careerbot|wotbox|wocbot|ichiro|DuckDuckBot|lssrocketcrawler|drupact|webcompanycrawler|acoonbot|openindexspider|gnam gnam spider|web-archive-net.com.bot|backlinkcrawler|coccoc|integromedb|content crawler spider|toplistbot|seokicks-robot|it2media-domain-crawler|ip-web-crawler.com|siteexplorer.info|elisabot|proximic|changedetection|blexbot|arabot|WeSEE:Search|niki-bot|CrystalSemanticsBot|rogerbot|360Spider|psbot|InterfaxScanBot|Lipperhey SEO Service|CC Metadata Scaper|g00g1e.net|GrapeshotCrawler|urlappendbot|brainobot|fr-crawler|binlar|SimpleCrawler|Livelapbot|Twitterbot|cXensebot|smtbot|bnf.fr_bot|A6-Indexer|ADmantX|Facebot|Twitterbot|OrangeBot|memorybot|AdvBot|MegaIndex|SemanticScholarBot|ltx71|nerdybot|xovibot|BUbiNG|Qwantify|archive.org_bot|Applebot|TweetmemeBot|crawler4j|findxbot|SemrushBot|yoozBot|lipperhey|y!j-asr|Domain Re-Animator Bot|AddThis)\";\n\n\tvar re = new RegExp(botPattern, 'i');\n\n\tif (re.test(navigator.userAgent)) {\n\t\t\n\t} else {\n\t\t\n\t\t//Check to see whether they are running an ad blocker\n\t\tif(document.getElementById('12mORwMnaEkJXlxz')){\n\t\t  var ad_blocker = 'N';\n\t\t} else {\n\t\t  var ad_blocker = 'Y';\n\t\t}\n\n\t\t$.post('https://api.ipstack.com/check?access_key=14fe63e83d5cfefa0b3d4cec498479ba&output=json&fields=ip,continent_name,country_name,region_name,city', \n\t\tfunction(ip_data){\n\t\t\t\n\t\t\t$.post('https://www.macrotrends.net/assets/php/page_view_tracking.php', {ip: ip_data.ip,continent: ip_data.continent_name, country: ip_data.country_name, state: ip_data.region_name, city: ip_data.city, screen_width: screen.width, ads: ad_blocker, page_type: 'stock'}, \n\t\t\t\tfunction(data){\n\t\t\t\t\t/*\t\t\t\t\t\n\t\t\t\t\tif(data % 20 === 0) {\n\t\t\t\t\t\t\n\t\t\t\t\t\t//$('#contribute_modal').modal();\n\t\t\t\t\t\t\n\t\t\t\t\t}\n\t\t\t\t\t*/\n\t\t\t\t});\n\t\t\n\t\t});\n\n\n\t}\n\t\n\n});\n\n\n$.post('https://api.ipstack.com/check?access_key=14fe63e83d5cfefa0b3d4cec498479ba&output=json&fields=ip,continent_name,country_name,region_name,city', \nfunction(ip_data){\n\t\n\t$(\".contribute_user_id\").val(ip_data.ip);\n\t\n});\n\n$( \".donate_buttons\" ).click(function() {\n  \n\tvar payment = $(this).attr(\"value\");\n\n\t$.post('https://api.ipstack.com/check?access_key=14fe63e83d5cfefa0b3d4cec498479ba&output=json&fields=ip,continent_name,country_name,region_name,city', \n\t\tfunction(ip_data){\n\t\t\t\t\t\n\t\t$.post('https://www.macrotrends.net/assets/php/page_view_tracking.php', {ip: ip_data.ip, paid: payment}); \n\t\n\t});\n\t\t \n});\n\n</script>\n\n-->\n  <script type=\"text/javascript\">\n   var clicky_site_ids = clicky_site_ids || [];\nclicky_site_ids.push(100827248);\n(function() {\n  var s = document.createElement('script');\n  s.type = 'text/javascript';\n  s.async = true;\n  s.src = '//static.getclicky.com/js';\n  ( document.getElementsByTagName('head')[0] || document.getElementsByTagName('body')[0] ).appendChild( s );\n})();\n  </script>\n  <noscript>\n   <p>\n    <img alt=\"Clicky\" height=\"1\" src=\"//in.getclicky.com/100827248ns.gif\" width=\"1\"/>\n   </p>\n  </noscript>\n  <!-- This site is converting visitors into subscribers and customers with OptinMonster - https://optinmonster.com -->\n  <script async=\"\" data-account=\"6392\" data-user=\"15772\" src=\"https://a.omappapi.com/app/js/api.min.js\" type=\"text/javascript\">\n  </script>\n  <!-- / OptinMonster -->\n </body>\n</html>\n\n"
     ]
    }
   ],
   "source": [
    "soup = BeautifulSoup(html_data.text, 'html.parser')\n",
    "print(soup.prettify())"
   ]
  },
  {
   "cell_type": "code",
   "execution_count": 8,
   "metadata": {},
   "outputs": [
    {
     "output_type": "execute_result",
     "data": {
      "text/plain": [
       "<title>Tesla Revenue 2009-2020 | TSLA | MacroTrends</title>"
      ]
     },
     "metadata": {},
     "execution_count": 8
    }
   ],
   "source": [
    "soup.title"
   ]
  },
  {
   "cell_type": "code",
   "execution_count": 9,
   "metadata": {},
   "outputs": [
    {
     "output_type": "execute_result",
     "data": {
      "text/plain": [
       "<table class=\"historical_data_table table\">\n",
       "<thead>\n",
       "<tr>\n",
       "<th colspan=\"2\" style=\"text-align:center\">Tesla Annual Revenue<br/><span style=\"font-size:14px;\">(Millions of US $)</span></th>\n",
       "</tr>\n",
       "</thead>\n",
       "<tbody>\n",
       "<tr>\n",
       "<td style=\"text-align:center\">2020</td>\n",
       "<td style=\"text-align:center\">$31,536</td>\n",
       "</tr>\n",
       "<tr>\n",
       "<td style=\"text-align:center\">2019</td>\n",
       "<td style=\"text-align:center\">$24,578</td>\n",
       "</tr>\n",
       "<tr>\n",
       "<td style=\"text-align:center\">2018</td>\n",
       "<td style=\"text-align:center\">$21,461</td>\n",
       "</tr>\n",
       "<tr>\n",
       "<td style=\"text-align:center\">2017</td>\n",
       "<td style=\"text-align:center\">$11,759</td>\n",
       "</tr>\n",
       "<tr>\n",
       "<td style=\"text-align:center\">2016</td>\n",
       "<td style=\"text-align:center\">$7,000</td>\n",
       "</tr>\n",
       "<tr>\n",
       "<td style=\"text-align:center\">2015</td>\n",
       "<td style=\"text-align:center\">$4,046</td>\n",
       "</tr>\n",
       "<tr>\n",
       "<td style=\"text-align:center\">2014</td>\n",
       "<td style=\"text-align:center\">$3,198</td>\n",
       "</tr>\n",
       "<tr>\n",
       "<td style=\"text-align:center\">2013</td>\n",
       "<td style=\"text-align:center\">$2,013</td>\n",
       "</tr>\n",
       "<tr>\n",
       "<td style=\"text-align:center\">2012</td>\n",
       "<td style=\"text-align:center\">$413</td>\n",
       "</tr>\n",
       "<tr>\n",
       "<td style=\"text-align:center\">2011</td>\n",
       "<td style=\"text-align:center\">$204</td>\n",
       "</tr>\n",
       "<tr>\n",
       "<td style=\"text-align:center\">2010</td>\n",
       "<td style=\"text-align:center\">$117</td>\n",
       "</tr>\n",
       "<tr>\n",
       "<td style=\"text-align:center\">2009</td>\n",
       "<td style=\"text-align:center\">$112</td>\n",
       "</tr>\n",
       "<tr>\n",
       "<td style=\"text-align:center\">2008</td>\n",
       "<td style=\"text-align:center\">$15</td>\n",
       "</tr>\n",
       "</tbody>\n",
       "</table>"
      ]
     },
     "metadata": {},
     "execution_count": 9
    }
   ],
   "source": [
    "# finding the class 'historical_data_table table' in the HTML script\n",
    "tesla_annual_revenue = soup.find('table', {'class':'historical_data_table table'})\n",
    "tesla_annual_revenue"
   ]
  },
  {
   "cell_type": "code",
   "execution_count": 10,
   "metadata": {},
   "outputs": [
    {
     "output_type": "execute_result",
     "data": {
      "text/plain": [
       "2"
      ]
     },
     "metadata": {},
     "execution_count": 10
    }
   ],
   "source": [
    "# getting the number of columns in the table\n",
    "for row in tesla_annual_revenue.findAll(\"tr\"):\n",
    "    cells = row.findAll(\"td\")\n",
    "\n",
    "len(cells)"
   ]
  },
  {
   "cell_type": "code",
   "execution_count": 11,
   "metadata": {},
   "outputs": [
    {
     "output_type": "execute_result",
     "data": {
      "text/plain": [
       "14"
      ]
     },
     "metadata": {},
     "execution_count": 11
    }
   ],
   "source": [
    "# getting the number of rows in the table including header\n",
    "rows = tesla_annual_revenue.findAll(\"tr\")\n",
    "len(rows)"
   ]
  },
  {
   "cell_type": "code",
   "execution_count": 12,
   "metadata": {},
   "outputs": [
    {
     "output_type": "stream",
     "name": "stdout",
     "text": [
      "['Tesla Annual Revenue(Millions of US $)']\n1\n"
     ]
    }
   ],
   "source": [
    "# getting the table Header\n",
    "header = [th.text.rstrip() for th in rows[0].find_all('th')]\n",
    "\n",
    "print(header)\n",
    "print(len(header))"
   ]
  },
  {
   "cell_type": "code",
   "execution_count": 13,
   "metadata": {},
   "outputs": [],
   "source": [
    "# scraping the data and append to respective lists\n",
    "c1 = []\n",
    "c2 = []\n",
    "\n",
    "for row in tesla_annual_revenue.findAll(\"tr\"):\n",
    "    cells = row.findAll('td')\n",
    "    if len(cells) == 2: # Only extract table body not heading\n",
    "        c1.append(cells[0].find(text = True))\n",
    "        c2.append(cells[1].find(text = True))"
   ]
  },
  {
   "cell_type": "code",
   "execution_count": 14,
   "metadata": {},
   "outputs": [
    {
     "output_type": "execute_result",
     "data": {
      "text/plain": [
       "{'Tesla Annual Revenue(Millions of US $)': 0}"
      ]
     },
     "metadata": {},
     "execution_count": 14
    }
   ],
   "source": [
    "# making a dictionary to become a dataframe\n",
    "d = dict([(x, 0) for x in header])\n",
    "d"
   ]
  },
  {
   "cell_type": "code",
   "execution_count": 15,
   "metadata": {},
   "outputs": [],
   "source": [
    "# making a dataframe\n",
    "d['Year'] = c1\n",
    "d['Tesla Annual Revenue(Millions of US $)'] = c2"
   ]
  },
  {
   "cell_type": "code",
   "execution_count": 16,
   "metadata": {},
   "outputs": [],
   "source": [
    "df = pd.DataFrame(d)"
   ]
  },
  {
   "cell_type": "code",
   "execution_count": 17,
   "metadata": {},
   "outputs": [
    {
     "output_type": "execute_result",
     "data": {
      "text/plain": [
       "   Tesla Annual Revenue(Millions of US $)  Year\n",
       "8                                    $413  2012\n",
       "9                                    $204  2011\n",
       "10                                   $117  2010\n",
       "11                                   $112  2009\n",
       "12                                    $15  2008"
      ],
      "text/html": "<div>\n<style scoped>\n    .dataframe tbody tr th:only-of-type {\n        vertical-align: middle;\n    }\n\n    .dataframe tbody tr th {\n        vertical-align: top;\n    }\n\n    .dataframe thead th {\n        text-align: right;\n    }\n</style>\n<table border=\"1\" class=\"dataframe\">\n  <thead>\n    <tr style=\"text-align: right;\">\n      <th></th>\n      <th>Tesla Annual Revenue(Millions of US $)</th>\n      <th>Year</th>\n    </tr>\n  </thead>\n  <tbody>\n    <tr>\n      <th>8</th>\n      <td>$413</td>\n      <td>2012</td>\n    </tr>\n    <tr>\n      <th>9</th>\n      <td>$204</td>\n      <td>2011</td>\n    </tr>\n    <tr>\n      <th>10</th>\n      <td>$117</td>\n      <td>2010</td>\n    </tr>\n    <tr>\n      <th>11</th>\n      <td>$112</td>\n      <td>2009</td>\n    </tr>\n    <tr>\n      <th>12</th>\n      <td>$15</td>\n      <td>2008</td>\n    </tr>\n  </tbody>\n</table>\n</div>"
     },
     "metadata": {},
     "execution_count": 17
    }
   ],
   "source": [
    "df.tail()"
   ]
  },
  {
   "source": [
    "## Question 3. Extracting GameStop Stock Data Using yfinance"
   ],
   "cell_type": "markdown",
   "metadata": {}
  },
  {
   "cell_type": "code",
   "execution_count": 18,
   "metadata": {},
   "outputs": [],
   "source": [
    "# using 'Ticker' module to extract data\n",
    "game = yf.Ticker(\"GME\")"
   ]
  },
  {
   "cell_type": "code",
   "execution_count": 19,
   "metadata": {},
   "outputs": [
    {
     "output_type": "execute_result",
     "data": {
      "text/plain": [
       "{'zip': '76051',\n",
       " 'sector': 'Consumer Cyclical',\n",
       " 'fullTimeEmployees': 14000,\n",
       " 'longBusinessSummary': 'GameStop Corp. operates as a multichannel video game, consumer electronics, and collectibles retailer in the United States, Canada, Australia, and Europe. The company sells new and pre-owned video game platforms; accessories, including controllers, gaming headsets, virtual reality products, and memory cards; new and pre-owned video game software; and in-game digital currency, digital downloadable content, and full-game downloads, as well as network points cards, and prepaid digital and prepaid subscription cards. It also sells collectibles comprising licensed merchandise primarily related to the video game, television, and movie industries, as well as pop culture themes. The company operates its stores and e-commerce sites under the GameStop, EB Games, and Micromania brands; and collectibles stores under the Zing Pop Culture and ThinkGeek brand, as well as offers Game Informer, a print and digital video game publication featuring reviews of new title releases, game tips, and news regarding the video game industry. As of February 1, 2020, the company operated 5,509 stores across 14 countries. The company was formerly known as GSC Holdings Corp. GameStop Corp. was founded in 1996 and is headquartered in Grapevine, Texas.',\n",
       " 'city': 'Grapevine',\n",
       " 'phone': '817 424 2000',\n",
       " 'state': 'TX',\n",
       " 'country': 'United States',\n",
       " 'companyOfficers': [],\n",
       " 'website': 'http://www.gamestop.com',\n",
       " 'maxAge': 1,\n",
       " 'address1': '625 Westport Parkway',\n",
       " 'industry': 'Specialty Retail',\n",
       " 'previousClose': 40.59,\n",
       " 'regularMarketOpen': 46.69,\n",
       " 'twoHundredDayAverage': 26.82726,\n",
       " 'trailingAnnualDividendYield': 0,\n",
       " 'payoutRatio': 0,\n",
       " 'volume24Hr': None,\n",
       " 'regularMarketDayHigh': 48.51,\n",
       " 'navPrice': None,\n",
       " 'averageDailyVolume10Day': 13980775,\n",
       " 'totalAssets': None,\n",
       " 'regularMarketPreviousClose': 40.59,\n",
       " 'fiftyDayAverage': 75.129395,\n",
       " 'trailingAnnualDividendRate': 0,\n",
       " 'open': 46.69,\n",
       " 'toCurrency': None,\n",
       " 'averageVolume10days': 13980775,\n",
       " 'expireDate': None,\n",
       " 'yield': None,\n",
       " 'algorithm': None,\n",
       " 'dividendRate': None,\n",
       " 'exDividendDate': 1552521600,\n",
       " 'beta': -1.947171,\n",
       " 'circulatingSupply': None,\n",
       " 'startDate': None,\n",
       " 'regularMarketDayLow': 42.4,\n",
       " 'priceHint': 2,\n",
       " 'currency': 'USD',\n",
       " 'regularMarketVolume': 18618384,\n",
       " 'lastMarket': None,\n",
       " 'maxSupply': None,\n",
       " 'openInterest': None,\n",
       " 'marketCap': 3208361984,\n",
       " 'volumeAllCurrencies': None,\n",
       " 'strikePrice': None,\n",
       " 'averageVolume': 34291726,\n",
       " 'priceToSalesTrailing12Months': 0.6215587,\n",
       " 'dayLow': 42.4,\n",
       " 'ask': 45.8,\n",
       " 'ytdReturn': None,\n",
       " 'askSize': 1000,\n",
       " 'volume': 18618384,\n",
       " 'fiftyTwoWeekHigh': 483,\n",
       " 'forwardPE': -219.04762,\n",
       " 'fromCurrency': None,\n",
       " 'fiveYearAvgDividendYield': None,\n",
       " 'fiftyTwoWeekLow': 2.57,\n",
       " 'bid': 44.3,\n",
       " 'tradeable': False,\n",
       " 'dividendYield': None,\n",
       " 'bidSize': 800,\n",
       " 'dayHigh': 48.51,\n",
       " 'exchange': 'NYQ',\n",
       " 'shortName': 'GameStop Corporation',\n",
       " 'longName': 'GameStop Corp.',\n",
       " 'exchangeTimezoneName': 'America/New_York',\n",
       " 'exchangeTimezoneShortName': 'EST',\n",
       " 'isEsgPopulated': False,\n",
       " 'gmtOffSetMilliseconds': '-18000000',\n",
       " 'quoteType': 'EQUITY',\n",
       " 'symbol': 'GME',\n",
       " 'messageBoardId': 'finmb_1342560',\n",
       " 'market': 'us_market',\n",
       " 'annualHoldingsTurnover': None,\n",
       " 'enterpriseToRevenue': 0.686,\n",
       " 'beta3Year': None,\n",
       " 'profitMargins': -0.053239997,\n",
       " 'enterpriseToEbitda': -27.359,\n",
       " '52WeekChange': 10.401686,\n",
       " 'morningStarRiskRating': None,\n",
       " 'forwardEps': -0.21,\n",
       " 'revenueQuarterlyGrowth': None,\n",
       " 'sharesOutstanding': 69747000,\n",
       " 'fundInceptionDate': None,\n",
       " 'annualReportExpenseRatio': None,\n",
       " 'bookValue': 5.095,\n",
       " 'sharesShort': 21409004,\n",
       " 'sharesPercentSharesOut': 0.307,\n",
       " 'fundFamily': None,\n",
       " 'lastFiscalYearEnd': 1580515200,\n",
       " 'heldPercentInstitutions': 1.2204499,\n",
       " 'netIncomeToCommon': -270000000,\n",
       " 'trailingEps': -4.224,\n",
       " 'lastDividendValue': 0.38,\n",
       " 'SandP52WeekChange': 0.1675049,\n",
       " 'priceToBook': 9.02846,\n",
       " 'heldPercentInsiders': 0.27334,\n",
       " 'nextFiscalYearEnd': 1643673600,\n",
       " 'mostRecentQuarter': 1604102400,\n",
       " 'shortRatio': 0.37,\n",
       " 'sharesShortPreviousMonthDate': 1609372800,\n",
       " 'floatShares': 45045377,\n",
       " 'enterpriseValue': 3540229120,\n",
       " 'threeYearAverageReturn': None,\n",
       " 'lastSplitDate': 1174262400,\n",
       " 'lastSplitFactor': '2:1',\n",
       " 'legalType': None,\n",
       " 'lastDividendDate': 1552521600,\n",
       " 'morningStarOverallRating': None,\n",
       " 'earningsQuarterlyGrowth': None,\n",
       " 'dateShortInterest': 1611878400,\n",
       " 'pegRatio': 0.17,\n",
       " 'lastCapGain': None,\n",
       " 'shortPercentOfFloat': 0.7846,\n",
       " 'sharesShortPriorMonth': 71196206,\n",
       " 'impliedSharesOutstanding': None,\n",
       " 'category': None,\n",
       " 'fiveYearAverageReturn': None,\n",
       " 'regularMarketPrice': 46.69,\n",
       " 'logo_url': 'https://logo.clearbit.com/gamestop.com'}"
      ]
     },
     "metadata": {},
     "execution_count": 19
    }
   ],
   "source": [
    "# using the attribue 'info' \n",
    "game_info = game.info\n",
    "game_info"
   ]
  },
  {
   "cell_type": "code",
   "execution_count": 20,
   "metadata": {},
   "outputs": [
    {
     "output_type": "execute_result",
     "data": {
      "text/plain": [
       "                Open      High       Low     Close    Volume  Dividends  \\\n",
       "Date                                                                      \n",
       "2002-02-13  6.480513  6.773399  6.413183  6.766666  19054000        0.0   \n",
       "2002-02-14  6.850831  6.864296  6.682506  6.733003   2755400        0.0   \n",
       "2002-02-15  6.733001  6.749833  6.632006  6.699336   2097400        0.0   \n",
       "2002-02-19  6.665671  6.665671  6.312189  6.430017   1852600        0.0   \n",
       "2002-02-20  6.463681  6.648838  6.413183  6.648838   1723200        0.0   \n",
       "\n",
       "            Stock Splits  \n",
       "Date                      \n",
       "2002-02-13           0.0  \n",
       "2002-02-14           0.0  \n",
       "2002-02-15           0.0  \n",
       "2002-02-19           0.0  \n",
       "2002-02-20           0.0  "
      ],
      "text/html": "<div>\n<style scoped>\n    .dataframe tbody tr th:only-of-type {\n        vertical-align: middle;\n    }\n\n    .dataframe tbody tr th {\n        vertical-align: top;\n    }\n\n    .dataframe thead th {\n        text-align: right;\n    }\n</style>\n<table border=\"1\" class=\"dataframe\">\n  <thead>\n    <tr style=\"text-align: right;\">\n      <th></th>\n      <th>Open</th>\n      <th>High</th>\n      <th>Low</th>\n      <th>Close</th>\n      <th>Volume</th>\n      <th>Dividends</th>\n      <th>Stock Splits</th>\n    </tr>\n    <tr>\n      <th>Date</th>\n      <th></th>\n      <th></th>\n      <th></th>\n      <th></th>\n      <th></th>\n      <th></th>\n      <th></th>\n    </tr>\n  </thead>\n  <tbody>\n    <tr>\n      <th>2002-02-13</th>\n      <td>6.480513</td>\n      <td>6.773399</td>\n      <td>6.413183</td>\n      <td>6.766666</td>\n      <td>19054000</td>\n      <td>0.0</td>\n      <td>0.0</td>\n    </tr>\n    <tr>\n      <th>2002-02-14</th>\n      <td>6.850831</td>\n      <td>6.864296</td>\n      <td>6.682506</td>\n      <td>6.733003</td>\n      <td>2755400</td>\n      <td>0.0</td>\n      <td>0.0</td>\n    </tr>\n    <tr>\n      <th>2002-02-15</th>\n      <td>6.733001</td>\n      <td>6.749833</td>\n      <td>6.632006</td>\n      <td>6.699336</td>\n      <td>2097400</td>\n      <td>0.0</td>\n      <td>0.0</td>\n    </tr>\n    <tr>\n      <th>2002-02-19</th>\n      <td>6.665671</td>\n      <td>6.665671</td>\n      <td>6.312189</td>\n      <td>6.430017</td>\n      <td>1852600</td>\n      <td>0.0</td>\n      <td>0.0</td>\n    </tr>\n    <tr>\n      <th>2002-02-20</th>\n      <td>6.463681</td>\n      <td>6.648838</td>\n      <td>6.413183</td>\n      <td>6.648838</td>\n      <td>1723200</td>\n      <td>0.0</td>\n      <td>0.0</td>\n    </tr>\n  </tbody>\n</table>\n</div>"
     },
     "metadata": {},
     "execution_count": 20
    }
   ],
   "source": [
    "# Extracting share price \n",
    "game_share_price_data = game.history(period = \"max\")\n",
    "game_share_price_data.head()"
   ]
  },
  {
   "source": [
    "## Question 4. Extracting GameStop Revenue Data Using Webscraping"
   ],
   "cell_type": "markdown",
   "metadata": {}
  },
  {
   "cell_type": "code",
   "execution_count": 21,
   "metadata": {},
   "outputs": [
    {
     "output_type": "execute_result",
     "data": {
      "text/plain": [
       "<Response [200]>"
      ]
     },
     "metadata": {},
     "execution_count": 21
    }
   ],
   "source": [
    "# using 'requests' library to download the webpage below\n",
    "url_1 = \"https://www.macrotrends.net/stocks/charts/GME/gamestop/revenue\"\n",
    "html_data_1 = requests.get(url_1)\n",
    "html_data_1"
   ]
  },
  {
   "cell_type": "code",
   "execution_count": 22,
   "metadata": {},
   "outputs": [
    {
     "output_type": "stream",
     "name": "stdout",
     "text": [
      "<!DOCTYPE html>\n<!--[if lt IE 7]>      <html class=\"no-js lt-ie9 lt-ie8 lt-ie7\"> <![endif]-->\n<!--[if IE 7]>         <html class=\"no-js lt-ie9 lt-ie8\"> <![endif]-->\n<!--[if IE 8]>         <html class=\"no-js lt-ie9\"> <![endif]-->\n<!--[if gt IE 8]><!-->\n<html class=\"no-js\">\n <!--<![endif]-->\n <head>\n  <meta charset=\"utf-8\"/>\n  <meta content=\"IE=edge,chrome=1\" http-equiv=\"X-UA-Compatible\"/>\n  <link href=\"https://www.macrotrends.net/stocks/charts/GME/gamestop/revenue\" rel=\"canonical\"/>\n  <title>\n   GameStop Revenue 2006-2020 | GME | MacroTrends\n  </title>\n  <meta content=\"GameStop revenue from 2006 to 2020. Revenue can be defined as the amount of money a company receives from its customers in exchange for the sales of goods or services.  Revenue is the top line item on an income statement from which all costs and expenses are subtracted to arrive at net income.\" name=\"description\">\n   <meta content=\"\" name=\"robots\">\n    <link href=\"/assets/images/icons/FAVICON/macro-trends_favicon.ico\" rel=\"shortcut icon\" type=\"image/x-icon\"/>\n    <meta content=\"1228954C688F5907894001CD8E5E624B\" name=\"msvalidate.01\"/>\n    <meta content=\"6MnD_3iDtAP1ZyoGK1YMyVIVck4r5Ws80I9xD3ue4_A\" name=\"google-site-verification\"/>\n    <!-- Load in Roboto Font -->\n    <link href=\"https://fonts.googleapis.com/css?family=Roboto:400,600,700\" rel=\"stylesheet\"/>\n    <!-- Bootstrap -->\n    <link href=\"//maxcdn.bootstrapcdn.com/bootstrap/3.3.7/css/bootstrap.min.css\" rel=\"stylesheet\"/>\n    <!--for Bootstrap CDN version-->\n    <link href=\"//maxcdn.bootstrapcdn.com/bootstrap/3.3.7/css/bootstrap-theme.min.css\" rel=\"stylesheet\"/>\n    <!-- Font Awesome -->\n    <link href=\"//stackpath.bootstrapcdn.com/font-awesome/4.7.0/css/font-awesome.min.css\" rel=\"stylesheet\"/>\n    <!--for Font Awesome CDN version-->\n    <!-- Jquery, Bootstrap and Menu Javascript -->\n    <script crossorigin=\"anonymous\" integrity=\"sha256-ZosEbRLbNQzLpnKIkEdrPv7lOy9C27hHQ+Xp8a4MxAQ=\" src=\"//code.jquery.com/jquery-1.12.4.min.js\">\n    </script>\n    <script src=\"//maxcdn.bootstrapcdn.com/bootstrap/3.3.7/js/bootstrap.min.js\">\n    </script>\n    <!-- Modernizr for cross-browser support -->\n    <script src=\"/assets/javascript/modernizr-2.6.2-respond-1.1.0.min.js\" type=\"text/javascript\">\n    </script>\n    <!-- Latest compiled and minified CSS -->\n    <link href=\"//www.fuelcdn.com/fuelux/3.13.0/css/fuelux.min.css\" rel=\"stylesheet\"/>\n    <!-- Latest compiled and minified JavaScript -->\n    <script src=\"//www.fuelcdn.com/fuelux/3.13.0/js/fuelux.min.js\">\n    </script>\n    <!-- Twitter Card data -->\n    <meta content=\"summary_large_image\" name=\"twitter:card\"/>\n    <meta content=\"@tmacrotrends\" name=\"twitter:site\"/>\n    <meta content=\"GameStop Revenue 2006-2020 | GME\" name=\"twitter:title\"/>\n    <meta content=\"GameStop revenue from 2006 to 2020. Revenue can be defined as the amount of money a company receives from its customers in exchange for the sales of goods or services.  Revenue is the top line item on an income statement from which all costs and expenses are subtracted to arrive at net income.\" name=\"twitter:description\"/>\n    <!-- Open Graph data -->\n    <meta content=\"https://www.macrotrends.net/stocks/charts/GME/gamestop/revenue\" property=\"og:url\">\n     <meta content=\"GameStop Revenue 2006-2020 | GME\" property=\"og:title\">\n      <meta content=\"GameStop revenue from 2006 to 2020. Revenue can be defined as the amount of money a company receives from its customers in exchange for the sales of goods or services.  Revenue is the top line item on an income statement from which all costs and expenses are subtracted to arrive at net income.\" property=\"og:description\">\n       <!-- JQXGRID STYLES AND JAVASCRIPT -->\n       <link href=\"/assets/php/jqfiles/jqwidgets/styles/jqx.base.css\" rel=\"stylesheet\" type=\"text/css\">\n        <link href=\"/assets/php/jqfiles/jqwidgets/styles/jqx.bootstrap.css\" rel=\"stylesheet\" type=\"text/css\">\n         <!-- LOAD THESE SCRIPTS EARLY SO THE TICKER INPUT FIELD IS STYLED INSTANTLY -->\n         <script src=\"/assets/php/jqfiles/jqwidgets/jqxcore.js\" type=\"text/javascript\">\n         </script>\n         <script src=\"/assets/php/jqfiles/jqwidgets/jqxdata.js\" type=\"text/javascript\">\n         </script>\n         <script src=\"/assets/php/jqfiles/jqwidgets/jqxinput.js\" type=\"text/javascript\">\n         </script>\n         <!-- Styling for search box -->\n         <link href=\"/assets/php/jquery-typeahead/jquery.typeahead_pages.css\" rel=\"stylesheet\" type=\"text/css\"/>\n         <!-- Search box javascript -->\n         <script src=\"/assets/php/jquery-typeahead/jquery.typeahead.min.js\">\n         </script>\n         <link href=\"//cdnjs.cloudflare.com/ajax/libs/select2/4.0.3/css/select2.min.css\" rel=\"stylesheet\">\n          <script src=\"//cdnjs.cloudflare.com/ajax/libs/select2/4.0.3/js/select2.min.js\">\n          </script>\n          <!-- ToolTips -->\n          <script src=\"/assets/php/tipped-4.6.1/js/tipped/tipped.js\">\n          </script>\n          <link href=\"/assets/php/tipped-4.6.1/css/tipped/tipped.css\" rel=\"stylesheet\"/>\n          <script async=\"\" src=\"https://u5.investingchannel.com/static/uat.js\">\n          </script>\n          <script type=\"text/javascript\">\n           InvestingChannelQueue = window.InvestingChannelQueue || [];\n\t\t\tvar ic_page;\n\t\t\tInvestingChannelQueue.push(function() {ic_page = InvestingChannel.UAT.Run(\"df17ac1e-cc7f-11e8-82a5-0abbb61c4a6a\");});\n          </script>\n          <!-- Global site tag (gtag.js) - Google Analytics -->\n          <script async=\"\" src=\"https://www.googletagmanager.com/gtag/js?id=UA-62099500-1\">\n          </script>\n          <script>\n           window.dataLayer = window.dataLayer || [];\n\t\t  function gtag(){dataLayer.push(arguments);}\n\t\t  gtag('js', new Date());\n\n\t\t  gtag('config', 'UA-62099500-1');\n          </script>\n          <!-- Amcharts Files -->\n          <script src=\"/assets/php/charts/amcharts/amcharts.js\" type=\"text/javascript\">\n          </script>\n          <script src=\"/assets/php/charts/amcharts/serial.js\" type=\"text/javascript\">\n          </script>\n          <script src=\"/assets/php/charts/amcharts/themes/light.js\" type=\"text/javascript\">\n          </script>\n          <script src=\"/assets/php/charts/amcharts/amstock.js\" type=\"text/javascript\">\n          </script>\n          <script src=\"/assets/php/charts/amcharts/plugins/export/export.min.js?version=1527102356\" type=\"text/javascript\">\n          </script>\n          <script src=\"/assets/php/charts/amcharts/plugins/export/libs/fabric.js/fabric.min.js?version=1510086154\" type=\"text/javascript\">\n          </script>\n          <script src=\"/assets/php/charts/amcharts/plugins/export/libs/FileSaver.js/FileSaver.js?version=1500654620\" type=\"text/javascript\">\n          </script>\n          <link href=\"/assets/php/charts/amcharts/plugins/export/export.css\" media=\"all\" rel=\"stylesheet\" type=\"text/css\">\n           <!--<script>\n\t\t\t(function(i,s,o,g,r,a,m){i['GoogleAnalyticsObject']=r;i[r]=i[r]||function(){\n\t\t\t(i[r].q=i[r].q||[]).push(arguments)},i[r].l=1*new Date();a=s.createElement(o),\n\t\t\tm=s.getElementsByTagName(o)[0];a.async=1;a.src=g;m.parentNode.insertBefore(a,m)\n\t\t\t})(window,document,'script','//www.google-analytics.com/analytics.js','ga');\n\n\t\t\tga('create', 'UA-62099500-1', 'auto');\n\t\t\tga('send', 'pageview');\n\t\t\t\n\t\t\t\n\t\t\t\n\t\t   \n\t\t\t//Send one event to GA at 30 seconds to control bounce rate\n\t\t\tsetTimeout(\"ga('send','event','Engaged User','30 Second Engagement')\",30000); \n\n\n\t\t  //This code sends events to ga every 30 seconds when the window is in focus\n\t\t\tvar count = 0;\n\t\t\tvar myInterval;\n\t\t\t\t\t\n\t\t\t// Active\n\t\t\twindow.addEventListener('load', startTimer);\n\t\t\twindow.addEventListener('focus', startTimer);\n\n\t\t\t// Inactive\n\t\t\twindow.addEventListener('blur', stopTimer);\n\n\t\t\tfunction timerHandler() {\n\t\t\t\tcount++;\n\t\t\t\t\n\t\t\t\tif(count % 60 == 0 && count <= 1800) {\n\t\t\t\t\t\n\t\t\t\t\tvar interval = (count/60);\n\t\t\t\t\tinterval = interval.toFixed(0);\n\t\t\t\t\t\n\t\t\t\t\tvar action = interval + \" Minute Engagement\";\n\t\t\t\t\t\n\t\t\t\t\tga('send','event','Engaged User',action);\n\n\t\t\t\t\t\n\t\t\t\t}\n\t\t\t\n\t\t\t}\n\n\t\t\t// Start timer\n\t\t\tfunction startTimer() {\n\t\t\tmyInterval = window.setInterval(timerHandler, 1000);\n\t\t\t}\n\n\t\t\t// Stop timer\n\t\t\tfunction stopTimer() {\n\t\t\twindow.clearInterval(myInterval);\n\t\t\t}\n\t\t\t\n\t\t\t\n\n\t\t</script>-->\n           <style>\n            #style-1::-webkit-scrollbar-track\n{\n\t-webkit-box-shadow: inset 0 0 6px rgba(0,0,0,0.3);\n\tborder-radius: 3px;\n\tbackground-color: #F5F5F5;\n}\n\n#style-1::-webkit-scrollbar\n{\n\twidth: 18px;\n\tbackground-color: #F5F5F5;\n}\n\n#style-1::-webkit-scrollbar-thumb\n{\n\tborder-radius: 3px;\n\t-webkit-box-shadow: inset 0 0 6px rgba(0,0,0,.3);\n\tbackground-color: #5B9BD5;\n}\n\nhtml {\n\twidth:100%;\n\tposition: relative;\n\tmin-height: 100%;\n}\n\nbody {\n\t\n\twidth:100%;\n\n\t/* Margin bottom by footer height */\n\t  margin-bottom: 80px;\n\t  color: #444;\n\t  background-color:#fff;\n\t  font-family: 'Roboto', sans-serif;\n\t  font-size:14px;\n}\n\n\n\n\n\n.header_content_container {\n\t\n\tmin-width: 1280px;\n\tpadding: 0px;\n}\n\n.main_content_container {\n\t\n\tmin-width: 1280px;\n\tmax-width: 1280px;\n\tpadding: 0px 30px 100px 30px;\n\t\n}\n\n.sub_main_content_container {\n\t\n\t\n}\n\n\n\n#main_content {\n\t\n\tpadding:0px 20px 0px 0px;\n\twidth:826px;\n    float:left;\n\t\n}\n\n#right_sidebar {\n\t\n  width: 300px;\n  float:left;\n  height:3020px;\n\t\n}\n\n#sticky_ad_left {\n\t\n  position: -webkit-sticky;\n  position: sticky;\n  top: 30px;\n\t\n\t\n}\n\n#sticky_ad_right {\n\t\n  position: -webkit-sticky;\n  position: sticky;\n  top: 30px;\n\t\n\t\n}\n\n\n\n\n\n.footer {\n  position: absolute;\n  bottom: 0;\n  width: 100%;\n  /* Set the fixed height of the footer here */\n  height: 100px;\n  margin-top: 10px;\t\n  padding: 30px 20px 20px 20px;\n  color:#fff !important;\n  background-color:#444;\n  text-align: center;\n  font-size:16px;\n}\n\n.footer a {\n  color:#fff !important;\n}\n\n.ticker_search_box {\n\t\n\tbackground-color:#F5F5F5;\n\tborder: 1px solid #E0E0E0;\n\tborder-bottom:none;\n\tpadding:10px 30px 10px 10px;\n\tmargin:0px 0px 0px 0px;\n\ttext-align:center;\n\t\n}\n\n.related_tickers {\n\t\n\twidth:100%;\n\tbackground-color:#F5F5F5;\n\tborder: 1px solid #E0E0E0;\n\tborder-top: 0px;\n\tpadding:3px 30px 3px 10px;\n\tmargin:0px 0px 0px 0px;\n\ttext-align:center;\n\t\n}\n\n.statement_type_select {\n\n\twidth:100%;\n\theight:28px;\n\t\n}\n\n.frequency_select {\n\n\twidth:100%;\n\theight:28px;\n\tfont-weight:600;\n\t\n}\n\n\n.select2 {\n\t\n\ttext-align:left;\n\tfont-weight:600;\n\t\n\t}\n\t\n#jqxInput {\n\n\t\twidth:100%;\n\t\theight:28px;\n\t\t\n}\n\n\n\n.header__parent_container {\n\n\twidth:100%;\n\theight:50px;\n\tpadding:15px 0px 10px -20px; \n\tmargin:0px 0px 0px 0px;\n\tbackground-color:#444;\n\n}\n\n.header_container {\n\n\twidth:100%;\n\theight:50px;\n\tpadding:15px 0px 10px -20px; \n\tmargin:0px 0px 0px 0px;\n\tbackground-color:#444;\n\n}\n\n.header_logo {\n\t\n\tpadding-top:10px;\n\tmargin-left:50px;\n\t\n}\n\n.menu_parent_container {\n\t\n\twidth:100%;\n\theight:34px;\n\tfont-size:16px;\n\tpadding:15px 0px 10px -20px; \n\tmargin:0px 0px 0px 0px;\n\tbackground-color:#0089de;\n}\n\n.menu_container {\n\t\n\twidth:1280px;\n\theight:34px;\n\tfont-size:16px;\n\tpadding:11px 0px 0px -20px; \n\tmargin: 0 auto;\n\tbackground-color:#0089de;\n\tz-index:1000;\n}\n\n.menu_item {\n\n\theight:34px;\n\tfloat:left;\n\tfont-size:14px;\n\tfont-weight:bold;\n\tcolor:#fff;\n\ttext-align:center;\n\tpadding:7px 16px 0px 16px;\t\n\n}\n\n.menu_item:hover\n{\n\tbackground-color:#32a0e4;\n\tcursor: pointer;\n}\n\n.menu_item a\n{\n\tcolor:#fff;\n\tcursor: pointer;\n}\n\n.menu_item a:hover\n{\n\ttext-decoration:none;\n\tcursor: pointer;\n}\n\n.leaderboard_ad {\n\n\tmargin-top:20px;\n\tmargin-bottom:20px;\n\ttext-align:center;\n\tmin-height:100px;\n\n}\n\n#filter_result_count {\n\t\n\twidth:100%;\n\ttext-align:center;\n\tfont-size:24px;\n\tfont-weight:bold;\n\tpadding:10px 15px;\n\tbackground-color:#efefef;\n\tborder: 1px solid #dfdfdf;\n\tmargin:20px;\n\t\n}\n\n\nselect {\n  color: #444;\n  background-color: #FFF;\n  border: 1px solid #AAA;\n  border-radius: 4px;\n  box-sizing: border-box;\n  cursor: pointer;\n  display: block;\n  height:40px;\n  line-height: 40px;\n}\n\n.historical_data_table  {\n    table-layout: fixed;\n\tmargin:20px;\n}\n\n.historical_data_table tbody tr td {\n\t\n\tpadding:6px;\n\tvertical-align: middle !important;\n\n}\n\n\n.descriptors {\n\t\n\ttext-align:center;\n\tfont-size:14px;\n\tpadding:15px;\n\t\n}\n\n.td_metric_name {\n\t\n\twidth:110px;\n\tpadding-top:17px;\n\t\n}\n\n.metric_link {\n\t\n\tfont-size:14px;\n\tfont-weight:bold;\n\n}\n\n.help_icon {\n\t\n\twidth:15px;\n\theight:18px; \n\tpadding-bottom:3px;\n\t\n}\n\n.td_min_value {\n\t\n\twidth:75px;\n\ttext-align:center;\n\tfont-size:13px;\n\t\n}\n\n.td_max_value {\n\t\n\twidth:75px;\n\ttext-align:center;\n\tfont-size:13px;\n\t\n}\n\n#myCombobox .form-control {\n\t\n\tbackground-color: #99d5ff;\n\n\t\n}\n\n.dropdown-toggle {\n\t\n\theight:24px;\n\tpadding-top:0px;\n\tpadding-left:7px;\n\twidth:24px;\n\t\n}\n\n.dropdown-menu-right {\n\t\n\tmin-width:75px;\n\tfont-size:13px;\n\t\n}\n\n.form-control {\n\t\n\tfont-size:12px;\t\n\tpadding:5px 10px;\n\theight:24px;\n\n\t\n}\n\n#myPills1 {\n\t\n\tmargin:0px 15px 10px 0px;\n\t\n}\n\n#jqxgrid {\n\t\n\tborder-radius:0px;\n\t\n}\n\n.jqx-widget-header {\n\t\n    font-family: 'Roboto', sans-serif;\n\tfont-size:13px;\t\n\t\n}\n\n.jqx-item {\n\t\n    font-family: 'Roboto', sans-serif;\n\tfont-size: 13px;\n\t\n}\n\n.jqx-widget-content {\n\t\n\tborder-color: #E0E0E0;\n\t\n}\n\n#jqxgrid .jqx-grid-cell {\n\t\n\tborder-color: #E0E0E0;\n\t\n}\n\n#jqxgrid .jqx-grid-cell-pinned {\n\t\n\tborder-color: #E0E0E0;\n\tbackground-color: #F5F5F5;\n\t\n}\n\n#jqxgrid .jqx-grid-column-header {\n\t\n\tborder-color: #E0E0E0;\n\tbackground-color: #F5F5F5;\n\t\n}\n\n.clear_zero {\n\n\theight:0px;\n\n}\n\n\n\n/* Styles for Popup Charts */\n\n.tpd-size-large {\n\t\n\tmargin:0px;\t\n\tpadding: 0px;\n}\n\n.popup_window_wrapper {\n\t\n\tmargin:15px;\n\t\n}\n\n.popup_stock_name {\n\n\tfont-size:16px;\n\tfont-weight:bold;\n\tmargin:5px;\n\n}\n\n.popup_stock_attributes {\n\n\tfont-size:13px;\n\tfont-weight:bold;\n\tmargin:5px;\n\n}\n\n.popup_stock_description {\n\n\tfont-size:12px;\n\tmargin:5px;\n\n}\n\n.jqx-input {\n\t\n\tfont-size:14px;\n\t\n} \n\n.jqx-menu-item {\n\t\n\tfont-size:14px;\n\t\n}\n\n.jqx-input {\n\t\n\tpadding:5px 10px;\n\t\n}\n\n.nav-tabs {\n    border: 1px solid #E0E0E0;\n\tbackground-color:#F5F5F5;\n\tpadding: 3px 5px 0px 5px;\n\tmargin: 0px 0px 10px 0px;\n}\n\n.nav-tabs>li>a {\n\tfont-size:13px;\n\tpadding:7px 12px;\n\tfont-weight:600;\n    margin-right: 0px;\n    line-height: 1.42857143;\n    border: 0px;\n    border-radius: 0px 0px 0 0;\n\tbackground-color:#F5F5F5;\n\n}\n\n.nav-tabs>li>a .active {\n    margin-right: 0px;\n    line-height: 1.42857143;\n    border: 1px solid #E0E0E0;\n    border-radius: 0px 0px 0 0;\n\tbackground-color:#F5F5F5;\n\n}\n\n.nav-tabs>li>a:hover { \n    background-color: #F5F5F5;\n\ttext-decoration: underline;\n\n}\n\n.donate_buttons {\n\n\tmargin-left:20px;\n\t\n\t}\n\n.modal-body {\n\n\tmargin:10px 40px 20px 40px;\n\ttext-align:left;\n\tfont-size:18px;\n\n}\n\n.modal-body li {\n\n\tmargin-top:20px;\n\tfont-size:14px;\n\n}\n\n\n.modal_title {\n\n\n\ttext-align:center;\n\tmargin-bottom:30px;\n\n}\n\n.modal-body th{\n\n\tmargin-left:10px;\n\tfont-size:14px;\n}\n\n.modal-body td {\n\n\tcolor: #337ab7;\n\tmargin-left:10px;\n\tfont-size:14px;\n}\n\n.modal_button {\n\n\tmargin-top:50px;\n\ttext-align:center;\n\tfont-size:16px;\n\n}\n           </style>\n          </link>\n         </link>\n        </link>\n       </link>\n      </meta>\n     </meta>\n    </meta>\n   </meta>\n  </meta>\n </head>\n <body class=\"fuelux\">\n  <!--[if lt IE 7]>\n            <p class=\"browsehappy\">You are using an <strong>outdated</strong> browser. Please <a href=\"https://browsehappy.com/\">upgrade your browser</a> to improve your experience.</p>\n        <![endif]-->\n  <div class=\"header_content_container container-fluid\">\n   <div class=\"header_parent_container\">\n    <div class=\"header_container\">\n     <div class=\"header_logo col-xs-2\">\n      <a class=\"logo\" href=\"https://www.macrotrends.net\" title=\"MacroTrends Home Page\">\n       <img src=\"/assets/images/logo_bright1.png\"/>\n      </a>\n     </div>\n     <div class=\"col-xs-1 pull-right\" style=\"padding-top:8px; margin-right:10px; margin-left:0px; padding-left:0px;\">\n     </div>\n     <div class=\"col-xs-5 pull-right\" style=\"padding-top:8px;\">\n      <form>\n       <div class=\"typeahead__container\">\n        <div class=\"typeahead__field\">\n         <span class=\"typeahead__query\">\n          <input autocomplete=\"off\" autofocus=\"\" class=\"js-typeahead\" name=\"q\" placeholder=\"Search over 200,000 charts...\" type=\"search\"/>\n         </span>\n         <span class=\"typeahead__button\">\n          <button type=\"submit\">\n           <span class=\"typeahead__search-icon\">\n           </span>\n          </button>\n         </span>\n        </div>\n       </div>\n      </form>\n     </div>\n    </div>\n   </div>\n   <div class=\"menu_parent_container\">\n    <div class=\"menu_container\">\n     <a href=\"/stocks/stock-screener\">\n      <div class=\"menu_item\">\n       Stock Screener\n      </div>\n     </a>\n     <a href=\"/stocks/research\">\n      <div class=\"menu_item\">\n       Stock Research\n      </div>\n     </a>\n     <a href=\"/charts/stock-indexes\">\n      <div class=\"menu_item\">\n       Market Indexes\n      </div>\n     </a>\n     <a href=\"/charts/precious-metals\">\n      <div class=\"menu_item\">\n       Precious Metals\n      </div>\n     </a>\n     <a href=\"/charts/energy\">\n      <div class=\"menu_item\">\n       Energy\n      </div>\n     </a>\n     <a href=\"/charts/commodities\">\n      <div class=\"menu_item\">\n       Commodities\n      </div>\n     </a>\n     <a href=\"/charts/exchange-rates\">\n      <div class=\"menu_item\">\n       Exchange Rates\n      </div>\n     </a>\n     <a href=\"/charts/interest-rates\">\n      <div class=\"menu_item\">\n       Interest Rates\n      </div>\n     </a>\n     <a href=\"/futures\">\n      <div class=\"menu_item\">\n       Futures\n      </div>\n     </a>\n     <a href=\"/charts/economy\">\n      <div class=\"menu_item\">\n       Economy\n      </div>\n     </a>\n     <a href=\"/countries/topic-overview\">\n      <div class=\"menu_item\">\n       Global Metrics\n      </div>\n     </a>\n    </div>\n   </div>\n  </div>\n  <div class=\"main_content_container container-fluid\" id=\"main_content_container\">\n   <div class=\"adx_top_ad col-xs-12\" id=\"ic_leaderboard\" style=\"margin: 20px 20px 30px 20px; min-height:265px; text-align:center;\">\n    <!--Smartad # 4058: Macrotrends - 970x250 Image - Placement 2-->\n    <iframe height=\"250\" id=\"dianomi_leaderboard\" scrolling=\"NO\" src=\"//www.dianomi.com/smartads.epl?id=4058\" style=\"height: 250px; border: none; overflow: hidden;\" width=\"970\">\n    </iframe>\n   </div>\n   <div style=\"margin:20px;\">\n    <h2 style=\"margin-left:0px; font-weight:600; color:#444;\">\n     GameStop Revenue 2006-2020 | GME\n    </h2>\n   </div>\n   <div class=\"sub_main_content_container\">\n    <div id=\"main_content\">\n     <div class=\"navigation_tabs\" style=\"margin-bottom:20px;\">\n      <ul class=\"nav nav-tabs\" id=\"myTabs\" style=\"font-size:15px;\">\n       <li>\n        <a href=\"https://www.macrotrends.net/stocks/charts/GME/gamestop/stock-price-history\">\n         Prices\n        </a>\n       </li>\n       <li>\n        <a href=\"https://www.macrotrends.net/stocks/charts/GME/gamestop/financial-statements\">\n         Financials\n        </a>\n       </li>\n       <li class=\"active\">\n        <a href=\"https://www.macrotrends.net/stocks/charts/GME/gamestop/revenue\">\n         Revenue &amp; Profit\n        </a>\n       </li>\n       <li>\n        <a href=\"https://www.macrotrends.net/stocks/charts/GME/gamestop/total-assets\">\n         Assets &amp; Liabilities\n        </a>\n       </li>\n       <li>\n        <a href=\"https://www.macrotrends.net/stocks/charts/GME/gamestop/profit-margins\">\n         Margins\n        </a>\n       </li>\n       <li>\n        <a href=\"https://www.macrotrends.net/stocks/charts/GME/gamestop/pe-ratio\">\n         Price Ratios\n        </a>\n       </li>\n       <li>\n        <a href=\"https://www.macrotrends.net/stocks/charts/GME/gamestop/current-ratio\">\n         Other Ratios\n        </a>\n       </li>\n       <li>\n        <a href=\"https://www.macrotrends.net/stocks/charts/GME/gamestop/dividend-yield-history\">\n         Other Metrics\n        </a>\n       </li>\n      </ul>\n      <ul class=\"nav nav-tabs\" id=\"myTabs\" style=\"font-size:15px;\">\n       <li class=\"active\">\n        <a href=\"https://www.macrotrends.net/stocks/charts/GME/gamestop/revenue\">\n         Revenue\n        </a>\n       </li>\n       <li>\n        <a href=\"https://www.macrotrends.net/stocks/charts/GME/gamestop/gross-profit\">\n         Gross Profit\n        </a>\n       </li>\n       <li>\n        <a href=\"https://www.macrotrends.net/stocks/charts/GME/gamestop/operating-income\">\n         Operating Income\n        </a>\n       </li>\n       <li>\n        <a href=\"https://www.macrotrends.net/stocks/charts/GME/gamestop/ebitda\">\n         EBITDA\n        </a>\n       </li>\n       <li>\n        <a href=\"https://www.macrotrends.net/stocks/charts/GME/gamestop/net-income\">\n         Net Income\n        </a>\n       </li>\n       <li>\n        <a href=\"https://www.macrotrends.net/stocks/charts/GME/gamestop/eps-earnings-per-share-diluted\">\n         EPS\n        </a>\n       </li>\n       <li>\n        <a href=\"https://www.macrotrends.net/stocks/charts/GME/gamestop/shares-outstanding\">\n         Shares Outstanding\n        </a>\n       </li>\n      </ul>\n     </div>\n     <div class=\"nav-tabs\" style=\"margin-bottom:20px; padding:15px; text-align:center; font-weight:600;\">\n      <span>\n       For a detailed definition, formula and example for\n       <a href=\"/formulas-definitions/revenue\">\n        Revenue\n       </a>\n       , check out our new background page\n       <a href=\"/formulas-definitions/revenue\">\n        here\n       </a>\n       .\n      </span>\n     </div>\n     <div style=\"background-color:#fff; margin: 0px 0px 20px 0px; padding:20px 30px; border:1px solid #dfdfdf;\">\n      <span style=\"color:#444; line-height: 1.8;\">\n       GameStop revenue from 2006 to 2020. Revenue can be defined as the amount of money a company receives from its customers in exchange for the sales of goods or services.  Revenue is the top line item on an income statement from which all costs and expenses are subtracted to arrive at net income.\n      </span>\n     </div>\n     <div style=\"background-color:#fff; margin: 30px 0px 30px 0px; text-align:center; min-height:90px;\">\n      <div id=\"ic_728_90\" style=\"margin:10px 20px;\">\n      </div>\n     </div>\n     <div class=\"ticker_search_box\" style=\"text-align:center;\">\n      <div style=\"width:400px; margin-left:20px; border-bottom:none;\">\n       <script type=\"text/javascript\">\n        $(document).ready(function () {\n\t\t\t\t                \n\t\t\t\t\tvar url = \"https://www.macrotrends.net/assets/php/ticker_search_list.php\";\n\t\t\t\t\n                // prepare the data\n                var source =\n                {\n                    datatype: \"json\",\n                    datafields: [\n                        { name: 'n' },\n\t\t\t\t\t\t{ name: 's'}\n                    ],\n                    url: url\n                };\n                var dataAdapter = new $.jqx.dataAdapter(source);\n                // Create a jqxInput\n                $(\"#jqxInput\").jqxInput({ source: dataAdapter, minLength: 1, placeHolder: \"Search for ticker or company name...\", items: 20, searchMode: 'containsignorecase', displayMember: \"n\", valueMember: \"s\", width: '100%', height: 22, theme: 'bootstrap'});\n                $(\"#jqxInput\").on('select', function (event) {\n                    if (event.args) {\n                        var item = event.args.item;\n\t\t\t\t\t\t\n\t\t\t\t\t\t//Have to split the ticker and slug back out since jqxinput only seems to allow one data value\n\t\t\t\t\t\tvar itemArray = item.value.split(\"\\/\"); \n\t\t\t\t\t\tvar ticker = itemArray[0];\n\t\t\t\t\t\tvar slug = itemArray[1];\n                        if (item) {\n\t\t\t\t\t\t\t\n\t\t\t\t\t\t\t\t\t\t\t\t\t\t\n\t\t\t\t\t\t\t\twindow.location = \"https://www.macrotrends.net/stocks/charts/\" + ticker + \"/\" + slug + \"/revenue\";\n\t\t\t\t\t\t\t\n\t\t\t\t\t\t\t                        }\n                    }\n                });\n            });\n       </script>\n       <input id=\"jqxInput\">\n       </input>\n      </div>\n      <div style=\"width:280px; margin-top: -32px; margin-left:80px; border-bottom:none; float:right;\">\n       <button class=\"chart_buttons btn btn-success btn-sm\" id=\"compareStocks\" style=\"margin-right:15px;\">\n        <span class=\"glyphicon glyphicon-stats\">\n        </span>\n        <strong>\n         Compare GME With Other Stocks\n        </strong>\n       </button>\n      </div>\n     </div>\n     <div style=\"height:690px; background-color:#fff; border:1px solid #dfdfdf;\">\n      <iframe frameborder=\"0\" height=\"680\" hspace=\"0\" id=\"chart_iframe\" margin=\"0px\" marginheight=\"0\" marginwidth=\"0\" scrolling=\"NO\" src=\"https://www.macrotrends.net/assets/php/fundamental_iframe.php?t=GME&amp;type=revenue&amp;statement=income-statement&amp;freq=Q\" title=\"Interactive chart: GameStop Revenue 2006-2020 | GME\" valign=\"middle\" vspace=\"0\" width=\"800\">\n      </iframe>\n     </div>\n     <div id=\"ic_video_ad\">\n     </div>\n     <div style=\"background-color:#fff; margin: 30px 0px; padding:10px 30px; border:1px solid #dfdfdf;\">\n      <iframe frameborder=\"0\" height=\"300\" hspace=\"0\" id=\"dianomi_below_chart\" marginheight=\"0\" marginwidth=\"0\" scrolling=\"NO\" src=\"//www.dianomi.com/smartads.epl?id=4057\" valign=\"middle\" vspace=\"0\" width=\"100%\">\n      </iframe>\n     </div>\n     <div id=\"style-1\" style=\"background-color:#fff; height:510px; overflow:auto; margin: 30px 0px 30px 0px; padding:0px 30px 20px 0px; border:1px solid #dfdfdf;\">\n      <div class=\"col-xs-6\">\n       <table class=\"historical_data_table table\">\n        <thead>\n         <tr>\n          <th colspan=\"2\" style=\"text-align:center\">\n           GameStop Annual Revenue\n           <br/>\n           <span style=\"font-size:14px;\">\n            (Millions of US $)\n           </span>\n          </th>\n         </tr>\n        </thead>\n        <tbody>\n         <tr>\n          <td style=\"text-align:center\">\n           2020\n          </td>\n          <td style=\"text-align:center\">\n           $6,466\n          </td>\n         </tr>\n         <tr>\n          <td style=\"text-align:center\">\n           2019\n          </td>\n          <td style=\"text-align:center\">\n           $8,285\n          </td>\n         </tr>\n         <tr>\n          <td style=\"text-align:center\">\n           2018\n          </td>\n          <td style=\"text-align:center\">\n           $8,547\n          </td>\n         </tr>\n         <tr>\n          <td style=\"text-align:center\">\n           2017\n          </td>\n          <td style=\"text-align:center\">\n           $7,965\n          </td>\n         </tr>\n         <tr>\n          <td style=\"text-align:center\">\n           2016\n          </td>\n          <td style=\"text-align:center\">\n           $9,364\n          </td>\n         </tr>\n         <tr>\n          <td style=\"text-align:center\">\n           2015\n          </td>\n          <td style=\"text-align:center\">\n           $9,296\n          </td>\n         </tr>\n         <tr>\n          <td style=\"text-align:center\">\n           2014\n          </td>\n          <td style=\"text-align:center\">\n           $9,040\n          </td>\n         </tr>\n         <tr>\n          <td style=\"text-align:center\">\n           2013\n          </td>\n          <td style=\"text-align:center\">\n           $8,887\n          </td>\n         </tr>\n         <tr>\n          <td style=\"text-align:center\">\n           2012\n          </td>\n          <td style=\"text-align:center\">\n           $9,551\n          </td>\n         </tr>\n         <tr>\n          <td style=\"text-align:center\">\n           2011\n          </td>\n          <td style=\"text-align:center\">\n           $9,474\n          </td>\n         </tr>\n         <tr>\n          <td style=\"text-align:center\">\n           2010\n          </td>\n          <td style=\"text-align:center\">\n           $9,078\n          </td>\n         </tr>\n         <tr>\n          <td style=\"text-align:center\">\n           2009\n          </td>\n          <td style=\"text-align:center\">\n           $8,806\n          </td>\n         </tr>\n         <tr>\n          <td style=\"text-align:center\">\n           2008\n          </td>\n          <td style=\"text-align:center\">\n           $7,094\n          </td>\n         </tr>\n         <tr>\n          <td style=\"text-align:center\">\n           2007\n          </td>\n          <td style=\"text-align:center\">\n           $5,319\n          </td>\n         </tr>\n         <tr>\n          <td style=\"text-align:center\">\n           2006\n          </td>\n          <td style=\"text-align:center\">\n           $3,092\n          </td>\n         </tr>\n         <tr>\n          <td style=\"text-align:center\">\n           2005\n          </td>\n          <td style=\"text-align:center\">\n           $1,843\n          </td>\n         </tr>\n        </tbody>\n       </table>\n      </div>\n      <div class=\"col-xs-6\">\n       <table class=\"historical_data_table table\">\n        <thead>\n         <tr>\n          <th colspan=\"2\" style=\"text-align:center\">\n           GameStop Quarterly Revenue\n           <br/>\n           <span style=\"font-size:14px;\">\n            (Millions of US $)\n           </span>\n          </th>\n         </tr>\n        </thead>\n        <tbody>\n         <tr>\n          <td style=\"text-align:center\">\n           2020-10-31\n          </td>\n          <td style=\"text-align:center\">\n           $1,005\n          </td>\n         </tr>\n         <tr>\n          <td style=\"text-align:center\">\n           2020-07-31\n          </td>\n          <td style=\"text-align:center\">\n           $942\n          </td>\n         </tr>\n         <tr>\n          <td style=\"text-align:center\">\n           2020-04-30\n          </td>\n          <td style=\"text-align:center\">\n           $1,021\n          </td>\n         </tr>\n         <tr>\n          <td style=\"text-align:center\">\n           2020-01-31\n          </td>\n          <td style=\"text-align:center\">\n           $2,194\n          </td>\n         </tr>\n         <tr>\n          <td style=\"text-align:center\">\n           2019-10-31\n          </td>\n          <td style=\"text-align:center\">\n           $1,439\n          </td>\n         </tr>\n         <tr>\n          <td style=\"text-align:center\">\n           2019-07-31\n          </td>\n          <td style=\"text-align:center\">\n           $1,286\n          </td>\n         </tr>\n         <tr>\n          <td style=\"text-align:center\">\n           2019-04-30\n          </td>\n          <td style=\"text-align:center\">\n           $1,548\n          </td>\n         </tr>\n         <tr>\n          <td style=\"text-align:center\">\n           2019-01-31\n          </td>\n          <td style=\"text-align:center\">\n           $3,063\n          </td>\n         </tr>\n         <tr>\n          <td style=\"text-align:center\">\n           2018-10-31\n          </td>\n          <td style=\"text-align:center\">\n           $1,935\n          </td>\n         </tr>\n         <tr>\n          <td style=\"text-align:center\">\n           2018-07-31\n          </td>\n          <td style=\"text-align:center\">\n           $1,501\n          </td>\n         </tr>\n         <tr>\n          <td style=\"text-align:center\">\n           2018-04-30\n          </td>\n          <td style=\"text-align:center\">\n           $1,786\n          </td>\n         </tr>\n         <tr>\n          <td style=\"text-align:center\">\n           2018-01-31\n          </td>\n          <td style=\"text-align:center\">\n           $2,825\n          </td>\n         </tr>\n         <tr>\n          <td style=\"text-align:center\">\n           2017-10-31\n          </td>\n          <td style=\"text-align:center\">\n           $1,989\n          </td>\n         </tr>\n         <tr>\n          <td style=\"text-align:center\">\n           2017-07-31\n          </td>\n          <td style=\"text-align:center\">\n           $1,688\n          </td>\n         </tr>\n         <tr>\n          <td style=\"text-align:center\">\n           2017-04-30\n          </td>\n          <td style=\"text-align:center\">\n           $2,046\n          </td>\n         </tr>\n         <tr>\n          <td style=\"text-align:center\">\n           2017-01-31\n          </td>\n          <td style=\"text-align:center\">\n           $2,403\n          </td>\n         </tr>\n         <tr>\n          <td style=\"text-align:center\">\n           2016-10-31\n          </td>\n          <td style=\"text-align:center\">\n           $1,959\n          </td>\n         </tr>\n         <tr>\n          <td style=\"text-align:center\">\n           2016-07-31\n          </td>\n          <td style=\"text-align:center\">\n           $1,632\n          </td>\n         </tr>\n         <tr>\n          <td style=\"text-align:center\">\n           2016-04-30\n          </td>\n          <td style=\"text-align:center\">\n           $1,972\n          </td>\n         </tr>\n         <tr>\n          <td style=\"text-align:center\">\n           2016-01-31\n          </td>\n          <td style=\"text-align:center\">\n           $3,525\n          </td>\n         </tr>\n         <tr>\n          <td style=\"text-align:center\">\n           2015-10-31\n          </td>\n          <td style=\"text-align:center\">\n           $2,016\n          </td>\n         </tr>\n         <tr>\n          <td style=\"text-align:center\">\n           2015-07-31\n          </td>\n          <td style=\"text-align:center\">\n           $1,762\n          </td>\n         </tr>\n         <tr>\n          <td style=\"text-align:center\">\n           2015-04-30\n          </td>\n          <td style=\"text-align:center\">\n           $2,061\n          </td>\n         </tr>\n         <tr>\n          <td style=\"text-align:center\">\n           2015-01-31\n          </td>\n          <td style=\"text-align:center\">\n           $3,476\n          </td>\n         </tr>\n         <tr>\n          <td style=\"text-align:center\">\n           2014-10-31\n          </td>\n          <td style=\"text-align:center\">\n           $2,092\n          </td>\n         </tr>\n         <tr>\n          <td style=\"text-align:center\">\n           2014-07-31\n          </td>\n          <td style=\"text-align:center\">\n           $1,731\n          </td>\n         </tr>\n         <tr>\n          <td style=\"text-align:center\">\n           2014-04-30\n          </td>\n          <td style=\"text-align:center\">\n           $1,996\n          </td>\n         </tr>\n         <tr>\n          <td style=\"text-align:center\">\n           2014-01-31\n          </td>\n          <td style=\"text-align:center\">\n           $3,684\n          </td>\n         </tr>\n         <tr>\n          <td style=\"text-align:center\">\n           2013-10-31\n          </td>\n          <td style=\"text-align:center\">\n           $2,107\n          </td>\n         </tr>\n         <tr>\n          <td style=\"text-align:center\">\n           2013-07-31\n          </td>\n          <td style=\"text-align:center\">\n           $1,384\n          </td>\n         </tr>\n         <tr>\n          <td style=\"text-align:center\">\n           2013-04-30\n          </td>\n          <td style=\"text-align:center\">\n           $1,865\n          </td>\n         </tr>\n         <tr>\n          <td style=\"text-align:center\">\n           2013-01-31\n          </td>\n          <td style=\"text-align:center\">\n           $3,562\n          </td>\n         </tr>\n         <tr>\n          <td style=\"text-align:center\">\n           2012-10-31\n          </td>\n          <td style=\"text-align:center\">\n           $1,773\n          </td>\n         </tr>\n         <tr>\n          <td style=\"text-align:center\">\n           2012-07-31\n          </td>\n          <td style=\"text-align:center\">\n           $1,550\n          </td>\n         </tr>\n         <tr>\n          <td style=\"text-align:center\">\n           2012-04-30\n          </td>\n          <td style=\"text-align:center\">\n           $2,002\n          </td>\n         </tr>\n         <tr>\n          <td style=\"text-align:center\">\n           2012-01-31\n          </td>\n          <td style=\"text-align:center\">\n           $3,579\n          </td>\n         </tr>\n         <tr>\n          <td style=\"text-align:center\">\n           2011-10-31\n          </td>\n          <td style=\"text-align:center\">\n           $1,947\n          </td>\n         </tr>\n         <tr>\n          <td style=\"text-align:center\">\n           2011-07-31\n          </td>\n          <td style=\"text-align:center\">\n           $1,744\n          </td>\n         </tr>\n         <tr>\n          <td style=\"text-align:center\">\n           2011-04-30\n          </td>\n          <td style=\"text-align:center\">\n           $2,281\n          </td>\n         </tr>\n         <tr>\n          <td style=\"text-align:center\">\n           2011-01-31\n          </td>\n          <td style=\"text-align:center\">\n           $3,693\n          </td>\n         </tr>\n         <tr>\n          <td style=\"text-align:center\">\n           2010-10-31\n          </td>\n          <td style=\"text-align:center\">\n           $1,899\n          </td>\n         </tr>\n         <tr>\n          <td style=\"text-align:center\">\n           2010-07-31\n          </td>\n          <td style=\"text-align:center\">\n           $1,799\n          </td>\n         </tr>\n         <tr>\n          <td style=\"text-align:center\">\n           2010-04-30\n          </td>\n          <td style=\"text-align:center\">\n           $2,083\n          </td>\n         </tr>\n         <tr>\n          <td style=\"text-align:center\">\n           2010-01-31\n          </td>\n          <td style=\"text-align:center\">\n           $3,524\n          </td>\n         </tr>\n         <tr>\n          <td style=\"text-align:center\">\n           2009-10-31\n          </td>\n          <td style=\"text-align:center\">\n           $1,835\n          </td>\n         </tr>\n         <tr>\n          <td style=\"text-align:center\">\n           2009-07-31\n          </td>\n          <td style=\"text-align:center\">\n           $1,739\n          </td>\n         </tr>\n         <tr>\n          <td style=\"text-align:center\">\n           2009-04-30\n          </td>\n          <td style=\"text-align:center\">\n           $1,981\n          </td>\n         </tr>\n         <tr>\n          <td style=\"text-align:center\">\n           2009-01-31\n          </td>\n          <td style=\"text-align:center\">\n           $3,492\n          </td>\n         </tr>\n         <tr>\n          <td style=\"text-align:center\">\n           2008-10-31\n          </td>\n          <td style=\"text-align:center\">\n           $1,696\n          </td>\n         </tr>\n         <tr>\n          <td style=\"text-align:center\">\n           2008-07-31\n          </td>\n          <td style=\"text-align:center\">\n           $1,804\n          </td>\n         </tr>\n         <tr>\n          <td style=\"text-align:center\">\n           2008-04-30\n          </td>\n          <td style=\"text-align:center\">\n           $1,814\n          </td>\n         </tr>\n         <tr>\n          <td style=\"text-align:center\">\n           2008-01-31\n          </td>\n          <td style=\"text-align:center\">\n           $2,866\n          </td>\n         </tr>\n         <tr>\n          <td style=\"text-align:center\">\n           2007-10-31\n          </td>\n          <td style=\"text-align:center\">\n           $1,611\n          </td>\n         </tr>\n         <tr>\n          <td style=\"text-align:center\">\n           2007-07-31\n          </td>\n          <td style=\"text-align:center\">\n           $1,338\n          </td>\n         </tr>\n         <tr>\n          <td style=\"text-align:center\">\n           2007-04-30\n          </td>\n          <td style=\"text-align:center\">\n           $1,279\n          </td>\n         </tr>\n         <tr>\n          <td style=\"text-align:center\">\n           2007-01-31\n          </td>\n          <td style=\"text-align:center\">\n           $2,304\n          </td>\n         </tr>\n         <tr>\n          <td style=\"text-align:center\">\n           2006-10-31\n          </td>\n          <td style=\"text-align:center\">\n           $1,012\n          </td>\n         </tr>\n         <tr>\n          <td style=\"text-align:center\">\n           2006-07-31\n          </td>\n          <td style=\"text-align:center\">\n           $963\n          </td>\n         </tr>\n         <tr>\n          <td style=\"text-align:center\">\n           2006-04-30\n          </td>\n          <td style=\"text-align:center\">\n           $1,040\n          </td>\n         </tr>\n         <tr>\n          <td style=\"text-align:center\">\n           2006-01-31\n          </td>\n          <td style=\"text-align:center\">\n           $1,667\n          </td>\n         </tr>\n         <tr>\n          <td style=\"text-align:center\">\n           2005-10-31\n          </td>\n          <td style=\"text-align:center\">\n           $534\n          </td>\n         </tr>\n         <tr>\n          <td style=\"text-align:center\">\n           2005-07-31\n          </td>\n          <td style=\"text-align:center\">\n           $416\n          </td>\n         </tr>\n         <tr>\n          <td style=\"text-align:center\">\n           2005-04-30\n          </td>\n          <td style=\"text-align:center\">\n           $475\n          </td>\n         </tr>\n         <tr>\n          <td style=\"text-align:center\">\n           2005-01-31\n          </td>\n          <td style=\"text-align:center\">\n           $709\n          </td>\n         </tr>\n        </tbody>\n       </table>\n      </div>\n     </div>\n     <div style=\"background-color:#fff; margin: 0px 0px 20px 0px; padding:5px 50px 5px 10px; border:1px solid #dfdfdf;\">\n      <table class=\"historical_data_table table\">\n       <thead>\n        <tr>\n         <th style=\"text-align:center\">\n          Sector\n         </th>\n         <th style=\"text-align:center\">\n          Industry\n         </th>\n         <th style=\"text-align:center\">\n          Market Cap\n         </th>\n         <th style=\"text-align:center\">\n          Revenue\n         </th>\n        </tr>\n       </thead>\n       <tbody>\n        <tr>\n         <td style=\"text-align:center\">\n          <a href=\"https://www.macrotrends.net/stocks/sector/3/retail-wholesale\">\n           Retail/Wholesale\n          </a>\n         </td>\n         <td style=\"text-align:center\">\n          <a href=\"https://www.macrotrends.net/stocks/industry/156/\">\n           Retail - Consumer Electronics\n          </a>\n         </td>\n         <td style=\"text-align:center\">\n          $2.831B\n         </td>\n         <td style=\"text-align:center\">\n          $6.466B\n         </td>\n        </tr>\n        <tr>\n         <td colspan=\"4\" style=\"padding:15px;\">\n          <span>\n           GameStop Corp. is the world's largest video game and entertainment software retailer. The company operates 4,816 retail stores across the United States and in fifteen countries worldwide. The company also operates two e-commerce sites, GameStop.com and EBgames.com, and publishes Game Informer? magazine, a leading multi-platform video game publication. GameStop Corp. sells new and used video game software, hardware and accessories for next generation video game systems from Sony, Nintendo, and Microsoft. In addition, the company sells PC entertainment software, related accessories and other merchandise.\n          </span>\n         </td>\n        </tr>\n       </tbody>\n      </table>\n     </div>\n     <div style=\"background-color:#fff; margin: 20px 0px 30px 0px; padding:5px 50px 5px 10px; border:1px solid #dfdfdf;\">\n      <table class=\"historical_data_table table\">\n       <thead>\n        <tr>\n         <th style=\"text-align:center; width:40%;\">\n          Stock Name\n         </th>\n         <th style=\"text-align:center; width:20%;\">\n          Country\n         </th>\n         <th style=\"text-align:center; width:20%;\">\n          Market Cap\n         </th>\n         <th style=\"text-align:center; width:20%;\">\n          PE Ratio\n         </th>\n        </tr>\n       </thead>\n       <tbody>\n        <tr>\n         <td style=\"text-align:left\">\n          <a href=\"/stocks/charts/BBY/best-buy/revenue\">\n           Best Buy (BBY)\n          </a>\n         </td>\n         <td style=\"text-align:center\">\n          United States\n         </td>\n         <td style=\"text-align:center\">\n          $30.555B\n         </td>\n         <td style=\"text-align:center\">\n          16.08\n         </td>\n        </tr>\n        <tr>\n         <td style=\"text-align:left\">\n          <a href=\"/stocks/charts/GMELY/gome-retail-holdings/revenue\">\n           GOME Retail Holdings (GMELY)\n          </a>\n         </td>\n         <td style=\"text-align:center\">\n          China\n         </td>\n         <td style=\"text-align:center\">\n          $4.479B\n         </td>\n         <td style=\"text-align:center\">\n          0.00\n         </td>\n        </tr>\n        <tr>\n         <td style=\"text-align:left\">\n          <a href=\"/stocks/charts/CONN/conns/revenue\">\n           Conn's (CONN)\n          </a>\n         </td>\n         <td style=\"text-align:center\">\n          United States\n         </td>\n         <td style=\"text-align:center\">\n          $0.426B\n         </td>\n         <td style=\"text-align:center\">\n          0.00\n         </td>\n        </tr>\n        <tr>\n         <td style=\"text-align:left\">\n          <a href=\"/stocks/charts/TAIT/taitron-components/revenue\">\n           Taitron Components (TAIT)\n          </a>\n         </td>\n         <td style=\"text-align:center\">\n          United States\n         </td>\n         <td style=\"text-align:center\">\n          $0.026B\n         </td>\n         <td style=\"text-align:center\">\n          0.00\n         </td>\n        </tr>\n       </tbody>\n      </table>\n     </div>\n    </div>\n    <div \"=\"\" id=\"right_sidebar\">\n     <!--<a href=\"/stocks/stock-screener\" style=\"text-decoration:none; color: #fff; \">\n\t\t\t\t\t<div style=\"margin:0px; padding: 20px; width:300px; background-color: #01579b; min-height:150px; text-align:center;\">\n\n\t\t\t\t\t\t<h2 style=\"font-weight:600;\">Try our new<br />stock screener!</h2></a>\n\n\t\t\t\t\t</div>\n\t\t\t\t</a>-->\n     <!--<div style=\"margin-top:0px; min-height:250px;\">\n\n\t\t\t\t\t<script src='//ads.investingchannel.com/adtags/Macrotrends/fundamentalanalysis/300x600.js?zhpos=300_2&multi_size=false' type='text/javascript' charset='utf-8'></script>\n\n\t\t\t\t</div>-->\n     <div style=\"margin-top:0px; min-height:250px;\">\n      <div id=\"ic_300_250\">\n      </div>\n     </div>\n     <div id=\"sticky_ad_right\">\n      <div style=\"margin-top:30px; min-height:250px;\">\n       <div id=\"ic_300_600\">\n       </div>\n      </div>\n     </div>\n    </div>\n   </div>\n  </div>\n  <footer class=\"footer\">\n   <span>\n    © 2010-2021 Macrotrends LLC\n   </span>\n   |\n   <a href=\"/terms\">\n    Terms of Service\n   </a>\n   |\n   <a href=\"/privacy\">\n    Privacy Policy\n   </a>\n   |\n   <a href=\"mailto:%69n%66o@%6Dac%72otrends%2En%65t\">\n    Contact Us\n   </a>\n   |\n   <a href=\"/ccpa\">\n    Do Not Sell My Personal Information\n   </a>\n   <br/>\n   <span>\n    Fundamental data from\n   </span>\n   <a href=\"https://www.zacksdata.com\" rel=\"nofollow\" target=\"_blank\">\n    Zacks Investment Research, Inc.\n   </a>\n  </footer>\n  <div aria-hidden=\"true\" aria-labelledby=\"exampleModalLabel\" class=\"modal\" id=\"smallWidthModal1\" role=\"dialog\" tabindex=\"-1\">\n   <div class=\"modal-dialog modal-lg\">\n    <div class=\"modal-content\">\n     <div class=\"modal-body\">\n      <div class=\"modal_title\">\n       <h2>\n        <strong>\n         We Need Your Support!\n        </strong>\n       </h2>\n      </div>\n      <p>\n       Backlinks from other websites are the lifeblood of our site and a primary source of new traffic.\n       <p>\n        <p>\n         If you use our chart images on your site or blog, we ask that you provide attribution via a \"dofollow\" link back to this page.  We have provided a few examples below that you can copy and paste to your site:\n        </p>\n        <br/>\n        <table class=\"table\">\n         <thead>\n          <tr>\n           <th>\n            Link Preview\n           </th>\n           <th>\n            HTML Code (Click to Copy)\n           </th>\n          </tr>\n         </thead>\n         <tbody>\n          <tr>\n           <td>\n            <a>\n             GameStop Revenue 2006-2020 | GME\n            </a>\n           </td>\n           <td>\n            <input class=\"modal_link\" size=\"60\" type=\"text\" value=\"&lt;a href='https://www.macrotrends.net/stocks/charts/GME/gamestop/revenue'&gt;GameStop Revenue 2006-2020 | GME&lt;/a&gt;\"/>\n           </td>\n          </tr>\n          <tr>\n           <td>\n            <a>\n             Macrotrends\n            </a>\n           </td>\n           <td>\n            <input class=\"modal_link\" size=\"60\" type=\"text\" value=\"&lt;a href='https://www.macrotrends.net/stocks/charts/GME/gamestop/revenue'&gt;Macrotrends&lt;/a&gt;\"/>\n           </td>\n          </tr>\n          <tr>\n           <td>\n            <a>\n             Source\n            </a>\n           </td>\n           <td>\n            <input class=\"modal_link\" size=\"60\" type=\"text\" value=\"&lt;a href='https://www.macrotrends.net/stocks/charts/GME/gamestop/revenue'&gt;Source&lt;/a&gt;\"/>\n           </td>\n          </tr>\n         </tbody>\n        </table>\n        <br/>\n        <p style=\"text-align:center\">\n         Your image export is now complete.  Please check your download folder.\n        </p>\n       </p>\n      </p>\n     </div>\n     <div class=\"modal-footer\">\n      <button class=\"btn btn-primary\" data-dismiss=\"modal\" type=\"button\">\n       Close Window\n      </button>\n     </div>\n    </div>\n   </div>\n  </div>\n  <div aria-hidden=\"true\" aria-labelledby=\"exampleModalLabel\" class=\"modal\" id=\"smallWidthModal2\" role=\"dialog\" tabindex=\"-1\">\n   <div class=\"modal-dialog modal-lg\">\n    <div class=\"modal-content\">\n     <div class=\"modal-body\">\n      <div class=\"modal_title\">\n       <h2>\n        <strong>\n         We Need Your Support!\n        </strong>\n       </h2>\n      </div>\n      <p>\n       Backlinks from other websites are the lifeblood of our site and a primary source of new traffic.\n       <p>\n        <p>\n         If you use our datasets on your site or blog, we ask that you provide attribution via a \"dofollow\" link back to this page.  We have provided a few examples below that you can copy and paste to your site:\n        </p>\n        <br/>\n        <table class=\"table\">\n         <thead>\n          <tr>\n           <th>\n            Link Preview\n           </th>\n           <th>\n            HTML Code (Click to Copy)\n           </th>\n          </tr>\n         </thead>\n         <tbody>\n          <tr>\n           <td>\n            <a>\n             GameStop Revenue 2006-2020 | GME\n            </a>\n           </td>\n           <td>\n            <input class=\"modal_link\" size=\"50\" type=\"text\" value=\"&lt;a href='https://www.macrotrends.net/stocks/charts/GME/gamestop/revenue'&gt;GameStop Revenue 2006-2020 | GME&lt;/a&gt;\"/>\n           </td>\n          </tr>\n          <tr>\n           <td>\n            <a>\n             Macrotrends\n            </a>\n           </td>\n           <td>\n            <input class=\"modal_link\" size=\"50\" type=\"text\" value=\"&lt;a href='https://www.macrotrends.net/stocks/charts/GME/gamestop/revenue'&gt;Macrotrends&lt;/a&gt;\"/>\n           </td>\n          </tr>\n          <tr>\n           <td>\n            <a>\n             Source\n            </a>\n           </td>\n           <td>\n            <input class=\"modal_link\" size=\"50\" type=\"text\" value=\"&lt;a href='https://www.macrotrends.net/stocks/charts/GME/gamestop/revenue'&gt;Source&lt;/a&gt;\"/>\n           </td>\n          </tr>\n         </tbody>\n        </table>\n        <br/>\n        <p style=\"text-align:center\">\n         Your data export is now complete.  Please check your download folder.\n        </p>\n       </p>\n      </p>\n     </div>\n     <div class=\"modal-footer\">\n      <button class=\"btn btn-primary\" data-dismiss=\"modal\" type=\"button\">\n       Close Window\n      </button>\n     </div>\n    </div>\n   </div>\n  </div>\n  <script type=\"text/javascript\">\n   $.typeahead({\n\t\tinput: '.js-typeahead',\n\t\tminLength: 1,\n\t\tfilter: false,  //Disables typahead filter to just show everything in the results from the database\n\t\tdebug: false,\n\t\thighlight: true,\n\t\tmaxItem: 10,\n\t\tdynamic: true,\n\t\tdelay: 200,\n\t\tsearchOnFocus: true,\n\t\tbackdrop: {\n\t\t\t\"background-color\": \"#fff\"\n\t\t},\n\t\thref: \"{{url}}\",\n\t\temptyTemplate: \"no result for {{query}}\",\n\t\tdisplay: [\"name\"],\n\t\tsource: {\n\t\t\tusers: {\n\t\t\t\tajax: {\n\t\t\t\t\turl: '/assets/php/all_pages_query.php',\n\t\t\t\t\tdata: {\n\t\t\t\t\t\tq: '{{query}}'\n\t\t\t\t\t}\n\t\t\t\t}\n\t\t\t}\n\t\t}\n\t});\n  </script>\n  <script>\n   if (screen.width >= 1280) {\n\t\n\t$( \"#ic_video_ad\" ).append( \"<div id=\\\"IC_D_3x6\\\" style=\\\"margin:30px;\\\"></div>\" );\n\n\t\t\t\t\n}\n\n\t// /*! js-cookie v3.0.0-rc.1 | MIT */\n\t// !function(e,t){\"object\"==typeof exports&&\"undefined\"!=typeof module?module.exports=t():\"function\"==typeof define&&define.amd?define(t):(e=e||self,function(){var n=e.Cookies,r=e.Cookies=t();r.noConflict=function(){return e.Cookies=n,r}}())}(this,function(){\"use strict\";function e(e){for(var t=1;t<arguments.length;t++){var n=arguments[t];for(var r in n)e[r]=n[r]}return e}var t={read:function(e){return e.replace(/(%[\\dA-F]{2})+/gi,decodeURIComponent)},write:function(e){return encodeURIComponent(e).replace(/%(2[346BF]|3[AC-F]|40|5[BDE]|60|7[BCD])/g,decodeURIComponent)}};return function n(r,o){function i(t,n,i){if(\"undefined\"!=typeof document){\"number\"==typeof(i=e({},o,i)).expires&&(i.expires=new Date(Date.now()+864e5*i.expires)),i.expires&&(i.expires=i.expires.toUTCString()),t=encodeURIComponent(t).replace(/%(2[346B]|5E|60|7C)/g,decodeURIComponent).replace(/[()]/g,escape),n=r.write(n,t);var c=\"\";for(var u in i)i[u]&&(c+=\"; \"+u,!0!==i[u]&&(c+=\"=\"+i[u].split(\";\")[0]));return document.cookie=t+\"=\"+n+c}}return Object.create({set:i,get:function(e){if(\"undefined\"!=typeof document&&(!arguments.length||e)){for(var n=document.cookie?document.cookie.split(\"; \"):[],o={},i=0;i<n.length;i++){var c=n[i].split(\"=\"),u=c.slice(1).join(\"=\");'\"'===u[0]&&(u=u.slice(1,-1));try{var f=t.read(c[0]);if(o[f]=r.read(u,f),e===f)break}catch(e){}}return e?o[e]:o}},remove:function(t,n){i(t,\"\",e({},n,{expires:-1}))},withAttributes:function(t){return n(this.converter,e({},this.attributes,t))},withConverter:function(t){return n(e({},this.converter,t),this.attributes)}},{attributes:{value:Object.freeze(o)},converter:{value:Object.freeze(r)}})}(t,{path:\"/\"})});\n\n\t\t\t\n\t// // Cookie Settings\n\t// var maxCookieValue = 4, initCookie = 1, expirationDays = 1;\n\t// var cookieName = \"session_pageviews\";\n\t// var getCookie = Cookies.get(cookieName);\n\n\t// // Under the Hood\n\t// if (getCookie == null) {\n\t\t// Cookies.set(cookieName, initCookie, { expires: expirationDays });\n\t\t// console.log('Cookie set to value 1');\n\t\t// $( \"#ic_video_ad\" ).append( \"<div id=\\\"IC_D_3x6\\\" style=\\\"margin:30px;\\\"></div>\" );\n\t// } else {\n\t\t// if (getCookie >= initCookie && getCookie < maxCookieValue) {\n\t\t\t// getCookie++;\n\t\t\t// Cookies.set(cookieName, getCookie, { expires: expirationDays });\n\t\t\t// console.log('Cookie incremented. New value is ' + getCookie);\n\t\t\t// $( \"#ic_video_ad\" ).append( \"<div id=\\\"IC_D_3x6\\\" style=\\\"margin:30px;\\\"></div>\" );\n\t\t// }\n\t\t// else if (getCookie >= maxCookieValue && getCookie < 7) {\n\t\t\t// getCookie++;\n\t\t\t// Cookies.set(cookieName, getCookie, { expires: expirationDays });\n\t\t\t// console.log('Cookie max allowed value reached. No video ads showing. New value is ' + getCookie);\n\t\t\t// //Cookies.remove(cookieName);\n\t\t\t// // if cookie is equal with the number you've set, then do something\n\t\t\t// // hide an element, delete the cookie etc...\n\t\t// }\n\t\t// else if (getCookie >= 7) {\n\t\t\t// Cookies.remove(cookieName);\n\t\t\t// // if cookie is equal with the number you've set, then do something\n\t\t\t// // hide an element, delete the cookie etc...\n\t\t// }\t\n\t// }\n  </script>\n  <script>\n   $(document).ready(function() {\n\t\n\t// Selects all of the text in the chart export window when clicked\n\t$(\".modal_link\").focus(function() {\n\t\tvar $this = $(this);\n\t\t$this.select();\n\n\t\t// Work around Chrome's little problem\n\t\t$this.mouseup(function() {\n\t\t\t// Prevent further mouseup intervention\n\t\t\t$this.unbind(\"mouseup\");\n\t\t\treturn false;\n\t\t});\n\t});\t\n\t\n\t\n\t$('[data-toggle=\"tooltip\"]').tooltip();\n\t\n    $('.statement_type_select').select2({\n\t\n\ttheme: \"classic\",\n\tminimumResultsForSearch: 20\n\t\n\t});\n\n    $('.frequency_select').select2({\n\t\n\ttheme: \"classic\",\n\tminimumResultsForSearch: 20\n\t\n\t});\n\t\n\t\n});\n\n$( \"#compareStocks\" ).click(function() {\n\t\n\t\n\twindow.location.href = '/stocks/stock-comparison?s=revenue&axis=single&comp=GME';\n\t\n\t\n});\n\n$( \"#chartExport\" ).click(function() {\n\t\n\t\twindow.$('#smallWidthModal1').modal();\n\n\t\t//Turn off scroll bar for image export\n\t\tchart.chartScrollbarSettings.enabled = false;\n\t\tchart.validateNow(); \n\t\t\n\t\t\n\t\tchart.export.capture({},function() {\n\t\t\tthis.toPNG({},function(data) {\n\t\t\t\t// Download the image to the browser\n\t\t\t\tthis.download( data, \"image/png\", \"GME-revenue-2021-02-23-macrotrends.png\" );\n\t\t\t\t\n\t\t\t\t});\n\n\t\t//Turn scroll bar back on again\n\t\tchart.chartScrollbarSettings.enabled = true;\n\t\tchart.validateNow(); \n\t\t\t\t\n\t});\n\n});\n\n$( \".statement_type_select\" ).change(function() {\n  \n  window.location.href = 'https://testing.macrotrends.net/assets/php/income_statement_testing.php?t=TAIT&type=' + this.value + '&freq=Q';\n\n});\n\n$( \".frequency_select\" ).change(function() {\n  \n  window.location.href = '/assets/php/new_chart_page.php?t=TAIT&type=revenue&freq=' + this.value;\n\n});\n  </script>\n  <!--<div class=\"modal\" id=\"contribute_modal\" tabindex=\"-1\" role=\"dialog\" aria-labelledby=\"exampleModalLabel\" aria-hidden=\"false\">\n  <div class=\"modal-dialog modal-lg\">\n    <div class=\"modal-content\">\n      <div class=\"modal-body\" style=\"margin:20px 40px 20px 40px; text-align:left;font-size:18px;\">\n\t  \t  \n\n\n<div class=\"row\">\n\n<div class=\"col-xs-6\">\n\n<script src=\"https://donorbox.org/widget.js\" paypalExpress=\"true\"></script><iframe src=\"https://donorbox.org/embed/macrotrends-donations?hide_donation_meter=true\" height=\"685px\" width=\"100%\" style=\"max-width:500px; min-width:310px; max-height:none!important\" seamless=\"seamless\" name=\"donorbox\" frameborder=\"0\" scrolling=\"no\" allowpaymentrequest></iframe>\n\n</div>\n\n<div class=\"col-xs-6\">\n\n\t\t<div class=\"modal_title\"><h1><strong>We Need Your Support!</strong></h1></div>\n\n\t\t<p><strong>Macrotrends has been subscription-free since 2010 and we want to keep it that way.</strong></p>\n\n<p>Our goal has always been to serve as an easily accessible, high quality source of investment research for both professionals and amateurs alike.</p>\n\n<p>Any amount that you can contribute will help ensure we can keep the site completely free for many years to come.</p>\n\n<p style=\"margin-top:20px;\">Regards,</p>\n<p>The Macrotrends Team</p>\n\n</div>\n\n</div>\n\n</div>\n\n      <div class=\"modal-footer\" style=\"text-align:center;\">\n        <button type=\"button\" class=\"btn btn-success\" data-dismiss=\"modal\">Maybe Next Time...</button>\n      </div>\n    </div>\n  </div>\n</div>\t\n\n\n<script src=\"/ads.js\" type=\"text/javascript\"></script>\n\n<script>\n\n$(document).ready(function() {\n\t\n\tvar botPattern = \"(googlebot\\/|Googlebot-Mobile|Googlebot-Image|Google favicon|Mediapartners-Google|bingbot|slurp|java|wget|curl|Commons-HttpClient|Python-urllib|libwww|httpunit|nutch|phpcrawl|msnbot|jyxobot|FAST-WebCrawler|FAST Enterprise Crawler|biglotron|teoma|convera|seekbot|gigablast|exabot|ngbot|ia_archiver|GingerCrawler|webmon |httrack|webcrawler|grub.org|UsineNouvelleCrawler|antibot|netresearchserver|speedy|fluffy|bibnum.bnf|findlink|msrbot|panscient|yacybot|AISearchBot|IOI|ips-agent|tagoobot|MJ12bot|dotbot|woriobot|yanga|buzzbot|mlbot|yandexbot|purebot|Linguee Bot|Voyager|CyberPatrol|voilabot|baiduspider|citeseerxbot|spbot|twengabot|postrank|turnitinbot|scribdbot|page2rss|sitebot|linkdex|Adidxbot|blekkobot|ezooms|dotbot|Mail.RU_Bot|discobot|heritrix|findthatfile|europarchive.org|NerdByNature.Bot|sistrix crawler|ahrefsbot|Aboundex|domaincrawler|wbsearchbot|summify|ccbot|edisterbot|seznambot|ec2linkfinder|gslfbot|aihitbot|intelium_bot|facebookexternalhit|yeti|RetrevoPageAnalyzer|lb-spider|sogou|lssbot|careerbot|wotbox|wocbot|ichiro|DuckDuckBot|lssrocketcrawler|drupact|webcompanycrawler|acoonbot|openindexspider|gnam gnam spider|web-archive-net.com.bot|backlinkcrawler|coccoc|integromedb|content crawler spider|toplistbot|seokicks-robot|it2media-domain-crawler|ip-web-crawler.com|siteexplorer.info|elisabot|proximic|changedetection|blexbot|arabot|WeSEE:Search|niki-bot|CrystalSemanticsBot|rogerbot|360Spider|psbot|InterfaxScanBot|Lipperhey SEO Service|CC Metadata Scaper|g00g1e.net|GrapeshotCrawler|urlappendbot|brainobot|fr-crawler|binlar|SimpleCrawler|Livelapbot|Twitterbot|cXensebot|smtbot|bnf.fr_bot|A6-Indexer|ADmantX|Facebot|Twitterbot|OrangeBot|memorybot|AdvBot|MegaIndex|SemanticScholarBot|ltx71|nerdybot|xovibot|BUbiNG|Qwantify|archive.org_bot|Applebot|TweetmemeBot|crawler4j|findxbot|SemrushBot|yoozBot|lipperhey|y!j-asr|Domain Re-Animator Bot|AddThis)\";\n\n\tvar re = new RegExp(botPattern, 'i');\n\n\tif (re.test(navigator.userAgent)) {\n\t\t\n\t} else {\n\t\t\n\t\t//Check to see whether they are running an ad blocker\n\t\tif(document.getElementById('12mORwMnaEkJXlxz')){\n\t\t  var ad_blocker = 'N';\n\t\t} else {\n\t\t  var ad_blocker = 'Y';\n\t\t}\n\n\t\t$.post('https://api.ipstack.com/check?access_key=14fe63e83d5cfefa0b3d4cec498479ba&output=json&fields=ip,continent_name,country_name,region_name,city', \n\t\tfunction(ip_data){\n\t\t\t\n\t\t\t$.post('https://www.macrotrends.net/assets/php/page_view_tracking.php', {ip: ip_data.ip,continent: ip_data.continent_name, country: ip_data.country_name, state: ip_data.region_name, city: ip_data.city, screen_width: screen.width, ads: ad_blocker, page_type: 'stock'}, \n\t\t\t\tfunction(data){\n\t\t\t\t\t/*\t\t\t\t\t\n\t\t\t\t\tif(data % 20 === 0) {\n\t\t\t\t\t\t\n\t\t\t\t\t\t//$('#contribute_modal').modal();\n\t\t\t\t\t\t\n\t\t\t\t\t}\n\t\t\t\t\t*/\n\t\t\t\t});\n\t\t\n\t\t});\n\n\n\t}\n\t\n\n});\n\n\n$.post('https://api.ipstack.com/check?access_key=14fe63e83d5cfefa0b3d4cec498479ba&output=json&fields=ip,continent_name,country_name,region_name,city', \nfunction(ip_data){\n\t\n\t$(\".contribute_user_id\").val(ip_data.ip);\n\t\n});\n\n$( \".donate_buttons\" ).click(function() {\n  \n\tvar payment = $(this).attr(\"value\");\n\n\t$.post('https://api.ipstack.com/check?access_key=14fe63e83d5cfefa0b3d4cec498479ba&output=json&fields=ip,continent_name,country_name,region_name,city', \n\t\tfunction(ip_data){\n\t\t\t\t\t\n\t\t$.post('https://www.macrotrends.net/assets/php/page_view_tracking.php', {ip: ip_data.ip, paid: payment}); \n\t\n\t});\n\t\t \n});\n\n</script>\n\n-->\n  <script type=\"text/javascript\">\n   var clicky_site_ids = clicky_site_ids || [];\nclicky_site_ids.push(100827248);\n(function() {\n  var s = document.createElement('script');\n  s.type = 'text/javascript';\n  s.async = true;\n  s.src = '//static.getclicky.com/js';\n  ( document.getElementsByTagName('head')[0] || document.getElementsByTagName('body')[0] ).appendChild( s );\n})();\n  </script>\n  <noscript>\n   <p>\n    <img alt=\"Clicky\" height=\"1\" src=\"//in.getclicky.com/100827248ns.gif\" width=\"1\"/>\n   </p>\n  </noscript>\n  <!-- This site is converting visitors into subscribers and customers with OptinMonster - https://optinmonster.com -->\n  <script async=\"\" data-account=\"6392\" data-user=\"15772\" src=\"https://a.omappapi.com/app/js/api.min.js\" type=\"text/javascript\">\n  </script>\n  <!-- / OptinMonster -->\n </body>\n</html>\n\n"
     ]
    }
   ],
   "source": [
    "soup_1 = BeautifulSoup(html_data_1.text, 'html.parser')\n",
    "print(soup_1.prettify())"
   ]
  },
  {
   "cell_type": "code",
   "execution_count": 23,
   "metadata": {},
   "outputs": [
    {
     "output_type": "execute_result",
     "data": {
      "text/plain": [
       "<table class=\"historical_data_table table\">\n",
       "<thead>\n",
       "<tr>\n",
       "<th colspan=\"2\" style=\"text-align:center\">GameStop Annual Revenue<br/><span style=\"font-size:14px;\">(Millions of US $)</span></th>\n",
       "</tr>\n",
       "</thead>\n",
       "<tbody>\n",
       "<tr>\n",
       "<td style=\"text-align:center\">2020</td>\n",
       "<td style=\"text-align:center\">$6,466</td>\n",
       "</tr>\n",
       "<tr>\n",
       "<td style=\"text-align:center\">2019</td>\n",
       "<td style=\"text-align:center\">$8,285</td>\n",
       "</tr>\n",
       "<tr>\n",
       "<td style=\"text-align:center\">2018</td>\n",
       "<td style=\"text-align:center\">$8,547</td>\n",
       "</tr>\n",
       "<tr>\n",
       "<td style=\"text-align:center\">2017</td>\n",
       "<td style=\"text-align:center\">$7,965</td>\n",
       "</tr>\n",
       "<tr>\n",
       "<td style=\"text-align:center\">2016</td>\n",
       "<td style=\"text-align:center\">$9,364</td>\n",
       "</tr>\n",
       "<tr>\n",
       "<td style=\"text-align:center\">2015</td>\n",
       "<td style=\"text-align:center\">$9,296</td>\n",
       "</tr>\n",
       "<tr>\n",
       "<td style=\"text-align:center\">2014</td>\n",
       "<td style=\"text-align:center\">$9,040</td>\n",
       "</tr>\n",
       "<tr>\n",
       "<td style=\"text-align:center\">2013</td>\n",
       "<td style=\"text-align:center\">$8,887</td>\n",
       "</tr>\n",
       "<tr>\n",
       "<td style=\"text-align:center\">2012</td>\n",
       "<td style=\"text-align:center\">$9,551</td>\n",
       "</tr>\n",
       "<tr>\n",
       "<td style=\"text-align:center\">2011</td>\n",
       "<td style=\"text-align:center\">$9,474</td>\n",
       "</tr>\n",
       "<tr>\n",
       "<td style=\"text-align:center\">2010</td>\n",
       "<td style=\"text-align:center\">$9,078</td>\n",
       "</tr>\n",
       "<tr>\n",
       "<td style=\"text-align:center\">2009</td>\n",
       "<td style=\"text-align:center\">$8,806</td>\n",
       "</tr>\n",
       "<tr>\n",
       "<td style=\"text-align:center\">2008</td>\n",
       "<td style=\"text-align:center\">$7,094</td>\n",
       "</tr>\n",
       "<tr>\n",
       "<td style=\"text-align:center\">2007</td>\n",
       "<td style=\"text-align:center\">$5,319</td>\n",
       "</tr>\n",
       "<tr>\n",
       "<td style=\"text-align:center\">2006</td>\n",
       "<td style=\"text-align:center\">$3,092</td>\n",
       "</tr>\n",
       "<tr>\n",
       "<td style=\"text-align:center\">2005</td>\n",
       "<td style=\"text-align:center\">$1,843</td>\n",
       "</tr>\n",
       "</tbody>\n",
       "</table>"
      ]
     },
     "metadata": {},
     "execution_count": 23
    }
   ],
   "source": [
    "# finding the class 'historical_data_table table' in the HTML script\n",
    "game_annual_revenue = soup_1.find('table', {'class':'historical_data_table table'})\n",
    "game_annual_revenue"
   ]
  },
  {
   "cell_type": "code",
   "execution_count": 24,
   "metadata": {},
   "outputs": [
    {
     "output_type": "execute_result",
     "data": {
      "text/plain": [
       "2"
      ]
     },
     "metadata": {},
     "execution_count": 24
    }
   ],
   "source": [
    "# getting the number of columns in the table\n",
    "for row in game_annual_revenue.findAll(\"tr\"):\n",
    "    cells = row.findAll(\"td\")\n",
    "\n",
    "len(cells)"
   ]
  },
  {
   "cell_type": "code",
   "execution_count": 25,
   "metadata": {},
   "outputs": [
    {
     "output_type": "execute_result",
     "data": {
      "text/plain": [
       "17"
      ]
     },
     "metadata": {},
     "execution_count": 25
    }
   ],
   "source": [
    "# getting the number of rows in the table including header\n",
    "rows_1 = game_annual_revenue.findAll(\"tr\")\n",
    "len(rows_1)"
   ]
  },
  {
   "cell_type": "code",
   "execution_count": 26,
   "metadata": {},
   "outputs": [
    {
     "output_type": "stream",
     "name": "stdout",
     "text": [
      "['GameStop Annual Revenue(Millions of US $)']\n1\n"
     ]
    }
   ],
   "source": [
    "# getting the table Header\n",
    "header_1 = [th.text.rstrip() for th in rows_1[0].find_all('th')]\n",
    "\n",
    "print(header_1)\n",
    "print(len(header_1))"
   ]
  },
  {
   "cell_type": "code",
   "execution_count": 27,
   "metadata": {},
   "outputs": [],
   "source": [
    "# scraping the data and append to respective lists\n",
    "c1 = []\n",
    "c2 = []\n",
    "\n",
    "for row in game_annual_revenue.findAll(\"tr\"):\n",
    "    cells = row.findAll('td')\n",
    "    if len(cells) == 2: # Only extract table body not heading\n",
    "        c1.append(cells[0].find(text = True))\n",
    "        c2.append(cells[1].find(text = True))"
   ]
  },
  {
   "cell_type": "code",
   "execution_count": 28,
   "metadata": {},
   "outputs": [
    {
     "output_type": "execute_result",
     "data": {
      "text/plain": [
       "{'GameStop Annual Revenue(Millions of US $)': 0}"
      ]
     },
     "metadata": {},
     "execution_count": 28
    }
   ],
   "source": [
    "# making a dictionary to become a dataframe\n",
    "d_1 = dict([(x, 0) for x in header_1])\n",
    "d_1"
   ]
  },
  {
   "cell_type": "code",
   "execution_count": 29,
   "metadata": {},
   "outputs": [],
   "source": [
    "# making a dataframe\n",
    "d_1['Year'] = c1\n",
    "d_1['Gamestop Annual Revenue(Millions of US $)'] = c2"
   ]
  },
  {
   "cell_type": "code",
   "execution_count": 30,
   "metadata": {},
   "outputs": [],
   "source": [
    "df_1 = pd.DataFrame(d_1)"
   ]
  },
  {
   "cell_type": "code",
   "execution_count": 31,
   "metadata": {},
   "outputs": [
    {
     "output_type": "execute_result",
     "data": {
      "text/plain": [
       "   GameStop Annual Revenue(Millions of US $)  Year  \\\n",
       "0                                          0  2020   \n",
       "1                                          0  2019   \n",
       "2                                          0  2018   \n",
       "3                                          0  2017   \n",
       "4                                          0  2016   \n",
       "\n",
       "  Gamestop Annual Revenue(Millions of US $)  \n",
       "0                                    $6,466  \n",
       "1                                    $8,285  \n",
       "2                                    $8,547  \n",
       "3                                    $7,965  \n",
       "4                                    $9,364  "
      ],
      "text/html": "<div>\n<style scoped>\n    .dataframe tbody tr th:only-of-type {\n        vertical-align: middle;\n    }\n\n    .dataframe tbody tr th {\n        vertical-align: top;\n    }\n\n    .dataframe thead th {\n        text-align: right;\n    }\n</style>\n<table border=\"1\" class=\"dataframe\">\n  <thead>\n    <tr style=\"text-align: right;\">\n      <th></th>\n      <th>GameStop Annual Revenue(Millions of US $)</th>\n      <th>Year</th>\n      <th>Gamestop Annual Revenue(Millions of US $)</th>\n    </tr>\n  </thead>\n  <tbody>\n    <tr>\n      <th>0</th>\n      <td>0</td>\n      <td>2020</td>\n      <td>$6,466</td>\n    </tr>\n    <tr>\n      <th>1</th>\n      <td>0</td>\n      <td>2019</td>\n      <td>$8,285</td>\n    </tr>\n    <tr>\n      <th>2</th>\n      <td>0</td>\n      <td>2018</td>\n      <td>$8,547</td>\n    </tr>\n    <tr>\n      <th>3</th>\n      <td>0</td>\n      <td>2017</td>\n      <td>$7,965</td>\n    </tr>\n    <tr>\n      <th>4</th>\n      <td>0</td>\n      <td>2016</td>\n      <td>$9,364</td>\n    </tr>\n  </tbody>\n</table>\n</div>"
     },
     "metadata": {},
     "execution_count": 31
    }
   ],
   "source": [
    "df_1.head()"
   ]
  },
  {
   "cell_type": "code",
   "execution_count": 32,
   "metadata": {},
   "outputs": [
    {
     "output_type": "execute_result",
     "data": {
      "text/plain": [
       "(16, 3)"
      ]
     },
     "metadata": {},
     "execution_count": 32
    }
   ],
   "source": [
    "df_1.shape"
   ]
  },
  {
   "cell_type": "code",
   "execution_count": 33,
   "metadata": {},
   "outputs": [],
   "source": [
    "df_1 = df_1.drop(df_1.columns[0], axis = 1)"
   ]
  },
  {
   "cell_type": "code",
   "execution_count": 34,
   "metadata": {},
   "outputs": [
    {
     "output_type": "execute_result",
     "data": {
      "text/plain": [
       "    Year Gamestop Annual Revenue(Millions of US $)\n",
       "11  2009                                    $8,806\n",
       "12  2008                                    $7,094\n",
       "13  2007                                    $5,319\n",
       "14  2006                                    $3,092\n",
       "15  2005                                    $1,843"
      ],
      "text/html": "<div>\n<style scoped>\n    .dataframe tbody tr th:only-of-type {\n        vertical-align: middle;\n    }\n\n    .dataframe tbody tr th {\n        vertical-align: top;\n    }\n\n    .dataframe thead th {\n        text-align: right;\n    }\n</style>\n<table border=\"1\" class=\"dataframe\">\n  <thead>\n    <tr style=\"text-align: right;\">\n      <th></th>\n      <th>Year</th>\n      <th>Gamestop Annual Revenue(Millions of US $)</th>\n    </tr>\n  </thead>\n  <tbody>\n    <tr>\n      <th>11</th>\n      <td>2009</td>\n      <td>$8,806</td>\n    </tr>\n    <tr>\n      <th>12</th>\n      <td>2008</td>\n      <td>$7,094</td>\n    </tr>\n    <tr>\n      <th>13</th>\n      <td>2007</td>\n      <td>$5,319</td>\n    </tr>\n    <tr>\n      <th>14</th>\n      <td>2006</td>\n      <td>$3,092</td>\n    </tr>\n    <tr>\n      <th>15</th>\n      <td>2005</td>\n      <td>$1,843</td>\n    </tr>\n  </tbody>\n</table>\n</div>"
     },
     "metadata": {},
     "execution_count": 34
    }
   ],
   "source": [
    "df_1.tail()"
   ]
  },
  {
   "source": [
    "## Question 5. Tesla Stock and Revenue Dashboard"
   ],
   "cell_type": "markdown",
   "metadata": {}
  },
  {
   "cell_type": "code",
   "execution_count": 35,
   "metadata": {},
   "outputs": [],
   "source": [
    "tesla_share_price_data.reset_index(inplace = True)"
   ]
  },
  {
   "cell_type": "code",
   "execution_count": 36,
   "metadata": {},
   "outputs": [
    {
     "output_type": "execute_result",
     "data": {
      "text/plain": [
       "pandas._libs.tslibs.timestamps.Timestamp"
      ]
     },
     "metadata": {},
     "execution_count": 36
    }
   ],
   "source": [
    "# figuring out the type of 'Date' element\n",
    "type(tesla_share_price_data.iloc[0, 0])"
   ]
  },
  {
   "cell_type": "code",
   "execution_count": 37,
   "metadata": {},
   "outputs": [],
   "source": [
    "# changing timestamps to just years, grouping by same years, and providing means of each year\n",
    "tesla_stock = tesla_share_price_data.groupby(pd.Grouper(key = 'Date', freq = '1Y')).mean()\n",
    "tesla_stock.reset_index(inplace = True)"
   ]
  },
  {
   "cell_type": "code",
   "execution_count": 38,
   "metadata": {},
   "outputs": [
    {
     "output_type": "execute_result",
     "data": {
      "text/plain": [
       "         Date        Open        High         Low       Close        Volume  \\\n",
       "0  2010-12-31    4.681600    4.815446    4.529215    4.668369  7.898812e+06   \n",
       "1  2011-12-31    5.364397    5.476048    5.238833    5.360952  6.453077e+06   \n",
       "2  2012-12-31    6.240624    6.361832    6.109176    6.233720  6.148980e+06   \n",
       "3  2013-12-31   20.883286   21.370603   20.355976   20.880246  4.203861e+07   \n",
       "4  2014-12-31   44.683079   45.489976   43.841222   44.665817  3.456987e+07   \n",
       "5  2015-12-31   45.966389   46.676333   45.254127   46.008579  2.159162e+07   \n",
       "6  2016-12-31   42.011690   42.686699   41.257230   41.953452  2.306273e+07   \n",
       "7  2017-12-31   62.859243   63.690119   61.937394   62.863259  3.167393e+07   \n",
       "8  2018-12-31   63.436693   64.738725   62.110462   63.461984  4.306053e+07   \n",
       "9  2019-12-31   54.605627   55.529960   53.722508   54.706040  4.579461e+07   \n",
       "10 2020-12-31  289.108428  297.288411  280.697937  289.997067  7.532934e+07   \n",
       "11 2021-12-31  825.591766  840.891472  808.102058  824.685290  3.072816e+07   \n",
       "\n",
       "    Dividends  Stock Splits  \n",
       "0         0.0      0.000000  \n",
       "1         0.0      0.000000  \n",
       "2         0.0      0.000000  \n",
       "3         0.0      0.000000  \n",
       "4         0.0      0.000000  \n",
       "5         0.0      0.000000  \n",
       "6         0.0      0.000000  \n",
       "7         0.0      0.000000  \n",
       "8         0.0      0.000000  \n",
       "9         0.0      0.000000  \n",
       "10        0.0      0.019763  \n",
       "11        0.0      0.000000  "
      ],
      "text/html": "<div>\n<style scoped>\n    .dataframe tbody tr th:only-of-type {\n        vertical-align: middle;\n    }\n\n    .dataframe tbody tr th {\n        vertical-align: top;\n    }\n\n    .dataframe thead th {\n        text-align: right;\n    }\n</style>\n<table border=\"1\" class=\"dataframe\">\n  <thead>\n    <tr style=\"text-align: right;\">\n      <th></th>\n      <th>Date</th>\n      <th>Open</th>\n      <th>High</th>\n      <th>Low</th>\n      <th>Close</th>\n      <th>Volume</th>\n      <th>Dividends</th>\n      <th>Stock Splits</th>\n    </tr>\n  </thead>\n  <tbody>\n    <tr>\n      <th>0</th>\n      <td>2010-12-31</td>\n      <td>4.681600</td>\n      <td>4.815446</td>\n      <td>4.529215</td>\n      <td>4.668369</td>\n      <td>7.898812e+06</td>\n      <td>0.0</td>\n      <td>0.000000</td>\n    </tr>\n    <tr>\n      <th>1</th>\n      <td>2011-12-31</td>\n      <td>5.364397</td>\n      <td>5.476048</td>\n      <td>5.238833</td>\n      <td>5.360952</td>\n      <td>6.453077e+06</td>\n      <td>0.0</td>\n      <td>0.000000</td>\n    </tr>\n    <tr>\n      <th>2</th>\n      <td>2012-12-31</td>\n      <td>6.240624</td>\n      <td>6.361832</td>\n      <td>6.109176</td>\n      <td>6.233720</td>\n      <td>6.148980e+06</td>\n      <td>0.0</td>\n      <td>0.000000</td>\n    </tr>\n    <tr>\n      <th>3</th>\n      <td>2013-12-31</td>\n      <td>20.883286</td>\n      <td>21.370603</td>\n      <td>20.355976</td>\n      <td>20.880246</td>\n      <td>4.203861e+07</td>\n      <td>0.0</td>\n      <td>0.000000</td>\n    </tr>\n    <tr>\n      <th>4</th>\n      <td>2014-12-31</td>\n      <td>44.683079</td>\n      <td>45.489976</td>\n      <td>43.841222</td>\n      <td>44.665817</td>\n      <td>3.456987e+07</td>\n      <td>0.0</td>\n      <td>0.000000</td>\n    </tr>\n    <tr>\n      <th>5</th>\n      <td>2015-12-31</td>\n      <td>45.966389</td>\n      <td>46.676333</td>\n      <td>45.254127</td>\n      <td>46.008579</td>\n      <td>2.159162e+07</td>\n      <td>0.0</td>\n      <td>0.000000</td>\n    </tr>\n    <tr>\n      <th>6</th>\n      <td>2016-12-31</td>\n      <td>42.011690</td>\n      <td>42.686699</td>\n      <td>41.257230</td>\n      <td>41.953452</td>\n      <td>2.306273e+07</td>\n      <td>0.0</td>\n      <td>0.000000</td>\n    </tr>\n    <tr>\n      <th>7</th>\n      <td>2017-12-31</td>\n      <td>62.859243</td>\n      <td>63.690119</td>\n      <td>61.937394</td>\n      <td>62.863259</td>\n      <td>3.167393e+07</td>\n      <td>0.0</td>\n      <td>0.000000</td>\n    </tr>\n    <tr>\n      <th>8</th>\n      <td>2018-12-31</td>\n      <td>63.436693</td>\n      <td>64.738725</td>\n      <td>62.110462</td>\n      <td>63.461984</td>\n      <td>4.306053e+07</td>\n      <td>0.0</td>\n      <td>0.000000</td>\n    </tr>\n    <tr>\n      <th>9</th>\n      <td>2019-12-31</td>\n      <td>54.605627</td>\n      <td>55.529960</td>\n      <td>53.722508</td>\n      <td>54.706040</td>\n      <td>4.579461e+07</td>\n      <td>0.0</td>\n      <td>0.000000</td>\n    </tr>\n    <tr>\n      <th>10</th>\n      <td>2020-12-31</td>\n      <td>289.108428</td>\n      <td>297.288411</td>\n      <td>280.697937</td>\n      <td>289.997067</td>\n      <td>7.532934e+07</td>\n      <td>0.0</td>\n      <td>0.019763</td>\n    </tr>\n    <tr>\n      <th>11</th>\n      <td>2021-12-31</td>\n      <td>825.591766</td>\n      <td>840.891472</td>\n      <td>808.102058</td>\n      <td>824.685290</td>\n      <td>3.072816e+07</td>\n      <td>0.0</td>\n      <td>0.000000</td>\n    </tr>\n  </tbody>\n</table>\n</div>"
     },
     "metadata": {},
     "execution_count": 38
    }
   ],
   "source": [
    "tesla_stock"
   ]
  },
  {
   "cell_type": "code",
   "execution_count": 39,
   "metadata": {},
   "outputs": [],
   "source": [
    "# creating a column 'Year' where only years are written and dropping the 'Data' list\n",
    "tesla_stock['Year'] = pd.DatetimeIndex(tesla_stock['Date']).year\n",
    "tesla_stock.drop(['Date'], axis = 1, inplace = True)"
   ]
  },
  {
   "cell_type": "code",
   "execution_count": 40,
   "metadata": {},
   "outputs": [
    {
     "output_type": "execute_result",
     "data": {
      "text/plain": [
       "          Open        High         Low       Close        Volume  Dividends  \\\n",
       "0     4.681600    4.815446    4.529215    4.668369  7.898812e+06        0.0   \n",
       "1     5.364397    5.476048    5.238833    5.360952  6.453077e+06        0.0   \n",
       "2     6.240624    6.361832    6.109176    6.233720  6.148980e+06        0.0   \n",
       "3    20.883286   21.370603   20.355976   20.880246  4.203861e+07        0.0   \n",
       "4    44.683079   45.489976   43.841222   44.665817  3.456987e+07        0.0   \n",
       "5    45.966389   46.676333   45.254127   46.008579  2.159162e+07        0.0   \n",
       "6    42.011690   42.686699   41.257230   41.953452  2.306273e+07        0.0   \n",
       "7    62.859243   63.690119   61.937394   62.863259  3.167393e+07        0.0   \n",
       "8    63.436693   64.738725   62.110462   63.461984  4.306053e+07        0.0   \n",
       "9    54.605627   55.529960   53.722508   54.706040  4.579461e+07        0.0   \n",
       "10  289.108428  297.288411  280.697937  289.997067  7.532934e+07        0.0   \n",
       "11  825.591766  840.891472  808.102058  824.685290  3.072816e+07        0.0   \n",
       "\n",
       "    Stock Splits  Year  \n",
       "0       0.000000  2010  \n",
       "1       0.000000  2011  \n",
       "2       0.000000  2012  \n",
       "3       0.000000  2013  \n",
       "4       0.000000  2014  \n",
       "5       0.000000  2015  \n",
       "6       0.000000  2016  \n",
       "7       0.000000  2017  \n",
       "8       0.000000  2018  \n",
       "9       0.000000  2019  \n",
       "10      0.019763  2020  \n",
       "11      0.000000  2021  "
      ],
      "text/html": "<div>\n<style scoped>\n    .dataframe tbody tr th:only-of-type {\n        vertical-align: middle;\n    }\n\n    .dataframe tbody tr th {\n        vertical-align: top;\n    }\n\n    .dataframe thead th {\n        text-align: right;\n    }\n</style>\n<table border=\"1\" class=\"dataframe\">\n  <thead>\n    <tr style=\"text-align: right;\">\n      <th></th>\n      <th>Open</th>\n      <th>High</th>\n      <th>Low</th>\n      <th>Close</th>\n      <th>Volume</th>\n      <th>Dividends</th>\n      <th>Stock Splits</th>\n      <th>Year</th>\n    </tr>\n  </thead>\n  <tbody>\n    <tr>\n      <th>0</th>\n      <td>4.681600</td>\n      <td>4.815446</td>\n      <td>4.529215</td>\n      <td>4.668369</td>\n      <td>7.898812e+06</td>\n      <td>0.0</td>\n      <td>0.000000</td>\n      <td>2010</td>\n    </tr>\n    <tr>\n      <th>1</th>\n      <td>5.364397</td>\n      <td>5.476048</td>\n      <td>5.238833</td>\n      <td>5.360952</td>\n      <td>6.453077e+06</td>\n      <td>0.0</td>\n      <td>0.000000</td>\n      <td>2011</td>\n    </tr>\n    <tr>\n      <th>2</th>\n      <td>6.240624</td>\n      <td>6.361832</td>\n      <td>6.109176</td>\n      <td>6.233720</td>\n      <td>6.148980e+06</td>\n      <td>0.0</td>\n      <td>0.000000</td>\n      <td>2012</td>\n    </tr>\n    <tr>\n      <th>3</th>\n      <td>20.883286</td>\n      <td>21.370603</td>\n      <td>20.355976</td>\n      <td>20.880246</td>\n      <td>4.203861e+07</td>\n      <td>0.0</td>\n      <td>0.000000</td>\n      <td>2013</td>\n    </tr>\n    <tr>\n      <th>4</th>\n      <td>44.683079</td>\n      <td>45.489976</td>\n      <td>43.841222</td>\n      <td>44.665817</td>\n      <td>3.456987e+07</td>\n      <td>0.0</td>\n      <td>0.000000</td>\n      <td>2014</td>\n    </tr>\n    <tr>\n      <th>5</th>\n      <td>45.966389</td>\n      <td>46.676333</td>\n      <td>45.254127</td>\n      <td>46.008579</td>\n      <td>2.159162e+07</td>\n      <td>0.0</td>\n      <td>0.000000</td>\n      <td>2015</td>\n    </tr>\n    <tr>\n      <th>6</th>\n      <td>42.011690</td>\n      <td>42.686699</td>\n      <td>41.257230</td>\n      <td>41.953452</td>\n      <td>2.306273e+07</td>\n      <td>0.0</td>\n      <td>0.000000</td>\n      <td>2016</td>\n    </tr>\n    <tr>\n      <th>7</th>\n      <td>62.859243</td>\n      <td>63.690119</td>\n      <td>61.937394</td>\n      <td>62.863259</td>\n      <td>3.167393e+07</td>\n      <td>0.0</td>\n      <td>0.000000</td>\n      <td>2017</td>\n    </tr>\n    <tr>\n      <th>8</th>\n      <td>63.436693</td>\n      <td>64.738725</td>\n      <td>62.110462</td>\n      <td>63.461984</td>\n      <td>4.306053e+07</td>\n      <td>0.0</td>\n      <td>0.000000</td>\n      <td>2018</td>\n    </tr>\n    <tr>\n      <th>9</th>\n      <td>54.605627</td>\n      <td>55.529960</td>\n      <td>53.722508</td>\n      <td>54.706040</td>\n      <td>4.579461e+07</td>\n      <td>0.0</td>\n      <td>0.000000</td>\n      <td>2019</td>\n    </tr>\n    <tr>\n      <th>10</th>\n      <td>289.108428</td>\n      <td>297.288411</td>\n      <td>280.697937</td>\n      <td>289.997067</td>\n      <td>7.532934e+07</td>\n      <td>0.0</td>\n      <td>0.019763</td>\n      <td>2020</td>\n    </tr>\n    <tr>\n      <th>11</th>\n      <td>825.591766</td>\n      <td>840.891472</td>\n      <td>808.102058</td>\n      <td>824.685290</td>\n      <td>3.072816e+07</td>\n      <td>0.0</td>\n      <td>0.000000</td>\n      <td>2021</td>\n    </tr>\n  </tbody>\n</table>\n</div>"
     },
     "metadata": {},
     "execution_count": 40
    }
   ],
   "source": [
    "tesla_stock"
   ]
  },
  {
   "cell_type": "code",
   "execution_count": 41,
   "metadata": {},
   "outputs": [
    {
     "output_type": "execute_result",
     "data": {
      "text/plain": [
       "   Tesla Annual Revenue(Millions of US $)  Year\n",
       "0                                 $31,536  2020\n",
       "1                                 $24,578  2019\n",
       "2                                 $21,461  2018\n",
       "3                                 $11,759  2017\n",
       "4                                  $7,000  2016\n",
       "5                                  $4,046  2015\n",
       "6                                  $3,198  2014\n",
       "7                                  $2,013  2013\n",
       "8                                    $413  2012\n",
       "9                                    $204  2011\n",
       "10                                   $117  2010\n",
       "11                                   $112  2009\n",
       "12                                    $15  2008"
      ],
      "text/html": "<div>\n<style scoped>\n    .dataframe tbody tr th:only-of-type {\n        vertical-align: middle;\n    }\n\n    .dataframe tbody tr th {\n        vertical-align: top;\n    }\n\n    .dataframe thead th {\n        text-align: right;\n    }\n</style>\n<table border=\"1\" class=\"dataframe\">\n  <thead>\n    <tr style=\"text-align: right;\">\n      <th></th>\n      <th>Tesla Annual Revenue(Millions of US $)</th>\n      <th>Year</th>\n    </tr>\n  </thead>\n  <tbody>\n    <tr>\n      <th>0</th>\n      <td>$31,536</td>\n      <td>2020</td>\n    </tr>\n    <tr>\n      <th>1</th>\n      <td>$24,578</td>\n      <td>2019</td>\n    </tr>\n    <tr>\n      <th>2</th>\n      <td>$21,461</td>\n      <td>2018</td>\n    </tr>\n    <tr>\n      <th>3</th>\n      <td>$11,759</td>\n      <td>2017</td>\n    </tr>\n    <tr>\n      <th>4</th>\n      <td>$7,000</td>\n      <td>2016</td>\n    </tr>\n    <tr>\n      <th>5</th>\n      <td>$4,046</td>\n      <td>2015</td>\n    </tr>\n    <tr>\n      <th>6</th>\n      <td>$3,198</td>\n      <td>2014</td>\n    </tr>\n    <tr>\n      <th>7</th>\n      <td>$2,013</td>\n      <td>2013</td>\n    </tr>\n    <tr>\n      <th>8</th>\n      <td>$413</td>\n      <td>2012</td>\n    </tr>\n    <tr>\n      <th>9</th>\n      <td>$204</td>\n      <td>2011</td>\n    </tr>\n    <tr>\n      <th>10</th>\n      <td>$117</td>\n      <td>2010</td>\n    </tr>\n    <tr>\n      <th>11</th>\n      <td>$112</td>\n      <td>2009</td>\n    </tr>\n    <tr>\n      <th>12</th>\n      <td>$15</td>\n      <td>2008</td>\n    </tr>\n  </tbody>\n</table>\n</div>"
     },
     "metadata": {},
     "execution_count": 41
    }
   ],
   "source": [
    "df"
   ]
  },
  {
   "cell_type": "code",
   "execution_count": 42,
   "metadata": {},
   "outputs": [
    {
     "output_type": "stream",
     "name": "stdout",
     "text": [
      "<class 'bs4.element.NavigableString'>\n"
     ]
    }
   ],
   "source": [
    "# checking the type of 'Year' lists in two different dataframes before merging them\n",
    "print(type(df.iloc[0, 1]))"
   ]
  },
  {
   "cell_type": "code",
   "execution_count": 43,
   "metadata": {},
   "outputs": [
    {
     "output_type": "stream",
     "name": "stdout",
     "text": [
      "<class 'numpy.float64'>\n"
     ]
    }
   ],
   "source": [
    "print(type(tesla_stock.iloc[0, 0]))"
   ]
  },
  {
   "cell_type": "code",
   "execution_count": 44,
   "metadata": {},
   "outputs": [],
   "source": [
    "# changing the type of element\n",
    "df['Year'] = [int(item) for item in df['Year']]"
   ]
  },
  {
   "cell_type": "code",
   "execution_count": 45,
   "metadata": {},
   "outputs": [],
   "source": [
    "# creating a new dataframe in which the two dataframes are merged, which is the dashboard\n",
    "Tesla_dash = pd.merge(df, tesla_stock, on = 'Year')"
   ]
  },
  {
   "cell_type": "code",
   "execution_count": 46,
   "metadata": {},
   "outputs": [
    {
     "output_type": "execute_result",
     "data": {
      "text/plain": [
       "   Tesla Annual Revenue(Millions of US $)  Year        Open        High  \\\n",
       "0                                 $31,536  2020  289.108428  297.288411   \n",
       "1                                 $24,578  2019   54.605627   55.529960   \n",
       "2                                 $21,461  2018   63.436693   64.738725   \n",
       "3                                 $11,759  2017   62.859243   63.690119   \n",
       "4                                  $7,000  2016   42.011690   42.686699   \n",
       "5                                  $4,046  2015   45.966389   46.676333   \n",
       "6                                  $3,198  2014   44.683079   45.489976   \n",
       "7                                  $2,013  2013   20.883286   21.370603   \n",
       "8                                    $413  2012    6.240624    6.361832   \n",
       "9                                    $204  2011    5.364397    5.476048   \n",
       "10                                   $117  2010    4.681600    4.815446   \n",
       "\n",
       "           Low       Close        Volume  Dividends  Stock Splits  \n",
       "0   280.697937  289.997067  7.532934e+07        0.0      0.019763  \n",
       "1    53.722508   54.706040  4.579461e+07        0.0      0.000000  \n",
       "2    62.110462   63.461984  4.306053e+07        0.0      0.000000  \n",
       "3    61.937394   62.863259  3.167393e+07        0.0      0.000000  \n",
       "4    41.257230   41.953452  2.306273e+07        0.0      0.000000  \n",
       "5    45.254127   46.008579  2.159162e+07        0.0      0.000000  \n",
       "6    43.841222   44.665817  3.456987e+07        0.0      0.000000  \n",
       "7    20.355976   20.880246  4.203861e+07        0.0      0.000000  \n",
       "8     6.109176    6.233720  6.148980e+06        0.0      0.000000  \n",
       "9     5.238833    5.360952  6.453077e+06        0.0      0.000000  \n",
       "10    4.529215    4.668369  7.898812e+06        0.0      0.000000  "
      ],
      "text/html": "<div>\n<style scoped>\n    .dataframe tbody tr th:only-of-type {\n        vertical-align: middle;\n    }\n\n    .dataframe tbody tr th {\n        vertical-align: top;\n    }\n\n    .dataframe thead th {\n        text-align: right;\n    }\n</style>\n<table border=\"1\" class=\"dataframe\">\n  <thead>\n    <tr style=\"text-align: right;\">\n      <th></th>\n      <th>Tesla Annual Revenue(Millions of US $)</th>\n      <th>Year</th>\n      <th>Open</th>\n      <th>High</th>\n      <th>Low</th>\n      <th>Close</th>\n      <th>Volume</th>\n      <th>Dividends</th>\n      <th>Stock Splits</th>\n    </tr>\n  </thead>\n  <tbody>\n    <tr>\n      <th>0</th>\n      <td>$31,536</td>\n      <td>2020</td>\n      <td>289.108428</td>\n      <td>297.288411</td>\n      <td>280.697937</td>\n      <td>289.997067</td>\n      <td>7.532934e+07</td>\n      <td>0.0</td>\n      <td>0.019763</td>\n    </tr>\n    <tr>\n      <th>1</th>\n      <td>$24,578</td>\n      <td>2019</td>\n      <td>54.605627</td>\n      <td>55.529960</td>\n      <td>53.722508</td>\n      <td>54.706040</td>\n      <td>4.579461e+07</td>\n      <td>0.0</td>\n      <td>0.000000</td>\n    </tr>\n    <tr>\n      <th>2</th>\n      <td>$21,461</td>\n      <td>2018</td>\n      <td>63.436693</td>\n      <td>64.738725</td>\n      <td>62.110462</td>\n      <td>63.461984</td>\n      <td>4.306053e+07</td>\n      <td>0.0</td>\n      <td>0.000000</td>\n    </tr>\n    <tr>\n      <th>3</th>\n      <td>$11,759</td>\n      <td>2017</td>\n      <td>62.859243</td>\n      <td>63.690119</td>\n      <td>61.937394</td>\n      <td>62.863259</td>\n      <td>3.167393e+07</td>\n      <td>0.0</td>\n      <td>0.000000</td>\n    </tr>\n    <tr>\n      <th>4</th>\n      <td>$7,000</td>\n      <td>2016</td>\n      <td>42.011690</td>\n      <td>42.686699</td>\n      <td>41.257230</td>\n      <td>41.953452</td>\n      <td>2.306273e+07</td>\n      <td>0.0</td>\n      <td>0.000000</td>\n    </tr>\n    <tr>\n      <th>5</th>\n      <td>$4,046</td>\n      <td>2015</td>\n      <td>45.966389</td>\n      <td>46.676333</td>\n      <td>45.254127</td>\n      <td>46.008579</td>\n      <td>2.159162e+07</td>\n      <td>0.0</td>\n      <td>0.000000</td>\n    </tr>\n    <tr>\n      <th>6</th>\n      <td>$3,198</td>\n      <td>2014</td>\n      <td>44.683079</td>\n      <td>45.489976</td>\n      <td>43.841222</td>\n      <td>44.665817</td>\n      <td>3.456987e+07</td>\n      <td>0.0</td>\n      <td>0.000000</td>\n    </tr>\n    <tr>\n      <th>7</th>\n      <td>$2,013</td>\n      <td>2013</td>\n      <td>20.883286</td>\n      <td>21.370603</td>\n      <td>20.355976</td>\n      <td>20.880246</td>\n      <td>4.203861e+07</td>\n      <td>0.0</td>\n      <td>0.000000</td>\n    </tr>\n    <tr>\n      <th>8</th>\n      <td>$413</td>\n      <td>2012</td>\n      <td>6.240624</td>\n      <td>6.361832</td>\n      <td>6.109176</td>\n      <td>6.233720</td>\n      <td>6.148980e+06</td>\n      <td>0.0</td>\n      <td>0.000000</td>\n    </tr>\n    <tr>\n      <th>9</th>\n      <td>$204</td>\n      <td>2011</td>\n      <td>5.364397</td>\n      <td>5.476048</td>\n      <td>5.238833</td>\n      <td>5.360952</td>\n      <td>6.453077e+06</td>\n      <td>0.0</td>\n      <td>0.000000</td>\n    </tr>\n    <tr>\n      <th>10</th>\n      <td>$117</td>\n      <td>2010</td>\n      <td>4.681600</td>\n      <td>4.815446</td>\n      <td>4.529215</td>\n      <td>4.668369</td>\n      <td>7.898812e+06</td>\n      <td>0.0</td>\n      <td>0.000000</td>\n    </tr>\n  </tbody>\n</table>\n</div>"
     },
     "metadata": {},
     "execution_count": 46
    }
   ],
   "source": [
    "Tesla_dash"
   ]
  },
  {
   "cell_type": "code",
   "execution_count": 47,
   "metadata": {},
   "outputs": [],
   "source": [
    "# organizing teh columns\n",
    "Tesla_dash = Tesla_dash[['Year', 'Open', 'High', 'Low', 'Close', 'Volume', 'Dividends', 'Stock Splits', 'Tesla Annual Revenue(Millions of US $)']]"
   ]
  },
  {
   "cell_type": "code",
   "execution_count": 48,
   "metadata": {},
   "outputs": [
    {
     "output_type": "execute_result",
     "data": {
      "text/plain": [
       "    Year        Open        High         Low       Close        Volume  \\\n",
       "0   2020  289.108428  297.288411  280.697937  289.997067  7.532934e+07   \n",
       "1   2019   54.605627   55.529960   53.722508   54.706040  4.579461e+07   \n",
       "2   2018   63.436693   64.738725   62.110462   63.461984  4.306053e+07   \n",
       "3   2017   62.859243   63.690119   61.937394   62.863259  3.167393e+07   \n",
       "4   2016   42.011690   42.686699   41.257230   41.953452  2.306273e+07   \n",
       "5   2015   45.966389   46.676333   45.254127   46.008579  2.159162e+07   \n",
       "6   2014   44.683079   45.489976   43.841222   44.665817  3.456987e+07   \n",
       "7   2013   20.883286   21.370603   20.355976   20.880246  4.203861e+07   \n",
       "8   2012    6.240624    6.361832    6.109176    6.233720  6.148980e+06   \n",
       "9   2011    5.364397    5.476048    5.238833    5.360952  6.453077e+06   \n",
       "10  2010    4.681600    4.815446    4.529215    4.668369  7.898812e+06   \n",
       "\n",
       "    Dividends  Stock Splits Tesla Annual Revenue(Millions of US $)  \n",
       "0         0.0      0.019763                                $31,536  \n",
       "1         0.0      0.000000                                $24,578  \n",
       "2         0.0      0.000000                                $21,461  \n",
       "3         0.0      0.000000                                $11,759  \n",
       "4         0.0      0.000000                                 $7,000  \n",
       "5         0.0      0.000000                                 $4,046  \n",
       "6         0.0      0.000000                                 $3,198  \n",
       "7         0.0      0.000000                                 $2,013  \n",
       "8         0.0      0.000000                                   $413  \n",
       "9         0.0      0.000000                                   $204  \n",
       "10        0.0      0.000000                                   $117  "
      ],
      "text/html": "<div>\n<style scoped>\n    .dataframe tbody tr th:only-of-type {\n        vertical-align: middle;\n    }\n\n    .dataframe tbody tr th {\n        vertical-align: top;\n    }\n\n    .dataframe thead th {\n        text-align: right;\n    }\n</style>\n<table border=\"1\" class=\"dataframe\">\n  <thead>\n    <tr style=\"text-align: right;\">\n      <th></th>\n      <th>Year</th>\n      <th>Open</th>\n      <th>High</th>\n      <th>Low</th>\n      <th>Close</th>\n      <th>Volume</th>\n      <th>Dividends</th>\n      <th>Stock Splits</th>\n      <th>Tesla Annual Revenue(Millions of US $)</th>\n    </tr>\n  </thead>\n  <tbody>\n    <tr>\n      <th>0</th>\n      <td>2020</td>\n      <td>289.108428</td>\n      <td>297.288411</td>\n      <td>280.697937</td>\n      <td>289.997067</td>\n      <td>7.532934e+07</td>\n      <td>0.0</td>\n      <td>0.019763</td>\n      <td>$31,536</td>\n    </tr>\n    <tr>\n      <th>1</th>\n      <td>2019</td>\n      <td>54.605627</td>\n      <td>55.529960</td>\n      <td>53.722508</td>\n      <td>54.706040</td>\n      <td>4.579461e+07</td>\n      <td>0.0</td>\n      <td>0.000000</td>\n      <td>$24,578</td>\n    </tr>\n    <tr>\n      <th>2</th>\n      <td>2018</td>\n      <td>63.436693</td>\n      <td>64.738725</td>\n      <td>62.110462</td>\n      <td>63.461984</td>\n      <td>4.306053e+07</td>\n      <td>0.0</td>\n      <td>0.000000</td>\n      <td>$21,461</td>\n    </tr>\n    <tr>\n      <th>3</th>\n      <td>2017</td>\n      <td>62.859243</td>\n      <td>63.690119</td>\n      <td>61.937394</td>\n      <td>62.863259</td>\n      <td>3.167393e+07</td>\n      <td>0.0</td>\n      <td>0.000000</td>\n      <td>$11,759</td>\n    </tr>\n    <tr>\n      <th>4</th>\n      <td>2016</td>\n      <td>42.011690</td>\n      <td>42.686699</td>\n      <td>41.257230</td>\n      <td>41.953452</td>\n      <td>2.306273e+07</td>\n      <td>0.0</td>\n      <td>0.000000</td>\n      <td>$7,000</td>\n    </tr>\n    <tr>\n      <th>5</th>\n      <td>2015</td>\n      <td>45.966389</td>\n      <td>46.676333</td>\n      <td>45.254127</td>\n      <td>46.008579</td>\n      <td>2.159162e+07</td>\n      <td>0.0</td>\n      <td>0.000000</td>\n      <td>$4,046</td>\n    </tr>\n    <tr>\n      <th>6</th>\n      <td>2014</td>\n      <td>44.683079</td>\n      <td>45.489976</td>\n      <td>43.841222</td>\n      <td>44.665817</td>\n      <td>3.456987e+07</td>\n      <td>0.0</td>\n      <td>0.000000</td>\n      <td>$3,198</td>\n    </tr>\n    <tr>\n      <th>7</th>\n      <td>2013</td>\n      <td>20.883286</td>\n      <td>21.370603</td>\n      <td>20.355976</td>\n      <td>20.880246</td>\n      <td>4.203861e+07</td>\n      <td>0.0</td>\n      <td>0.000000</td>\n      <td>$2,013</td>\n    </tr>\n    <tr>\n      <th>8</th>\n      <td>2012</td>\n      <td>6.240624</td>\n      <td>6.361832</td>\n      <td>6.109176</td>\n      <td>6.233720</td>\n      <td>6.148980e+06</td>\n      <td>0.0</td>\n      <td>0.000000</td>\n      <td>$413</td>\n    </tr>\n    <tr>\n      <th>9</th>\n      <td>2011</td>\n      <td>5.364397</td>\n      <td>5.476048</td>\n      <td>5.238833</td>\n      <td>5.360952</td>\n      <td>6.453077e+06</td>\n      <td>0.0</td>\n      <td>0.000000</td>\n      <td>$204</td>\n    </tr>\n    <tr>\n      <th>10</th>\n      <td>2010</td>\n      <td>4.681600</td>\n      <td>4.815446</td>\n      <td>4.529215</td>\n      <td>4.668369</td>\n      <td>7.898812e+06</td>\n      <td>0.0</td>\n      <td>0.000000</td>\n      <td>$117</td>\n    </tr>\n  </tbody>\n</table>\n</div>"
     },
     "metadata": {},
     "execution_count": 48
    }
   ],
   "source": [
    "Tesla_dash"
   ]
  },
  {
   "source": [
    "## Question 6. Tesla Stock and Revenue Dashboard"
   ],
   "cell_type": "markdown",
   "metadata": {}
  },
  {
   "cell_type": "code",
   "execution_count": 49,
   "metadata": {},
   "outputs": [],
   "source": [
    "game_share_price_data.reset_index(inplace = True)"
   ]
  },
  {
   "cell_type": "code",
   "execution_count": 50,
   "metadata": {},
   "outputs": [],
   "source": [
    "# changing timestamps to just years, grouping by same years, and providing means of each year\n",
    "game_stock = game_share_price_data.groupby(pd.Grouper(key = 'Date', freq = '1Y')).mean()\n",
    "game_stock.reset_index(inplace = True)"
   ]
  },
  {
   "cell_type": "code",
   "execution_count": 51,
   "metadata": {},
   "outputs": [],
   "source": [
    "# creating a column 'Year' where only years are written and dropping the 'Data' list\n",
    "game_stock['Year'] = pd.DatetimeIndex(game_stock['Date']).year\n",
    "game_stock.drop(['Date'], axis = 1, inplace = True)\n"
   ]
  },
  {
   "cell_type": "code",
   "execution_count": 52,
   "metadata": {},
   "outputs": [],
   "source": [
    "# changing the type of element\n",
    "df_1['Year'] = [int(item) for item in df_1['Year']]"
   ]
  },
  {
   "cell_type": "code",
   "execution_count": 53,
   "metadata": {},
   "outputs": [],
   "source": [
    "# creating a new dataframe in which the two dataframes are merged, which is the dashboard\n",
    "Game_dash = pd.merge(df_1, game_stock, on = 'Year')"
   ]
  },
  {
   "cell_type": "code",
   "execution_count": 54,
   "metadata": {},
   "outputs": [
    {
     "output_type": "execute_result",
     "data": {
      "text/plain": [
       "    Year Gamestop Annual Revenue(Millions of US $)       Open       High  \\\n",
       "0   2020                                    $6,466   7.121621   7.496759   \n",
       "1   2019                                    $8,285   7.460375   7.634163   \n",
       "2   2018                                    $8,547  13.513372  13.771933   \n",
       "3   2017                                    $7,965  18.067334  18.291842   \n",
       "4   2016                                    $9,364  22.072064  22.392119   \n",
       "5   2015                                    $9,296  30.615779  31.032210   \n",
       "6   2014                                    $9,040  29.097660  29.531998   \n",
       "7   2013                                    $8,887  28.487785  28.939054   \n",
       "8   2012                                    $9,551  14.937690  15.169566   \n",
       "9   2011                                    $9,474  15.841790  16.076269   \n",
       "10  2010                                    $9,078  13.828382  14.029277   \n",
       "11  2009                                    $8,806  16.879180  17.235735   \n",
       "12  2008                                    $7,094  28.221388  28.928672   \n",
       "13  2007                                    $5,319  28.052943  28.523756   \n",
       "14  2006                                    $3,092  15.213109  15.455524   \n",
       "15  2005                                    $1,843   9.741958   9.879317   \n",
       "\n",
       "          Low      Close        Volume  Dividends  Stock Splits  \n",
       "0    6.831186   7.141462  6.684499e+06   0.000000      0.000000  \n",
       "1    7.306041   7.466377  5.475329e+06   0.001508      0.000000  \n",
       "2   13.255040  13.509086  4.003371e+06   0.006056      0.000000  \n",
       "3   17.829554  18.050506  2.864371e+06   0.006056      0.000000  \n",
       "4   21.722627  22.063336  2.739881e+06   0.005873      0.000000  \n",
       "5   30.154044  30.607274  2.065014e+06   0.005714      0.000000  \n",
       "6   28.622715  29.061195  3.352397e+06   0.005238      0.000000  \n",
       "7   28.042760  28.513039  3.056201e+06   0.004365      0.000000  \n",
       "8   14.696856  14.930556  3.408874e+06   0.003200      0.000000  \n",
       "9   15.623742  15.854321  4.036077e+06   0.000000      0.000000  \n",
       "10  13.621450  13.831936  4.763984e+06   0.000000      0.000000  \n",
       "11  16.461253  16.856470  4.773900e+06   0.000000      0.000000  \n",
       "12  27.409196  28.163612  3.393034e+06   0.000000      0.000000  \n",
       "13  27.568837  28.070593  2.450527e+06   0.000000      0.007968  \n",
       "14  14.975898  15.227943  2.579027e+06   0.000000      0.000000  \n",
       "15   9.586097   9.728546  1.876875e+06   0.000000      0.000000  "
      ],
      "text/html": "<div>\n<style scoped>\n    .dataframe tbody tr th:only-of-type {\n        vertical-align: middle;\n    }\n\n    .dataframe tbody tr th {\n        vertical-align: top;\n    }\n\n    .dataframe thead th {\n        text-align: right;\n    }\n</style>\n<table border=\"1\" class=\"dataframe\">\n  <thead>\n    <tr style=\"text-align: right;\">\n      <th></th>\n      <th>Year</th>\n      <th>Gamestop Annual Revenue(Millions of US $)</th>\n      <th>Open</th>\n      <th>High</th>\n      <th>Low</th>\n      <th>Close</th>\n      <th>Volume</th>\n      <th>Dividends</th>\n      <th>Stock Splits</th>\n    </tr>\n  </thead>\n  <tbody>\n    <tr>\n      <th>0</th>\n      <td>2020</td>\n      <td>$6,466</td>\n      <td>7.121621</td>\n      <td>7.496759</td>\n      <td>6.831186</td>\n      <td>7.141462</td>\n      <td>6.684499e+06</td>\n      <td>0.000000</td>\n      <td>0.000000</td>\n    </tr>\n    <tr>\n      <th>1</th>\n      <td>2019</td>\n      <td>$8,285</td>\n      <td>7.460375</td>\n      <td>7.634163</td>\n      <td>7.306041</td>\n      <td>7.466377</td>\n      <td>5.475329e+06</td>\n      <td>0.001508</td>\n      <td>0.000000</td>\n    </tr>\n    <tr>\n      <th>2</th>\n      <td>2018</td>\n      <td>$8,547</td>\n      <td>13.513372</td>\n      <td>13.771933</td>\n      <td>13.255040</td>\n      <td>13.509086</td>\n      <td>4.003371e+06</td>\n      <td>0.006056</td>\n      <td>0.000000</td>\n    </tr>\n    <tr>\n      <th>3</th>\n      <td>2017</td>\n      <td>$7,965</td>\n      <td>18.067334</td>\n      <td>18.291842</td>\n      <td>17.829554</td>\n      <td>18.050506</td>\n      <td>2.864371e+06</td>\n      <td>0.006056</td>\n      <td>0.000000</td>\n    </tr>\n    <tr>\n      <th>4</th>\n      <td>2016</td>\n      <td>$9,364</td>\n      <td>22.072064</td>\n      <td>22.392119</td>\n      <td>21.722627</td>\n      <td>22.063336</td>\n      <td>2.739881e+06</td>\n      <td>0.005873</td>\n      <td>0.000000</td>\n    </tr>\n    <tr>\n      <th>5</th>\n      <td>2015</td>\n      <td>$9,296</td>\n      <td>30.615779</td>\n      <td>31.032210</td>\n      <td>30.154044</td>\n      <td>30.607274</td>\n      <td>2.065014e+06</td>\n      <td>0.005714</td>\n      <td>0.000000</td>\n    </tr>\n    <tr>\n      <th>6</th>\n      <td>2014</td>\n      <td>$9,040</td>\n      <td>29.097660</td>\n      <td>29.531998</td>\n      <td>28.622715</td>\n      <td>29.061195</td>\n      <td>3.352397e+06</td>\n      <td>0.005238</td>\n      <td>0.000000</td>\n    </tr>\n    <tr>\n      <th>7</th>\n      <td>2013</td>\n      <td>$8,887</td>\n      <td>28.487785</td>\n      <td>28.939054</td>\n      <td>28.042760</td>\n      <td>28.513039</td>\n      <td>3.056201e+06</td>\n      <td>0.004365</td>\n      <td>0.000000</td>\n    </tr>\n    <tr>\n      <th>8</th>\n      <td>2012</td>\n      <td>$9,551</td>\n      <td>14.937690</td>\n      <td>15.169566</td>\n      <td>14.696856</td>\n      <td>14.930556</td>\n      <td>3.408874e+06</td>\n      <td>0.003200</td>\n      <td>0.000000</td>\n    </tr>\n    <tr>\n      <th>9</th>\n      <td>2011</td>\n      <td>$9,474</td>\n      <td>15.841790</td>\n      <td>16.076269</td>\n      <td>15.623742</td>\n      <td>15.854321</td>\n      <td>4.036077e+06</td>\n      <td>0.000000</td>\n      <td>0.000000</td>\n    </tr>\n    <tr>\n      <th>10</th>\n      <td>2010</td>\n      <td>$9,078</td>\n      <td>13.828382</td>\n      <td>14.029277</td>\n      <td>13.621450</td>\n      <td>13.831936</td>\n      <td>4.763984e+06</td>\n      <td>0.000000</td>\n      <td>0.000000</td>\n    </tr>\n    <tr>\n      <th>11</th>\n      <td>2009</td>\n      <td>$8,806</td>\n      <td>16.879180</td>\n      <td>17.235735</td>\n      <td>16.461253</td>\n      <td>16.856470</td>\n      <td>4.773900e+06</td>\n      <td>0.000000</td>\n      <td>0.000000</td>\n    </tr>\n    <tr>\n      <th>12</th>\n      <td>2008</td>\n      <td>$7,094</td>\n      <td>28.221388</td>\n      <td>28.928672</td>\n      <td>27.409196</td>\n      <td>28.163612</td>\n      <td>3.393034e+06</td>\n      <td>0.000000</td>\n      <td>0.000000</td>\n    </tr>\n    <tr>\n      <th>13</th>\n      <td>2007</td>\n      <td>$5,319</td>\n      <td>28.052943</td>\n      <td>28.523756</td>\n      <td>27.568837</td>\n      <td>28.070593</td>\n      <td>2.450527e+06</td>\n      <td>0.000000</td>\n      <td>0.007968</td>\n    </tr>\n    <tr>\n      <th>14</th>\n      <td>2006</td>\n      <td>$3,092</td>\n      <td>15.213109</td>\n      <td>15.455524</td>\n      <td>14.975898</td>\n      <td>15.227943</td>\n      <td>2.579027e+06</td>\n      <td>0.000000</td>\n      <td>0.000000</td>\n    </tr>\n    <tr>\n      <th>15</th>\n      <td>2005</td>\n      <td>$1,843</td>\n      <td>9.741958</td>\n      <td>9.879317</td>\n      <td>9.586097</td>\n      <td>9.728546</td>\n      <td>1.876875e+06</td>\n      <td>0.000000</td>\n      <td>0.000000</td>\n    </tr>\n  </tbody>\n</table>\n</div>"
     },
     "metadata": {},
     "execution_count": 54
    }
   ],
   "source": [
    "Game_dash"
   ]
  },
  {
   "cell_type": "code",
   "execution_count": 55,
   "metadata": {},
   "outputs": [],
   "source": [
    "Game_dash = Game_dash[['Year', 'Open', 'High', 'Low', 'Close', 'Volume', 'Dividends', 'Stock Splits', 'Gamestop Annual Revenue(Millions of US $)']]"
   ]
  },
  {
   "cell_type": "code",
   "execution_count": 56,
   "metadata": {},
   "outputs": [
    {
     "output_type": "execute_result",
     "data": {
      "text/plain": [
       "    Year       Open       High        Low      Close        Volume  Dividends  \\\n",
       "0   2020   7.121621   7.496759   6.831186   7.141462  6.684499e+06   0.000000   \n",
       "1   2019   7.460375   7.634163   7.306041   7.466377  5.475329e+06   0.001508   \n",
       "2   2018  13.513372  13.771933  13.255040  13.509086  4.003371e+06   0.006056   \n",
       "3   2017  18.067334  18.291842  17.829554  18.050506  2.864371e+06   0.006056   \n",
       "4   2016  22.072064  22.392119  21.722627  22.063336  2.739881e+06   0.005873   \n",
       "5   2015  30.615779  31.032210  30.154044  30.607274  2.065014e+06   0.005714   \n",
       "6   2014  29.097660  29.531998  28.622715  29.061195  3.352397e+06   0.005238   \n",
       "7   2013  28.487785  28.939054  28.042760  28.513039  3.056201e+06   0.004365   \n",
       "8   2012  14.937690  15.169566  14.696856  14.930556  3.408874e+06   0.003200   \n",
       "9   2011  15.841790  16.076269  15.623742  15.854321  4.036077e+06   0.000000   \n",
       "10  2010  13.828382  14.029277  13.621450  13.831936  4.763984e+06   0.000000   \n",
       "11  2009  16.879180  17.235735  16.461253  16.856470  4.773900e+06   0.000000   \n",
       "12  2008  28.221388  28.928672  27.409196  28.163612  3.393034e+06   0.000000   \n",
       "13  2007  28.052943  28.523756  27.568837  28.070593  2.450527e+06   0.000000   \n",
       "14  2006  15.213109  15.455524  14.975898  15.227943  2.579027e+06   0.000000   \n",
       "15  2005   9.741958   9.879317   9.586097   9.728546  1.876875e+06   0.000000   \n",
       "\n",
       "    Stock Splits Gamestop Annual Revenue(Millions of US $)  \n",
       "0       0.000000                                    $6,466  \n",
       "1       0.000000                                    $8,285  \n",
       "2       0.000000                                    $8,547  \n",
       "3       0.000000                                    $7,965  \n",
       "4       0.000000                                    $9,364  \n",
       "5       0.000000                                    $9,296  \n",
       "6       0.000000                                    $9,040  \n",
       "7       0.000000                                    $8,887  \n",
       "8       0.000000                                    $9,551  \n",
       "9       0.000000                                    $9,474  \n",
       "10      0.000000                                    $9,078  \n",
       "11      0.000000                                    $8,806  \n",
       "12      0.000000                                    $7,094  \n",
       "13      0.007968                                    $5,319  \n",
       "14      0.000000                                    $3,092  \n",
       "15      0.000000                                    $1,843  "
      ],
      "text/html": "<div>\n<style scoped>\n    .dataframe tbody tr th:only-of-type {\n        vertical-align: middle;\n    }\n\n    .dataframe tbody tr th {\n        vertical-align: top;\n    }\n\n    .dataframe thead th {\n        text-align: right;\n    }\n</style>\n<table border=\"1\" class=\"dataframe\">\n  <thead>\n    <tr style=\"text-align: right;\">\n      <th></th>\n      <th>Year</th>\n      <th>Open</th>\n      <th>High</th>\n      <th>Low</th>\n      <th>Close</th>\n      <th>Volume</th>\n      <th>Dividends</th>\n      <th>Stock Splits</th>\n      <th>Gamestop Annual Revenue(Millions of US $)</th>\n    </tr>\n  </thead>\n  <tbody>\n    <tr>\n      <th>0</th>\n      <td>2020</td>\n      <td>7.121621</td>\n      <td>7.496759</td>\n      <td>6.831186</td>\n      <td>7.141462</td>\n      <td>6.684499e+06</td>\n      <td>0.000000</td>\n      <td>0.000000</td>\n      <td>$6,466</td>\n    </tr>\n    <tr>\n      <th>1</th>\n      <td>2019</td>\n      <td>7.460375</td>\n      <td>7.634163</td>\n      <td>7.306041</td>\n      <td>7.466377</td>\n      <td>5.475329e+06</td>\n      <td>0.001508</td>\n      <td>0.000000</td>\n      <td>$8,285</td>\n    </tr>\n    <tr>\n      <th>2</th>\n      <td>2018</td>\n      <td>13.513372</td>\n      <td>13.771933</td>\n      <td>13.255040</td>\n      <td>13.509086</td>\n      <td>4.003371e+06</td>\n      <td>0.006056</td>\n      <td>0.000000</td>\n      <td>$8,547</td>\n    </tr>\n    <tr>\n      <th>3</th>\n      <td>2017</td>\n      <td>18.067334</td>\n      <td>18.291842</td>\n      <td>17.829554</td>\n      <td>18.050506</td>\n      <td>2.864371e+06</td>\n      <td>0.006056</td>\n      <td>0.000000</td>\n      <td>$7,965</td>\n    </tr>\n    <tr>\n      <th>4</th>\n      <td>2016</td>\n      <td>22.072064</td>\n      <td>22.392119</td>\n      <td>21.722627</td>\n      <td>22.063336</td>\n      <td>2.739881e+06</td>\n      <td>0.005873</td>\n      <td>0.000000</td>\n      <td>$9,364</td>\n    </tr>\n    <tr>\n      <th>5</th>\n      <td>2015</td>\n      <td>30.615779</td>\n      <td>31.032210</td>\n      <td>30.154044</td>\n      <td>30.607274</td>\n      <td>2.065014e+06</td>\n      <td>0.005714</td>\n      <td>0.000000</td>\n      <td>$9,296</td>\n    </tr>\n    <tr>\n      <th>6</th>\n      <td>2014</td>\n      <td>29.097660</td>\n      <td>29.531998</td>\n      <td>28.622715</td>\n      <td>29.061195</td>\n      <td>3.352397e+06</td>\n      <td>0.005238</td>\n      <td>0.000000</td>\n      <td>$9,040</td>\n    </tr>\n    <tr>\n      <th>7</th>\n      <td>2013</td>\n      <td>28.487785</td>\n      <td>28.939054</td>\n      <td>28.042760</td>\n      <td>28.513039</td>\n      <td>3.056201e+06</td>\n      <td>0.004365</td>\n      <td>0.000000</td>\n      <td>$8,887</td>\n    </tr>\n    <tr>\n      <th>8</th>\n      <td>2012</td>\n      <td>14.937690</td>\n      <td>15.169566</td>\n      <td>14.696856</td>\n      <td>14.930556</td>\n      <td>3.408874e+06</td>\n      <td>0.003200</td>\n      <td>0.000000</td>\n      <td>$9,551</td>\n    </tr>\n    <tr>\n      <th>9</th>\n      <td>2011</td>\n      <td>15.841790</td>\n      <td>16.076269</td>\n      <td>15.623742</td>\n      <td>15.854321</td>\n      <td>4.036077e+06</td>\n      <td>0.000000</td>\n      <td>0.000000</td>\n      <td>$9,474</td>\n    </tr>\n    <tr>\n      <th>10</th>\n      <td>2010</td>\n      <td>13.828382</td>\n      <td>14.029277</td>\n      <td>13.621450</td>\n      <td>13.831936</td>\n      <td>4.763984e+06</td>\n      <td>0.000000</td>\n      <td>0.000000</td>\n      <td>$9,078</td>\n    </tr>\n    <tr>\n      <th>11</th>\n      <td>2009</td>\n      <td>16.879180</td>\n      <td>17.235735</td>\n      <td>16.461253</td>\n      <td>16.856470</td>\n      <td>4.773900e+06</td>\n      <td>0.000000</td>\n      <td>0.000000</td>\n      <td>$8,806</td>\n    </tr>\n    <tr>\n      <th>12</th>\n      <td>2008</td>\n      <td>28.221388</td>\n      <td>28.928672</td>\n      <td>27.409196</td>\n      <td>28.163612</td>\n      <td>3.393034e+06</td>\n      <td>0.000000</td>\n      <td>0.000000</td>\n      <td>$7,094</td>\n    </tr>\n    <tr>\n      <th>13</th>\n      <td>2007</td>\n      <td>28.052943</td>\n      <td>28.523756</td>\n      <td>27.568837</td>\n      <td>28.070593</td>\n      <td>2.450527e+06</td>\n      <td>0.000000</td>\n      <td>0.007968</td>\n      <td>$5,319</td>\n    </tr>\n    <tr>\n      <th>14</th>\n      <td>2006</td>\n      <td>15.213109</td>\n      <td>15.455524</td>\n      <td>14.975898</td>\n      <td>15.227943</td>\n      <td>2.579027e+06</td>\n      <td>0.000000</td>\n      <td>0.000000</td>\n      <td>$3,092</td>\n    </tr>\n    <tr>\n      <th>15</th>\n      <td>2005</td>\n      <td>9.741958</td>\n      <td>9.879317</td>\n      <td>9.586097</td>\n      <td>9.728546</td>\n      <td>1.876875e+06</td>\n      <td>0.000000</td>\n      <td>0.000000</td>\n      <td>$1,843</td>\n    </tr>\n  </tbody>\n</table>\n</div>"
     },
     "metadata": {},
     "execution_count": 56
    }
   ],
   "source": [
    "Game_dash"
   ]
  },
  {
   "source": [
    "## Question 7. Making stock graphs of two companies"
   ],
   "cell_type": "markdown",
   "metadata": {}
  },
  {
   "cell_type": "code",
   "execution_count": 71,
   "metadata": {},
   "outputs": [
    {
     "output_type": "execute_result",
     "data": {
      "text/plain": [
       "<AxesSubplot:title={'center':'Open stock value of Tesla per year (on average)'}, xlabel='Year'>"
      ]
     },
     "metadata": {},
     "execution_count": 71
    },
    {
     "output_type": "display_data",
     "data": {
      "text/plain": "<Figure size 432x288 with 1 Axes>",
      "image/svg+xml": "<?xml version=\"1.0\" encoding=\"utf-8\" standalone=\"no\"?>\n<!DOCTYPE svg PUBLIC \"-//W3C//DTD SVG 1.1//EN\"\n  \"http://www.w3.org/Graphics/SVG/1.1/DTD/svg11.dtd\">\n<!-- Created with matplotlib (https://matplotlib.org/) -->\n<svg height=\"277.314375pt\" version=\"1.1\" viewBox=\"0 0 375.2875 277.314375\" width=\"375.2875pt\" xmlns=\"http://www.w3.org/2000/svg\" xmlns:xlink=\"http://www.w3.org/1999/xlink\">\n <metadata>\n  <rdf:RDF xmlns:cc=\"http://creativecommons.org/ns#\" xmlns:dc=\"http://purl.org/dc/elements/1.1/\" xmlns:rdf=\"http://www.w3.org/1999/02/22-rdf-syntax-ns#\">\n   <cc:Work>\n    <dc:type rdf:resource=\"http://purl.org/dc/dcmitype/StillImage\"/>\n    <dc:date>2021-02-23T12:25:45.094070</dc:date>\n    <dc:format>image/svg+xml</dc:format>\n    <dc:creator>\n     <cc:Agent>\n      <dc:title>Matplotlib v3.3.4, https://matplotlib.org/</dc:title>\n     </cc:Agent>\n    </dc:creator>\n   </cc:Work>\n  </rdf:RDF>\n </metadata>\n <defs>\n  <style type=\"text/css\">*{stroke-linecap:butt;stroke-linejoin:round;}</style>\n </defs>\n <g id=\"figure_1\">\n  <g id=\"patch_1\">\n   <path d=\"M 0 277.314375 \nL 375.2875 277.314375 \nL 375.2875 0 \nL 0 0 \nz\n\" style=\"fill:none;\"/>\n  </g>\n  <g id=\"axes_1\">\n   <g id=\"patch_2\">\n    <path d=\"M 33.2875 239.758125 \nL 368.0875 239.758125 \nL 368.0875 22.318125 \nL 33.2875 22.318125 \nz\n\" style=\"fill:#ffffff;\"/>\n   </g>\n   <g id=\"matplotlib.axis_1\">\n    <g id=\"xtick_1\">\n     <g id=\"line2d_1\">\n      <defs>\n       <path d=\"M 0 0 \nL 0 3.5 \n\" id=\"m6c63d2d12b\" style=\"stroke:#000000;stroke-width:0.8;\"/>\n      </defs>\n      <g>\n       <use style=\"stroke:#000000;stroke-width:0.8;\" x=\"48.505682\" xlink:href=\"#m6c63d2d12b\" y=\"239.758125\"/>\n      </g>\n     </g>\n     <g id=\"text_1\">\n      <!-- 2010 -->\n      <g transform=\"translate(35.780682 254.356562)scale(0.1 -0.1)\">\n       <defs>\n        <path d=\"M 19.1875 8.296875 \nL 53.609375 8.296875 \nL 53.609375 0 \nL 7.328125 0 \nL 7.328125 8.296875 \nQ 12.9375 14.109375 22.625 23.890625 \nQ 32.328125 33.6875 34.8125 36.53125 \nQ 39.546875 41.84375 41.421875 45.53125 \nQ 43.3125 49.21875 43.3125 52.78125 \nQ 43.3125 58.59375 39.234375 62.25 \nQ 35.15625 65.921875 28.609375 65.921875 \nQ 23.96875 65.921875 18.8125 64.3125 \nQ 13.671875 62.703125 7.8125 59.421875 \nL 7.8125 69.390625 \nQ 13.765625 71.78125 18.9375 73 \nQ 24.125 74.21875 28.421875 74.21875 \nQ 39.75 74.21875 46.484375 68.546875 \nQ 53.21875 62.890625 53.21875 53.421875 \nQ 53.21875 48.921875 51.53125 44.890625 \nQ 49.859375 40.875 45.40625 35.40625 \nQ 44.1875 33.984375 37.640625 27.21875 \nQ 31.109375 20.453125 19.1875 8.296875 \nz\n\" id=\"DejaVuSans-50\"/>\n        <path d=\"M 31.78125 66.40625 \nQ 24.171875 66.40625 20.328125 58.90625 \nQ 16.5 51.421875 16.5 36.375 \nQ 16.5 21.390625 20.328125 13.890625 \nQ 24.171875 6.390625 31.78125 6.390625 \nQ 39.453125 6.390625 43.28125 13.890625 \nQ 47.125 21.390625 47.125 36.375 \nQ 47.125 51.421875 43.28125 58.90625 \nQ 39.453125 66.40625 31.78125 66.40625 \nz\nM 31.78125 74.21875 \nQ 44.046875 74.21875 50.515625 64.515625 \nQ 56.984375 54.828125 56.984375 36.375 \nQ 56.984375 17.96875 50.515625 8.265625 \nQ 44.046875 -1.421875 31.78125 -1.421875 \nQ 19.53125 -1.421875 13.0625 8.265625 \nQ 6.59375 17.96875 6.59375 36.375 \nQ 6.59375 54.828125 13.0625 64.515625 \nQ 19.53125 74.21875 31.78125 74.21875 \nz\n\" id=\"DejaVuSans-48\"/>\n        <path d=\"M 12.40625 8.296875 \nL 28.515625 8.296875 \nL 28.515625 63.921875 \nL 10.984375 60.40625 \nL 10.984375 69.390625 \nL 28.421875 72.90625 \nL 38.28125 72.90625 \nL 38.28125 8.296875 \nL 54.390625 8.296875 \nL 54.390625 0 \nL 12.40625 0 \nz\n\" id=\"DejaVuSans-49\"/>\n       </defs>\n       <use xlink:href=\"#DejaVuSans-50\"/>\n       <use x=\"63.623047\" xlink:href=\"#DejaVuSans-48\"/>\n       <use x=\"127.246094\" xlink:href=\"#DejaVuSans-49\"/>\n       <use x=\"190.869141\" xlink:href=\"#DejaVuSans-48\"/>\n      </g>\n     </g>\n    </g>\n    <g id=\"xtick_2\">\n     <g id=\"line2d_2\">\n      <g>\n       <use style=\"stroke:#000000;stroke-width:0.8;\" x=\"109.378409\" xlink:href=\"#m6c63d2d12b\" y=\"239.758125\"/>\n      </g>\n     </g>\n     <g id=\"text_2\">\n      <!-- 2012 -->\n      <g transform=\"translate(96.653409 254.356562)scale(0.1 -0.1)\">\n       <use xlink:href=\"#DejaVuSans-50\"/>\n       <use x=\"63.623047\" xlink:href=\"#DejaVuSans-48\"/>\n       <use x=\"127.246094\" xlink:href=\"#DejaVuSans-49\"/>\n       <use x=\"190.869141\" xlink:href=\"#DejaVuSans-50\"/>\n      </g>\n     </g>\n    </g>\n    <g id=\"xtick_3\">\n     <g id=\"line2d_3\">\n      <g>\n       <use style=\"stroke:#000000;stroke-width:0.8;\" x=\"170.251136\" xlink:href=\"#m6c63d2d12b\" y=\"239.758125\"/>\n      </g>\n     </g>\n     <g id=\"text_3\">\n      <!-- 2014 -->\n      <g transform=\"translate(157.526136 254.356562)scale(0.1 -0.1)\">\n       <defs>\n        <path d=\"M 37.796875 64.3125 \nL 12.890625 25.390625 \nL 37.796875 25.390625 \nz\nM 35.203125 72.90625 \nL 47.609375 72.90625 \nL 47.609375 25.390625 \nL 58.015625 25.390625 \nL 58.015625 17.1875 \nL 47.609375 17.1875 \nL 47.609375 0 \nL 37.796875 0 \nL 37.796875 17.1875 \nL 4.890625 17.1875 \nL 4.890625 26.703125 \nz\n\" id=\"DejaVuSans-52\"/>\n       </defs>\n       <use xlink:href=\"#DejaVuSans-50\"/>\n       <use x=\"63.623047\" xlink:href=\"#DejaVuSans-48\"/>\n       <use x=\"127.246094\" xlink:href=\"#DejaVuSans-49\"/>\n       <use x=\"190.869141\" xlink:href=\"#DejaVuSans-52\"/>\n      </g>\n     </g>\n    </g>\n    <g id=\"xtick_4\">\n     <g id=\"line2d_4\">\n      <g>\n       <use style=\"stroke:#000000;stroke-width:0.8;\" x=\"231.123864\" xlink:href=\"#m6c63d2d12b\" y=\"239.758125\"/>\n      </g>\n     </g>\n     <g id=\"text_4\">\n      <!-- 2016 -->\n      <g transform=\"translate(218.398864 254.356562)scale(0.1 -0.1)\">\n       <defs>\n        <path d=\"M 33.015625 40.375 \nQ 26.375 40.375 22.484375 35.828125 \nQ 18.609375 31.296875 18.609375 23.390625 \nQ 18.609375 15.53125 22.484375 10.953125 \nQ 26.375 6.390625 33.015625 6.390625 \nQ 39.65625 6.390625 43.53125 10.953125 \nQ 47.40625 15.53125 47.40625 23.390625 \nQ 47.40625 31.296875 43.53125 35.828125 \nQ 39.65625 40.375 33.015625 40.375 \nz\nM 52.59375 71.296875 \nL 52.59375 62.3125 \nQ 48.875 64.0625 45.09375 64.984375 \nQ 41.3125 65.921875 37.59375 65.921875 \nQ 27.828125 65.921875 22.671875 59.328125 \nQ 17.53125 52.734375 16.796875 39.40625 \nQ 19.671875 43.65625 24.015625 45.921875 \nQ 28.375 48.1875 33.59375 48.1875 \nQ 44.578125 48.1875 50.953125 41.515625 \nQ 57.328125 34.859375 57.328125 23.390625 \nQ 57.328125 12.15625 50.6875 5.359375 \nQ 44.046875 -1.421875 33.015625 -1.421875 \nQ 20.359375 -1.421875 13.671875 8.265625 \nQ 6.984375 17.96875 6.984375 36.375 \nQ 6.984375 53.65625 15.1875 63.9375 \nQ 23.390625 74.21875 37.203125 74.21875 \nQ 40.921875 74.21875 44.703125 73.484375 \nQ 48.484375 72.75 52.59375 71.296875 \nz\n\" id=\"DejaVuSans-54\"/>\n       </defs>\n       <use xlink:href=\"#DejaVuSans-50\"/>\n       <use x=\"63.623047\" xlink:href=\"#DejaVuSans-48\"/>\n       <use x=\"127.246094\" xlink:href=\"#DejaVuSans-49\"/>\n       <use x=\"190.869141\" xlink:href=\"#DejaVuSans-54\"/>\n      </g>\n     </g>\n    </g>\n    <g id=\"xtick_5\">\n     <g id=\"line2d_5\">\n      <g>\n       <use style=\"stroke:#000000;stroke-width:0.8;\" x=\"291.996591\" xlink:href=\"#m6c63d2d12b\" y=\"239.758125\"/>\n      </g>\n     </g>\n     <g id=\"text_5\">\n      <!-- 2018 -->\n      <g transform=\"translate(279.271591 254.356562)scale(0.1 -0.1)\">\n       <defs>\n        <path d=\"M 31.78125 34.625 \nQ 24.75 34.625 20.71875 30.859375 \nQ 16.703125 27.09375 16.703125 20.515625 \nQ 16.703125 13.921875 20.71875 10.15625 \nQ 24.75 6.390625 31.78125 6.390625 \nQ 38.8125 6.390625 42.859375 10.171875 \nQ 46.921875 13.96875 46.921875 20.515625 \nQ 46.921875 27.09375 42.890625 30.859375 \nQ 38.875 34.625 31.78125 34.625 \nz\nM 21.921875 38.8125 \nQ 15.578125 40.375 12.03125 44.71875 \nQ 8.5 49.078125 8.5 55.328125 \nQ 8.5 64.0625 14.71875 69.140625 \nQ 20.953125 74.21875 31.78125 74.21875 \nQ 42.671875 74.21875 48.875 69.140625 \nQ 55.078125 64.0625 55.078125 55.328125 \nQ 55.078125 49.078125 51.53125 44.71875 \nQ 48 40.375 41.703125 38.8125 \nQ 48.828125 37.15625 52.796875 32.3125 \nQ 56.78125 27.484375 56.78125 20.515625 \nQ 56.78125 9.90625 50.3125 4.234375 \nQ 43.84375 -1.421875 31.78125 -1.421875 \nQ 19.734375 -1.421875 13.25 4.234375 \nQ 6.78125 9.90625 6.78125 20.515625 \nQ 6.78125 27.484375 10.78125 32.3125 \nQ 14.796875 37.15625 21.921875 38.8125 \nz\nM 18.3125 54.390625 \nQ 18.3125 48.734375 21.84375 45.5625 \nQ 25.390625 42.390625 31.78125 42.390625 \nQ 38.140625 42.390625 41.71875 45.5625 \nQ 45.3125 48.734375 45.3125 54.390625 \nQ 45.3125 60.0625 41.71875 63.234375 \nQ 38.140625 66.40625 31.78125 66.40625 \nQ 25.390625 66.40625 21.84375 63.234375 \nQ 18.3125 60.0625 18.3125 54.390625 \nz\n\" id=\"DejaVuSans-56\"/>\n       </defs>\n       <use xlink:href=\"#DejaVuSans-50\"/>\n       <use x=\"63.623047\" xlink:href=\"#DejaVuSans-48\"/>\n       <use x=\"127.246094\" xlink:href=\"#DejaVuSans-49\"/>\n       <use x=\"190.869141\" xlink:href=\"#DejaVuSans-56\"/>\n      </g>\n     </g>\n    </g>\n    <g id=\"xtick_6\">\n     <g id=\"line2d_6\">\n      <g>\n       <use style=\"stroke:#000000;stroke-width:0.8;\" x=\"352.869318\" xlink:href=\"#m6c63d2d12b\" y=\"239.758125\"/>\n      </g>\n     </g>\n     <g id=\"text_6\">\n      <!-- 2020 -->\n      <g transform=\"translate(340.144318 254.356562)scale(0.1 -0.1)\">\n       <use xlink:href=\"#DejaVuSans-50\"/>\n       <use x=\"63.623047\" xlink:href=\"#DejaVuSans-48\"/>\n       <use x=\"127.246094\" xlink:href=\"#DejaVuSans-50\"/>\n       <use x=\"190.869141\" xlink:href=\"#DejaVuSans-48\"/>\n      </g>\n     </g>\n    </g>\n    <g id=\"text_7\">\n     <!-- Year -->\n     <g transform=\"translate(190.1 268.034687)scale(0.1 -0.1)\">\n      <defs>\n       <path d=\"M -0.203125 72.90625 \nL 10.40625 72.90625 \nL 30.609375 42.921875 \nL 50.6875 72.90625 \nL 61.28125 72.90625 \nL 35.5 34.71875 \nL 35.5 0 \nL 25.59375 0 \nL 25.59375 34.71875 \nz\n\" id=\"DejaVuSans-89\"/>\n       <path d=\"M 56.203125 29.59375 \nL 56.203125 25.203125 \nL 14.890625 25.203125 \nQ 15.484375 15.921875 20.484375 11.0625 \nQ 25.484375 6.203125 34.421875 6.203125 \nQ 39.59375 6.203125 44.453125 7.46875 \nQ 49.3125 8.734375 54.109375 11.28125 \nL 54.109375 2.78125 \nQ 49.265625 0.734375 44.1875 -0.34375 \nQ 39.109375 -1.421875 33.890625 -1.421875 \nQ 20.796875 -1.421875 13.15625 6.1875 \nQ 5.515625 13.8125 5.515625 26.8125 \nQ 5.515625 40.234375 12.765625 48.109375 \nQ 20.015625 56 32.328125 56 \nQ 43.359375 56 49.78125 48.890625 \nQ 56.203125 41.796875 56.203125 29.59375 \nz\nM 47.21875 32.234375 \nQ 47.125 39.59375 43.09375 43.984375 \nQ 39.0625 48.390625 32.421875 48.390625 \nQ 24.90625 48.390625 20.390625 44.140625 \nQ 15.875 39.890625 15.1875 32.171875 \nz\n\" id=\"DejaVuSans-101\"/>\n       <path d=\"M 34.28125 27.484375 \nQ 23.390625 27.484375 19.1875 25 \nQ 14.984375 22.515625 14.984375 16.5 \nQ 14.984375 11.71875 18.140625 8.90625 \nQ 21.296875 6.109375 26.703125 6.109375 \nQ 34.1875 6.109375 38.703125 11.40625 \nQ 43.21875 16.703125 43.21875 25.484375 \nL 43.21875 27.484375 \nz\nM 52.203125 31.203125 \nL 52.203125 0 \nL 43.21875 0 \nL 43.21875 8.296875 \nQ 40.140625 3.328125 35.546875 0.953125 \nQ 30.953125 -1.421875 24.3125 -1.421875 \nQ 15.921875 -1.421875 10.953125 3.296875 \nQ 6 8.015625 6 15.921875 \nQ 6 25.140625 12.171875 29.828125 \nQ 18.359375 34.515625 30.609375 34.515625 \nL 43.21875 34.515625 \nL 43.21875 35.40625 \nQ 43.21875 41.609375 39.140625 45 \nQ 35.0625 48.390625 27.6875 48.390625 \nQ 23 48.390625 18.546875 47.265625 \nQ 14.109375 46.140625 10.015625 43.890625 \nL 10.015625 52.203125 \nQ 14.9375 54.109375 19.578125 55.046875 \nQ 24.21875 56 28.609375 56 \nQ 40.484375 56 46.34375 49.84375 \nQ 52.203125 43.703125 52.203125 31.203125 \nz\n\" id=\"DejaVuSans-97\"/>\n       <path d=\"M 41.109375 46.296875 \nQ 39.59375 47.171875 37.8125 47.578125 \nQ 36.03125 48 33.890625 48 \nQ 26.265625 48 22.1875 43.046875 \nQ 18.109375 38.09375 18.109375 28.8125 \nL 18.109375 0 \nL 9.078125 0 \nL 9.078125 54.6875 \nL 18.109375 54.6875 \nL 18.109375 46.1875 \nQ 20.953125 51.171875 25.484375 53.578125 \nQ 30.03125 56 36.53125 56 \nQ 37.453125 56 38.578125 55.875 \nQ 39.703125 55.765625 41.0625 55.515625 \nz\n\" id=\"DejaVuSans-114\"/>\n      </defs>\n      <use xlink:href=\"#DejaVuSans-89\"/>\n      <use x=\"47.833984\" xlink:href=\"#DejaVuSans-101\"/>\n      <use x=\"109.357422\" xlink:href=\"#DejaVuSans-97\"/>\n      <use x=\"170.636719\" xlink:href=\"#DejaVuSans-114\"/>\n     </g>\n    </g>\n   </g>\n   <g id=\"matplotlib.axis_2\">\n    <g id=\"ytick_1\">\n     <g id=\"line2d_7\">\n      <defs>\n       <path d=\"M 0 0 \nL -3.5 0 \n\" id=\"mba2f3b2efd\" style=\"stroke:#000000;stroke-width:0.8;\"/>\n      </defs>\n      <g>\n       <use style=\"stroke:#000000;stroke-width:0.8;\" x=\"33.2875\" xlink:href=\"#mba2f3b2efd\" y=\"233.128136\"/>\n      </g>\n     </g>\n     <g id=\"text_8\">\n      <!-- 0 -->\n      <g transform=\"translate(19.925 236.927355)scale(0.1 -0.1)\">\n       <use xlink:href=\"#DejaVuSans-48\"/>\n      </g>\n     </g>\n    </g>\n    <g id=\"ytick_2\">\n     <g id=\"line2d_8\">\n      <g>\n       <use style=\"stroke:#000000;stroke-width:0.8;\" x=\"33.2875\" xlink:href=\"#mba2f3b2efd\" y=\"198.378825\"/>\n      </g>\n     </g>\n     <g id=\"text_9\">\n      <!-- 50 -->\n      <g transform=\"translate(13.5625 202.178044)scale(0.1 -0.1)\">\n       <defs>\n        <path d=\"M 10.796875 72.90625 \nL 49.515625 72.90625 \nL 49.515625 64.59375 \nL 19.828125 64.59375 \nL 19.828125 46.734375 \nQ 21.96875 47.46875 24.109375 47.828125 \nQ 26.265625 48.1875 28.421875 48.1875 \nQ 40.625 48.1875 47.75 41.5 \nQ 54.890625 34.8125 54.890625 23.390625 \nQ 54.890625 11.625 47.5625 5.09375 \nQ 40.234375 -1.421875 26.90625 -1.421875 \nQ 22.3125 -1.421875 17.546875 -0.640625 \nQ 12.796875 0.140625 7.71875 1.703125 \nL 7.71875 11.625 \nQ 12.109375 9.234375 16.796875 8.0625 \nQ 21.484375 6.890625 26.703125 6.890625 \nQ 35.15625 6.890625 40.078125 11.328125 \nQ 45.015625 15.765625 45.015625 23.390625 \nQ 45.015625 31 40.078125 35.4375 \nQ 35.15625 39.890625 26.703125 39.890625 \nQ 22.75 39.890625 18.8125 39.015625 \nQ 14.890625 38.140625 10.796875 36.28125 \nz\n\" id=\"DejaVuSans-53\"/>\n       </defs>\n       <use xlink:href=\"#DejaVuSans-53\"/>\n       <use x=\"63.623047\" xlink:href=\"#DejaVuSans-48\"/>\n      </g>\n     </g>\n    </g>\n    <g id=\"ytick_3\">\n     <g id=\"line2d_9\">\n      <g>\n       <use style=\"stroke:#000000;stroke-width:0.8;\" x=\"33.2875\" xlink:href=\"#mba2f3b2efd\" y=\"163.629514\"/>\n      </g>\n     </g>\n     <g id=\"text_10\">\n      <!-- 100 -->\n      <g transform=\"translate(7.2 167.428732)scale(0.1 -0.1)\">\n       <use xlink:href=\"#DejaVuSans-49\"/>\n       <use x=\"63.623047\" xlink:href=\"#DejaVuSans-48\"/>\n       <use x=\"127.246094\" xlink:href=\"#DejaVuSans-48\"/>\n      </g>\n     </g>\n    </g>\n    <g id=\"ytick_4\">\n     <g id=\"line2d_10\">\n      <g>\n       <use style=\"stroke:#000000;stroke-width:0.8;\" x=\"33.2875\" xlink:href=\"#mba2f3b2efd\" y=\"128.880202\"/>\n      </g>\n     </g>\n     <g id=\"text_11\">\n      <!-- 150 -->\n      <g transform=\"translate(7.2 132.679421)scale(0.1 -0.1)\">\n       <use xlink:href=\"#DejaVuSans-49\"/>\n       <use x=\"63.623047\" xlink:href=\"#DejaVuSans-53\"/>\n       <use x=\"127.246094\" xlink:href=\"#DejaVuSans-48\"/>\n      </g>\n     </g>\n    </g>\n    <g id=\"ytick_5\">\n     <g id=\"line2d_11\">\n      <g>\n       <use style=\"stroke:#000000;stroke-width:0.8;\" x=\"33.2875\" xlink:href=\"#mba2f3b2efd\" y=\"94.130891\"/>\n      </g>\n     </g>\n     <g id=\"text_12\">\n      <!-- 200 -->\n      <g transform=\"translate(7.2 97.93011)scale(0.1 -0.1)\">\n       <use xlink:href=\"#DejaVuSans-50\"/>\n       <use x=\"63.623047\" xlink:href=\"#DejaVuSans-48\"/>\n       <use x=\"127.246094\" xlink:href=\"#DejaVuSans-48\"/>\n      </g>\n     </g>\n    </g>\n    <g id=\"ytick_6\">\n     <g id=\"line2d_12\">\n      <g>\n       <use style=\"stroke:#000000;stroke-width:0.8;\" x=\"33.2875\" xlink:href=\"#mba2f3b2efd\" y=\"59.38158\"/>\n      </g>\n     </g>\n     <g id=\"text_13\">\n      <!-- 250 -->\n      <g transform=\"translate(7.2 63.180799)scale(0.1 -0.1)\">\n       <use xlink:href=\"#DejaVuSans-50\"/>\n       <use x=\"63.623047\" xlink:href=\"#DejaVuSans-53\"/>\n       <use x=\"127.246094\" xlink:href=\"#DejaVuSans-48\"/>\n      </g>\n     </g>\n    </g>\n    <g id=\"ytick_7\">\n     <g id=\"line2d_13\">\n      <g>\n       <use style=\"stroke:#000000;stroke-width:0.8;\" x=\"33.2875\" xlink:href=\"#mba2f3b2efd\" y=\"24.632269\"/>\n      </g>\n     </g>\n     <g id=\"text_14\">\n      <!-- 300 -->\n      <g transform=\"translate(7.2 28.431487)scale(0.1 -0.1)\">\n       <defs>\n        <path d=\"M 40.578125 39.3125 \nQ 47.65625 37.796875 51.625 33 \nQ 55.609375 28.21875 55.609375 21.1875 \nQ 55.609375 10.40625 48.1875 4.484375 \nQ 40.765625 -1.421875 27.09375 -1.421875 \nQ 22.515625 -1.421875 17.65625 -0.515625 \nQ 12.796875 0.390625 7.625 2.203125 \nL 7.625 11.71875 \nQ 11.71875 9.328125 16.59375 8.109375 \nQ 21.484375 6.890625 26.8125 6.890625 \nQ 36.078125 6.890625 40.9375 10.546875 \nQ 45.796875 14.203125 45.796875 21.1875 \nQ 45.796875 27.640625 41.28125 31.265625 \nQ 36.765625 34.90625 28.71875 34.90625 \nL 20.21875 34.90625 \nL 20.21875 43.015625 \nL 29.109375 43.015625 \nQ 36.375 43.015625 40.234375 45.921875 \nQ 44.09375 48.828125 44.09375 54.296875 \nQ 44.09375 59.90625 40.109375 62.90625 \nQ 36.140625 65.921875 28.71875 65.921875 \nQ 24.65625 65.921875 20.015625 65.03125 \nQ 15.375 64.15625 9.8125 62.3125 \nL 9.8125 71.09375 \nQ 15.4375 72.65625 20.34375 73.4375 \nQ 25.25 74.21875 29.59375 74.21875 \nQ 40.828125 74.21875 47.359375 69.109375 \nQ 53.90625 64.015625 53.90625 55.328125 \nQ 53.90625 49.265625 50.4375 45.09375 \nQ 46.96875 40.921875 40.578125 39.3125 \nz\n\" id=\"DejaVuSans-51\"/>\n       </defs>\n       <use xlink:href=\"#DejaVuSans-51\"/>\n       <use x=\"63.623047\" xlink:href=\"#DejaVuSans-48\"/>\n       <use x=\"127.246094\" xlink:href=\"#DejaVuSans-48\"/>\n      </g>\n     </g>\n    </g>\n   </g>\n   <g id=\"line2d_14\">\n    <path clip-path=\"url(#p97d3b933dc)\" d=\"M 352.869318 32.201761 \nL 322.432955 195.177978 \nL 291.996591 189.040508 \nL 261.560227 189.441828 \nL 231.123864 203.93059 \nL 200.6875 201.182129 \nL 170.251136 202.074012 \nL 139.814773 218.61454 \nL 109.378409 228.790988 \nL 78.942045 229.399954 \nL 48.505682 229.874489 \n\" style=\"fill:none;stroke:#1f77b4;stroke-linecap:square;stroke-width:1.5;\"/>\n   </g>\n   <g id=\"patch_3\">\n    <path d=\"M 33.2875 239.758125 \nL 33.2875 22.318125 \n\" style=\"fill:none;stroke:#000000;stroke-linecap:square;stroke-linejoin:miter;stroke-width:0.8;\"/>\n   </g>\n   <g id=\"patch_4\">\n    <path d=\"M 368.0875 239.758125 \nL 368.0875 22.318125 \n\" style=\"fill:none;stroke:#000000;stroke-linecap:square;stroke-linejoin:miter;stroke-width:0.8;\"/>\n   </g>\n   <g id=\"patch_5\">\n    <path d=\"M 33.2875 239.758125 \nL 368.0875 239.758125 \n\" style=\"fill:none;stroke:#000000;stroke-linecap:square;stroke-linejoin:miter;stroke-width:0.8;\"/>\n   </g>\n   <g id=\"patch_6\">\n    <path d=\"M 33.2875 22.318125 \nL 368.0875 22.318125 \n\" style=\"fill:none;stroke:#000000;stroke-linecap:square;stroke-linejoin:miter;stroke-width:0.8;\"/>\n   </g>\n   <g id=\"text_15\">\n    <!-- Open stock value of Tesla per year (on average) -->\n    <g transform=\"translate(56.430625 16.318125)scale(0.12 -0.12)\">\n     <defs>\n      <path d=\"M 39.40625 66.21875 \nQ 28.65625 66.21875 22.328125 58.203125 \nQ 16.015625 50.203125 16.015625 36.375 \nQ 16.015625 22.609375 22.328125 14.59375 \nQ 28.65625 6.59375 39.40625 6.59375 \nQ 50.140625 6.59375 56.421875 14.59375 \nQ 62.703125 22.609375 62.703125 36.375 \nQ 62.703125 50.203125 56.421875 58.203125 \nQ 50.140625 66.21875 39.40625 66.21875 \nz\nM 39.40625 74.21875 \nQ 54.734375 74.21875 63.90625 63.9375 \nQ 73.09375 53.65625 73.09375 36.375 \nQ 73.09375 19.140625 63.90625 8.859375 \nQ 54.734375 -1.421875 39.40625 -1.421875 \nQ 24.03125 -1.421875 14.8125 8.828125 \nQ 5.609375 19.09375 5.609375 36.375 \nQ 5.609375 53.65625 14.8125 63.9375 \nQ 24.03125 74.21875 39.40625 74.21875 \nz\n\" id=\"DejaVuSans-79\"/>\n      <path d=\"M 18.109375 8.203125 \nL 18.109375 -20.796875 \nL 9.078125 -20.796875 \nL 9.078125 54.6875 \nL 18.109375 54.6875 \nL 18.109375 46.390625 \nQ 20.953125 51.265625 25.265625 53.625 \nQ 29.59375 56 35.59375 56 \nQ 45.5625 56 51.78125 48.09375 \nQ 58.015625 40.1875 58.015625 27.296875 \nQ 58.015625 14.40625 51.78125 6.484375 \nQ 45.5625 -1.421875 35.59375 -1.421875 \nQ 29.59375 -1.421875 25.265625 0.953125 \nQ 20.953125 3.328125 18.109375 8.203125 \nz\nM 48.6875 27.296875 \nQ 48.6875 37.203125 44.609375 42.84375 \nQ 40.53125 48.484375 33.40625 48.484375 \nQ 26.265625 48.484375 22.1875 42.84375 \nQ 18.109375 37.203125 18.109375 27.296875 \nQ 18.109375 17.390625 22.1875 11.75 \nQ 26.265625 6.109375 33.40625 6.109375 \nQ 40.53125 6.109375 44.609375 11.75 \nQ 48.6875 17.390625 48.6875 27.296875 \nz\n\" id=\"DejaVuSans-112\"/>\n      <path d=\"M 54.890625 33.015625 \nL 54.890625 0 \nL 45.90625 0 \nL 45.90625 32.71875 \nQ 45.90625 40.484375 42.875 44.328125 \nQ 39.84375 48.1875 33.796875 48.1875 \nQ 26.515625 48.1875 22.3125 43.546875 \nQ 18.109375 38.921875 18.109375 30.90625 \nL 18.109375 0 \nL 9.078125 0 \nL 9.078125 54.6875 \nL 18.109375 54.6875 \nL 18.109375 46.1875 \nQ 21.34375 51.125 25.703125 53.5625 \nQ 30.078125 56 35.796875 56 \nQ 45.21875 56 50.046875 50.171875 \nQ 54.890625 44.34375 54.890625 33.015625 \nz\n\" id=\"DejaVuSans-110\"/>\n      <path id=\"DejaVuSans-32\"/>\n      <path d=\"M 44.28125 53.078125 \nL 44.28125 44.578125 \nQ 40.484375 46.53125 36.375 47.5 \nQ 32.28125 48.484375 27.875 48.484375 \nQ 21.1875 48.484375 17.84375 46.4375 \nQ 14.5 44.390625 14.5 40.28125 \nQ 14.5 37.15625 16.890625 35.375 \nQ 19.28125 33.59375 26.515625 31.984375 \nL 29.59375 31.296875 \nQ 39.15625 29.25 43.1875 25.515625 \nQ 47.21875 21.78125 47.21875 15.09375 \nQ 47.21875 7.46875 41.1875 3.015625 \nQ 35.15625 -1.421875 24.609375 -1.421875 \nQ 20.21875 -1.421875 15.453125 -0.5625 \nQ 10.6875 0.296875 5.421875 2 \nL 5.421875 11.28125 \nQ 10.40625 8.6875 15.234375 7.390625 \nQ 20.0625 6.109375 24.8125 6.109375 \nQ 31.15625 6.109375 34.5625 8.28125 \nQ 37.984375 10.453125 37.984375 14.40625 \nQ 37.984375 18.0625 35.515625 20.015625 \nQ 33.0625 21.96875 24.703125 23.78125 \nL 21.578125 24.515625 \nQ 13.234375 26.265625 9.515625 29.90625 \nQ 5.8125 33.546875 5.8125 39.890625 \nQ 5.8125 47.609375 11.28125 51.796875 \nQ 16.75 56 26.8125 56 \nQ 31.78125 56 36.171875 55.265625 \nQ 40.578125 54.546875 44.28125 53.078125 \nz\n\" id=\"DejaVuSans-115\"/>\n      <path d=\"M 18.3125 70.21875 \nL 18.3125 54.6875 \nL 36.8125 54.6875 \nL 36.8125 47.703125 \nL 18.3125 47.703125 \nL 18.3125 18.015625 \nQ 18.3125 11.328125 20.140625 9.421875 \nQ 21.96875 7.515625 27.59375 7.515625 \nL 36.8125 7.515625 \nL 36.8125 0 \nL 27.59375 0 \nQ 17.1875 0 13.234375 3.875 \nQ 9.28125 7.765625 9.28125 18.015625 \nL 9.28125 47.703125 \nL 2.6875 47.703125 \nL 2.6875 54.6875 \nL 9.28125 54.6875 \nL 9.28125 70.21875 \nz\n\" id=\"DejaVuSans-116\"/>\n      <path d=\"M 30.609375 48.390625 \nQ 23.390625 48.390625 19.1875 42.75 \nQ 14.984375 37.109375 14.984375 27.296875 \nQ 14.984375 17.484375 19.15625 11.84375 \nQ 23.34375 6.203125 30.609375 6.203125 \nQ 37.796875 6.203125 41.984375 11.859375 \nQ 46.1875 17.53125 46.1875 27.296875 \nQ 46.1875 37.015625 41.984375 42.703125 \nQ 37.796875 48.390625 30.609375 48.390625 \nz\nM 30.609375 56 \nQ 42.328125 56 49.015625 48.375 \nQ 55.71875 40.765625 55.71875 27.296875 \nQ 55.71875 13.875 49.015625 6.21875 \nQ 42.328125 -1.421875 30.609375 -1.421875 \nQ 18.84375 -1.421875 12.171875 6.21875 \nQ 5.515625 13.875 5.515625 27.296875 \nQ 5.515625 40.765625 12.171875 48.375 \nQ 18.84375 56 30.609375 56 \nz\n\" id=\"DejaVuSans-111\"/>\n      <path d=\"M 48.78125 52.59375 \nL 48.78125 44.1875 \nQ 44.96875 46.296875 41.140625 47.34375 \nQ 37.3125 48.390625 33.40625 48.390625 \nQ 24.65625 48.390625 19.8125 42.84375 \nQ 14.984375 37.3125 14.984375 27.296875 \nQ 14.984375 17.28125 19.8125 11.734375 \nQ 24.65625 6.203125 33.40625 6.203125 \nQ 37.3125 6.203125 41.140625 7.25 \nQ 44.96875 8.296875 48.78125 10.40625 \nL 48.78125 2.09375 \nQ 45.015625 0.34375 40.984375 -0.53125 \nQ 36.96875 -1.421875 32.421875 -1.421875 \nQ 20.0625 -1.421875 12.78125 6.34375 \nQ 5.515625 14.109375 5.515625 27.296875 \nQ 5.515625 40.671875 12.859375 48.328125 \nQ 20.21875 56 33.015625 56 \nQ 37.15625 56 41.109375 55.140625 \nQ 45.0625 54.296875 48.78125 52.59375 \nz\n\" id=\"DejaVuSans-99\"/>\n      <path d=\"M 9.078125 75.984375 \nL 18.109375 75.984375 \nL 18.109375 31.109375 \nL 44.921875 54.6875 \nL 56.390625 54.6875 \nL 27.390625 29.109375 \nL 57.625 0 \nL 45.90625 0 \nL 18.109375 26.703125 \nL 18.109375 0 \nL 9.078125 0 \nz\n\" id=\"DejaVuSans-107\"/>\n      <path d=\"M 2.984375 54.6875 \nL 12.5 54.6875 \nL 29.59375 8.796875 \nL 46.6875 54.6875 \nL 56.203125 54.6875 \nL 35.6875 0 \nL 23.484375 0 \nz\n\" id=\"DejaVuSans-118\"/>\n      <path d=\"M 9.421875 75.984375 \nL 18.40625 75.984375 \nL 18.40625 0 \nL 9.421875 0 \nz\n\" id=\"DejaVuSans-108\"/>\n      <path d=\"M 8.5 21.578125 \nL 8.5 54.6875 \nL 17.484375 54.6875 \nL 17.484375 21.921875 \nQ 17.484375 14.15625 20.5 10.265625 \nQ 23.53125 6.390625 29.59375 6.390625 \nQ 36.859375 6.390625 41.078125 11.03125 \nQ 45.3125 15.671875 45.3125 23.6875 \nL 45.3125 54.6875 \nL 54.296875 54.6875 \nL 54.296875 0 \nL 45.3125 0 \nL 45.3125 8.40625 \nQ 42.046875 3.421875 37.71875 1 \nQ 33.40625 -1.421875 27.6875 -1.421875 \nQ 18.265625 -1.421875 13.375 4.4375 \nQ 8.5 10.296875 8.5 21.578125 \nz\nM 31.109375 56 \nz\n\" id=\"DejaVuSans-117\"/>\n      <path d=\"M 37.109375 75.984375 \nL 37.109375 68.5 \nL 28.515625 68.5 \nQ 23.6875 68.5 21.796875 66.546875 \nQ 19.921875 64.59375 19.921875 59.515625 \nL 19.921875 54.6875 \nL 34.71875 54.6875 \nL 34.71875 47.703125 \nL 19.921875 47.703125 \nL 19.921875 0 \nL 10.890625 0 \nL 10.890625 47.703125 \nL 2.296875 47.703125 \nL 2.296875 54.6875 \nL 10.890625 54.6875 \nL 10.890625 58.5 \nQ 10.890625 67.625 15.140625 71.796875 \nQ 19.390625 75.984375 28.609375 75.984375 \nz\n\" id=\"DejaVuSans-102\"/>\n      <path d=\"M -0.296875 72.90625 \nL 61.375 72.90625 \nL 61.375 64.59375 \nL 35.5 64.59375 \nL 35.5 0 \nL 25.59375 0 \nL 25.59375 64.59375 \nL -0.296875 64.59375 \nz\n\" id=\"DejaVuSans-84\"/>\n      <path d=\"M 32.171875 -5.078125 \nQ 28.375 -14.84375 24.75 -17.8125 \nQ 21.140625 -20.796875 15.09375 -20.796875 \nL 7.90625 -20.796875 \nL 7.90625 -13.28125 \nL 13.1875 -13.28125 \nQ 16.890625 -13.28125 18.9375 -11.515625 \nQ 21 -9.765625 23.484375 -3.21875 \nL 25.09375 0.875 \nL 2.984375 54.6875 \nL 12.5 54.6875 \nL 29.59375 11.921875 \nL 46.6875 54.6875 \nL 56.203125 54.6875 \nz\n\" id=\"DejaVuSans-121\"/>\n      <path d=\"M 31 75.875 \nQ 24.46875 64.65625 21.28125 53.65625 \nQ 18.109375 42.671875 18.109375 31.390625 \nQ 18.109375 20.125 21.3125 9.0625 \nQ 24.515625 -2 31 -13.1875 \nL 23.1875 -13.1875 \nQ 15.875 -1.703125 12.234375 9.375 \nQ 8.59375 20.453125 8.59375 31.390625 \nQ 8.59375 42.28125 12.203125 53.3125 \nQ 15.828125 64.359375 23.1875 75.875 \nz\n\" id=\"DejaVuSans-40\"/>\n      <path d=\"M 45.40625 27.984375 \nQ 45.40625 37.75 41.375 43.109375 \nQ 37.359375 48.484375 30.078125 48.484375 \nQ 22.859375 48.484375 18.828125 43.109375 \nQ 14.796875 37.75 14.796875 27.984375 \nQ 14.796875 18.265625 18.828125 12.890625 \nQ 22.859375 7.515625 30.078125 7.515625 \nQ 37.359375 7.515625 41.375 12.890625 \nQ 45.40625 18.265625 45.40625 27.984375 \nz\nM 54.390625 6.78125 \nQ 54.390625 -7.171875 48.1875 -13.984375 \nQ 42 -20.796875 29.203125 -20.796875 \nQ 24.46875 -20.796875 20.265625 -20.09375 \nQ 16.0625 -19.390625 12.109375 -17.921875 \nL 12.109375 -9.1875 \nQ 16.0625 -11.328125 19.921875 -12.34375 \nQ 23.78125 -13.375 27.78125 -13.375 \nQ 36.625 -13.375 41.015625 -8.765625 \nQ 45.40625 -4.15625 45.40625 5.171875 \nL 45.40625 9.625 \nQ 42.625 4.78125 38.28125 2.390625 \nQ 33.9375 0 27.875 0 \nQ 17.828125 0 11.671875 7.65625 \nQ 5.515625 15.328125 5.515625 27.984375 \nQ 5.515625 40.671875 11.671875 48.328125 \nQ 17.828125 56 27.875 56 \nQ 33.9375 56 38.28125 53.609375 \nQ 42.625 51.21875 45.40625 46.390625 \nL 45.40625 54.6875 \nL 54.390625 54.6875 \nz\n\" id=\"DejaVuSans-103\"/>\n      <path d=\"M 8.015625 75.875 \nL 15.828125 75.875 \nQ 23.140625 64.359375 26.78125 53.3125 \nQ 30.421875 42.28125 30.421875 31.390625 \nQ 30.421875 20.453125 26.78125 9.375 \nQ 23.140625 -1.703125 15.828125 -13.1875 \nL 8.015625 -13.1875 \nQ 14.5 -2 17.703125 9.0625 \nQ 20.90625 20.125 20.90625 31.390625 \nQ 20.90625 42.671875 17.703125 53.65625 \nQ 14.5 64.65625 8.015625 75.875 \nz\n\" id=\"DejaVuSans-41\"/>\n     </defs>\n     <use xlink:href=\"#DejaVuSans-79\"/>\n     <use x=\"78.710938\" xlink:href=\"#DejaVuSans-112\"/>\n     <use x=\"142.1875\" xlink:href=\"#DejaVuSans-101\"/>\n     <use x=\"203.710938\" xlink:href=\"#DejaVuSans-110\"/>\n     <use x=\"267.089844\" xlink:href=\"#DejaVuSans-32\"/>\n     <use x=\"298.876953\" xlink:href=\"#DejaVuSans-115\"/>\n     <use x=\"350.976562\" xlink:href=\"#DejaVuSans-116\"/>\n     <use x=\"390.185547\" xlink:href=\"#DejaVuSans-111\"/>\n     <use x=\"451.367188\" xlink:href=\"#DejaVuSans-99\"/>\n     <use x=\"506.347656\" xlink:href=\"#DejaVuSans-107\"/>\n     <use x=\"564.257812\" xlink:href=\"#DejaVuSans-32\"/>\n     <use x=\"596.044922\" xlink:href=\"#DejaVuSans-118\"/>\n     <use x=\"655.224609\" xlink:href=\"#DejaVuSans-97\"/>\n     <use x=\"716.503906\" xlink:href=\"#DejaVuSans-108\"/>\n     <use x=\"744.287109\" xlink:href=\"#DejaVuSans-117\"/>\n     <use x=\"807.666016\" xlink:href=\"#DejaVuSans-101\"/>\n     <use x=\"869.189453\" xlink:href=\"#DejaVuSans-32\"/>\n     <use x=\"900.976562\" xlink:href=\"#DejaVuSans-111\"/>\n     <use x=\"962.158203\" xlink:href=\"#DejaVuSans-102\"/>\n     <use x=\"997.363281\" xlink:href=\"#DejaVuSans-32\"/>\n     <use x=\"1029.150391\" xlink:href=\"#DejaVuSans-84\"/>\n     <use x=\"1073.234375\" xlink:href=\"#DejaVuSans-101\"/>\n     <use x=\"1134.757812\" xlink:href=\"#DejaVuSans-115\"/>\n     <use x=\"1186.857422\" xlink:href=\"#DejaVuSans-108\"/>\n     <use x=\"1214.640625\" xlink:href=\"#DejaVuSans-97\"/>\n     <use x=\"1275.919922\" xlink:href=\"#DejaVuSans-32\"/>\n     <use x=\"1307.707031\" xlink:href=\"#DejaVuSans-112\"/>\n     <use x=\"1371.183594\" xlink:href=\"#DejaVuSans-101\"/>\n     <use x=\"1432.707031\" xlink:href=\"#DejaVuSans-114\"/>\n     <use x=\"1473.820312\" xlink:href=\"#DejaVuSans-32\"/>\n     <use x=\"1505.607422\" xlink:href=\"#DejaVuSans-121\"/>\n     <use x=\"1564.787109\" xlink:href=\"#DejaVuSans-101\"/>\n     <use x=\"1626.310547\" xlink:href=\"#DejaVuSans-97\"/>\n     <use x=\"1687.589844\" xlink:href=\"#DejaVuSans-114\"/>\n     <use x=\"1728.703125\" xlink:href=\"#DejaVuSans-32\"/>\n     <use x=\"1760.490234\" xlink:href=\"#DejaVuSans-40\"/>\n     <use x=\"1799.503906\" xlink:href=\"#DejaVuSans-111\"/>\n     <use x=\"1860.685547\" xlink:href=\"#DejaVuSans-110\"/>\n     <use x=\"1924.064453\" xlink:href=\"#DejaVuSans-32\"/>\n     <use x=\"1955.851562\" xlink:href=\"#DejaVuSans-97\"/>\n     <use x=\"2017.130859\" xlink:href=\"#DejaVuSans-118\"/>\n     <use x=\"2076.310547\" xlink:href=\"#DejaVuSans-101\"/>\n     <use x=\"2137.833984\" xlink:href=\"#DejaVuSans-114\"/>\n     <use x=\"2178.947266\" xlink:href=\"#DejaVuSans-97\"/>\n     <use x=\"2240.226562\" xlink:href=\"#DejaVuSans-103\"/>\n     <use x=\"2303.703125\" xlink:href=\"#DejaVuSans-101\"/>\n     <use x=\"2365.226562\" xlink:href=\"#DejaVuSans-41\"/>\n    </g>\n   </g>\n   <g id=\"legend_1\">\n    <g id=\"patch_7\">\n     <path d=\"M 40.2875 44.99625 \nL 98.998438 44.99625 \nQ 100.998438 44.99625 100.998438 42.99625 \nL 100.998438 29.318125 \nQ 100.998438 27.318125 98.998438 27.318125 \nL 40.2875 27.318125 \nQ 38.2875 27.318125 38.2875 29.318125 \nL 38.2875 42.99625 \nQ 38.2875 44.99625 40.2875 44.99625 \nz\n\" style=\"fill:#ffffff;opacity:0.8;stroke:#cccccc;stroke-linejoin:miter;\"/>\n    </g>\n    <g id=\"line2d_15\">\n     <path d=\"M 42.2875 35.416562 \nL 62.2875 35.416562 \n\" style=\"fill:none;stroke:#1f77b4;stroke-linecap:square;stroke-width:1.5;\"/>\n    </g>\n    <g id=\"line2d_16\"/>\n    <g id=\"text_16\">\n     <!-- Open -->\n     <g transform=\"translate(70.2875 38.916562)scale(0.1 -0.1)\">\n      <use xlink:href=\"#DejaVuSans-79\"/>\n      <use x=\"78.710938\" xlink:href=\"#DejaVuSans-112\"/>\n      <use x=\"142.1875\" xlink:href=\"#DejaVuSans-101\"/>\n      <use x=\"203.710938\" xlink:href=\"#DejaVuSans-110\"/>\n     </g>\n    </g>\n   </g>\n  </g>\n </g>\n <defs>\n  <clipPath id=\"p97d3b933dc\">\n   <rect height=\"217.44\" width=\"334.8\" x=\"33.2875\" y=\"22.318125\"/>\n  </clipPath>\n </defs>\n</svg>\n",
      "image/png": "[encoded data removed]"
     },
     "metadata": {
      "needs_background": "light"
     }
    }
   ],
   "source": [
    "# graph of Tesla\n",
    "Tesla_dash.plot(x = 'Year', y = 'Open', title = \"Open stock value of Tesla per year (on average)\")"
   ]
  },
  {
   "cell_type": "code",
   "execution_count": 72,
   "metadata": {},
   "outputs": [
    {
     "output_type": "execute_result",
     "data": {
      "text/plain": [
       "<AxesSubplot:title={'center':'Open stock value of Gamestop per year (on average)'}, xlabel='Year'>"
      ]
     },
     "metadata": {},
     "execution_count": 72
    },
    {
     "output_type": "display_data",
     "data": {
      "text/plain": "<Figure size 432x288 with 1 Axes>",
      "image/svg+xml": "<?xml version=\"1.0\" encoding=\"utf-8\" standalone=\"no\"?>\n<!DOCTYPE svg PUBLIC \"-//W3C//DTD SVG 1.1//EN\"\n  \"http://www.w3.org/Graphics/SVG/1.1/DTD/svg11.dtd\">\n<!-- Created with matplotlib (https://matplotlib.org/) -->\n<svg height=\"277.314375pt\" version=\"1.1\" viewBox=\"0 0 368.925 277.314375\" width=\"368.925pt\" xmlns=\"http://www.w3.org/2000/svg\" xmlns:xlink=\"http://www.w3.org/1999/xlink\">\n <metadata>\n  <rdf:RDF xmlns:cc=\"http://creativecommons.org/ns#\" xmlns:dc=\"http://purl.org/dc/elements/1.1/\" xmlns:rdf=\"http://www.w3.org/1999/02/22-rdf-syntax-ns#\">\n   <cc:Work>\n    <dc:type rdf:resource=\"http://purl.org/dc/dcmitype/StillImage\"/>\n    <dc:date>2021-02-23T12:25:48.566085</dc:date>\n    <dc:format>image/svg+xml</dc:format>\n    <dc:creator>\n     <cc:Agent>\n      <dc:title>Matplotlib v3.3.4, https://matplotlib.org/</dc:title>\n     </cc:Agent>\n    </dc:creator>\n   </cc:Work>\n  </rdf:RDF>\n </metadata>\n <defs>\n  <style type=\"text/css\">*{stroke-linecap:butt;stroke-linejoin:round;}</style>\n </defs>\n <g id=\"figure_1\">\n  <g id=\"patch_1\">\n   <path d=\"M -0 277.314375 \nL 368.925 277.314375 \nL 368.925 0 \nL -0 0 \nz\n\" style=\"fill:none;\"/>\n  </g>\n  <g id=\"axes_1\">\n   <g id=\"patch_2\">\n    <path d=\"M 26.925 239.758125 \nL 361.725 239.758125 \nL 361.725 22.318125 \nL 26.925 22.318125 \nz\n\" style=\"fill:#ffffff;\"/>\n   </g>\n   <g id=\"matplotlib.axis_1\">\n    <g id=\"xtick_1\">\n     <g id=\"line2d_1\">\n      <defs>\n       <path d=\"M 0 0 \nL 0 3.5 \n\" id=\"m65011fa335\" style=\"stroke:#000000;stroke-width:0.8;\"/>\n      </defs>\n      <g>\n       <use style=\"stroke:#000000;stroke-width:0.8;\" x=\"62.434091\" xlink:href=\"#m65011fa335\" y=\"239.758125\"/>\n      </g>\n     </g>\n     <g id=\"text_1\">\n      <!-- 2006 -->\n      <g transform=\"translate(49.709091 254.356562)scale(0.1 -0.1)\">\n       <defs>\n        <path d=\"M 19.1875 8.296875 \nL 53.609375 8.296875 \nL 53.609375 0 \nL 7.328125 0 \nL 7.328125 8.296875 \nQ 12.9375 14.109375 22.625 23.890625 \nQ 32.328125 33.6875 34.8125 36.53125 \nQ 39.546875 41.84375 41.421875 45.53125 \nQ 43.3125 49.21875 43.3125 52.78125 \nQ 43.3125 58.59375 39.234375 62.25 \nQ 35.15625 65.921875 28.609375 65.921875 \nQ 23.96875 65.921875 18.8125 64.3125 \nQ 13.671875 62.703125 7.8125 59.421875 \nL 7.8125 69.390625 \nQ 13.765625 71.78125 18.9375 73 \nQ 24.125 74.21875 28.421875 74.21875 \nQ 39.75 74.21875 46.484375 68.546875 \nQ 53.21875 62.890625 53.21875 53.421875 \nQ 53.21875 48.921875 51.53125 44.890625 \nQ 49.859375 40.875 45.40625 35.40625 \nQ 44.1875 33.984375 37.640625 27.21875 \nQ 31.109375 20.453125 19.1875 8.296875 \nz\n\" id=\"DejaVuSans-50\"/>\n        <path d=\"M 31.78125 66.40625 \nQ 24.171875 66.40625 20.328125 58.90625 \nQ 16.5 51.421875 16.5 36.375 \nQ 16.5 21.390625 20.328125 13.890625 \nQ 24.171875 6.390625 31.78125 6.390625 \nQ 39.453125 6.390625 43.28125 13.890625 \nQ 47.125 21.390625 47.125 36.375 \nQ 47.125 51.421875 43.28125 58.90625 \nQ 39.453125 66.40625 31.78125 66.40625 \nz\nM 31.78125 74.21875 \nQ 44.046875 74.21875 50.515625 64.515625 \nQ 56.984375 54.828125 56.984375 36.375 \nQ 56.984375 17.96875 50.515625 8.265625 \nQ 44.046875 -1.421875 31.78125 -1.421875 \nQ 19.53125 -1.421875 13.0625 8.265625 \nQ 6.59375 17.96875 6.59375 36.375 \nQ 6.59375 54.828125 13.0625 64.515625 \nQ 19.53125 74.21875 31.78125 74.21875 \nz\n\" id=\"DejaVuSans-48\"/>\n        <path d=\"M 33.015625 40.375 \nQ 26.375 40.375 22.484375 35.828125 \nQ 18.609375 31.296875 18.609375 23.390625 \nQ 18.609375 15.53125 22.484375 10.953125 \nQ 26.375 6.390625 33.015625 6.390625 \nQ 39.65625 6.390625 43.53125 10.953125 \nQ 47.40625 15.53125 47.40625 23.390625 \nQ 47.40625 31.296875 43.53125 35.828125 \nQ 39.65625 40.375 33.015625 40.375 \nz\nM 52.59375 71.296875 \nL 52.59375 62.3125 \nQ 48.875 64.0625 45.09375 64.984375 \nQ 41.3125 65.921875 37.59375 65.921875 \nQ 27.828125 65.921875 22.671875 59.328125 \nQ 17.53125 52.734375 16.796875 39.40625 \nQ 19.671875 43.65625 24.015625 45.921875 \nQ 28.375 48.1875 33.59375 48.1875 \nQ 44.578125 48.1875 50.953125 41.515625 \nQ 57.328125 34.859375 57.328125 23.390625 \nQ 57.328125 12.15625 50.6875 5.359375 \nQ 44.046875 -1.421875 33.015625 -1.421875 \nQ 20.359375 -1.421875 13.671875 8.265625 \nQ 6.984375 17.96875 6.984375 36.375 \nQ 6.984375 53.65625 15.1875 63.9375 \nQ 23.390625 74.21875 37.203125 74.21875 \nQ 40.921875 74.21875 44.703125 73.484375 \nQ 48.484375 72.75 52.59375 71.296875 \nz\n\" id=\"DejaVuSans-54\"/>\n       </defs>\n       <use xlink:href=\"#DejaVuSans-50\"/>\n       <use x=\"63.623047\" xlink:href=\"#DejaVuSans-48\"/>\n       <use x=\"127.246094\" xlink:href=\"#DejaVuSans-48\"/>\n       <use x=\"190.869141\" xlink:href=\"#DejaVuSans-54\"/>\n      </g>\n     </g>\n    </g>\n    <g id=\"xtick_2\">\n     <g id=\"line2d_2\">\n      <g>\n       <use style=\"stroke:#000000;stroke-width:0.8;\" x=\"103.015909\" xlink:href=\"#m65011fa335\" y=\"239.758125\"/>\n      </g>\n     </g>\n     <g id=\"text_2\">\n      <!-- 2008 -->\n      <g transform=\"translate(90.290909 254.356562)scale(0.1 -0.1)\">\n       <defs>\n        <path d=\"M 31.78125 34.625 \nQ 24.75 34.625 20.71875 30.859375 \nQ 16.703125 27.09375 16.703125 20.515625 \nQ 16.703125 13.921875 20.71875 10.15625 \nQ 24.75 6.390625 31.78125 6.390625 \nQ 38.8125 6.390625 42.859375 10.171875 \nQ 46.921875 13.96875 46.921875 20.515625 \nQ 46.921875 27.09375 42.890625 30.859375 \nQ 38.875 34.625 31.78125 34.625 \nz\nM 21.921875 38.8125 \nQ 15.578125 40.375 12.03125 44.71875 \nQ 8.5 49.078125 8.5 55.328125 \nQ 8.5 64.0625 14.71875 69.140625 \nQ 20.953125 74.21875 31.78125 74.21875 \nQ 42.671875 74.21875 48.875 69.140625 \nQ 55.078125 64.0625 55.078125 55.328125 \nQ 55.078125 49.078125 51.53125 44.71875 \nQ 48 40.375 41.703125 38.8125 \nQ 48.828125 37.15625 52.796875 32.3125 \nQ 56.78125 27.484375 56.78125 20.515625 \nQ 56.78125 9.90625 50.3125 4.234375 \nQ 43.84375 -1.421875 31.78125 -1.421875 \nQ 19.734375 -1.421875 13.25 4.234375 \nQ 6.78125 9.90625 6.78125 20.515625 \nQ 6.78125 27.484375 10.78125 32.3125 \nQ 14.796875 37.15625 21.921875 38.8125 \nz\nM 18.3125 54.390625 \nQ 18.3125 48.734375 21.84375 45.5625 \nQ 25.390625 42.390625 31.78125 42.390625 \nQ 38.140625 42.390625 41.71875 45.5625 \nQ 45.3125 48.734375 45.3125 54.390625 \nQ 45.3125 60.0625 41.71875 63.234375 \nQ 38.140625 66.40625 31.78125 66.40625 \nQ 25.390625 66.40625 21.84375 63.234375 \nQ 18.3125 60.0625 18.3125 54.390625 \nz\n\" id=\"DejaVuSans-56\"/>\n       </defs>\n       <use xlink:href=\"#DejaVuSans-50\"/>\n       <use x=\"63.623047\" xlink:href=\"#DejaVuSans-48\"/>\n       <use x=\"127.246094\" xlink:href=\"#DejaVuSans-48\"/>\n       <use x=\"190.869141\" xlink:href=\"#DejaVuSans-56\"/>\n      </g>\n     </g>\n    </g>\n    <g id=\"xtick_3\">\n     <g id=\"line2d_3\">\n      <g>\n       <use style=\"stroke:#000000;stroke-width:0.8;\" x=\"143.597727\" xlink:href=\"#m65011fa335\" y=\"239.758125\"/>\n      </g>\n     </g>\n     <g id=\"text_3\">\n      <!-- 2010 -->\n      <g transform=\"translate(130.872727 254.356562)scale(0.1 -0.1)\">\n       <defs>\n        <path d=\"M 12.40625 8.296875 \nL 28.515625 8.296875 \nL 28.515625 63.921875 \nL 10.984375 60.40625 \nL 10.984375 69.390625 \nL 28.421875 72.90625 \nL 38.28125 72.90625 \nL 38.28125 8.296875 \nL 54.390625 8.296875 \nL 54.390625 0 \nL 12.40625 0 \nz\n\" id=\"DejaVuSans-49\"/>\n       </defs>\n       <use xlink:href=\"#DejaVuSans-50\"/>\n       <use x=\"63.623047\" xlink:href=\"#DejaVuSans-48\"/>\n       <use x=\"127.246094\" xlink:href=\"#DejaVuSans-49\"/>\n       <use x=\"190.869141\" xlink:href=\"#DejaVuSans-48\"/>\n      </g>\n     </g>\n    </g>\n    <g id=\"xtick_4\">\n     <g id=\"line2d_4\">\n      <g>\n       <use style=\"stroke:#000000;stroke-width:0.8;\" x=\"184.179545\" xlink:href=\"#m65011fa335\" y=\"239.758125\"/>\n      </g>\n     </g>\n     <g id=\"text_4\">\n      <!-- 2012 -->\n      <g transform=\"translate(171.454545 254.356562)scale(0.1 -0.1)\">\n       <use xlink:href=\"#DejaVuSans-50\"/>\n       <use x=\"63.623047\" xlink:href=\"#DejaVuSans-48\"/>\n       <use x=\"127.246094\" xlink:href=\"#DejaVuSans-49\"/>\n       <use x=\"190.869141\" xlink:href=\"#DejaVuSans-50\"/>\n      </g>\n     </g>\n    </g>\n    <g id=\"xtick_5\">\n     <g id=\"line2d_5\">\n      <g>\n       <use style=\"stroke:#000000;stroke-width:0.8;\" x=\"224.761364\" xlink:href=\"#m65011fa335\" y=\"239.758125\"/>\n      </g>\n     </g>\n     <g id=\"text_5\">\n      <!-- 2014 -->\n      <g transform=\"translate(212.036364 254.356562)scale(0.1 -0.1)\">\n       <defs>\n        <path d=\"M 37.796875 64.3125 \nL 12.890625 25.390625 \nL 37.796875 25.390625 \nz\nM 35.203125 72.90625 \nL 47.609375 72.90625 \nL 47.609375 25.390625 \nL 58.015625 25.390625 \nL 58.015625 17.1875 \nL 47.609375 17.1875 \nL 47.609375 0 \nL 37.796875 0 \nL 37.796875 17.1875 \nL 4.890625 17.1875 \nL 4.890625 26.703125 \nz\n\" id=\"DejaVuSans-52\"/>\n       </defs>\n       <use xlink:href=\"#DejaVuSans-50\"/>\n       <use x=\"63.623047\" xlink:href=\"#DejaVuSans-48\"/>\n       <use x=\"127.246094\" xlink:href=\"#DejaVuSans-49\"/>\n       <use x=\"190.869141\" xlink:href=\"#DejaVuSans-52\"/>\n      </g>\n     </g>\n    </g>\n    <g id=\"xtick_6\">\n     <g id=\"line2d_6\">\n      <g>\n       <use style=\"stroke:#000000;stroke-width:0.8;\" x=\"265.343182\" xlink:href=\"#m65011fa335\" y=\"239.758125\"/>\n      </g>\n     </g>\n     <g id=\"text_6\">\n      <!-- 2016 -->\n      <g transform=\"translate(252.618182 254.356562)scale(0.1 -0.1)\">\n       <use xlink:href=\"#DejaVuSans-50\"/>\n       <use x=\"63.623047\" xlink:href=\"#DejaVuSans-48\"/>\n       <use x=\"127.246094\" xlink:href=\"#DejaVuSans-49\"/>\n       <use x=\"190.869141\" xlink:href=\"#DejaVuSans-54\"/>\n      </g>\n     </g>\n    </g>\n    <g id=\"xtick_7\">\n     <g id=\"line2d_7\">\n      <g>\n       <use style=\"stroke:#000000;stroke-width:0.8;\" x=\"305.925\" xlink:href=\"#m65011fa335\" y=\"239.758125\"/>\n      </g>\n     </g>\n     <g id=\"text_7\">\n      <!-- 2018 -->\n      <g transform=\"translate(293.2 254.356562)scale(0.1 -0.1)\">\n       <use xlink:href=\"#DejaVuSans-50\"/>\n       <use x=\"63.623047\" xlink:href=\"#DejaVuSans-48\"/>\n       <use x=\"127.246094\" xlink:href=\"#DejaVuSans-49\"/>\n       <use x=\"190.869141\" xlink:href=\"#DejaVuSans-56\"/>\n      </g>\n     </g>\n    </g>\n    <g id=\"xtick_8\">\n     <g id=\"line2d_8\">\n      <g>\n       <use style=\"stroke:#000000;stroke-width:0.8;\" x=\"346.506818\" xlink:href=\"#m65011fa335\" y=\"239.758125\"/>\n      </g>\n     </g>\n     <g id=\"text_8\">\n      <!-- 2020 -->\n      <g transform=\"translate(333.781818 254.356562)scale(0.1 -0.1)\">\n       <use xlink:href=\"#DejaVuSans-50\"/>\n       <use x=\"63.623047\" xlink:href=\"#DejaVuSans-48\"/>\n       <use x=\"127.246094\" xlink:href=\"#DejaVuSans-50\"/>\n       <use x=\"190.869141\" xlink:href=\"#DejaVuSans-48\"/>\n      </g>\n     </g>\n    </g>\n    <g id=\"text_9\">\n     <!-- Year -->\n     <g transform=\"translate(183.7375 268.034687)scale(0.1 -0.1)\">\n      <defs>\n       <path d=\"M -0.203125 72.90625 \nL 10.40625 72.90625 \nL 30.609375 42.921875 \nL 50.6875 72.90625 \nL 61.28125 72.90625 \nL 35.5 34.71875 \nL 35.5 0 \nL 25.59375 0 \nL 25.59375 34.71875 \nz\n\" id=\"DejaVuSans-89\"/>\n       <path d=\"M 56.203125 29.59375 \nL 56.203125 25.203125 \nL 14.890625 25.203125 \nQ 15.484375 15.921875 20.484375 11.0625 \nQ 25.484375 6.203125 34.421875 6.203125 \nQ 39.59375 6.203125 44.453125 7.46875 \nQ 49.3125 8.734375 54.109375 11.28125 \nL 54.109375 2.78125 \nQ 49.265625 0.734375 44.1875 -0.34375 \nQ 39.109375 -1.421875 33.890625 -1.421875 \nQ 20.796875 -1.421875 13.15625 6.1875 \nQ 5.515625 13.8125 5.515625 26.8125 \nQ 5.515625 40.234375 12.765625 48.109375 \nQ 20.015625 56 32.328125 56 \nQ 43.359375 56 49.78125 48.890625 \nQ 56.203125 41.796875 56.203125 29.59375 \nz\nM 47.21875 32.234375 \nQ 47.125 39.59375 43.09375 43.984375 \nQ 39.0625 48.390625 32.421875 48.390625 \nQ 24.90625 48.390625 20.390625 44.140625 \nQ 15.875 39.890625 15.1875 32.171875 \nz\n\" id=\"DejaVuSans-101\"/>\n       <path d=\"M 34.28125 27.484375 \nQ 23.390625 27.484375 19.1875 25 \nQ 14.984375 22.515625 14.984375 16.5 \nQ 14.984375 11.71875 18.140625 8.90625 \nQ 21.296875 6.109375 26.703125 6.109375 \nQ 34.1875 6.109375 38.703125 11.40625 \nQ 43.21875 16.703125 43.21875 25.484375 \nL 43.21875 27.484375 \nz\nM 52.203125 31.203125 \nL 52.203125 0 \nL 43.21875 0 \nL 43.21875 8.296875 \nQ 40.140625 3.328125 35.546875 0.953125 \nQ 30.953125 -1.421875 24.3125 -1.421875 \nQ 15.921875 -1.421875 10.953125 3.296875 \nQ 6 8.015625 6 15.921875 \nQ 6 25.140625 12.171875 29.828125 \nQ 18.359375 34.515625 30.609375 34.515625 \nL 43.21875 34.515625 \nL 43.21875 35.40625 \nQ 43.21875 41.609375 39.140625 45 \nQ 35.0625 48.390625 27.6875 48.390625 \nQ 23 48.390625 18.546875 47.265625 \nQ 14.109375 46.140625 10.015625 43.890625 \nL 10.015625 52.203125 \nQ 14.9375 54.109375 19.578125 55.046875 \nQ 24.21875 56 28.609375 56 \nQ 40.484375 56 46.34375 49.84375 \nQ 52.203125 43.703125 52.203125 31.203125 \nz\n\" id=\"DejaVuSans-97\"/>\n       <path d=\"M 41.109375 46.296875 \nQ 39.59375 47.171875 37.8125 47.578125 \nQ 36.03125 48 33.890625 48 \nQ 26.265625 48 22.1875 43.046875 \nQ 18.109375 38.09375 18.109375 28.8125 \nL 18.109375 0 \nL 9.078125 0 \nL 9.078125 54.6875 \nL 18.109375 54.6875 \nL 18.109375 46.1875 \nQ 20.953125 51.171875 25.484375 53.578125 \nQ 30.03125 56 36.53125 56 \nQ 37.453125 56 38.578125 55.875 \nQ 39.703125 55.765625 41.0625 55.515625 \nz\n\" id=\"DejaVuSans-114\"/>\n      </defs>\n      <use xlink:href=\"#DejaVuSans-89\"/>\n      <use x=\"47.833984\" xlink:href=\"#DejaVuSans-101\"/>\n      <use x=\"109.357422\" xlink:href=\"#DejaVuSans-97\"/>\n      <use x=\"170.636719\" xlink:href=\"#DejaVuSans-114\"/>\n     </g>\n    </g>\n   </g>\n   <g id=\"matplotlib.axis_2\">\n    <g id=\"ytick_1\">\n     <g id=\"line2d_9\">\n      <defs>\n       <path d=\"M 0 0 \nL -3.5 0 \n\" id=\"m498d79415a\" style=\"stroke:#000000;stroke-width:0.8;\"/>\n      </defs>\n      <g>\n       <use style=\"stroke:#000000;stroke-width:0.8;\" x=\"26.925\" xlink:href=\"#m498d79415a\" y=\"205.656676\"/>\n      </g>\n     </g>\n     <g id=\"text_10\">\n      <!-- 10 -->\n      <g transform=\"translate(7.2 209.455895)scale(0.1 -0.1)\">\n       <use xlink:href=\"#DejaVuSans-49\"/>\n       <use x=\"63.623047\" xlink:href=\"#DejaVuSans-48\"/>\n      </g>\n     </g>\n    </g>\n    <g id=\"ytick_2\">\n     <g id=\"line2d_10\">\n      <g>\n       <use style=\"stroke:#000000;stroke-width:0.8;\" x=\"26.925\" xlink:href=\"#m498d79415a\" y=\"163.588192\"/>\n      </g>\n     </g>\n     <g id=\"text_11\">\n      <!-- 15 -->\n      <g transform=\"translate(7.2 167.387411)scale(0.1 -0.1)\">\n       <defs>\n        <path d=\"M 10.796875 72.90625 \nL 49.515625 72.90625 \nL 49.515625 64.59375 \nL 19.828125 64.59375 \nL 19.828125 46.734375 \nQ 21.96875 47.46875 24.109375 47.828125 \nQ 26.265625 48.1875 28.421875 48.1875 \nQ 40.625 48.1875 47.75 41.5 \nQ 54.890625 34.8125 54.890625 23.390625 \nQ 54.890625 11.625 47.5625 5.09375 \nQ 40.234375 -1.421875 26.90625 -1.421875 \nQ 22.3125 -1.421875 17.546875 -0.640625 \nQ 12.796875 0.140625 7.71875 1.703125 \nL 7.71875 11.625 \nQ 12.109375 9.234375 16.796875 8.0625 \nQ 21.484375 6.890625 26.703125 6.890625 \nQ 35.15625 6.890625 40.078125 11.328125 \nQ 45.015625 15.765625 45.015625 23.390625 \nQ 45.015625 31 40.078125 35.4375 \nQ 35.15625 39.890625 26.703125 39.890625 \nQ 22.75 39.890625 18.8125 39.015625 \nQ 14.890625 38.140625 10.796875 36.28125 \nz\n\" id=\"DejaVuSans-53\"/>\n       </defs>\n       <use xlink:href=\"#DejaVuSans-49\"/>\n       <use x=\"63.623047\" xlink:href=\"#DejaVuSans-53\"/>\n      </g>\n     </g>\n    </g>\n    <g id=\"ytick_3\">\n     <g id=\"line2d_11\">\n      <g>\n       <use style=\"stroke:#000000;stroke-width:0.8;\" x=\"26.925\" xlink:href=\"#m498d79415a\" y=\"121.519707\"/>\n      </g>\n     </g>\n     <g id=\"text_12\">\n      <!-- 20 -->\n      <g transform=\"translate(7.2 125.318926)scale(0.1 -0.1)\">\n       <use xlink:href=\"#DejaVuSans-50\"/>\n       <use x=\"63.623047\" xlink:href=\"#DejaVuSans-48\"/>\n      </g>\n     </g>\n    </g>\n    <g id=\"ytick_4\">\n     <g id=\"line2d_12\">\n      <g>\n       <use style=\"stroke:#000000;stroke-width:0.8;\" x=\"26.925\" xlink:href=\"#m498d79415a\" y=\"79.451223\"/>\n      </g>\n     </g>\n     <g id=\"text_13\">\n      <!-- 25 -->\n      <g transform=\"translate(7.2 83.250441)scale(0.1 -0.1)\">\n       <use xlink:href=\"#DejaVuSans-50\"/>\n       <use x=\"63.623047\" xlink:href=\"#DejaVuSans-53\"/>\n      </g>\n     </g>\n    </g>\n    <g id=\"ytick_5\">\n     <g id=\"line2d_13\">\n      <g>\n       <use style=\"stroke:#000000;stroke-width:0.8;\" x=\"26.925\" xlink:href=\"#m498d79415a\" y=\"37.382738\"/>\n      </g>\n     </g>\n     <g id=\"text_14\">\n      <!-- 30 -->\n      <g transform=\"translate(7.2 41.181957)scale(0.1 -0.1)\">\n       <defs>\n        <path d=\"M 40.578125 39.3125 \nQ 47.65625 37.796875 51.625 33 \nQ 55.609375 28.21875 55.609375 21.1875 \nQ 55.609375 10.40625 48.1875 4.484375 \nQ 40.765625 -1.421875 27.09375 -1.421875 \nQ 22.515625 -1.421875 17.65625 -0.515625 \nQ 12.796875 0.390625 7.625 2.203125 \nL 7.625 11.71875 \nQ 11.71875 9.328125 16.59375 8.109375 \nQ 21.484375 6.890625 26.8125 6.890625 \nQ 36.078125 6.890625 40.9375 10.546875 \nQ 45.796875 14.203125 45.796875 21.1875 \nQ 45.796875 27.640625 41.28125 31.265625 \nQ 36.765625 34.90625 28.71875 34.90625 \nL 20.21875 34.90625 \nL 20.21875 43.015625 \nL 29.109375 43.015625 \nQ 36.375 43.015625 40.234375 45.921875 \nQ 44.09375 48.828125 44.09375 54.296875 \nQ 44.09375 59.90625 40.109375 62.90625 \nQ 36.140625 65.921875 28.71875 65.921875 \nQ 24.65625 65.921875 20.015625 65.03125 \nQ 15.375 64.15625 9.8125 62.3125 \nL 9.8125 71.09375 \nQ 15.4375 72.65625 20.34375 73.4375 \nQ 25.25 74.21875 29.59375 74.21875 \nQ 40.828125 74.21875 47.359375 69.109375 \nQ 53.90625 64.015625 53.90625 55.328125 \nQ 53.90625 49.265625 50.4375 45.09375 \nQ 46.96875 40.921875 40.578125 39.3125 \nz\n\" id=\"DejaVuSans-51\"/>\n       </defs>\n       <use xlink:href=\"#DejaVuSans-51\"/>\n       <use x=\"63.623047\" xlink:href=\"#DejaVuSans-48\"/>\n      </g>\n     </g>\n    </g>\n   </g>\n   <g id=\"line2d_14\">\n    <path clip-path=\"url(#pd1f2a25060)\" d=\"M 346.506818 229.874489 \nL 326.215909 227.024313 \nL 305.925 176.096231 \nL 285.634091 137.78057 \nL 265.343182 104.085985 \nL 245.052273 32.201761 \nL 224.761364 44.974751 \nL 204.470455 50.106054 \nL 184.179545 164.11245 \nL 163.888636 156.505626 \nL 143.597727 173.445827 \nL 123.306818 147.777339 \nL 103.015909 52.347443 \nL 82.725 53.764689 \nL 62.434091 161.795155 \nL 42.143182 207.827761 \n\" style=\"fill:none;stroke:#1f77b4;stroke-linecap:square;stroke-width:1.5;\"/>\n   </g>\n   <g id=\"patch_3\">\n    <path d=\"M 26.925 239.758125 \nL 26.925 22.318125 \n\" style=\"fill:none;stroke:#000000;stroke-linecap:square;stroke-linejoin:miter;stroke-width:0.8;\"/>\n   </g>\n   <g id=\"patch_4\">\n    <path d=\"M 361.725 239.758125 \nL 361.725 22.318125 \n\" style=\"fill:none;stroke:#000000;stroke-linecap:square;stroke-linejoin:miter;stroke-width:0.8;\"/>\n   </g>\n   <g id=\"patch_5\">\n    <path d=\"M 26.925 239.758125 \nL 361.725 239.758125 \n\" style=\"fill:none;stroke:#000000;stroke-linecap:square;stroke-linejoin:miter;stroke-width:0.8;\"/>\n   </g>\n   <g id=\"patch_6\">\n    <path d=\"M 26.925 22.318125 \nL 361.725 22.318125 \n\" style=\"fill:none;stroke:#000000;stroke-linecap:square;stroke-linejoin:miter;stroke-width:0.8;\"/>\n   </g>\n   <g id=\"text_15\">\n    <!-- Open stock value of Gamestop per year (on average) -->\n    <g transform=\"translate(34.05375 16.318125)scale(0.12 -0.12)\">\n     <defs>\n      <path d=\"M 39.40625 66.21875 \nQ 28.65625 66.21875 22.328125 58.203125 \nQ 16.015625 50.203125 16.015625 36.375 \nQ 16.015625 22.609375 22.328125 14.59375 \nQ 28.65625 6.59375 39.40625 6.59375 \nQ 50.140625 6.59375 56.421875 14.59375 \nQ 62.703125 22.609375 62.703125 36.375 \nQ 62.703125 50.203125 56.421875 58.203125 \nQ 50.140625 66.21875 39.40625 66.21875 \nz\nM 39.40625 74.21875 \nQ 54.734375 74.21875 63.90625 63.9375 \nQ 73.09375 53.65625 73.09375 36.375 \nQ 73.09375 19.140625 63.90625 8.859375 \nQ 54.734375 -1.421875 39.40625 -1.421875 \nQ 24.03125 -1.421875 14.8125 8.828125 \nQ 5.609375 19.09375 5.609375 36.375 \nQ 5.609375 53.65625 14.8125 63.9375 \nQ 24.03125 74.21875 39.40625 74.21875 \nz\n\" id=\"DejaVuSans-79\"/>\n      <path d=\"M 18.109375 8.203125 \nL 18.109375 -20.796875 \nL 9.078125 -20.796875 \nL 9.078125 54.6875 \nL 18.109375 54.6875 \nL 18.109375 46.390625 \nQ 20.953125 51.265625 25.265625 53.625 \nQ 29.59375 56 35.59375 56 \nQ 45.5625 56 51.78125 48.09375 \nQ 58.015625 40.1875 58.015625 27.296875 \nQ 58.015625 14.40625 51.78125 6.484375 \nQ 45.5625 -1.421875 35.59375 -1.421875 \nQ 29.59375 -1.421875 25.265625 0.953125 \nQ 20.953125 3.328125 18.109375 8.203125 \nz\nM 48.6875 27.296875 \nQ 48.6875 37.203125 44.609375 42.84375 \nQ 40.53125 48.484375 33.40625 48.484375 \nQ 26.265625 48.484375 22.1875 42.84375 \nQ 18.109375 37.203125 18.109375 27.296875 \nQ 18.109375 17.390625 22.1875 11.75 \nQ 26.265625 6.109375 33.40625 6.109375 \nQ 40.53125 6.109375 44.609375 11.75 \nQ 48.6875 17.390625 48.6875 27.296875 \nz\n\" id=\"DejaVuSans-112\"/>\n      <path d=\"M 54.890625 33.015625 \nL 54.890625 0 \nL 45.90625 0 \nL 45.90625 32.71875 \nQ 45.90625 40.484375 42.875 44.328125 \nQ 39.84375 48.1875 33.796875 48.1875 \nQ 26.515625 48.1875 22.3125 43.546875 \nQ 18.109375 38.921875 18.109375 30.90625 \nL 18.109375 0 \nL 9.078125 0 \nL 9.078125 54.6875 \nL 18.109375 54.6875 \nL 18.109375 46.1875 \nQ 21.34375 51.125 25.703125 53.5625 \nQ 30.078125 56 35.796875 56 \nQ 45.21875 56 50.046875 50.171875 \nQ 54.890625 44.34375 54.890625 33.015625 \nz\n\" id=\"DejaVuSans-110\"/>\n      <path id=\"DejaVuSans-32\"/>\n      <path d=\"M 44.28125 53.078125 \nL 44.28125 44.578125 \nQ 40.484375 46.53125 36.375 47.5 \nQ 32.28125 48.484375 27.875 48.484375 \nQ 21.1875 48.484375 17.84375 46.4375 \nQ 14.5 44.390625 14.5 40.28125 \nQ 14.5 37.15625 16.890625 35.375 \nQ 19.28125 33.59375 26.515625 31.984375 \nL 29.59375 31.296875 \nQ 39.15625 29.25 43.1875 25.515625 \nQ 47.21875 21.78125 47.21875 15.09375 \nQ 47.21875 7.46875 41.1875 3.015625 \nQ 35.15625 -1.421875 24.609375 -1.421875 \nQ 20.21875 -1.421875 15.453125 -0.5625 \nQ 10.6875 0.296875 5.421875 2 \nL 5.421875 11.28125 \nQ 10.40625 8.6875 15.234375 7.390625 \nQ 20.0625 6.109375 24.8125 6.109375 \nQ 31.15625 6.109375 34.5625 8.28125 \nQ 37.984375 10.453125 37.984375 14.40625 \nQ 37.984375 18.0625 35.515625 20.015625 \nQ 33.0625 21.96875 24.703125 23.78125 \nL 21.578125 24.515625 \nQ 13.234375 26.265625 9.515625 29.90625 \nQ 5.8125 33.546875 5.8125 39.890625 \nQ 5.8125 47.609375 11.28125 51.796875 \nQ 16.75 56 26.8125 56 \nQ 31.78125 56 36.171875 55.265625 \nQ 40.578125 54.546875 44.28125 53.078125 \nz\n\" id=\"DejaVuSans-115\"/>\n      <path d=\"M 18.3125 70.21875 \nL 18.3125 54.6875 \nL 36.8125 54.6875 \nL 36.8125 47.703125 \nL 18.3125 47.703125 \nL 18.3125 18.015625 \nQ 18.3125 11.328125 20.140625 9.421875 \nQ 21.96875 7.515625 27.59375 7.515625 \nL 36.8125 7.515625 \nL 36.8125 0 \nL 27.59375 0 \nQ 17.1875 0 13.234375 3.875 \nQ 9.28125 7.765625 9.28125 18.015625 \nL 9.28125 47.703125 \nL 2.6875 47.703125 \nL 2.6875 54.6875 \nL 9.28125 54.6875 \nL 9.28125 70.21875 \nz\n\" id=\"DejaVuSans-116\"/>\n      <path d=\"M 30.609375 48.390625 \nQ 23.390625 48.390625 19.1875 42.75 \nQ 14.984375 37.109375 14.984375 27.296875 \nQ 14.984375 17.484375 19.15625 11.84375 \nQ 23.34375 6.203125 30.609375 6.203125 \nQ 37.796875 6.203125 41.984375 11.859375 \nQ 46.1875 17.53125 46.1875 27.296875 \nQ 46.1875 37.015625 41.984375 42.703125 \nQ 37.796875 48.390625 30.609375 48.390625 \nz\nM 30.609375 56 \nQ 42.328125 56 49.015625 48.375 \nQ 55.71875 40.765625 55.71875 27.296875 \nQ 55.71875 13.875 49.015625 6.21875 \nQ 42.328125 -1.421875 30.609375 -1.421875 \nQ 18.84375 -1.421875 12.171875 6.21875 \nQ 5.515625 13.875 5.515625 27.296875 \nQ 5.515625 40.765625 12.171875 48.375 \nQ 18.84375 56 30.609375 56 \nz\n\" id=\"DejaVuSans-111\"/>\n      <path d=\"M 48.78125 52.59375 \nL 48.78125 44.1875 \nQ 44.96875 46.296875 41.140625 47.34375 \nQ 37.3125 48.390625 33.40625 48.390625 \nQ 24.65625 48.390625 19.8125 42.84375 \nQ 14.984375 37.3125 14.984375 27.296875 \nQ 14.984375 17.28125 19.8125 11.734375 \nQ 24.65625 6.203125 33.40625 6.203125 \nQ 37.3125 6.203125 41.140625 7.25 \nQ 44.96875 8.296875 48.78125 10.40625 \nL 48.78125 2.09375 \nQ 45.015625 0.34375 40.984375 -0.53125 \nQ 36.96875 -1.421875 32.421875 -1.421875 \nQ 20.0625 -1.421875 12.78125 6.34375 \nQ 5.515625 14.109375 5.515625 27.296875 \nQ 5.515625 40.671875 12.859375 48.328125 \nQ 20.21875 56 33.015625 56 \nQ 37.15625 56 41.109375 55.140625 \nQ 45.0625 54.296875 48.78125 52.59375 \nz\n\" id=\"DejaVuSans-99\"/>\n      <path d=\"M 9.078125 75.984375 \nL 18.109375 75.984375 \nL 18.109375 31.109375 \nL 44.921875 54.6875 \nL 56.390625 54.6875 \nL 27.390625 29.109375 \nL 57.625 0 \nL 45.90625 0 \nL 18.109375 26.703125 \nL 18.109375 0 \nL 9.078125 0 \nz\n\" id=\"DejaVuSans-107\"/>\n      <path d=\"M 2.984375 54.6875 \nL 12.5 54.6875 \nL 29.59375 8.796875 \nL 46.6875 54.6875 \nL 56.203125 54.6875 \nL 35.6875 0 \nL 23.484375 0 \nz\n\" id=\"DejaVuSans-118\"/>\n      <path d=\"M 9.421875 75.984375 \nL 18.40625 75.984375 \nL 18.40625 0 \nL 9.421875 0 \nz\n\" id=\"DejaVuSans-108\"/>\n      <path d=\"M 8.5 21.578125 \nL 8.5 54.6875 \nL 17.484375 54.6875 \nL 17.484375 21.921875 \nQ 17.484375 14.15625 20.5 10.265625 \nQ 23.53125 6.390625 29.59375 6.390625 \nQ 36.859375 6.390625 41.078125 11.03125 \nQ 45.3125 15.671875 45.3125 23.6875 \nL 45.3125 54.6875 \nL 54.296875 54.6875 \nL 54.296875 0 \nL 45.3125 0 \nL 45.3125 8.40625 \nQ 42.046875 3.421875 37.71875 1 \nQ 33.40625 -1.421875 27.6875 -1.421875 \nQ 18.265625 -1.421875 13.375 4.4375 \nQ 8.5 10.296875 8.5 21.578125 \nz\nM 31.109375 56 \nz\n\" id=\"DejaVuSans-117\"/>\n      <path d=\"M 37.109375 75.984375 \nL 37.109375 68.5 \nL 28.515625 68.5 \nQ 23.6875 68.5 21.796875 66.546875 \nQ 19.921875 64.59375 19.921875 59.515625 \nL 19.921875 54.6875 \nL 34.71875 54.6875 \nL 34.71875 47.703125 \nL 19.921875 47.703125 \nL 19.921875 0 \nL 10.890625 0 \nL 10.890625 47.703125 \nL 2.296875 47.703125 \nL 2.296875 54.6875 \nL 10.890625 54.6875 \nL 10.890625 58.5 \nQ 10.890625 67.625 15.140625 71.796875 \nQ 19.390625 75.984375 28.609375 75.984375 \nz\n\" id=\"DejaVuSans-102\"/>\n      <path d=\"M 59.515625 10.40625 \nL 59.515625 29.984375 \nL 43.40625 29.984375 \nL 43.40625 38.09375 \nL 69.28125 38.09375 \nL 69.28125 6.78125 \nQ 63.578125 2.734375 56.6875 0.65625 \nQ 49.8125 -1.421875 42 -1.421875 \nQ 24.90625 -1.421875 15.25 8.5625 \nQ 5.609375 18.5625 5.609375 36.375 \nQ 5.609375 54.25 15.25 64.234375 \nQ 24.90625 74.21875 42 74.21875 \nQ 49.125 74.21875 55.546875 72.453125 \nQ 61.96875 70.703125 67.390625 67.28125 \nL 67.390625 56.78125 \nQ 61.921875 61.421875 55.765625 63.765625 \nQ 49.609375 66.109375 42.828125 66.109375 \nQ 29.4375 66.109375 22.71875 58.640625 \nQ 16.015625 51.171875 16.015625 36.375 \nQ 16.015625 21.625 22.71875 14.15625 \nQ 29.4375 6.6875 42.828125 6.6875 \nQ 48.046875 6.6875 52.140625 7.59375 \nQ 56.25 8.5 59.515625 10.40625 \nz\n\" id=\"DejaVuSans-71\"/>\n      <path d=\"M 52 44.1875 \nQ 55.375 50.25 60.0625 53.125 \nQ 64.75 56 71.09375 56 \nQ 79.640625 56 84.28125 50.015625 \nQ 88.921875 44.046875 88.921875 33.015625 \nL 88.921875 0 \nL 79.890625 0 \nL 79.890625 32.71875 \nQ 79.890625 40.578125 77.09375 44.375 \nQ 74.3125 48.1875 68.609375 48.1875 \nQ 61.625 48.1875 57.5625 43.546875 \nQ 53.515625 38.921875 53.515625 30.90625 \nL 53.515625 0 \nL 44.484375 0 \nL 44.484375 32.71875 \nQ 44.484375 40.625 41.703125 44.40625 \nQ 38.921875 48.1875 33.109375 48.1875 \nQ 26.21875 48.1875 22.15625 43.53125 \nQ 18.109375 38.875 18.109375 30.90625 \nL 18.109375 0 \nL 9.078125 0 \nL 9.078125 54.6875 \nL 18.109375 54.6875 \nL 18.109375 46.1875 \nQ 21.1875 51.21875 25.484375 53.609375 \nQ 29.78125 56 35.6875 56 \nQ 41.65625 56 45.828125 52.96875 \nQ 50 49.953125 52 44.1875 \nz\n\" id=\"DejaVuSans-109\"/>\n      <path d=\"M 32.171875 -5.078125 \nQ 28.375 -14.84375 24.75 -17.8125 \nQ 21.140625 -20.796875 15.09375 -20.796875 \nL 7.90625 -20.796875 \nL 7.90625 -13.28125 \nL 13.1875 -13.28125 \nQ 16.890625 -13.28125 18.9375 -11.515625 \nQ 21 -9.765625 23.484375 -3.21875 \nL 25.09375 0.875 \nL 2.984375 54.6875 \nL 12.5 54.6875 \nL 29.59375 11.921875 \nL 46.6875 54.6875 \nL 56.203125 54.6875 \nz\n\" id=\"DejaVuSans-121\"/>\n      <path d=\"M 31 75.875 \nQ 24.46875 64.65625 21.28125 53.65625 \nQ 18.109375 42.671875 18.109375 31.390625 \nQ 18.109375 20.125 21.3125 9.0625 \nQ 24.515625 -2 31 -13.1875 \nL 23.1875 -13.1875 \nQ 15.875 -1.703125 12.234375 9.375 \nQ 8.59375 20.453125 8.59375 31.390625 \nQ 8.59375 42.28125 12.203125 53.3125 \nQ 15.828125 64.359375 23.1875 75.875 \nz\n\" id=\"DejaVuSans-40\"/>\n      <path d=\"M 45.40625 27.984375 \nQ 45.40625 37.75 41.375 43.109375 \nQ 37.359375 48.484375 30.078125 48.484375 \nQ 22.859375 48.484375 18.828125 43.109375 \nQ 14.796875 37.75 14.796875 27.984375 \nQ 14.796875 18.265625 18.828125 12.890625 \nQ 22.859375 7.515625 30.078125 7.515625 \nQ 37.359375 7.515625 41.375 12.890625 \nQ 45.40625 18.265625 45.40625 27.984375 \nz\nM 54.390625 6.78125 \nQ 54.390625 -7.171875 48.1875 -13.984375 \nQ 42 -20.796875 29.203125 -20.796875 \nQ 24.46875 -20.796875 20.265625 -20.09375 \nQ 16.0625 -19.390625 12.109375 -17.921875 \nL 12.109375 -9.1875 \nQ 16.0625 -11.328125 19.921875 -12.34375 \nQ 23.78125 -13.375 27.78125 -13.375 \nQ 36.625 -13.375 41.015625 -8.765625 \nQ 45.40625 -4.15625 45.40625 5.171875 \nL 45.40625 9.625 \nQ 42.625 4.78125 38.28125 2.390625 \nQ 33.9375 0 27.875 0 \nQ 17.828125 0 11.671875 7.65625 \nQ 5.515625 15.328125 5.515625 27.984375 \nQ 5.515625 40.671875 11.671875 48.328125 \nQ 17.828125 56 27.875 56 \nQ 33.9375 56 38.28125 53.609375 \nQ 42.625 51.21875 45.40625 46.390625 \nL 45.40625 54.6875 \nL 54.390625 54.6875 \nz\n\" id=\"DejaVuSans-103\"/>\n      <path d=\"M 8.015625 75.875 \nL 15.828125 75.875 \nQ 23.140625 64.359375 26.78125 53.3125 \nQ 30.421875 42.28125 30.421875 31.390625 \nQ 30.421875 20.453125 26.78125 9.375 \nQ 23.140625 -1.703125 15.828125 -13.1875 \nL 8.015625 -13.1875 \nQ 14.5 -2 17.703125 9.0625 \nQ 20.90625 20.125 20.90625 31.390625 \nQ 20.90625 42.671875 17.703125 53.65625 \nQ 14.5 64.65625 8.015625 75.875 \nz\n\" id=\"DejaVuSans-41\"/>\n     </defs>\n     <use xlink:href=\"#DejaVuSans-79\"/>\n     <use x=\"78.710938\" xlink:href=\"#DejaVuSans-112\"/>\n     <use x=\"142.1875\" xlink:href=\"#DejaVuSans-101\"/>\n     <use x=\"203.710938\" xlink:href=\"#DejaVuSans-110\"/>\n     <use x=\"267.089844\" xlink:href=\"#DejaVuSans-32\"/>\n     <use x=\"298.876953\" xlink:href=\"#DejaVuSans-115\"/>\n     <use x=\"350.976562\" xlink:href=\"#DejaVuSans-116\"/>\n     <use x=\"390.185547\" xlink:href=\"#DejaVuSans-111\"/>\n     <use x=\"451.367188\" xlink:href=\"#DejaVuSans-99\"/>\n     <use x=\"506.347656\" xlink:href=\"#DejaVuSans-107\"/>\n     <use x=\"564.257812\" xlink:href=\"#DejaVuSans-32\"/>\n     <use x=\"596.044922\" xlink:href=\"#DejaVuSans-118\"/>\n     <use x=\"655.224609\" xlink:href=\"#DejaVuSans-97\"/>\n     <use x=\"716.503906\" xlink:href=\"#DejaVuSans-108\"/>\n     <use x=\"744.287109\" xlink:href=\"#DejaVuSans-117\"/>\n     <use x=\"807.666016\" xlink:href=\"#DejaVuSans-101\"/>\n     <use x=\"869.189453\" xlink:href=\"#DejaVuSans-32\"/>\n     <use x=\"900.976562\" xlink:href=\"#DejaVuSans-111\"/>\n     <use x=\"962.158203\" xlink:href=\"#DejaVuSans-102\"/>\n     <use x=\"997.363281\" xlink:href=\"#DejaVuSans-32\"/>\n     <use x=\"1029.150391\" xlink:href=\"#DejaVuSans-71\"/>\n     <use x=\"1106.640625\" xlink:href=\"#DejaVuSans-97\"/>\n     <use x=\"1167.919922\" xlink:href=\"#DejaVuSans-109\"/>\n     <use x=\"1265.332031\" xlink:href=\"#DejaVuSans-101\"/>\n     <use x=\"1326.855469\" xlink:href=\"#DejaVuSans-115\"/>\n     <use x=\"1378.955078\" xlink:href=\"#DejaVuSans-116\"/>\n     <use x=\"1418.164062\" xlink:href=\"#DejaVuSans-111\"/>\n     <use x=\"1479.345703\" xlink:href=\"#DejaVuSans-112\"/>\n     <use x=\"1542.822266\" xlink:href=\"#DejaVuSans-32\"/>\n     <use x=\"1574.609375\" xlink:href=\"#DejaVuSans-112\"/>\n     <use x=\"1638.085938\" xlink:href=\"#DejaVuSans-101\"/>\n     <use x=\"1699.609375\" xlink:href=\"#DejaVuSans-114\"/>\n     <use x=\"1740.722656\" xlink:href=\"#DejaVuSans-32\"/>\n     <use x=\"1772.509766\" xlink:href=\"#DejaVuSans-121\"/>\n     <use x=\"1831.689453\" xlink:href=\"#DejaVuSans-101\"/>\n     <use x=\"1893.212891\" xlink:href=\"#DejaVuSans-97\"/>\n     <use x=\"1954.492188\" xlink:href=\"#DejaVuSans-114\"/>\n     <use x=\"1995.605469\" xlink:href=\"#DejaVuSans-32\"/>\n     <use x=\"2027.392578\" xlink:href=\"#DejaVuSans-40\"/>\n     <use x=\"2066.40625\" xlink:href=\"#DejaVuSans-111\"/>\n     <use x=\"2127.587891\" xlink:href=\"#DejaVuSans-110\"/>\n     <use x=\"2190.966797\" xlink:href=\"#DejaVuSans-32\"/>\n     <use x=\"2222.753906\" xlink:href=\"#DejaVuSans-97\"/>\n     <use x=\"2284.033203\" xlink:href=\"#DejaVuSans-118\"/>\n     <use x=\"2343.212891\" xlink:href=\"#DejaVuSans-101\"/>\n     <use x=\"2404.736328\" xlink:href=\"#DejaVuSans-114\"/>\n     <use x=\"2445.849609\" xlink:href=\"#DejaVuSans-97\"/>\n     <use x=\"2507.128906\" xlink:href=\"#DejaVuSans-103\"/>\n     <use x=\"2570.605469\" xlink:href=\"#DejaVuSans-101\"/>\n     <use x=\"2632.128906\" xlink:href=\"#DejaVuSans-41\"/>\n    </g>\n   </g>\n   <g id=\"legend_1\">\n    <g id=\"patch_7\">\n     <path d=\"M 296.014063 44.99625 \nL 354.725 44.99625 \nQ 356.725 44.99625 356.725 42.99625 \nL 356.725 29.318125 \nQ 356.725 27.318125 354.725 27.318125 \nL 296.014063 27.318125 \nQ 294.014063 27.318125 294.014063 29.318125 \nL 294.014063 42.99625 \nQ 294.014063 44.99625 296.014063 44.99625 \nz\n\" style=\"fill:#ffffff;opacity:0.8;stroke:#cccccc;stroke-linejoin:miter;\"/>\n    </g>\n    <g id=\"line2d_15\">\n     <path d=\"M 298.014063 35.416562 \nL 318.014063 35.416562 \n\" style=\"fill:none;stroke:#1f77b4;stroke-linecap:square;stroke-width:1.5;\"/>\n    </g>\n    <g id=\"line2d_16\"/>\n    <g id=\"text_16\">\n     <!-- Open -->\n     <g transform=\"translate(326.014063 38.916562)scale(0.1 -0.1)\">\n      <use xlink:href=\"#DejaVuSans-79\"/>\n      <use x=\"78.710938\" xlink:href=\"#DejaVuSans-112\"/>\n      <use x=\"142.1875\" xlink:href=\"#DejaVuSans-101\"/>\n      <use x=\"203.710938\" xlink:href=\"#DejaVuSans-110\"/>\n     </g>\n    </g>\n   </g>\n  </g>\n </g>\n <defs>\n  <clipPath id=\"pd1f2a25060\">\n   <rect height=\"217.44\" width=\"334.8\" x=\"26.925\" y=\"22.318125\"/>\n  </clipPath>\n </defs>\n</svg>\n",
      "image/png": "[encoded data removed]"
     },
     "metadata": {
      "needs_background": "light"
     }
    }
   ],
   "source": [
    "# graph of Gamestop\n",
    "Game_dash.plot(x = 'Year', y = 'Open', title = \"Open stock value of Gamestop per year (on average)\")"
   ]
  },
  {
   "source": [
    "## Question 8. Sharing your Assignment Notebook"
   ],
   "cell_type": "markdown",
   "metadata": {}
  },
  {
   "cell_type": "code",
   "execution_count": null,
   "metadata": {},
   "outputs": [],
   "source": []
  }
 ]
}