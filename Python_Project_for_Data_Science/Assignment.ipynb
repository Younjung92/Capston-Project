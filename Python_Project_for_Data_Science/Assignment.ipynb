{
 "metadata": {
  "language_info": {
   "codemirror_mode": {
    "name": "ipython",
    "version": 3
   },
   "file_extension": ".py",
   "mimetype": "text/x-python",
   "name": "python",
   "nbconvert_exporter": "python",
   "pygments_lexer": "ipython3",
   "version": "3.9.1-final"
  },
  "orig_nbformat": 2,
  "kernelspec": {
   "name": "python3",
   "display_name": "Python 3.9.1 64-bit",
   "metadata": {
    "interpreter": {
     "hash": "7812ea015bdcee6f23a998adcdd2ef97c151c0c241b7b7070987d9313e41299d"
    }
   }
  }
 },
 "nbformat": 4,
 "nbformat_minor": 2,
 "cells": [
  {
   "source": [
    "# Analyzing Historical Stock/Revenue Data and Builidng a Dashboard"
   ],
   "cell_type": "markdown",
   "metadata": {}
  },
  {
   "source": [
    "## Question 1. Extracting Tesla Stock Data Using yfinance"
   ],
   "cell_type": "markdown",
   "metadata": {}
  },
  {
   "cell_type": "code",
   "execution_count": 1,
   "metadata": {},
   "outputs": [],
   "source": [
    "# importing libraries\n",
    "import pandas as pd\n",
    "import yfinance as yf"
   ]
  },
  {
   "cell_type": "code",
   "execution_count": 2,
   "metadata": {},
   "outputs": [],
   "source": [
    "# using 'Ticker' module to extract data\n",
    "tesla = yf.Ticker(\"TSLA\")"
   ]
  },
  {
   "cell_type": "code",
   "execution_count": 3,
   "metadata": {},
   "outputs": [
    {
     "output_type": "execute_result",
     "data": {
      "text/plain": [
       "{'zip': '94304',\n",
       " 'sector': 'Consumer Cyclical',\n",
       " 'fullTimeEmployees': 70757,\n",
       " 'longBusinessSummary': 'Tesla, Inc. designs, develops, manufactures, leases, and sells electric vehicles, and energy generation and storage systems in the United States, China, and internationally. The company operates in two segments, Automotive, and Energy Generation and Storage. The Automotive segment offers electric vehicles, as well as sells automotive regulatory credits. It provides sedans and sport utility vehicles through direct and used vehicle sales, a network of Tesla Superchargers, and in-app upgrades; and purchase financing and leasing services. This segment is also involved in the provision of non-warranty after-sales vehicle services, sale of used vehicles, retail merchandise, and vehicle insurance, as well as sale of products through its subsidiaries to third party customers; services for electric vehicles through its company-owned service locations, and Tesla mobile service technicians; and vehicle limited warranties and extended service plans. The Energy Generation and Storage segment engages in the design, manufacture, installation, sale, and leasing of solar energy generation and energy storage products, and related services to residential, commercial, and industrial customers and utilities through its website, stores, and galleries, as well as through a network of channel partners. This segment also offers service and repairs to its energy product customers, including under warranty; and various financing options to its solar customers. The company was formerly known as Tesla Motors, Inc. and changed its name to Tesla, Inc. in February 2017. Tesla, Inc. was founded in 2003 and is headquartered in Palo Alto, California.',\n",
       " 'city': 'Palo Alto',\n",
       " 'phone': '650-681-5000',\n",
       " 'state': 'CA',\n",
       " 'country': 'United States',\n",
       " 'companyOfficers': [],\n",
       " 'website': 'http://www.tesla.com',\n",
       " 'maxAge': 1,\n",
       " 'address1': '3500 Deer Creek Road',\n",
       " 'industry': 'Auto Manufacturers',\n",
       " 'previousClose': 781.3,\n",
       " 'regularMarketOpen': 762.64,\n",
       " 'twoHundredDayAverage': 554.72736,\n",
       " 'trailingAnnualDividendYield': None,\n",
       " 'payoutRatio': 0,\n",
       " 'volume24Hr': None,\n",
       " 'regularMarketDayHigh': 768.5,\n",
       " 'navPrice': None,\n",
       " 'averageDailyVolume10Day': 21237340,\n",
       " 'totalAssets': None,\n",
       " 'regularMarketPreviousClose': 781.3,\n",
       " 'fiftyDayAverage': 828.02423,\n",
       " 'trailingAnnualDividendRate': None,\n",
       " 'open': 762.64,\n",
       " 'toCurrency': None,\n",
       " 'averageVolume10days': 21237340,\n",
       " 'expireDate': None,\n",
       " 'yield': None,\n",
       " 'algorithm': None,\n",
       " 'dividendRate': None,\n",
       " 'exDividendDate': None,\n",
       " 'beta': 2.090715,\n",
       " 'circulatingSupply': None,\n",
       " 'startDate': None,\n",
       " 'regularMarketDayLow': 740.51,\n",
       " 'priceHint': 2,\n",
       " 'currency': 'USD',\n",
       " 'trailingPE': 1160.5625,\n",
       " 'regularMarketVolume': 10958556,\n",
       " 'lastMarket': None,\n",
       " 'maxSupply': None,\n",
       " 'openInterest': None,\n",
       " 'marketCap': 712941174784,\n",
       " 'volumeAllCurrencies': None,\n",
       " 'strikePrice': None,\n",
       " 'averageVolume': 40965440,\n",
       " 'priceToSalesTrailing12Months': 22.607216,\n",
       " 'dayLow': 740.51,\n",
       " 'ask': 755.05,\n",
       " 'ytdReturn': None,\n",
       " 'askSize': 800,\n",
       " 'volume': 10958556,\n",
       " 'fiftyTwoWeekHigh': 900.4,\n",
       " 'forwardPE': 137.2939,\n",
       " 'fromCurrency': None,\n",
       " 'fiveYearAvgDividendYield': None,\n",
       " 'fiftyTwoWeekLow': 70.102,\n",
       " 'bid': 754.65,\n",
       " 'tradeable': False,\n",
       " 'dividendYield': None,\n",
       " 'bidSize': 800,\n",
       " 'dayHigh': 768.5,\n",
       " 'exchange': 'NMS',\n",
       " 'shortName': 'Tesla, Inc.',\n",
       " 'longName': 'Tesla, Inc.',\n",
       " 'exchangeTimezoneName': 'America/New_York',\n",
       " 'exchangeTimezoneShortName': 'EST',\n",
       " 'isEsgPopulated': False,\n",
       " 'gmtOffSetMilliseconds': '-18000000',\n",
       " 'quoteType': 'EQUITY',\n",
       " 'symbol': 'TSLA',\n",
       " 'messageBoardId': 'finmb_27444752',\n",
       " 'market': 'us_market',\n",
       " 'annualHoldingsTurnover': None,\n",
       " 'enterpriseToRevenue': 23.635,\n",
       " 'beta3Year': None,\n",
       " 'profitMargins': 0.02286,\n",
       " 'enterpriseToEbitda': 174.43,\n",
       " '52WeekChange': 3.6852326,\n",
       " 'morningStarRiskRating': None,\n",
       " 'forwardEps': 5.41,\n",
       " 'revenueQuarterlyGrowth': None,\n",
       " 'sharesOutstanding': 959854016,\n",
       " 'fundInceptionDate': None,\n",
       " 'annualReportExpenseRatio': None,\n",
       " 'bookValue': 23.151,\n",
       " 'sharesShort': 52379526,\n",
       " 'sharesPercentSharesOut': 0.0546,\n",
       " 'fundFamily': None,\n",
       " 'lastFiscalYearEnd': 1609372800,\n",
       " 'heldPercentInstitutions': 0.42529,\n",
       " 'netIncomeToCommon': 690000000,\n",
       " 'trailingEps': 0.64,\n",
       " 'lastDividendValue': None,\n",
       " 'SandP52WeekChange': 0.1675049,\n",
       " 'priceToBook': 32.083282,\n",
       " 'heldPercentInsiders': 0.19985001,\n",
       " 'nextFiscalYearEnd': 1672444800,\n",
       " 'mostRecentQuarter': 1609372800,\n",
       " 'shortRatio': 1.4,\n",
       " 'sharesShortPreviousMonthDate': 1609372800,\n",
       " 'floatShares': 771530247,\n",
       " 'enterpriseValue': 745340534784,\n",
       " 'threeYearAverageReturn': None,\n",
       " 'lastSplitDate': 1598832000,\n",
       " 'lastSplitFactor': '5:1',\n",
       " 'legalType': None,\n",
       " 'lastDividendDate': None,\n",
       " 'morningStarOverallRating': None,\n",
       " 'earningsQuarterlyGrowth': 1.571,\n",
       " 'dateShortInterest': 1611878400,\n",
       " 'pegRatio': 6.37,\n",
       " 'lastCapGain': None,\n",
       " 'shortPercentOfFloat': 0.0679,\n",
       " 'sharesShortPriorMonth': 60620873,\n",
       " 'impliedSharesOutstanding': None,\n",
       " 'category': None,\n",
       " 'fiveYearAverageReturn': None,\n",
       " 'regularMarketPrice': 762.64,\n",
       " 'logo_url': 'https://logo.clearbit.com/tesla.com'}"
      ]
     },
     "metadata": {},
     "execution_count": 3
    }
   ],
   "source": [
    "# using the attribue 'info' \n",
    "tesla_info = tesla.info\n",
    "tesla_info"
   ]
  },
  {
   "cell_type": "code",
   "execution_count": 4,
   "metadata": {},
   "outputs": [
    {
     "output_type": "execute_result",
     "data": {
      "text/plain": [
       "             Open   High    Low  Close    Volume  Dividends  Stock Splits\n",
       "Date                                                                     \n",
       "2010-06-29  3.800  5.000  3.508  4.778  93831500          0           0.0\n",
       "2010-06-30  5.158  6.084  4.660  4.766  85935500          0           0.0\n",
       "2010-07-01  5.000  5.184  4.054  4.392  41094000          0           0.0\n",
       "2010-07-02  4.600  4.620  3.742  3.840  25699000          0           0.0\n",
       "2010-07-06  4.000  4.000  3.166  3.222  34334500          0           0.0"
      ],
      "text/html": "<div>\n<style scoped>\n    .dataframe tbody tr th:only-of-type {\n        vertical-align: middle;\n    }\n\n    .dataframe tbody tr th {\n        vertical-align: top;\n    }\n\n    .dataframe thead th {\n        text-align: right;\n    }\n</style>\n<table border=\"1\" class=\"dataframe\">\n  <thead>\n    <tr style=\"text-align: right;\">\n      <th></th>\n      <th>Open</th>\n      <th>High</th>\n      <th>Low</th>\n      <th>Close</th>\n      <th>Volume</th>\n      <th>Dividends</th>\n      <th>Stock Splits</th>\n    </tr>\n    <tr>\n      <th>Date</th>\n      <th></th>\n      <th></th>\n      <th></th>\n      <th></th>\n      <th></th>\n      <th></th>\n      <th></th>\n    </tr>\n  </thead>\n  <tbody>\n    <tr>\n      <th>2010-06-29</th>\n      <td>3.800</td>\n      <td>5.000</td>\n      <td>3.508</td>\n      <td>4.778</td>\n      <td>93831500</td>\n      <td>0</td>\n      <td>0.0</td>\n    </tr>\n    <tr>\n      <th>2010-06-30</th>\n      <td>5.158</td>\n      <td>6.084</td>\n      <td>4.660</td>\n      <td>4.766</td>\n      <td>85935500</td>\n      <td>0</td>\n      <td>0.0</td>\n    </tr>\n    <tr>\n      <th>2010-07-01</th>\n      <td>5.000</td>\n      <td>5.184</td>\n      <td>4.054</td>\n      <td>4.392</td>\n      <td>41094000</td>\n      <td>0</td>\n      <td>0.0</td>\n    </tr>\n    <tr>\n      <th>2010-07-02</th>\n      <td>4.600</td>\n      <td>4.620</td>\n      <td>3.742</td>\n      <td>3.840</td>\n      <td>25699000</td>\n      <td>0</td>\n      <td>0.0</td>\n    </tr>\n    <tr>\n      <th>2010-07-06</th>\n      <td>4.000</td>\n      <td>4.000</td>\n      <td>3.166</td>\n      <td>3.222</td>\n      <td>34334500</td>\n      <td>0</td>\n      <td>0.0</td>\n    </tr>\n  </tbody>\n</table>\n</div>"
     },
     "metadata": {},
     "execution_count": 4
    }
   ],
   "source": [
    "# Extracting share price \n",
    "tesla_share_price_data = tesla.history(period = \"max\")\n",
    "tesla_share_price_data.head()"
   ]
  },
  {
   "source": [
    "## Question 2. Extracting Tesla Revenue Data Using Webscraping"
   ],
   "cell_type": "markdown",
   "metadata": {}
  },
  {
   "cell_type": "code",
   "execution_count": 5,
   "metadata": {},
   "outputs": [],
   "source": [
    "# importing libraries\n",
    "import requests\n",
    "from bs4 import BeautifulSoup"
   ]
  },
  {
   "cell_type": "code",
   "execution_count": 6,
   "metadata": {},
   "outputs": [
    {
     "output_type": "execute_result",
     "data": {
      "text/plain": [
       "<Response [200]>"
      ]
     },
     "metadata": {},
     "execution_count": 6
    }
   ],
   "source": [
    "# using 'requests' library to download the webpage below\n",
    "url = \"https://www.macrotrends.net/stocks/charts/TSLA/tesla/revenue\"\n",
    "html_data = requests.get(url)\n",
    "html_data"
   ]
  },
  {
   "cell_type": "code",
   "execution_count": 7,
   "metadata": {
    "tags": []
   },
   "outputs": [
    {
     "output_type": "stream",
     "name": "stdout",
     "text": [
      "<!DOCTYPE html>\n<!--[if lt IE 7]>      <html class=\"no-js lt-ie9 lt-ie8 lt-ie7\"> <![endif]-->\n<!--[if IE 7]>         <html class=\"no-js lt-ie9 lt-ie8\"> <![endif]-->\n<!--[if IE 8]>         <html class=\"no-js lt-ie9\"> <![endif]-->\n<!--[if gt IE 8]><!-->\n<html class=\"no-js\">\n <!--<![endif]-->\n <head>\n  <meta charset=\"utf-8\"/>\n  <meta content=\"IE=edge,chrome=1\" http-equiv=\"X-UA-Compatible\"/>\n  <link href=\"https://www.macrotrends.net/stocks/charts/TSLA/tesla/revenue\" rel=\"canonical\"/>\n  <title>\n   Tesla Revenue 2009-2020 | TSLA | MacroTrends\n  </title>\n  <meta content=\"Tesla annual/quarterly revenue history and growth rate from 2009 to 2020. Revenue can be defined as the amount of money a company receives from its customers in exchange for the sales of goods or services.  Revenue is the top line item on an income statement from which all costs and expenses are subtracted to arrive at net income.    \n\t\t\t\t\n\t\t\t\t&lt;ul style='margin-top:10px;'&gt;\n\t\t\t\t&lt;li&gt;Tesla revenue for the quarter ending December 31, 2020 was &lt;strong&gt;$10.744B&lt;/strong&gt;, a &lt;strong&gt;45.5% increase&lt;/strong&gt; year-over-year.&lt;/li&gt;\n\t\t\t\t&lt;li&gt;Tesla revenue for the twelve months ending December 31, 2020 was &lt;strong&gt;$31.536B&lt;/strong&gt;, a &lt;strong&gt;28.31% increase&lt;/strong&gt; year-over-year.&lt;/li&gt;\n\t\t\t\t&lt;li&gt;Tesla annual revenue for 2020 was &lt;strong&gt;$31.536B&lt;/strong&gt;, a &lt;strong&gt;28.31% increase&lt;/strong&gt; from 2019.&lt;/li&gt;\n\t\t\t\t&lt;li&gt;Tesla annual revenue for 2019 was &lt;strong&gt;$24.578B&lt;/strong&gt;, a &lt;strong&gt;14.52% increase&lt;/strong&gt; from 2018.&lt;/li&gt;\n\t\t\t\t&lt;li&gt;Tesla annual revenue for 2018 was &lt;strong&gt;$21.461B&lt;/strong&gt;, a &lt;strong&gt;82.51% increase&lt;/strong&gt; from 2017.&lt;/li&gt;\n\t\t\t\t&lt;/ul&gt;\" name=\"description\">\n   <meta content=\"\" name=\"robots\">\n    <link href=\"/assets/images/icons/FAVICON/macro-trends_favicon.ico\" rel=\"shortcut icon\" type=\"image/x-icon\"/>\n    <meta content=\"1228954C688F5907894001CD8E5E624B\" name=\"msvalidate.01\"/>\n    <meta content=\"6MnD_3iDtAP1ZyoGK1YMyVIVck4r5Ws80I9xD3ue4_A\" name=\"google-site-verification\"/>\n    <!-- Load in Roboto Font -->\n    <link href=\"https://fonts.googleapis.com/css?family=Roboto:400,600,700\" rel=\"stylesheet\"/>\n    <!-- Bootstrap -->\n    <link href=\"//maxcdn.bootstrapcdn.com/bootstrap/3.3.7/css/bootstrap.min.css\" rel=\"stylesheet\"/>\n    <!--for Bootstrap CDN version-->\n    <link href=\"//maxcdn.bootstrapcdn.com/bootstrap/3.3.7/css/bootstrap-theme.min.css\" rel=\"stylesheet\"/>\n    <!-- Font Awesome -->\n    <link href=\"//stackpath.bootstrapcdn.com/font-awesome/4.7.0/css/font-awesome.min.css\" rel=\"stylesheet\"/>\n    <!--for Font Awesome CDN version-->\n    <!-- Jquery, Bootstrap and Menu Javascript -->\n    <script crossorigin=\"anonymous\" integrity=\"sha256-ZosEbRLbNQzLpnKIkEdrPv7lOy9C27hHQ+Xp8a4MxAQ=\" src=\"//code.jquery.com/jquery-1.12.4.min.js\">\n    </script>\n    <script src=\"//maxcdn.bootstrapcdn.com/bootstrap/3.3.7/js/bootstrap.min.js\">\n    </script>\n    <!-- Modernizr for cross-browser support -->\n    <script src=\"/assets/javascript/modernizr-2.6.2-respond-1.1.0.min.js\" type=\"text/javascript\">\n    </script>\n    <!-- Latest compiled and minified CSS -->\n    <link href=\"//www.fuelcdn.com/fuelux/3.13.0/css/fuelux.min.css\" rel=\"stylesheet\"/>\n    <!-- Latest compiled and minified JavaScript -->\n    <script src=\"//www.fuelcdn.com/fuelux/3.13.0/js/fuelux.min.js\">\n    </script>\n    <!-- Twitter Card data -->\n    <meta content=\"summary_large_image\" name=\"twitter:card\"/>\n    <meta content=\"@tmacrotrends\" name=\"twitter:site\"/>\n    <meta content=\"Tesla Revenue 2009-2020 | TSLA\" name=\"twitter:title\"/>\n    <meta content=\"Tesla annual/quarterly revenue history and growth rate from 2009 to 2020. Revenue can be defined as the amount of money a company receives from its customers in exchange for the sales of goods or services.  Revenue is the top line item on an income statement from which all costs and expenses are subtracted to arrive at net income.    \n\t\t\t\t\n\t\t\t\t&lt;ul style='margin-top:10px;'&gt;\n\t\t\t\t&lt;li&gt;Tesla revenue for the quarter ending December 31, 2020 was &lt;strong&gt;$10.744B&lt;/strong&gt;, a &lt;strong&gt;45.5% increase&lt;/strong&gt; year-over-year.&lt;/li&gt;\n\t\t\t\t&lt;li&gt;Tesla revenue for the twelve months ending December 31, 2020 was &lt;strong&gt;$31.536B&lt;/strong&gt;, a &lt;strong&gt;28.31% increase&lt;/strong&gt; year-over-year.&lt;/li&gt;\n\t\t\t\t&lt;li&gt;Tesla annual revenue for 2020 was &lt;strong&gt;$31.536B&lt;/strong&gt;, a &lt;strong&gt;28.31% increase&lt;/strong&gt; from 2019.&lt;/li&gt;\n\t\t\t\t&lt;li&gt;Tesla annual revenue for 2019 was &lt;strong&gt;$24.578B&lt;/strong&gt;, a &lt;strong&gt;14.52% increase&lt;/strong&gt; from 2018.&lt;/li&gt;\n\t\t\t\t&lt;li&gt;Tesla annual revenue for 2018 was &lt;strong&gt;$21.461B&lt;/strong&gt;, a &lt;strong&gt;82.51% increase&lt;/strong&gt; from 2017.&lt;/li&gt;\n\t\t\t\t&lt;/ul&gt;\" name=\"twitter:description\"/>\n    <!-- Open Graph data -->\n    <meta content=\"https://www.macrotrends.net/stocks/charts/TSLA/tesla/revenue\" property=\"og:url\">\n     <meta content=\"Tesla Revenue 2009-2020 | TSLA\" property=\"og:title\">\n      <meta content=\"Tesla annual/quarterly revenue history and growth rate from 2009 to 2020. Revenue can be defined as the amount of money a company receives from its customers in exchange for the sales of goods or services.  Revenue is the top line item on an income statement from which all costs and expenses are subtracted to arrive at net income.    \n\t\t\t\t\n\t\t\t\t&lt;ul style='margin-top:10px;'&gt;\n\t\t\t\t&lt;li&gt;Tesla revenue for the quarter ending December 31, 2020 was &lt;strong&gt;$10.744B&lt;/strong&gt;, a &lt;strong&gt;45.5% increase&lt;/strong&gt; year-over-year.&lt;/li&gt;\n\t\t\t\t&lt;li&gt;Tesla revenue for the twelve months ending December 31, 2020 was &lt;strong&gt;$31.536B&lt;/strong&gt;, a &lt;strong&gt;28.31% increase&lt;/strong&gt; year-over-year.&lt;/li&gt;\n\t\t\t\t&lt;li&gt;Tesla annual revenue for 2020 was &lt;strong&gt;$31.536B&lt;/strong&gt;, a &lt;strong&gt;28.31% increase&lt;/strong&gt; from 2019.&lt;/li&gt;\n\t\t\t\t&lt;li&gt;Tesla annual revenue for 2019 was &lt;strong&gt;$24.578B&lt;/strong&gt;, a &lt;strong&gt;14.52% increase&lt;/strong&gt; from 2018.&lt;/li&gt;\n\t\t\t\t&lt;li&gt;Tesla annual revenue for 2018 was &lt;strong&gt;$21.461B&lt;/strong&gt;, a &lt;strong&gt;82.51% increase&lt;/strong&gt; from 2017.&lt;/li&gt;\n\t\t\t\t&lt;/ul&gt;\" property=\"og:description\">\n       <!-- JQXGRID STYLES AND JAVASCRIPT -->\n       <link href=\"/assets/php/jqfiles/jqwidgets/styles/jqx.base.css\" rel=\"stylesheet\" type=\"text/css\">\n        <link href=\"/assets/php/jqfiles/jqwidgets/styles/jqx.bootstrap.css\" rel=\"stylesheet\" type=\"text/css\">\n         <!-- LOAD THESE SCRIPTS EARLY SO THE TICKER INPUT FIELD IS STYLED INSTANTLY -->\n         <script src=\"/assets/php/jqfiles/jqwidgets/jqxcore.js\" type=\"text/javascript\">\n         </script>\n         <script src=\"/assets/php/jqfiles/jqwidgets/jqxdata.js\" type=\"text/javascript\">\n         </script>\n         <script src=\"/assets/php/jqfiles/jqwidgets/jqxinput.js\" type=\"text/javascript\">\n         </script>\n         <!-- Styling for search box -->\n         <link href=\"/assets/php/jquery-typeahead/jquery.typeahead_pages.css\" rel=\"stylesheet\" type=\"text/css\"/>\n         <!-- Search box javascript -->\n         <script src=\"/assets/php/jquery-typeahead/jquery.typeahead.min.js\">\n         </script>\n         <link href=\"//cdnjs.cloudflare.com/ajax/libs/select2/4.0.3/css/select2.min.css\" rel=\"stylesheet\">\n          <script src=\"//cdnjs.cloudflare.com/ajax/libs/select2/4.0.3/js/select2.min.js\">\n          </script>\n          <!-- ToolTips -->\n          <script src=\"/assets/php/tipped-4.6.1/js/tipped/tipped.js\">\n          </script>\n          <link href=\"/assets/php/tipped-4.6.1/css/tipped/tipped.css\" rel=\"stylesheet\"/>\n          <script async=\"\" src=\"https://u5.investingchannel.com/static/uat.js\">\n          </script>\n          <script type=\"text/javascript\">\n           InvestingChannelQueue = window.InvestingChannelQueue || [];\n\t\t\tvar ic_page;\n\t\t\tInvestingChannelQueue.push(function() {ic_page = InvestingChannel.UAT.Run(\"df17ac1e-cc7f-11e8-82a5-0abbb61c4a6a\");});\n          </script>\n          <!-- Global site tag (gtag.js) - Google Analytics -->\n          <script async=\"\" src=\"https://www.googletagmanager.com/gtag/js?id=UA-62099500-1\">\n          </script>\n          <script>\n           window.dataLayer = window.dataLayer || [];\n\t\t  function gtag(){dataLayer.push(arguments);}\n\t\t  gtag('js', new Date());\n\n\t\t  gtag('config', 'UA-62099500-1');\n          </script>\n          <!-- Amcharts Files -->\n          <script src=\"/assets/php/charts/amcharts/amcharts.js\" type=\"text/javascript\">\n          </script>\n          <script src=\"/assets/php/charts/amcharts/serial.js\" type=\"text/javascript\">\n          </script>\n          <script src=\"/assets/php/charts/amcharts/themes/light.js\" type=\"text/javascript\">\n          </script>\n          <script src=\"/assets/php/charts/amcharts/amstock.js\" type=\"text/javascript\">\n          </script>\n          <script src=\"/assets/php/charts/amcharts/plugins/export/export.min.js?version=1527102356\" type=\"text/javascript\">\n          </script>\n          <script src=\"/assets/php/charts/amcharts/plugins/export/libs/fabric.js/fabric.min.js?version=1510086154\" type=\"text/javascript\">\n          </script>\n          <script src=\"/assets/php/charts/amcharts/plugins/export/libs/FileSaver.js/FileSaver.js?version=1500654620\" type=\"text/javascript\">\n          </script>\n          <link href=\"/assets/php/charts/amcharts/plugins/export/export.css\" media=\"all\" rel=\"stylesheet\" type=\"text/css\">\n           <!--<script>\n\t\t\t(function(i,s,o,g,r,a,m){i['GoogleAnalyticsObject']=r;i[r]=i[r]||function(){\n\t\t\t(i[r].q=i[r].q||[]).push(arguments)},i[r].l=1*new Date();a=s.createElement(o),\n\t\t\tm=s.getElementsByTagName(o)[0];a.async=1;a.src=g;m.parentNode.insertBefore(a,m)\n\t\t\t})(window,document,'script','//www.google-analytics.com/analytics.js','ga');\n\n\t\t\tga('create', 'UA-62099500-1', 'auto');\n\t\t\tga('send', 'pageview');\n\t\t\t\n\t\t\t\n\t\t\t\n\t\t   \n\t\t\t//Send one event to GA at 30 seconds to control bounce rate\n\t\t\tsetTimeout(\"ga('send','event','Engaged User','30 Second Engagement')\",30000); \n\n\n\t\t  //This code sends events to ga every 30 seconds when the window is in focus\n\t\t\tvar count = 0;\n\t\t\tvar myInterval;\n\t\t\t\t\t\n\t\t\t// Active\n\t\t\twindow.addEventListener('load', startTimer);\n\t\t\twindow.addEventListener('focus', startTimer);\n\n\t\t\t// Inactive\n\t\t\twindow.addEventListener('blur', stopTimer);\n\n\t\t\tfunction timerHandler() {\n\t\t\t\tcount++;\n\t\t\t\t\n\t\t\t\tif(count % 60 == 0 && count <= 1800) {\n\t\t\t\t\t\n\t\t\t\t\tvar interval = (count/60);\n\t\t\t\t\tinterval = interval.toFixed(0);\n\t\t\t\t\t\n\t\t\t\t\tvar action = interval + \" Minute Engagement\";\n\t\t\t\t\t\n\t\t\t\t\tga('send','event','Engaged User',action);\n\n\t\t\t\t\t\n\t\t\t\t}\n\t\t\t\n\t\t\t}\n\n\t\t\t// Start timer\n\t\t\tfunction startTimer() {\n\t\t\tmyInterval = window.setInterval(timerHandler, 1000);\n\t\t\t}\n\n\t\t\t// Stop timer\n\t\t\tfunction stopTimer() {\n\t\t\twindow.clearInterval(myInterval);\n\t\t\t}\n\t\t\t\n\t\t\t\n\n\t\t</script>-->\n           <style>\n            #style-1::-webkit-scrollbar-track\n{\n\t-webkit-box-shadow: inset 0 0 6px rgba(0,0,0,0.3);\n\tborder-radius: 3px;\n\tbackground-color: #F5F5F5;\n}\n\n#style-1::-webkit-scrollbar\n{\n\twidth: 18px;\n\tbackground-color: #F5F5F5;\n}\n\n#style-1::-webkit-scrollbar-thumb\n{\n\tborder-radius: 3px;\n\t-webkit-box-shadow: inset 0 0 6px rgba(0,0,0,.3);\n\tbackground-color: #5B9BD5;\n}\n\nhtml {\n\twidth:100%;\n\tposition: relative;\n\tmin-height: 100%;\n}\n\nbody {\n\t\n\twidth:100%;\n\n\t/* Margin bottom by footer height */\n\t  margin-bottom: 80px;\n\t  color: #444;\n\t  background-color:#fff;\n\t  font-family: 'Roboto', sans-serif;\n\t  font-size:14px;\n}\n\n\n\n\n\n.header_content_container {\n\t\n\tmin-width: 1280px;\n\tpadding: 0px;\n}\n\n.main_content_container {\n\t\n\tmin-width: 1280px;\n\tmax-width: 1280px;\n\tpadding: 0px 30px 100px 30px;\n\t\n}\n\n.sub_main_content_container {\n\t\n\t\n}\n\n\n\n#main_content {\n\t\n\tpadding:0px 20px 0px 0px;\n\twidth:826px;\n    float:left;\n\t\n}\n\n#right_sidebar {\n\t\n  width: 300px;\n  float:left;\n  height:3170px;\n\t\n}\n\n#sticky_ad_left {\n\t\n  position: -webkit-sticky;\n  position: sticky;\n  top: 30px;\n\t\n\t\n}\n\n#sticky_ad_right {\n\t\n  position: -webkit-sticky;\n  position: sticky;\n  top: 30px;\n\t\n\t\n}\n\n\n\n\n\n.footer {\n  position: absolute;\n  bottom: 0;\n  width: 100%;\n  /* Set the fixed height of the footer here */\n  height: 100px;\n  margin-top: 10px;\t\n  padding: 30px 20px 20px 20px;\n  color:#fff !important;\n  background-color:#444;\n  text-align: center;\n  font-size:16px;\n}\n\n.footer a {\n  color:#fff !important;\n}\n\n.ticker_search_box {\n\t\n\tbackground-color:#F5F5F5;\n\tborder: 1px solid #E0E0E0;\n\tborder-bottom:none;\n\tpadding:10px 30px 10px 10px;\n\tmargin:0px 0px 0px 0px;\n\ttext-align:center;\n\t\n}\n\n.related_tickers {\n\t\n\twidth:100%;\n\tbackground-color:#F5F5F5;\n\tborder: 1px solid #E0E0E0;\n\tborder-top: 0px;\n\tpadding:3px 30px 3px 10px;\n\tmargin:0px 0px 0px 0px;\n\ttext-align:center;\n\t\n}\n\n.statement_type_select {\n\n\twidth:100%;\n\theight:28px;\n\t\n}\n\n.frequency_select {\n\n\twidth:100%;\n\theight:28px;\n\tfont-weight:600;\n\t\n}\n\n\n.select2 {\n\t\n\ttext-align:left;\n\tfont-weight:600;\n\t\n\t}\n\t\n#jqxInput {\n\n\t\twidth:100%;\n\t\theight:28px;\n\t\t\n}\n\n\n\n.header__parent_container {\n\n\twidth:100%;\n\theight:50px;\n\tpadding:15px 0px 10px -20px; \n\tmargin:0px 0px 0px 0px;\n\tbackground-color:#444;\n\n}\n\n.header_container {\n\n\twidth:100%;\n\theight:50px;\n\tpadding:15px 0px 10px -20px; \n\tmargin:0px 0px 0px 0px;\n\tbackground-color:#444;\n\n}\n\n.header_logo {\n\t\n\tpadding-top:10px;\n\tmargin-left:50px;\n\t\n}\n\n.menu_parent_container {\n\t\n\twidth:100%;\n\theight:34px;\n\tfont-size:16px;\n\tpadding:15px 0px 10px -20px; \n\tmargin:0px 0px 0px 0px;\n\tbackground-color:#0089de;\n}\n\n.menu_container {\n\t\n\twidth:1280px;\n\theight:34px;\n\tfont-size:16px;\n\tpadding:11px 0px 0px -20px; \n\tmargin: 0 auto;\n\tbackground-color:#0089de;\n\tz-index:1000;\n}\n\n.menu_item {\n\n\theight:34px;\n\tfloat:left;\n\tfont-size:14px;\n\tfont-weight:bold;\n\tcolor:#fff;\n\ttext-align:center;\n\tpadding:7px 16px 0px 16px;\t\n\n}\n\n.menu_item:hover\n{\n\tbackground-color:#32a0e4;\n\tcursor: pointer;\n}\n\n.menu_item a\n{\n\tcolor:#fff;\n\tcursor: pointer;\n}\n\n.menu_item a:hover\n{\n\ttext-decoration:none;\n\tcursor: pointer;\n}\n\n.leaderboard_ad {\n\n\tmargin-top:20px;\n\tmargin-bottom:20px;\n\ttext-align:center;\n\tmin-height:100px;\n\n}\n\n#filter_result_count {\n\t\n\twidth:100%;\n\ttext-align:center;\n\tfont-size:24px;\n\tfont-weight:bold;\n\tpadding:10px 15px;\n\tbackground-color:#efefef;\n\tborder: 1px solid #dfdfdf;\n\tmargin:20px;\n\t\n}\n\n\nselect {\n  color: #444;\n  background-color: #FFF;\n  border: 1px solid #AAA;\n  border-radius: 4px;\n  box-sizing: border-box;\n  cursor: pointer;\n  display: block;\n  height:40px;\n  line-height: 40px;\n}\n\n.historical_data_table  {\n    table-layout: fixed;\n\tmargin:20px;\n}\n\n.historical_data_table tbody tr td {\n\t\n\tpadding:6px;\n\tvertical-align: middle !important;\n\n}\n\n\n.descriptors {\n\t\n\ttext-align:center;\n\tfont-size:14px;\n\tpadding:15px;\n\t\n}\n\n.td_metric_name {\n\t\n\twidth:110px;\n\tpadding-top:17px;\n\t\n}\n\n.metric_link {\n\t\n\tfont-size:14px;\n\tfont-weight:bold;\n\n}\n\n.help_icon {\n\t\n\twidth:15px;\n\theight:18px; \n\tpadding-bottom:3px;\n\t\n}\n\n.td_min_value {\n\t\n\twidth:75px;\n\ttext-align:center;\n\tfont-size:13px;\n\t\n}\n\n.td_max_value {\n\t\n\twidth:75px;\n\ttext-align:center;\n\tfont-size:13px;\n\t\n}\n\n#myCombobox .form-control {\n\t\n\tbackground-color: #99d5ff;\n\n\t\n}\n\n.dropdown-toggle {\n\t\n\theight:24px;\n\tpadding-top:0px;\n\tpadding-left:7px;\n\twidth:24px;\n\t\n}\n\n.dropdown-menu-right {\n\t\n\tmin-width:75px;\n\tfont-size:13px;\n\t\n}\n\n.form-control {\n\t\n\tfont-size:12px;\t\n\tpadding:5px 10px;\n\theight:24px;\n\n\t\n}\n\n#myPills1 {\n\t\n\tmargin:0px 15px 10px 0px;\n\t\n}\n\n#jqxgrid {\n\t\n\tborder-radius:0px;\n\t\n}\n\n.jqx-widget-header {\n\t\n    font-family: 'Roboto', sans-serif;\n\tfont-size:13px;\t\n\t\n}\n\n.jqx-item {\n\t\n    font-family: 'Roboto', sans-serif;\n\tfont-size: 13px;\n\t\n}\n\n.jqx-widget-content {\n\t\n\tborder-color: #E0E0E0;\n\t\n}\n\n#jqxgrid .jqx-grid-cell {\n\t\n\tborder-color: #E0E0E0;\n\t\n}\n\n#jqxgrid .jqx-grid-cell-pinned {\n\t\n\tborder-color: #E0E0E0;\n\tbackground-color: #F5F5F5;\n\t\n}\n\n#jqxgrid .jqx-grid-column-header {\n\t\n\tborder-color: #E0E0E0;\n\tbackground-color: #F5F5F5;\n\t\n}\n\n.clear_zero {\n\n\theight:0px;\n\n}\n\n\n\n/* Styles for Popup Charts */\n\n.tpd-size-large {\n\t\n\tmargin:0px;\t\n\tpadding: 0px;\n}\n\n.popup_window_wrapper {\n\t\n\tmargin:15px;\n\t\n}\n\n.popup_stock_name {\n\n\tfont-size:16px;\n\tfont-weight:bold;\n\tmargin:5px;\n\n}\n\n.popup_stock_attributes {\n\n\tfont-size:13px;\n\tfont-weight:bold;\n\tmargin:5px;\n\n}\n\n.popup_stock_description {\n\n\tfont-size:12px;\n\tmargin:5px;\n\n}\n\n.jqx-input {\n\t\n\tfont-size:14px;\n\t\n} \n\n.jqx-menu-item {\n\t\n\tfont-size:14px;\n\t\n}\n\n.jqx-input {\n\t\n\tpadding:5px 10px;\n\t\n}\n\n.nav-tabs {\n    border: 1px solid #E0E0E0;\n\tbackground-color:#F5F5F5;\n\tpadding: 3px 5px 0px 5px;\n\tmargin: 0px 0px 10px 0px;\n}\n\n.nav-tabs>li>a {\n\tfont-size:13px;\n\tpadding:7px 12px;\n\tfont-weight:600;\n    margin-right: 0px;\n    line-height: 1.42857143;\n    border: 0px;\n    border-radius: 0px 0px 0 0;\n\tbackground-color:#F5F5F5;\n\n}\n\n.nav-tabs>li>a .active {\n    margin-right: 0px;\n    line-height: 1.42857143;\n    border: 1px solid #E0E0E0;\n    border-radius: 0px 0px 0 0;\n\tbackground-color:#F5F5F5;\n\n}\n\n.nav-tabs>li>a:hover { \n    background-color: #F5F5F5;\n\ttext-decoration: underline;\n\n}\n\n.donate_buttons {\n\n\tmargin-left:20px;\n\t\n\t}\n\n.modal-body {\n\n\tmargin:10px 40px 20px 40px;\n\ttext-align:left;\n\tfont-size:18px;\n\n}\n\n.modal-body li {\n\n\tmargin-top:20px;\n\tfont-size:14px;\n\n}\n\n\n.modal_title {\n\n\n\ttext-align:center;\n\tmargin-bottom:30px;\n\n}\n\n.modal-body th{\n\n\tmargin-left:10px;\n\tfont-size:14px;\n}\n\n.modal-body td {\n\n\tcolor: #337ab7;\n\tmargin-left:10px;\n\tfont-size:14px;\n}\n\n.modal_button {\n\n\tmargin-top:50px;\n\ttext-align:center;\n\tfont-size:16px;\n\n}\n           </style>\n          </link>\n         </link>\n        </link>\n       </link>\n      </meta>\n     </meta>\n    </meta>\n   </meta>\n  </meta>\n </head>\n <body class=\"fuelux\">\n  <!--[if lt IE 7]>\n            <p class=\"browsehappy\">You are using an <strong>outdated</strong> browser. Please <a href=\"https://browsehappy.com/\">upgrade your browser</a> to improve your experience.</p>\n        <![endif]-->\n  <div class=\"header_content_container container-fluid\">\n   <div class=\"header_parent_container\">\n    <div class=\"header_container\">\n     <div class=\"header_logo col-xs-2\">\n      <a class=\"logo\" href=\"https://www.macrotrends.net\" title=\"MacroTrends Home Page\">\n       <img src=\"/assets/images/logo_bright1.png\"/>\n      </a>\n     </div>\n     <div class=\"col-xs-1 pull-right\" style=\"padding-top:8px; margin-right:10px; margin-left:0px; padding-left:0px;\">\n     </div>\n     <div class=\"col-xs-5 pull-right\" style=\"padding-top:8px;\">\n      <form>\n       <div class=\"typeahead__container\">\n        <div class=\"typeahead__field\">\n         <span class=\"typeahead__query\">\n          <input autocomplete=\"off\" autofocus=\"\" class=\"js-typeahead\" name=\"q\" placeholder=\"Search over 200,000 charts...\" type=\"search\"/>\n         </span>\n         <span class=\"typeahead__button\">\n          <button type=\"submit\">\n           <span class=\"typeahead__search-icon\">\n           </span>\n          </button>\n         </span>\n        </div>\n       </div>\n      </form>\n     </div>\n    </div>\n   </div>\n   <div class=\"menu_parent_container\">\n    <div class=\"menu_container\">\n     <a href=\"/stocks/stock-screener\">\n      <div class=\"menu_item\">\n       Stock Screener\n      </div>\n     </a>\n     <a href=\"/stocks/research\">\n      <div class=\"menu_item\">\n       Stock Research\n      </div>\n     </a>\n     <a href=\"/charts/stock-indexes\">\n      <div class=\"menu_item\">\n       Market Indexes\n      </div>\n     </a>\n     <a href=\"/charts/precious-metals\">\n      <div class=\"menu_item\">\n       Precious Metals\n      </div>\n     </a>\n     <a href=\"/charts/energy\">\n      <div class=\"menu_item\">\n       Energy\n      </div>\n     </a>\n     <a href=\"/charts/commodities\">\n      <div class=\"menu_item\">\n       Commodities\n      </div>\n     </a>\n     <a href=\"/charts/exchange-rates\">\n      <div class=\"menu_item\">\n       Exchange Rates\n      </div>\n     </a>\n     <a href=\"/charts/interest-rates\">\n      <div class=\"menu_item\">\n       Interest Rates\n      </div>\n     </a>\n     <a href=\"/futures\">\n      <div class=\"menu_item\">\n       Futures\n      </div>\n     </a>\n     <a href=\"/charts/economy\">\n      <div class=\"menu_item\">\n       Economy\n      </div>\n     </a>\n     <a href=\"/countries/topic-overview\">\n      <div class=\"menu_item\">\n       Global Metrics\n      </div>\n     </a>\n    </div>\n   </div>\n  </div>\n  <div class=\"main_content_container container-fluid\" id=\"main_content_container\">\n   <div class=\"adx_top_ad col-xs-12\" id=\"ic_leaderboard\" style=\"margin: 20px 20px 30px 20px; min-height:265px; text-align:center;\">\n    <!--Smartad # 4058: Macrotrends - 970x250 Image - Placement 2-->\n    <iframe height=\"250\" id=\"dianomi_leaderboard\" scrolling=\"NO\" src=\"//www.dianomi.com/smartads.epl?id=4058\" style=\"height: 250px; border: none; overflow: hidden;\" width=\"970\">\n    </iframe>\n   </div>\n   <div style=\"margin:20px;\">\n    <h2 style=\"margin-left:0px; font-weight:600; color:#444;\">\n     Tesla Revenue 2009-2020 | TSLA\n    </h2>\n   </div>\n   <div class=\"sub_main_content_container\">\n    <div id=\"main_content\">\n     <div class=\"navigation_tabs\" style=\"margin-bottom:20px;\">\n      <ul class=\"nav nav-tabs\" id=\"myTabs\" style=\"font-size:15px;\">\n       <li>\n        <a href=\"https://www.macrotrends.net/stocks/charts/TSLA/tesla/stock-price-history\">\n         Prices\n        </a>\n       </li>\n       <li>\n        <a href=\"https://www.macrotrends.net/stocks/charts/TSLA/tesla/financial-statements\">\n         Financials\n        </a>\n       </li>\n       <li class=\"active\">\n        <a href=\"https://www.macrotrends.net/stocks/charts/TSLA/tesla/revenue\">\n         Revenue &amp; Profit\n        </a>\n       </li>\n       <li>\n        <a href=\"https://www.macrotrends.net/stocks/charts/TSLA/tesla/total-assets\">\n         Assets &amp; Liabilities\n        </a>\n       </li>\n       <li>\n        <a href=\"https://www.macrotrends.net/stocks/charts/TSLA/tesla/profit-margins\">\n         Margins\n        </a>\n       </li>\n       <li>\n        <a href=\"https://www.macrotrends.net/stocks/charts/TSLA/tesla/pe-ratio\">\n         Price Ratios\n        </a>\n       </li>\n       <li>\n        <a href=\"https://www.macrotrends.net/stocks/charts/TSLA/tesla/current-ratio\">\n         Other Ratios\n        </a>\n       </li>\n       <li>\n        <a href=\"https://www.macrotrends.net/stocks/charts/TSLA/tesla/dividend-yield-history\">\n         Other Metrics\n        </a>\n       </li>\n      </ul>\n      <ul class=\"nav nav-tabs\" id=\"myTabs\" style=\"font-size:15px;\">\n       <li class=\"active\">\n        <a href=\"https://www.macrotrends.net/stocks/charts/TSLA/tesla/revenue\">\n         Revenue\n        </a>\n       </li>\n       <li>\n        <a href=\"https://www.macrotrends.net/stocks/charts/TSLA/tesla/gross-profit\">\n         Gross Profit\n        </a>\n       </li>\n       <li>\n        <a href=\"https://www.macrotrends.net/stocks/charts/TSLA/tesla/operating-income\">\n         Operating Income\n        </a>\n       </li>\n       <li>\n        <a href=\"https://www.macrotrends.net/stocks/charts/TSLA/tesla/ebitda\">\n         EBITDA\n        </a>\n       </li>\n       <li>\n        <a href=\"https://www.macrotrends.net/stocks/charts/TSLA/tesla/net-income\">\n         Net Income\n        </a>\n       </li>\n       <li>\n        <a href=\"https://www.macrotrends.net/stocks/charts/TSLA/tesla/eps-earnings-per-share-diluted\">\n         EPS\n        </a>\n       </li>\n       <li>\n        <a href=\"https://www.macrotrends.net/stocks/charts/TSLA/tesla/shares-outstanding\">\n         Shares Outstanding\n        </a>\n       </li>\n      </ul>\n     </div>\n     <div class=\"nav-tabs\" style=\"margin-bottom:20px; padding:15px; text-align:center; font-weight:600;\">\n      <span>\n       For a detailed definition, formula and example for\n       <a href=\"/formulas-definitions/revenue\">\n        Revenue\n       </a>\n       , check out our new background page\n       <a href=\"/formulas-definitions/revenue\">\n        here\n       </a>\n       .\n      </span>\n     </div>\n     <div style=\"background-color:#fff; margin: 0px 0px 20px 0px; padding:20px 30px; border:1px solid #dfdfdf;\">\n      <span style=\"color:#444; line-height: 1.8;\">\n       Tesla annual/quarterly revenue history and growth rate from 2009 to 2020. Revenue can be defined as the amount of money a company receives from its customers in exchange for the sales of goods or services.  Revenue is the top line item on an income statement from which all costs and expenses are subtracted to arrive at net income.\n       <ul style=\"margin-top:10px;\">\n        <li>\n         Tesla revenue for the quarter ending December 31, 2020 was\n         <strong>\n          $10.744B\n         </strong>\n         , a\n         <strong>\n          45.5% increase\n         </strong>\n         year-over-year.\n        </li>\n        <li>\n         Tesla revenue for the twelve months ending December 31, 2020 was\n         <strong>\n          $31.536B\n         </strong>\n         , a\n         <strong>\n          28.31% increase\n         </strong>\n         year-over-year.\n        </li>\n        <li>\n         Tesla annual revenue for 2020 was\n         <strong>\n          $31.536B\n         </strong>\n         , a\n         <strong>\n          28.31% increase\n         </strong>\n         from 2019.\n        </li>\n        <li>\n         Tesla annual revenue for 2019 was\n         <strong>\n          $24.578B\n         </strong>\n         , a\n         <strong>\n          14.52% increase\n         </strong>\n         from 2018.\n        </li>\n        <li>\n         Tesla annual revenue for 2018 was\n         <strong>\n          $21.461B\n         </strong>\n         , a\n         <strong>\n          82.51% increase\n         </strong>\n         from 2017.\n        </li>\n       </ul>\n      </span>\n     </div>\n     <div style=\"background-color:#fff; margin: 30px 0px 30px 0px; text-align:center; min-height:90px;\">\n      <div id=\"ic_728_90\" style=\"margin:10px 20px;\">\n      </div>\n     </div>\n     <div class=\"ticker_search_box\" style=\"text-align:center;\">\n      <div style=\"width:400px; margin-left:20px; border-bottom:none;\">\n       <script type=\"text/javascript\">\n        $(document).ready(function () {\n\t\t\t\t                \n\t\t\t\t\tvar url = \"https://www.macrotrends.net/assets/php/ticker_search_list.php\";\n\t\t\t\t\n                // prepare the data\n                var source =\n                {\n                    datatype: \"json\",\n                    datafields: [\n                        { name: 'n' },\n\t\t\t\t\t\t{ name: 's'}\n                    ],\n                    url: url\n                };\n                var dataAdapter = new $.jqx.dataAdapter(source);\n                // Create a jqxInput\n                $(\"#jqxInput\").jqxInput({ source: dataAdapter, minLength: 1, placeHolder: \"Search for ticker or company name...\", items: 20, searchMode: 'containsignorecase', displayMember: \"n\", valueMember: \"s\", width: '100%', height: 22, theme: 'bootstrap'});\n                $(\"#jqxInput\").on('select', function (event) {\n                    if (event.args) {\n                        var item = event.args.item;\n\t\t\t\t\t\t\n\t\t\t\t\t\t//Have to split the ticker and slug back out since jqxinput only seems to allow one data value\n\t\t\t\t\t\tvar itemArray = item.value.split(\"\\/\"); \n\t\t\t\t\t\tvar ticker = itemArray[0];\n\t\t\t\t\t\tvar slug = itemArray[1];\n                        if (item) {\n\t\t\t\t\t\t\t\n\t\t\t\t\t\t\t\t\t\t\t\t\t\t\n\t\t\t\t\t\t\t\twindow.location = \"https://www.macrotrends.net/stocks/charts/\" + ticker + \"/\" + slug + \"/revenue\";\n\t\t\t\t\t\t\t\n\t\t\t\t\t\t\t                        }\n                    }\n                });\n            });\n       </script>\n       <input id=\"jqxInput\">\n       </input>\n      </div>\n      <div style=\"width:280px; margin-top: -32px; margin-left:80px; border-bottom:none; float:right;\">\n       <button class=\"chart_buttons btn btn-success btn-sm\" id=\"compareStocks\" style=\"margin-right:15px;\">\n        <span class=\"glyphicon glyphicon-stats\">\n        </span>\n        <strong>\n         Compare TSLA With Other Stocks\n        </strong>\n       </button>\n      </div>\n     </div>\n     <div style=\"height:690px; background-color:#fff; border:1px solid #dfdfdf;\">\n      <iframe frameborder=\"0\" height=\"680\" hspace=\"0\" id=\"chart_iframe\" margin=\"0px\" marginheight=\"0\" marginwidth=\"0\" scrolling=\"NO\" src=\"https://www.macrotrends.net/assets/php/fundamental_iframe.php?t=TSLA&amp;type=revenue&amp;statement=income-statement&amp;freq=Q\" title=\"Interactive chart: Tesla Revenue 2009-2020 | TSLA\" valign=\"middle\" vspace=\"0\" width=\"800\">\n      </iframe>\n     </div>\n     <div id=\"ic_video_ad\">\n     </div>\n     <div style=\"background-color:#fff; margin: 30px 0px; padding:10px 30px; border:1px solid #dfdfdf;\">\n      <iframe frameborder=\"0\" height=\"300\" hspace=\"0\" id=\"dianomi_below_chart\" marginheight=\"0\" marginwidth=\"0\" scrolling=\"NO\" src=\"//www.dianomi.com/smartads.epl?id=4057\" valign=\"middle\" vspace=\"0\" width=\"100%\">\n      </iframe>\n     </div>\n     <div id=\"style-1\" style=\"background-color:#fff; height:510px; overflow:auto; margin: 30px 0px 30px 0px; padding:0px 30px 20px 0px; border:1px solid #dfdfdf;\">\n      <div class=\"col-xs-6\">\n       <table class=\"historical_data_table table\">\n        <thead>\n         <tr>\n          <th colspan=\"2\" style=\"text-align:center\">\n           Tesla Annual Revenue\n           <br/>\n           <span style=\"font-size:14px;\">\n            (Millions of US $)\n           </span>\n          </th>\n         </tr>\n        </thead>\n        <tbody>\n         <tr>\n          <td style=\"text-align:center\">\n           2020\n          </td>\n          <td style=\"text-align:center\">\n           $31,536\n          </td>\n         </tr>\n         <tr>\n          <td style=\"text-align:center\">\n           2019\n          </td>\n          <td style=\"text-align:center\">\n           $24,578\n          </td>\n         </tr>\n         <tr>\n          <td style=\"text-align:center\">\n           2018\n          </td>\n          <td style=\"text-align:center\">\n           $21,461\n          </td>\n         </tr>\n         <tr>\n          <td style=\"text-align:center\">\n           2017\n          </td>\n          <td style=\"text-align:center\">\n           $11,759\n          </td>\n         </tr>\n         <tr>\n          <td style=\"text-align:center\">\n           2016\n          </td>\n          <td style=\"text-align:center\">\n           $7,000\n          </td>\n         </tr>\n         <tr>\n          <td style=\"text-align:center\">\n           2015\n          </td>\n          <td style=\"text-align:center\">\n           $4,046\n          </td>\n         </tr>\n         <tr>\n          <td style=\"text-align:center\">\n           2014\n          </td>\n          <td style=\"text-align:center\">\n           $3,198\n          </td>\n         </tr>\n         <tr>\n          <td style=\"text-align:center\">\n           2013\n          </td>\n          <td style=\"text-align:center\">\n           $2,013\n          </td>\n         </tr>\n         <tr>\n          <td style=\"text-align:center\">\n           2012\n          </td>\n          <td style=\"text-align:center\">\n           $413\n          </td>\n         </tr>\n         <tr>\n          <td style=\"text-align:center\">\n           2011\n          </td>\n          <td style=\"text-align:center\">\n           $204\n          </td>\n         </tr>\n         <tr>\n          <td style=\"text-align:center\">\n           2010\n          </td>\n          <td style=\"text-align:center\">\n           $117\n          </td>\n         </tr>\n         <tr>\n          <td style=\"text-align:center\">\n           2009\n          </td>\n          <td style=\"text-align:center\">\n           $112\n          </td>\n         </tr>\n         <tr>\n          <td style=\"text-align:center\">\n           2008\n          </td>\n          <td style=\"text-align:center\">\n           $15\n          </td>\n         </tr>\n        </tbody>\n       </table>\n      </div>\n      <div class=\"col-xs-6\">\n       <table class=\"historical_data_table table\">\n        <thead>\n         <tr>\n          <th colspan=\"2\" style=\"text-align:center\">\n           Tesla Quarterly Revenue\n           <br/>\n           <span style=\"font-size:14px;\">\n            (Millions of US $)\n           </span>\n          </th>\n         </tr>\n        </thead>\n        <tbody>\n         <tr>\n          <td style=\"text-align:center\">\n           2020-12-31\n          </td>\n          <td style=\"text-align:center\">\n           $10,744\n          </td>\n         </tr>\n         <tr>\n          <td style=\"text-align:center\">\n           2020-09-30\n          </td>\n          <td style=\"text-align:center\">\n           $8,771\n          </td>\n         </tr>\n         <tr>\n          <td style=\"text-align:center\">\n           2020-06-30\n          </td>\n          <td style=\"text-align:center\">\n           $6,036\n          </td>\n         </tr>\n         <tr>\n          <td style=\"text-align:center\">\n           2020-03-31\n          </td>\n          <td style=\"text-align:center\">\n           $5,985\n          </td>\n         </tr>\n         <tr>\n          <td style=\"text-align:center\">\n           2019-12-31\n          </td>\n          <td style=\"text-align:center\">\n           $7,384\n          </td>\n         </tr>\n         <tr>\n          <td style=\"text-align:center\">\n           2019-09-30\n          </td>\n          <td style=\"text-align:center\">\n           $6,303\n          </td>\n         </tr>\n         <tr>\n          <td style=\"text-align:center\">\n           2019-06-30\n          </td>\n          <td style=\"text-align:center\">\n           $6,350\n          </td>\n         </tr>\n         <tr>\n          <td style=\"text-align:center\">\n           2019-03-31\n          </td>\n          <td style=\"text-align:center\">\n           $4,541\n          </td>\n         </tr>\n         <tr>\n          <td style=\"text-align:center\">\n           2018-12-31\n          </td>\n          <td style=\"text-align:center\">\n           $7,226\n          </td>\n         </tr>\n         <tr>\n          <td style=\"text-align:center\">\n           2018-09-30\n          </td>\n          <td style=\"text-align:center\">\n           $6,824\n          </td>\n         </tr>\n         <tr>\n          <td style=\"text-align:center\">\n           2018-06-30\n          </td>\n          <td style=\"text-align:center\">\n           $4,002\n          </td>\n         </tr>\n         <tr>\n          <td style=\"text-align:center\">\n           2018-03-31\n          </td>\n          <td style=\"text-align:center\">\n           $3,409\n          </td>\n         </tr>\n         <tr>\n          <td style=\"text-align:center\">\n           2017-12-31\n          </td>\n          <td style=\"text-align:center\">\n           $3,288\n          </td>\n         </tr>\n         <tr>\n          <td style=\"text-align:center\">\n           2017-09-30\n          </td>\n          <td style=\"text-align:center\">\n           $2,985\n          </td>\n         </tr>\n         <tr>\n          <td style=\"text-align:center\">\n           2017-06-30\n          </td>\n          <td style=\"text-align:center\">\n           $2,790\n          </td>\n         </tr>\n         <tr>\n          <td style=\"text-align:center\">\n           2017-03-31\n          </td>\n          <td style=\"text-align:center\">\n           $2,696\n          </td>\n         </tr>\n         <tr>\n          <td style=\"text-align:center\">\n           2016-12-31\n          </td>\n          <td style=\"text-align:center\">\n           $2,285\n          </td>\n         </tr>\n         <tr>\n          <td style=\"text-align:center\">\n           2016-09-30\n          </td>\n          <td style=\"text-align:center\">\n           $2,298\n          </td>\n         </tr>\n         <tr>\n          <td style=\"text-align:center\">\n           2016-06-30\n          </td>\n          <td style=\"text-align:center\">\n           $1,270\n          </td>\n         </tr>\n         <tr>\n          <td style=\"text-align:center\">\n           2016-03-31\n          </td>\n          <td style=\"text-align:center\">\n           $1,147\n          </td>\n         </tr>\n         <tr>\n          <td style=\"text-align:center\">\n           2015-12-31\n          </td>\n          <td style=\"text-align:center\">\n           $1,214\n          </td>\n         </tr>\n         <tr>\n          <td style=\"text-align:center\">\n           2015-09-30\n          </td>\n          <td style=\"text-align:center\">\n           $937\n          </td>\n         </tr>\n         <tr>\n          <td style=\"text-align:center\">\n           2015-06-30\n          </td>\n          <td style=\"text-align:center\">\n           $955\n          </td>\n         </tr>\n         <tr>\n          <td style=\"text-align:center\">\n           2015-03-31\n          </td>\n          <td style=\"text-align:center\">\n           $940\n          </td>\n         </tr>\n         <tr>\n          <td style=\"text-align:center\">\n           2014-12-31\n          </td>\n          <td style=\"text-align:center\">\n           $957\n          </td>\n         </tr>\n         <tr>\n          <td style=\"text-align:center\">\n           2014-09-30\n          </td>\n          <td style=\"text-align:center\">\n           $852\n          </td>\n         </tr>\n         <tr>\n          <td style=\"text-align:center\">\n           2014-06-30\n          </td>\n          <td style=\"text-align:center\">\n           $769\n          </td>\n         </tr>\n         <tr>\n          <td style=\"text-align:center\">\n           2014-03-31\n          </td>\n          <td style=\"text-align:center\">\n           $621\n          </td>\n         </tr>\n         <tr>\n          <td style=\"text-align:center\">\n           2013-12-31\n          </td>\n          <td style=\"text-align:center\">\n           $615\n          </td>\n         </tr>\n         <tr>\n          <td style=\"text-align:center\">\n           2013-09-30\n          </td>\n          <td style=\"text-align:center\">\n           $431\n          </td>\n         </tr>\n         <tr>\n          <td style=\"text-align:center\">\n           2013-06-30\n          </td>\n          <td style=\"text-align:center\">\n           $405\n          </td>\n         </tr>\n         <tr>\n          <td style=\"text-align:center\">\n           2013-03-31\n          </td>\n          <td style=\"text-align:center\">\n           $562\n          </td>\n         </tr>\n         <tr>\n          <td style=\"text-align:center\">\n           2012-12-31\n          </td>\n          <td style=\"text-align:center\">\n           $306\n          </td>\n         </tr>\n         <tr>\n          <td style=\"text-align:center\">\n           2012-09-30\n          </td>\n          <td style=\"text-align:center\">\n           $50\n          </td>\n         </tr>\n         <tr>\n          <td style=\"text-align:center\">\n           2012-06-30\n          </td>\n          <td style=\"text-align:center\">\n           $27\n          </td>\n         </tr>\n         <tr>\n          <td style=\"text-align:center\">\n           2012-03-31\n          </td>\n          <td style=\"text-align:center\">\n           $30\n          </td>\n         </tr>\n         <tr>\n          <td style=\"text-align:center\">\n           2011-12-31\n          </td>\n          <td style=\"text-align:center\">\n           $39\n          </td>\n         </tr>\n         <tr>\n          <td style=\"text-align:center\">\n           2011-09-30\n          </td>\n          <td style=\"text-align:center\">\n           $58\n          </td>\n         </tr>\n         <tr>\n          <td style=\"text-align:center\">\n           2011-06-30\n          </td>\n          <td style=\"text-align:center\">\n           $58\n          </td>\n         </tr>\n         <tr>\n          <td style=\"text-align:center\">\n           2011-03-31\n          </td>\n          <td style=\"text-align:center\">\n           $49\n          </td>\n         </tr>\n         <tr>\n          <td style=\"text-align:center\">\n           2010-12-31\n          </td>\n          <td style=\"text-align:center\">\n           $36\n          </td>\n         </tr>\n         <tr>\n          <td style=\"text-align:center\">\n           2010-09-30\n          </td>\n          <td style=\"text-align:center\">\n           $31\n          </td>\n         </tr>\n         <tr>\n          <td style=\"text-align:center\">\n           2010-06-30\n          </td>\n          <td style=\"text-align:center\">\n           $28\n          </td>\n         </tr>\n         <tr>\n          <td style=\"text-align:center\">\n           2010-03-31\n          </td>\n          <td style=\"text-align:center\">\n           $21\n          </td>\n         </tr>\n         <tr>\n          <td style=\"text-align:center\">\n           2009-12-31\n          </td>\n          <td style=\"text-align:center\">\n          </td>\n         </tr>\n         <tr>\n          <td style=\"text-align:center\">\n           2009-09-30\n          </td>\n          <td style=\"text-align:center\">\n           $46\n          </td>\n         </tr>\n         <tr>\n          <td style=\"text-align:center\">\n           2009-06-30\n          </td>\n          <td style=\"text-align:center\">\n           $27\n          </td>\n         </tr>\n         <tr>\n          <td style=\"text-align:center\">\n           2008-12-31\n          </td>\n          <td style=\"text-align:center\">\n          </td>\n         </tr>\n        </tbody>\n       </table>\n      </div>\n     </div>\n     <div style=\"background-color:#fff; margin: 0px 0px 20px 0px; padding:5px 50px 5px 10px; border:1px solid #dfdfdf;\">\n      <table class=\"historical_data_table table\">\n       <thead>\n        <tr>\n         <th style=\"text-align:center\">\n          Sector\n         </th>\n         <th style=\"text-align:center\">\n          Industry\n         </th>\n         <th style=\"text-align:center\">\n          Market Cap\n         </th>\n         <th style=\"text-align:center\">\n          Revenue\n         </th>\n        </tr>\n       </thead>\n       <tbody>\n        <tr>\n         <td style=\"text-align:center\">\n          <a href=\"https://www.macrotrends.net/stocks/sector/5/auto-tires-trucks\">\n           Auto/Tires/Trucks\n          </a>\n         </td>\n         <td style=\"text-align:center\">\n          <a href=\"https://www.macrotrends.net/stocks/industry/7/\">\n           Auto Manufacturers - Domestic\n          </a>\n         </td>\n         <td style=\"text-align:center\">\n          $749.934B\n         </td>\n         <td style=\"text-align:center\">\n          $31.536B\n         </td>\n        </tr>\n        <tr>\n         <td colspan=\"4\" style=\"padding:15px;\">\n          <span>\n           Tesla Inc. designs, develops, manufactures, and sells electric vehicles and stationary energy storage products. It operates primarily in the United States, China, Norway and internationally. Tesla Inc., formerly known as Tesla Motors Inc., is headquartered in Palo Alto, California.\n          </span>\n         </td>\n        </tr>\n       </tbody>\n      </table>\n     </div>\n     <div style=\"background-color:#fff; margin: 20px 0px 30px 0px; padding:5px 50px 5px 10px; border:1px solid #dfdfdf;\">\n      <table class=\"historical_data_table table\">\n       <thead>\n        <tr>\n         <th style=\"text-align:center; width:40%;\">\n          Stock Name\n         </th>\n         <th style=\"text-align:center; width:20%;\">\n          Country\n         </th>\n         <th style=\"text-align:center; width:20%;\">\n          Market Cap\n         </th>\n         <th style=\"text-align:center; width:20%;\">\n          PE Ratio\n         </th>\n        </tr>\n       </thead>\n       <tbody>\n        <tr>\n         <td style=\"text-align:left\">\n          <a href=\"/stocks/charts/GM/general-motors/revenue\">\n           General Motors (GM)\n          </a>\n         </td>\n         <td style=\"text-align:center\">\n          United States\n         </td>\n         <td style=\"text-align:center\">\n          $75.749B\n         </td>\n         <td style=\"text-align:center\">\n          10.77\n         </td>\n        </tr>\n        <tr>\n         <td style=\"text-align:left\">\n          <a href=\"/stocks/charts/F/ford-motor/revenue\">\n           Ford Motor (F)\n          </a>\n         </td>\n         <td style=\"text-align:center\">\n          United States\n         </td>\n         <td style=\"text-align:center\">\n          $46.073B\n         </td>\n         <td style=\"text-align:center\">\n          28.24\n         </td>\n        </tr>\n        <tr>\n         <td style=\"text-align:left\">\n          <a href=\"/stocks/charts/PCAR/paccar/revenue\">\n           PACCAR (PCAR)\n          </a>\n         </td>\n         <td style=\"text-align:center\">\n          United States\n         </td>\n         <td style=\"text-align:center\">\n          $33.025B\n         </td>\n         <td style=\"text-align:center\">\n          25.45\n         </td>\n        </tr>\n        <tr>\n         <td style=\"text-align:left\">\n          <a href=\"/stocks/charts/IAA/iaa/revenue\">\n           IAA (IAA)\n          </a>\n         </td>\n         <td style=\"text-align:center\">\n          United States\n         </td>\n         <td style=\"text-align:center\">\n          $8.084B\n         </td>\n         <td style=\"text-align:center\">\n          39.29\n         </td>\n        </tr>\n        <tr>\n         <td style=\"text-align:left\">\n          <a href=\"/stocks/charts/PII/polaris/revenue\">\n           Polaris (PII)\n          </a>\n         </td>\n         <td style=\"text-align:center\">\n          United States\n         </td>\n         <td style=\"text-align:center\">\n          $7.552B\n         </td>\n         <td style=\"text-align:center\">\n          15.81\n         </td>\n        </tr>\n        <tr>\n         <td style=\"text-align:left\">\n          <a href=\"/stocks/charts/FOXF/fox-factory-holding/revenue\">\n           Fox Factory Holding (FOXF)\n          </a>\n         </td>\n         <td style=\"text-align:center\">\n          United States\n         </td>\n         <td style=\"text-align:center\">\n          $5.752B\n         </td>\n         <td style=\"text-align:center\">\n          50.32\n         </td>\n        </tr>\n        <tr>\n         <td style=\"text-align:left\">\n          <a href=\"/stocks/charts/HOG/harley-davidson/revenue\">\n           Harley-Davidson (HOG)\n          </a>\n         </td>\n         <td style=\"text-align:center\">\n          United States\n         </td>\n         <td style=\"text-align:center\">\n          $5.513B\n         </td>\n         <td style=\"text-align:center\">\n          46.71\n         </td>\n        </tr>\n        <tr>\n         <td style=\"text-align:left\">\n          <a href=\"/stocks/charts/BLBD/blue-bird/revenue\">\n           Blue Bird (BLBD)\n          </a>\n         </td>\n         <td style=\"text-align:center\">\n          United States\n         </td>\n         <td style=\"text-align:center\">\n          $0.563B\n         </td>\n         <td style=\"text-align:center\">\n          31.92\n         </td>\n        </tr>\n        <tr>\n         <td style=\"text-align:left\">\n          <a href=\"/stocks/charts/AUTO/autobytel/revenue\">\n           Autobytel (AUTO)\n          </a>\n         </td>\n         <td style=\"text-align:center\">\n          United States\n         </td>\n         <td style=\"text-align:center\">\n          $0.040B\n         </td>\n         <td style=\"text-align:center\">\n          0.00\n         </td>\n        </tr>\n       </tbody>\n      </table>\n     </div>\n    </div>\n    <div \"=\"\" id=\"right_sidebar\">\n     <!--<a href=\"/stocks/stock-screener\" style=\"text-decoration:none; color: #fff; \">\n\t\t\t\t\t<div style=\"margin:0px; padding: 20px; width:300px; background-color: #01579b; min-height:150px; text-align:center;\">\n\n\t\t\t\t\t\t<h2 style=\"font-weight:600;\">Try our new<br />stock screener!</h2></a>\n\n\t\t\t\t\t</div>\n\t\t\t\t</a>-->\n     <!--<div style=\"margin-top:0px; min-height:250px;\">\n\n\t\t\t\t\t<script src='//ads.investingchannel.com/adtags/Macrotrends/fundamentalanalysis/300x600.js?zhpos=300_2&multi_size=false' type='text/javascript' charset='utf-8'></script>\n\n\t\t\t\t</div>-->\n     <div style=\"margin-top:0px; min-height:250px;\">\n      <div id=\"ic_300_250\">\n      </div>\n     </div>\n     <div id=\"sticky_ad_right\">\n      <div style=\"margin-top:30px; min-height:250px;\">\n       <div id=\"ic_300_600\">\n       </div>\n      </div>\n     </div>\n    </div>\n   </div>\n  </div>\n  <footer class=\"footer\">\n   <span>\n    © 2010-2021 Macrotrends LLC\n   </span>\n   |\n   <a href=\"/terms\">\n    Terms of Service\n   </a>\n   |\n   <a href=\"/privacy\">\n    Privacy Policy\n   </a>\n   |\n   <a href=\"mailto:%69n%66o@%6Dac%72otrends%2En%65t\">\n    Contact Us\n   </a>\n   |\n   <a href=\"/ccpa\">\n    Do Not Sell My Personal Information\n   </a>\n   <br/>\n   <span>\n    Fundamental data from\n   </span>\n   <a href=\"https://www.zacksdata.com\" rel=\"nofollow\" target=\"_blank\">\n    Zacks Investment Research, Inc.\n   </a>\n  </footer>\n  <div aria-hidden=\"true\" aria-labelledby=\"exampleModalLabel\" class=\"modal\" id=\"smallWidthModal1\" role=\"dialog\" tabindex=\"-1\">\n   <div class=\"modal-dialog modal-lg\">\n    <div class=\"modal-content\">\n     <div class=\"modal-body\">\n      <div class=\"modal_title\">\n       <h2>\n        <strong>\n         We Need Your Support!\n        </strong>\n       </h2>\n      </div>\n      <p>\n       Backlinks from other websites are the lifeblood of our site and a primary source of new traffic.\n       <p>\n        <p>\n         If you use our chart images on your site or blog, we ask that you provide attribution via a \"dofollow\" link back to this page.  We have provided a few examples below that you can copy and paste to your site:\n        </p>\n        <br/>\n        <table class=\"table\">\n         <thead>\n          <tr>\n           <th>\n            Link Preview\n           </th>\n           <th>\n            HTML Code (Click to Copy)\n           </th>\n          </tr>\n         </thead>\n         <tbody>\n          <tr>\n           <td>\n            <a>\n             Tesla Revenue 2009-2020 | TSLA\n            </a>\n           </td>\n           <td>\n            <input class=\"modal_link\" size=\"60\" type=\"text\" value=\"&lt;a href='https://www.macrotrends.net/stocks/charts/TSLA/tesla/revenue'&gt;Tesla Revenue 2009-2020 | TSLA&lt;/a&gt;\"/>\n           </td>\n          </tr>\n          <tr>\n           <td>\n            <a>\n             Macrotrends\n            </a>\n           </td>\n           <td>\n            <input class=\"modal_link\" size=\"60\" type=\"text\" value=\"&lt;a href='https://www.macrotrends.net/stocks/charts/TSLA/tesla/revenue'&gt;Macrotrends&lt;/a&gt;\"/>\n           </td>\n          </tr>\n          <tr>\n           <td>\n            <a>\n             Source\n            </a>\n           </td>\n           <td>\n            <input class=\"modal_link\" size=\"60\" type=\"text\" value=\"&lt;a href='https://www.macrotrends.net/stocks/charts/TSLA/tesla/revenue'&gt;Source&lt;/a&gt;\"/>\n           </td>\n          </tr>\n         </tbody>\n        </table>\n        <br/>\n        <p style=\"text-align:center\">\n         Your image export is now complete.  Please check your download folder.\n        </p>\n       </p>\n      </p>\n     </div>\n     <div class=\"modal-footer\">\n      <button class=\"btn btn-primary\" data-dismiss=\"modal\" type=\"button\">\n       Close Window\n      </button>\n     </div>\n    </div>\n   </div>\n  </div>\n  <div aria-hidden=\"true\" aria-labelledby=\"exampleModalLabel\" class=\"modal\" id=\"smallWidthModal2\" role=\"dialog\" tabindex=\"-1\">\n   <div class=\"modal-dialog modal-lg\">\n    <div class=\"modal-content\">\n     <div class=\"modal-body\">\n      <div class=\"modal_title\">\n       <h2>\n        <strong>\n         We Need Your Support!\n        </strong>\n       </h2>\n      </div>\n      <p>\n       Backlinks from other websites are the lifeblood of our site and a primary source of new traffic.\n       <p>\n        <p>\n         If you use our datasets on your site or blog, we ask that you provide attribution via a \"dofollow\" link back to this page.  We have provided a few examples below that you can copy and paste to your site:\n        </p>\n        <br/>\n        <table class=\"table\">\n         <thead>\n          <tr>\n           <th>\n            Link Preview\n           </th>\n           <th>\n            HTML Code (Click to Copy)\n           </th>\n          </tr>\n         </thead>\n         <tbody>\n          <tr>\n           <td>\n            <a>\n             Tesla Revenue 2009-2020 | TSLA\n            </a>\n           </td>\n           <td>\n            <input class=\"modal_link\" size=\"50\" type=\"text\" value=\"&lt;a href='https://www.macrotrends.net/stocks/charts/TSLA/tesla/revenue'&gt;Tesla Revenue 2009-2020 | TSLA&lt;/a&gt;\"/>\n           </td>\n          </tr>\n          <tr>\n           <td>\n            <a>\n             Macrotrends\n            </a>\n           </td>\n           <td>\n            <input class=\"modal_link\" size=\"50\" type=\"text\" value=\"&lt;a href='https://www.macrotrends.net/stocks/charts/TSLA/tesla/revenue'&gt;Macrotrends&lt;/a&gt;\"/>\n           </td>\n          </tr>\n          <tr>\n           <td>\n            <a>\n             Source\n            </a>\n           </td>\n           <td>\n            <input class=\"modal_link\" size=\"50\" type=\"text\" value=\"&lt;a href='https://www.macrotrends.net/stocks/charts/TSLA/tesla/revenue'&gt;Source&lt;/a&gt;\"/>\n           </td>\n          </tr>\n         </tbody>\n        </table>\n        <br/>\n        <p style=\"text-align:center\">\n         Your data export is now complete.  Please check your download folder.\n        </p>\n       </p>\n      </p>\n     </div>\n     <div class=\"modal-footer\">\n      <button class=\"btn btn-primary\" data-dismiss=\"modal\" type=\"button\">\n       Close Window\n      </button>\n     </div>\n    </div>\n   </div>\n  </div>\n  <script type=\"text/javascript\">\n   $.typeahead({\n\t\tinput: '.js-typeahead',\n\t\tminLength: 1,\n\t\tfilter: false,  //Disables typahead filter to just show everything in the results from the database\n\t\tdebug: false,\n\t\thighlight: true,\n\t\tmaxItem: 10,\n\t\tdynamic: true,\n\t\tdelay: 200,\n\t\tsearchOnFocus: true,\n\t\tbackdrop: {\n\t\t\t\"background-color\": \"#fff\"\n\t\t},\n\t\thref: \"{{url}}\",\n\t\temptyTemplate: \"no result for {{query}}\",\n\t\tdisplay: [\"name\"],\n\t\tsource: {\n\t\t\tusers: {\n\t\t\t\tajax: {\n\t\t\t\t\turl: '/assets/php/all_pages_query.php',\n\t\t\t\t\tdata: {\n\t\t\t\t\t\tq: '{{query}}'\n\t\t\t\t\t}\n\t\t\t\t}\n\t\t\t}\n\t\t}\n\t});\n  </script>\n  <script>\n   if (screen.width >= 1280) {\n\t\n\t$( \"#ic_video_ad\" ).append( \"<div id=\\\"IC_D_3x6\\\" style=\\\"margin:30px;\\\"></div>\" );\n\n\t\t\t\t\n}\n\n\t// /*! js-cookie v3.0.0-rc.1 | MIT */\n\t// !function(e,t){\"object\"==typeof exports&&\"undefined\"!=typeof module?module.exports=t():\"function\"==typeof define&&define.amd?define(t):(e=e||self,function(){var n=e.Cookies,r=e.Cookies=t();r.noConflict=function(){return e.Cookies=n,r}}())}(this,function(){\"use strict\";function e(e){for(var t=1;t<arguments.length;t++){var n=arguments[t];for(var r in n)e[r]=n[r]}return e}var t={read:function(e){return e.replace(/(%[\\dA-F]{2})+/gi,decodeURIComponent)},write:function(e){return encodeURIComponent(e).replace(/%(2[346BF]|3[AC-F]|40|5[BDE]|60|7[BCD])/g,decodeURIComponent)}};return function n(r,o){function i(t,n,i){if(\"undefined\"!=typeof document){\"number\"==typeof(i=e({},o,i)).expires&&(i.expires=new Date(Date.now()+864e5*i.expires)),i.expires&&(i.expires=i.expires.toUTCString()),t=encodeURIComponent(t).replace(/%(2[346B]|5E|60|7C)/g,decodeURIComponent).replace(/[()]/g,escape),n=r.write(n,t);var c=\"\";for(var u in i)i[u]&&(c+=\"; \"+u,!0!==i[u]&&(c+=\"=\"+i[u].split(\";\")[0]));return document.cookie=t+\"=\"+n+c}}return Object.create({set:i,get:function(e){if(\"undefined\"!=typeof document&&(!arguments.length||e)){for(var n=document.cookie?document.cookie.split(\"; \"):[],o={},i=0;i<n.length;i++){var c=n[i].split(\"=\"),u=c.slice(1).join(\"=\");'\"'===u[0]&&(u=u.slice(1,-1));try{var f=t.read(c[0]);if(o[f]=r.read(u,f),e===f)break}catch(e){}}return e?o[e]:o}},remove:function(t,n){i(t,\"\",e({},n,{expires:-1}))},withAttributes:function(t){return n(this.converter,e({},this.attributes,t))},withConverter:function(t){return n(e({},this.converter,t),this.attributes)}},{attributes:{value:Object.freeze(o)},converter:{value:Object.freeze(r)}})}(t,{path:\"/\"})});\n\n\t\t\t\n\t// // Cookie Settings\n\t// var maxCookieValue = 4, initCookie = 1, expirationDays = 1;\n\t// var cookieName = \"session_pageviews\";\n\t// var getCookie = Cookies.get(cookieName);\n\n\t// // Under the Hood\n\t// if (getCookie == null) {\n\t\t// Cookies.set(cookieName, initCookie, { expires: expirationDays });\n\t\t// console.log('Cookie set to value 1');\n\t\t// $( \"#ic_video_ad\" ).append( \"<div id=\\\"IC_D_3x6\\\" style=\\\"margin:30px;\\\"></div>\" );\n\t// } else {\n\t\t// if (getCookie >= initCookie && getCookie < maxCookieValue) {\n\t\t\t// getCookie++;\n\t\t\t// Cookies.set(cookieName, getCookie, { expires: expirationDays });\n\t\t\t// console.log('Cookie incremented. New value is ' + getCookie);\n\t\t\t// $( \"#ic_video_ad\" ).append( \"<div id=\\\"IC_D_3x6\\\" style=\\\"margin:30px;\\\"></div>\" );\n\t\t// }\n\t\t// else if (getCookie >= maxCookieValue && getCookie < 7) {\n\t\t\t// getCookie++;\n\t\t\t// Cookies.set(cookieName, getCookie, { expires: expirationDays });\n\t\t\t// console.log('Cookie max allowed value reached. No video ads showing. New value is ' + getCookie);\n\t\t\t// //Cookies.remove(cookieName);\n\t\t\t// // if cookie is equal with the number you've set, then do something\n\t\t\t// // hide an element, delete the cookie etc...\n\t\t// }\n\t\t// else if (getCookie >= 7) {\n\t\t\t// Cookies.remove(cookieName);\n\t\t\t// // if cookie is equal with the number you've set, then do something\n\t\t\t// // hide an element, delete the cookie etc...\n\t\t// }\t\n\t// }\n  </script>\n  <script>\n   $(document).ready(function() {\n\t\n\t// Selects all of the text in the chart export window when clicked\n\t$(\".modal_link\").focus(function() {\n\t\tvar $this = $(this);\n\t\t$this.select();\n\n\t\t// Work around Chrome's little problem\n\t\t$this.mouseup(function() {\n\t\t\t// Prevent further mouseup intervention\n\t\t\t$this.unbind(\"mouseup\");\n\t\t\treturn false;\n\t\t});\n\t});\t\n\t\n\t\n\t$('[data-toggle=\"tooltip\"]').tooltip();\n\t\n    $('.statement_type_select').select2({\n\t\n\ttheme: \"classic\",\n\tminimumResultsForSearch: 20\n\t\n\t});\n\n    $('.frequency_select').select2({\n\t\n\ttheme: \"classic\",\n\tminimumResultsForSearch: 20\n\t\n\t});\n\t\n\t\n});\n\n$( \"#compareStocks\" ).click(function() {\n\t\n\t\n\twindow.location.href = '/stocks/stock-comparison?s=revenue&axis=single&comp=TSLA';\n\t\n\t\n});\n\n$( \"#chartExport\" ).click(function() {\n\t\n\t\twindow.$('#smallWidthModal1').modal();\n\n\t\t//Turn off scroll bar for image export\n\t\tchart.chartScrollbarSettings.enabled = false;\n\t\tchart.validateNow(); \n\t\t\n\t\t\n\t\tchart.export.capture({},function() {\n\t\t\tthis.toPNG({},function(data) {\n\t\t\t\t// Download the image to the browser\n\t\t\t\tthis.download( data, \"image/png\", \"TSLA-revenue-2021-02-22-macrotrends.png\" );\n\t\t\t\t\n\t\t\t\t});\n\n\t\t//Turn scroll bar back on again\n\t\tchart.chartScrollbarSettings.enabled = true;\n\t\tchart.validateNow(); \n\t\t\t\t\n\t});\n\n});\n\n$( \".statement_type_select\" ).change(function() {\n  \n  window.location.href = 'https://testing.macrotrends.net/assets/php/income_statement_testing.php?t=AUTO&type=' + this.value + '&freq=Q';\n\n});\n\n$( \".frequency_select\" ).change(function() {\n  \n  window.location.href = '/assets/php/new_chart_page.php?t=AUTO&type=revenue&freq=' + this.value;\n\n});\n  </script>\n  <!--<div class=\"modal\" id=\"contribute_modal\" tabindex=\"-1\" role=\"dialog\" aria-labelledby=\"exampleModalLabel\" aria-hidden=\"false\">\n  <div class=\"modal-dialog modal-lg\">\n    <div class=\"modal-content\">\n      <div class=\"modal-body\" style=\"margin:20px 40px 20px 40px; text-align:left;font-size:18px;\">\n\t  \t  \n\n\n<div class=\"row\">\n\n<div class=\"col-xs-6\">\n\n<script src=\"https://donorbox.org/widget.js\" paypalExpress=\"true\"></script><iframe src=\"https://donorbox.org/embed/macrotrends-donations?hide_donation_meter=true\" height=\"685px\" width=\"100%\" style=\"max-width:500px; min-width:310px; max-height:none!important\" seamless=\"seamless\" name=\"donorbox\" frameborder=\"0\" scrolling=\"no\" allowpaymentrequest></iframe>\n\n</div>\n\n<div class=\"col-xs-6\">\n\n\t\t<div class=\"modal_title\"><h1><strong>We Need Your Support!</strong></h1></div>\n\n\t\t<p><strong>Macrotrends has been subscription-free since 2010 and we want to keep it that way.</strong></p>\n\n<p>Our goal has always been to serve as an easily accessible, high quality source of investment research for both professionals and amateurs alike.</p>\n\n<p>Any amount that you can contribute will help ensure we can keep the site completely free for many years to come.</p>\n\n<p style=\"margin-top:20px;\">Regards,</p>\n<p>The Macrotrends Team</p>\n\n</div>\n\n</div>\n\n</div>\n\n      <div class=\"modal-footer\" style=\"text-align:center;\">\n        <button type=\"button\" class=\"btn btn-success\" data-dismiss=\"modal\">Maybe Next Time...</button>\n      </div>\n    </div>\n  </div>\n</div>\t\n\n\n<script src=\"/ads.js\" type=\"text/javascript\"></script>\n\n<script>\n\n$(document).ready(function() {\n\t\n\tvar botPattern = \"(googlebot\\/|Googlebot-Mobile|Googlebot-Image|Google favicon|Mediapartners-Google|bingbot|slurp|java|wget|curl|Commons-HttpClient|Python-urllib|libwww|httpunit|nutch|phpcrawl|msnbot|jyxobot|FAST-WebCrawler|FAST Enterprise Crawler|biglotron|teoma|convera|seekbot|gigablast|exabot|ngbot|ia_archiver|GingerCrawler|webmon |httrack|webcrawler|grub.org|UsineNouvelleCrawler|antibot|netresearchserver|speedy|fluffy|bibnum.bnf|findlink|msrbot|panscient|yacybot|AISearchBot|IOI|ips-agent|tagoobot|MJ12bot|dotbot|woriobot|yanga|buzzbot|mlbot|yandexbot|purebot|Linguee Bot|Voyager|CyberPatrol|voilabot|baiduspider|citeseerxbot|spbot|twengabot|postrank|turnitinbot|scribdbot|page2rss|sitebot|linkdex|Adidxbot|blekkobot|ezooms|dotbot|Mail.RU_Bot|discobot|heritrix|findthatfile|europarchive.org|NerdByNature.Bot|sistrix crawler|ahrefsbot|Aboundex|domaincrawler|wbsearchbot|summify|ccbot|edisterbot|seznambot|ec2linkfinder|gslfbot|aihitbot|intelium_bot|facebookexternalhit|yeti|RetrevoPageAnalyzer|lb-spider|sogou|lssbot|careerbot|wotbox|wocbot|ichiro|DuckDuckBot|lssrocketcrawler|drupact|webcompanycrawler|acoonbot|openindexspider|gnam gnam spider|web-archive-net.com.bot|backlinkcrawler|coccoc|integromedb|content crawler spider|toplistbot|seokicks-robot|it2media-domain-crawler|ip-web-crawler.com|siteexplorer.info|elisabot|proximic|changedetection|blexbot|arabot|WeSEE:Search|niki-bot|CrystalSemanticsBot|rogerbot|360Spider|psbot|InterfaxScanBot|Lipperhey SEO Service|CC Metadata Scaper|g00g1e.net|GrapeshotCrawler|urlappendbot|brainobot|fr-crawler|binlar|SimpleCrawler|Livelapbot|Twitterbot|cXensebot|smtbot|bnf.fr_bot|A6-Indexer|ADmantX|Facebot|Twitterbot|OrangeBot|memorybot|AdvBot|MegaIndex|SemanticScholarBot|ltx71|nerdybot|xovibot|BUbiNG|Qwantify|archive.org_bot|Applebot|TweetmemeBot|crawler4j|findxbot|SemrushBot|yoozBot|lipperhey|y!j-asr|Domain Re-Animator Bot|AddThis)\";\n\n\tvar re = new RegExp(botPattern, 'i');\n\n\tif (re.test(navigator.userAgent)) {\n\t\t\n\t} else {\n\t\t\n\t\t//Check to see whether they are running an ad blocker\n\t\tif(document.getElementById('12mORwMnaEkJXlxz')){\n\t\t  var ad_blocker = 'N';\n\t\t} else {\n\t\t  var ad_blocker = 'Y';\n\t\t}\n\n\t\t$.post('https://api.ipstack.com/check?access_key=14fe63e83d5cfefa0b3d4cec498479ba&output=json&fields=ip,continent_name,country_name,region_name,city', \n\t\tfunction(ip_data){\n\t\t\t\n\t\t\t$.post('https://www.macrotrends.net/assets/php/page_view_tracking.php', {ip: ip_data.ip,continent: ip_data.continent_name, country: ip_data.country_name, state: ip_data.region_name, city: ip_data.city, screen_width: screen.width, ads: ad_blocker, page_type: 'stock'}, \n\t\t\t\tfunction(data){\n\t\t\t\t\t/*\t\t\t\t\t\n\t\t\t\t\tif(data % 20 === 0) {\n\t\t\t\t\t\t\n\t\t\t\t\t\t//$('#contribute_modal').modal();\n\t\t\t\t\t\t\n\t\t\t\t\t}\n\t\t\t\t\t*/\n\t\t\t\t});\n\t\t\n\t\t});\n\n\n\t}\n\t\n\n});\n\n\n$.post('https://api.ipstack.com/check?access_key=14fe63e83d5cfefa0b3d4cec498479ba&output=json&fields=ip,continent_name,country_name,region_name,city', \nfunction(ip_data){\n\t\n\t$(\".contribute_user_id\").val(ip_data.ip);\n\t\n});\n\n$( \".donate_buttons\" ).click(function() {\n  \n\tvar payment = $(this).attr(\"value\");\n\n\t$.post('https://api.ipstack.com/check?access_key=14fe63e83d5cfefa0b3d4cec498479ba&output=json&fields=ip,continent_name,country_name,region_name,city', \n\t\tfunction(ip_data){\n\t\t\t\t\t\n\t\t$.post('https://www.macrotrends.net/assets/php/page_view_tracking.php', {ip: ip_data.ip, paid: payment}); \n\t\n\t});\n\t\t \n});\n\n</script>\n\n-->\n  <script type=\"text/javascript\">\n   var clicky_site_ids = clicky_site_ids || [];\nclicky_site_ids.push(100827248);\n(function() {\n  var s = document.createElement('script');\n  s.type = 'text/javascript';\n  s.async = true;\n  s.src = '//static.getclicky.com/js';\n  ( document.getElementsByTagName('head')[0] || document.getElementsByTagName('body')[0] ).appendChild( s );\n})();\n  </script>\n  <noscript>\n   <p>\n    <img alt=\"Clicky\" height=\"1\" src=\"//in.getclicky.com/100827248ns.gif\" width=\"1\"/>\n   </p>\n  </noscript>\n </body>\n</html>\n\n"
     ]
    }
   ],
   "source": [
    "soup = BeautifulSoup(html_data.text, 'html.parser')\n",
    "print(soup.prettify())"
   ]
  },
  {
   "cell_type": "code",
   "execution_count": 8,
   "metadata": {},
   "outputs": [
    {
     "output_type": "execute_result",
     "data": {
      "text/plain": [
       "<title>Tesla Revenue 2009-2020 | TSLA | MacroTrends</title>"
      ]
     },
     "metadata": {},
     "execution_count": 8
    }
   ],
   "source": [
    "soup.title"
   ]
  },
  {
   "cell_type": "code",
   "execution_count": 11,
   "metadata": {},
   "outputs": [
    {
     "output_type": "execute_result",
     "data": {
      "text/plain": [
       "<table class=\"historical_data_table table\">\n",
       "<thead>\n",
       "<tr>\n",
       "<th colspan=\"2\" style=\"text-align:center\">Tesla Annual Revenue<br/><span style=\"font-size:14px;\">(Millions of US $)</span></th>\n",
       "</tr>\n",
       "</thead>\n",
       "<tbody>\n",
       "<tr>\n",
       "<td style=\"text-align:center\">2020</td>\n",
       "<td style=\"text-align:center\">$31,536</td>\n",
       "</tr>\n",
       "<tr>\n",
       "<td style=\"text-align:center\">2019</td>\n",
       "<td style=\"text-align:center\">$24,578</td>\n",
       "</tr>\n",
       "<tr>\n",
       "<td style=\"text-align:center\">2018</td>\n",
       "<td style=\"text-align:center\">$21,461</td>\n",
       "</tr>\n",
       "<tr>\n",
       "<td style=\"text-align:center\">2017</td>\n",
       "<td style=\"text-align:center\">$11,759</td>\n",
       "</tr>\n",
       "<tr>\n",
       "<td style=\"text-align:center\">2016</td>\n",
       "<td style=\"text-align:center\">$7,000</td>\n",
       "</tr>\n",
       "<tr>\n",
       "<td style=\"text-align:center\">2015</td>\n",
       "<td style=\"text-align:center\">$4,046</td>\n",
       "</tr>\n",
       "<tr>\n",
       "<td style=\"text-align:center\">2014</td>\n",
       "<td style=\"text-align:center\">$3,198</td>\n",
       "</tr>\n",
       "<tr>\n",
       "<td style=\"text-align:center\">2013</td>\n",
       "<td style=\"text-align:center\">$2,013</td>\n",
       "</tr>\n",
       "<tr>\n",
       "<td style=\"text-align:center\">2012</td>\n",
       "<td style=\"text-align:center\">$413</td>\n",
       "</tr>\n",
       "<tr>\n",
       "<td style=\"text-align:center\">2011</td>\n",
       "<td style=\"text-align:center\">$204</td>\n",
       "</tr>\n",
       "<tr>\n",
       "<td style=\"text-align:center\">2010</td>\n",
       "<td style=\"text-align:center\">$117</td>\n",
       "</tr>\n",
       "<tr>\n",
       "<td style=\"text-align:center\">2009</td>\n",
       "<td style=\"text-align:center\">$112</td>\n",
       "</tr>\n",
       "<tr>\n",
       "<td style=\"text-align:center\">2008</td>\n",
       "<td style=\"text-align:center\">$15</td>\n",
       "</tr>\n",
       "</tbody>\n",
       "</table>"
      ]
     },
     "metadata": {},
     "execution_count": 11
    }
   ],
   "source": [
    "# finding the class 'historical_data_table table' in the HTML script\n",
    "tesla_annual_revenue = soup.find('table', {'class':'historical_data_table table'})\n",
    "tesla_annual_revenue"
   ]
  },
  {
   "cell_type": "code",
   "execution_count": 13,
   "metadata": {},
   "outputs": [
    {
     "output_type": "execute_result",
     "data": {
      "text/plain": [
       "2"
      ]
     },
     "metadata": {},
     "execution_count": 13
    }
   ],
   "source": [
    "# getting the number of columns in the table\n",
    "for row in tesla_annual_revenue.findAll(\"tr\"):\n",
    "    cells = row.findAll(\"td\")\n",
    "\n",
    "len(cells)"
   ]
  },
  {
   "cell_type": "code",
   "execution_count": 15,
   "metadata": {},
   "outputs": [
    {
     "output_type": "execute_result",
     "data": {
      "text/plain": [
       "14"
      ]
     },
     "metadata": {},
     "execution_count": 15
    }
   ],
   "source": [
    "# getting the number of rows in the table including header\n",
    "rows = tesla_annual_revenue.findAll(\"tr\")\n",
    "len(rows)"
   ]
  },
  {
   "cell_type": "code",
   "execution_count": 16,
   "metadata": {},
   "outputs": [
    {
     "output_type": "stream",
     "name": "stdout",
     "text": [
      "['Tesla Annual Revenue(Millions of US $)']\n1\n"
     ]
    }
   ],
   "source": [
    "# getting the table Header\n",
    "header = [th.text.rstrip() for th in rows[0].find_all('th')]\n",
    "\n",
    "print(header)\n",
    "print(len(header))"
   ]
  },
  {
   "cell_type": "code",
   "execution_count": 23,
   "metadata": {},
   "outputs": [],
   "source": [
    "# scraping the data and append to respective lists\n",
    "c1 = []\n",
    "c2 = []\n",
    "\n",
    "for row in tesla_annual_revenue.findAll(\"tr\"):\n",
    "    cells = row.findAll('td')\n",
    "    if len(cells) == 2: # Only extract table body not heading\n",
    "        c1.append(cells[0].find(text = True))\n",
    "        c2.append(cells[1].find(text = True))"
   ]
  },
  {
   "cell_type": "code",
   "execution_count": 24,
   "metadata": {},
   "outputs": [
    {
     "output_type": "execute_result",
     "data": {
      "text/plain": [
       "{'Tesla Annual Revenue(Millions of US $)': 0}"
      ]
     },
     "metadata": {},
     "execution_count": 24
    }
   ],
   "source": [
    "# making a dictionary to become a dataframe\n",
    "d = dict([(x, 0) for x in header])\n",
    "d"
   ]
  },
  {
   "cell_type": "code",
   "execution_count": 28,
   "metadata": {},
   "outputs": [],
   "source": [
    "# making a dataframe\n",
    "d['Year'] = c1\n",
    "d['Tesla Annual Revenue(Millions of US $)'] = c2"
   ]
  },
  {
   "cell_type": "code",
   "execution_count": 29,
   "metadata": {},
   "outputs": [],
   "source": [
    "df = pd.DataFrame(d)"
   ]
  },
  {
   "cell_type": "code",
   "execution_count": 30,
   "metadata": {},
   "outputs": [
    {
     "output_type": "execute_result",
     "data": {
      "text/plain": [
       "  Tesla Annual Revenue(Millions of US $)  Year\n",
       "0                                $31,536  2020\n",
       "1                                $24,578  2019\n",
       "2                                $21,461  2018\n",
       "3                                $11,759  2017\n",
       "4                                 $7,000  2016"
      ],
      "text/html": "<div>\n<style scoped>\n    .dataframe tbody tr th:only-of-type {\n        vertical-align: middle;\n    }\n\n    .dataframe tbody tr th {\n        vertical-align: top;\n    }\n\n    .dataframe thead th {\n        text-align: right;\n    }\n</style>\n<table border=\"1\" class=\"dataframe\">\n  <thead>\n    <tr style=\"text-align: right;\">\n      <th></th>\n      <th>Tesla Annual Revenue(Millions of US $)</th>\n      <th>Year</th>\n    </tr>\n  </thead>\n  <tbody>\n    <tr>\n      <th>0</th>\n      <td>$31,536</td>\n      <td>2020</td>\n    </tr>\n    <tr>\n      <th>1</th>\n      <td>$24,578</td>\n      <td>2019</td>\n    </tr>\n    <tr>\n      <th>2</th>\n      <td>$21,461</td>\n      <td>2018</td>\n    </tr>\n    <tr>\n      <th>3</th>\n      <td>$11,759</td>\n      <td>2017</td>\n    </tr>\n    <tr>\n      <th>4</th>\n      <td>$7,000</td>\n      <td>2016</td>\n    </tr>\n  </tbody>\n</table>\n</div>"
     },
     "metadata": {},
     "execution_count": 30
    }
   ],
   "source": [
    "df.head()"
   ]
  },
  {
   "source": [
    "## Question 3. Extracting GameStop Stock Data Using yfinance"
   ],
   "cell_type": "markdown",
   "metadata": {}
  },
  {
   "cell_type": "code",
   "execution_count": 31,
   "metadata": {},
   "outputs": [],
   "source": [
    "# using 'Ticker' module to extract data\n",
    "game = yf.Ticker(\"GME\")"
   ]
  },
  {
   "cell_type": "code",
   "execution_count": 33,
   "metadata": {},
   "outputs": [
    {
     "output_type": "execute_result",
     "data": {
      "text/plain": [
       "{'zip': '76051',\n",
       " 'sector': 'Consumer Cyclical',\n",
       " 'fullTimeEmployees': 14000,\n",
       " 'longBusinessSummary': 'GameStop Corp. operates as a multichannel video game, consumer electronics, and collectibles retailer in the United States, Canada, Australia, and Europe. The company sells new and pre-owned video game platforms; accessories, including controllers, gaming headsets, virtual reality products, and memory cards; new and pre-owned video game software; and in-game digital currency, digital downloadable content, and full-game downloads, as well as network points cards, and prepaid digital and prepaid subscription cards. It also sells collectibles comprising licensed merchandise primarily related to the video game, television, and movie industries, as well as pop culture themes. The company operates its stores and e-commerce sites under the GameStop, EB Games, and Micromania brands; and collectibles stores under the Zing Pop Culture and ThinkGeek brand, as well as offers Game Informer, a print and digital video game publication featuring reviews of new title releases, game tips, and news regarding the video game industry. As of February 1, 2020, the company operated 5,509 stores across 14 countries. The company was formerly known as GSC Holdings Corp. GameStop Corp. was founded in 1996 and is headquartered in Grapevine, Texas.',\n",
       " 'city': 'Grapevine',\n",
       " 'phone': '817 424 2000',\n",
       " 'state': 'TX',\n",
       " 'country': 'United States',\n",
       " 'companyOfficers': [],\n",
       " 'website': 'http://www.gamestop.com',\n",
       " 'maxAge': 1,\n",
       " 'address1': '625 Westport Parkway',\n",
       " 'industry': 'Specialty Retail',\n",
       " 'previousClose': 40.59,\n",
       " 'regularMarketOpen': 46.69,\n",
       " 'twoHundredDayAverage': 26.662573,\n",
       " 'trailingAnnualDividendYield': 0,\n",
       " 'payoutRatio': 0,\n",
       " 'volume24Hr': None,\n",
       " 'regularMarketDayHigh': 48.51,\n",
       " 'navPrice': None,\n",
       " 'averageDailyVolume10Day': 14084220,\n",
       " 'totalAssets': None,\n",
       " 'regularMarketPreviousClose': 40.59,\n",
       " 'fiftyDayAverage': 75.129395,\n",
       " 'trailingAnnualDividendRate': 0,\n",
       " 'open': 46.69,\n",
       " 'toCurrency': None,\n",
       " 'averageVolume10days': 14084220,\n",
       " 'expireDate': None,\n",
       " 'yield': None,\n",
       " 'algorithm': None,\n",
       " 'dividendRate': None,\n",
       " 'exDividendDate': 1552521600,\n",
       " 'beta': -1.947171,\n",
       " 'circulatingSupply': None,\n",
       " 'startDate': None,\n",
       " 'regularMarketDayLow': 42.4,\n",
       " 'priceHint': 2,\n",
       " 'currency': 'USD',\n",
       " 'regularMarketVolume': 13648963,\n",
       " 'lastMarket': None,\n",
       " 'maxSupply': None,\n",
       " 'openInterest': None,\n",
       " 'marketCap': 3069593344,\n",
       " 'volumeAllCurrencies': None,\n",
       " 'strikePrice': None,\n",
       " 'averageVolume': 34291726,\n",
       " 'priceToSalesTrailing12Months': 0.59467494,\n",
       " 'dayLow': 42.4,\n",
       " 'ask': 43.99,\n",
       " 'ytdReturn': None,\n",
       " 'askSize': 1000,\n",
       " 'volume': 13648963,\n",
       " 'fiftyTwoWeekHigh': 483,\n",
       " 'forwardPE': -209.57333,\n",
       " 'fromCurrency': None,\n",
       " 'fiveYearAvgDividendYield': None,\n",
       " 'fiftyTwoWeekLow': 2.57,\n",
       " 'bid': 43.9,\n",
       " 'tradeable': False,\n",
       " 'dividendYield': None,\n",
       " 'bidSize': 900,\n",
       " 'dayHigh': 48.51,\n",
       " 'exchange': 'NYQ',\n",
       " 'shortName': 'GameStop Corporation',\n",
       " 'longName': 'GameStop Corp.',\n",
       " 'exchangeTimezoneName': 'America/New_York',\n",
       " 'exchangeTimezoneShortName': 'EST',\n",
       " 'isEsgPopulated': False,\n",
       " 'gmtOffSetMilliseconds': '-18000000',\n",
       " 'quoteType': 'EQUITY',\n",
       " 'symbol': 'GME',\n",
       " 'messageBoardId': 'finmb_1342560',\n",
       " 'market': 'us_market',\n",
       " 'annualHoldingsTurnover': None,\n",
       " 'enterpriseToRevenue': 0.686,\n",
       " 'beta3Year': None,\n",
       " 'profitMargins': -0.053239997,\n",
       " 'enterpriseToEbitda': -27.359,\n",
       " '52WeekChange': 9.97027,\n",
       " 'morningStarRiskRating': None,\n",
       " 'forwardEps': -0.21,\n",
       " 'revenueQuarterlyGrowth': None,\n",
       " 'sharesOutstanding': 69747000,\n",
       " 'fundInceptionDate': None,\n",
       " 'annualReportExpenseRatio': None,\n",
       " 'bookValue': 5.095,\n",
       " 'sharesShort': 21409004,\n",
       " 'sharesPercentSharesOut': 0.307,\n",
       " 'fundFamily': None,\n",
       " 'lastFiscalYearEnd': 1580515200,\n",
       " 'heldPercentInstitutions': 1.2204499,\n",
       " 'netIncomeToCommon': -270000000,\n",
       " 'trailingEps': -4.224,\n",
       " 'lastDividendValue': 0.38,\n",
       " 'SandP52WeekChange': 0.1675049,\n",
       " 'priceToBook': 8.637959,\n",
       " 'heldPercentInsiders': 0.27334,\n",
       " 'nextFiscalYearEnd': 1643673600,\n",
       " 'mostRecentQuarter': 1604102400,\n",
       " 'shortRatio': 0.37,\n",
       " 'sharesShortPreviousMonthDate': 1609372800,\n",
       " 'floatShares': 45045377,\n",
       " 'enterpriseValue': 3540229120,\n",
       " 'threeYearAverageReturn': None,\n",
       " 'lastSplitDate': 1174262400,\n",
       " 'lastSplitFactor': '2:1',\n",
       " 'legalType': None,\n",
       " 'lastDividendDate': 1552521600,\n",
       " 'morningStarOverallRating': None,\n",
       " 'earningsQuarterlyGrowth': None,\n",
       " 'dateShortInterest': 1611878400,\n",
       " 'pegRatio': 0.17,\n",
       " 'lastCapGain': None,\n",
       " 'shortPercentOfFloat': 0.7846,\n",
       " 'sharesShortPriorMonth': 71196206,\n",
       " 'impliedSharesOutstanding': None,\n",
       " 'category': None,\n",
       " 'fiveYearAverageReturn': None,\n",
       " 'regularMarketPrice': 46.69,\n",
       " 'logo_url': 'https://logo.clearbit.com/gamestop.com'}"
      ]
     },
     "metadata": {},
     "execution_count": 33
    }
   ],
   "source": [
    "# using the attribue 'info' \n",
    "game_info = game.info\n",
    "game_info"
   ]
  },
  {
   "cell_type": "code",
   "execution_count": 34,
   "metadata": {},
   "outputs": [
    {
     "output_type": "execute_result",
     "data": {
      "text/plain": [
       "                Open      High       Low     Close    Volume  Dividends  \\\n",
       "Date                                                                      \n",
       "2002-02-13  6.480513  6.773399  6.413183  6.766666  19054000        0.0   \n",
       "2002-02-14  6.850831  6.864296  6.682506  6.733003   2755400        0.0   \n",
       "2002-02-15  6.733001  6.749833  6.632006  6.699336   2097400        0.0   \n",
       "2002-02-19  6.665671  6.665671  6.312189  6.430017   1852600        0.0   \n",
       "2002-02-20  6.463681  6.648838  6.413183  6.648838   1723200        0.0   \n",
       "\n",
       "            Stock Splits  \n",
       "Date                      \n",
       "2002-02-13           0.0  \n",
       "2002-02-14           0.0  \n",
       "2002-02-15           0.0  \n",
       "2002-02-19           0.0  \n",
       "2002-02-20           0.0  "
      ],
      "text/html": "<div>\n<style scoped>\n    .dataframe tbody tr th:only-of-type {\n        vertical-align: middle;\n    }\n\n    .dataframe tbody tr th {\n        vertical-align: top;\n    }\n\n    .dataframe thead th {\n        text-align: right;\n    }\n</style>\n<table border=\"1\" class=\"dataframe\">\n  <thead>\n    <tr style=\"text-align: right;\">\n      <th></th>\n      <th>Open</th>\n      <th>High</th>\n      <th>Low</th>\n      <th>Close</th>\n      <th>Volume</th>\n      <th>Dividends</th>\n      <th>Stock Splits</th>\n    </tr>\n    <tr>\n      <th>Date</th>\n      <th></th>\n      <th></th>\n      <th></th>\n      <th></th>\n      <th></th>\n      <th></th>\n      <th></th>\n    </tr>\n  </thead>\n  <tbody>\n    <tr>\n      <th>2002-02-13</th>\n      <td>6.480513</td>\n      <td>6.773399</td>\n      <td>6.413183</td>\n      <td>6.766666</td>\n      <td>19054000</td>\n      <td>0.0</td>\n      <td>0.0</td>\n    </tr>\n    <tr>\n      <th>2002-02-14</th>\n      <td>6.850831</td>\n      <td>6.864296</td>\n      <td>6.682506</td>\n      <td>6.733003</td>\n      <td>2755400</td>\n      <td>0.0</td>\n      <td>0.0</td>\n    </tr>\n    <tr>\n      <th>2002-02-15</th>\n      <td>6.733001</td>\n      <td>6.749833</td>\n      <td>6.632006</td>\n      <td>6.699336</td>\n      <td>2097400</td>\n      <td>0.0</td>\n      <td>0.0</td>\n    </tr>\n    <tr>\n      <th>2002-02-19</th>\n      <td>6.665671</td>\n      <td>6.665671</td>\n      <td>6.312189</td>\n      <td>6.430017</td>\n      <td>1852600</td>\n      <td>0.0</td>\n      <td>0.0</td>\n    </tr>\n    <tr>\n      <th>2002-02-20</th>\n      <td>6.463681</td>\n      <td>6.648838</td>\n      <td>6.413183</td>\n      <td>6.648838</td>\n      <td>1723200</td>\n      <td>0.0</td>\n      <td>0.0</td>\n    </tr>\n  </tbody>\n</table>\n</div>"
     },
     "metadata": {},
     "execution_count": 34
    }
   ],
   "source": [
    "# Extracting share price \n",
    "game_share_price_data = game.history(period = \"max\")\n",
    "game_share_price_data.head()"
   ]
  },
  {
   "source": [
    "## Question 4. Extracting GameStop Revenue Data Using Webscraping"
   ],
   "cell_type": "markdown",
   "metadata": {}
  },
  {
   "cell_type": "code",
   "execution_count": 35,
   "metadata": {},
   "outputs": [
    {
     "output_type": "execute_result",
     "data": {
      "text/plain": [
       "<Response [200]>"
      ]
     },
     "metadata": {},
     "execution_count": 35
    }
   ],
   "source": [
    "# using 'requests' library to download the webpage below\n",
    "url_1 = \"https://www.macrotrends.net/stocks/charts/GME/gamestop/revenue\"\n",
    "html_data_1 = requests.get(url_1)\n",
    "html_data_1"
   ]
  },
  {
   "cell_type": "code",
   "execution_count": 36,
   "metadata": {},
   "outputs": [
    {
     "output_type": "stream",
     "name": "stdout",
     "text": [
      "<!DOCTYPE html>\n<!--[if lt IE 7]>      <html class=\"no-js lt-ie9 lt-ie8 lt-ie7\"> <![endif]-->\n<!--[if IE 7]>         <html class=\"no-js lt-ie9 lt-ie8\"> <![endif]-->\n<!--[if IE 8]>         <html class=\"no-js lt-ie9\"> <![endif]-->\n<!--[if gt IE 8]><!-->\n<html class=\"no-js\">\n <!--<![endif]-->\n <head>\n  <meta charset=\"utf-8\"/>\n  <meta content=\"IE=edge,chrome=1\" http-equiv=\"X-UA-Compatible\"/>\n  <link href=\"https://www.macrotrends.net/stocks/charts/GME/gamestop/revenue\" rel=\"canonical\"/>\n  <title>\n   GameStop Revenue 2006-2020 | GME | MacroTrends\n  </title>\n  <meta content=\"GameStop revenue from 2006 to 2020. Revenue can be defined as the amount of money a company receives from its customers in exchange for the sales of goods or services.  Revenue is the top line item on an income statement from which all costs and expenses are subtracted to arrive at net income.\" name=\"description\">\n   <meta content=\"\" name=\"robots\">\n    <link href=\"/assets/images/icons/FAVICON/macro-trends_favicon.ico\" rel=\"shortcut icon\" type=\"image/x-icon\"/>\n    <meta content=\"1228954C688F5907894001CD8E5E624B\" name=\"msvalidate.01\"/>\n    <meta content=\"6MnD_3iDtAP1ZyoGK1YMyVIVck4r5Ws80I9xD3ue4_A\" name=\"google-site-verification\"/>\n    <!-- Load in Roboto Font -->\n    <link href=\"https://fonts.googleapis.com/css?family=Roboto:400,600,700\" rel=\"stylesheet\"/>\n    <!-- Bootstrap -->\n    <link href=\"//maxcdn.bootstrapcdn.com/bootstrap/3.3.7/css/bootstrap.min.css\" rel=\"stylesheet\"/>\n    <!--for Bootstrap CDN version-->\n    <link href=\"//maxcdn.bootstrapcdn.com/bootstrap/3.3.7/css/bootstrap-theme.min.css\" rel=\"stylesheet\"/>\n    <!-- Font Awesome -->\n    <link href=\"//stackpath.bootstrapcdn.com/font-awesome/4.7.0/css/font-awesome.min.css\" rel=\"stylesheet\"/>\n    <!--for Font Awesome CDN version-->\n    <!-- Jquery, Bootstrap and Menu Javascript -->\n    <script crossorigin=\"anonymous\" integrity=\"sha256-ZosEbRLbNQzLpnKIkEdrPv7lOy9C27hHQ+Xp8a4MxAQ=\" src=\"//code.jquery.com/jquery-1.12.4.min.js\">\n    </script>\n    <script src=\"//maxcdn.bootstrapcdn.com/bootstrap/3.3.7/js/bootstrap.min.js\">\n    </script>\n    <!-- Modernizr for cross-browser support -->\n    <script src=\"/assets/javascript/modernizr-2.6.2-respond-1.1.0.min.js\" type=\"text/javascript\">\n    </script>\n    <!-- Latest compiled and minified CSS -->\n    <link href=\"//www.fuelcdn.com/fuelux/3.13.0/css/fuelux.min.css\" rel=\"stylesheet\"/>\n    <!-- Latest compiled and minified JavaScript -->\n    <script src=\"//www.fuelcdn.com/fuelux/3.13.0/js/fuelux.min.js\">\n    </script>\n    <!-- Twitter Card data -->\n    <meta content=\"summary_large_image\" name=\"twitter:card\"/>\n    <meta content=\"@tmacrotrends\" name=\"twitter:site\"/>\n    <meta content=\"GameStop Revenue 2006-2020 | GME\" name=\"twitter:title\"/>\n    <meta content=\"GameStop revenue from 2006 to 2020. Revenue can be defined as the amount of money a company receives from its customers in exchange for the sales of goods or services.  Revenue is the top line item on an income statement from which all costs and expenses are subtracted to arrive at net income.\" name=\"twitter:description\"/>\n    <!-- Open Graph data -->\n    <meta content=\"https://www.macrotrends.net/stocks/charts/GME/gamestop/revenue\" property=\"og:url\">\n     <meta content=\"GameStop Revenue 2006-2020 | GME\" property=\"og:title\">\n      <meta content=\"GameStop revenue from 2006 to 2020. Revenue can be defined as the amount of money a company receives from its customers in exchange for the sales of goods or services.  Revenue is the top line item on an income statement from which all costs and expenses are subtracted to arrive at net income.\" property=\"og:description\">\n       <!-- JQXGRID STYLES AND JAVASCRIPT -->\n       <link href=\"/assets/php/jqfiles/jqwidgets/styles/jqx.base.css\" rel=\"stylesheet\" type=\"text/css\">\n        <link href=\"/assets/php/jqfiles/jqwidgets/styles/jqx.bootstrap.css\" rel=\"stylesheet\" type=\"text/css\">\n         <!-- LOAD THESE SCRIPTS EARLY SO THE TICKER INPUT FIELD IS STYLED INSTANTLY -->\n         <script src=\"/assets/php/jqfiles/jqwidgets/jqxcore.js\" type=\"text/javascript\">\n         </script>\n         <script src=\"/assets/php/jqfiles/jqwidgets/jqxdata.js\" type=\"text/javascript\">\n         </script>\n         <script src=\"/assets/php/jqfiles/jqwidgets/jqxinput.js\" type=\"text/javascript\">\n         </script>\n         <!-- Styling for search box -->\n         <link href=\"/assets/php/jquery-typeahead/jquery.typeahead_pages.css\" rel=\"stylesheet\" type=\"text/css\"/>\n         <!-- Search box javascript -->\n         <script src=\"/assets/php/jquery-typeahead/jquery.typeahead.min.js\">\n         </script>\n         <link href=\"//cdnjs.cloudflare.com/ajax/libs/select2/4.0.3/css/select2.min.css\" rel=\"stylesheet\">\n          <script src=\"//cdnjs.cloudflare.com/ajax/libs/select2/4.0.3/js/select2.min.js\">\n          </script>\n          <!-- ToolTips -->\n          <script src=\"/assets/php/tipped-4.6.1/js/tipped/tipped.js\">\n          </script>\n          <link href=\"/assets/php/tipped-4.6.1/css/tipped/tipped.css\" rel=\"stylesheet\"/>\n          <script async=\"\" src=\"https://u5.investingchannel.com/static/uat.js\">\n          </script>\n          <script type=\"text/javascript\">\n           InvestingChannelQueue = window.InvestingChannelQueue || [];\n\t\t\tvar ic_page;\n\t\t\tInvestingChannelQueue.push(function() {ic_page = InvestingChannel.UAT.Run(\"df17ac1e-cc7f-11e8-82a5-0abbb61c4a6a\");});\n          </script>\n          <!-- Global site tag (gtag.js) - Google Analytics -->\n          <script async=\"\" src=\"https://www.googletagmanager.com/gtag/js?id=UA-62099500-1\">\n          </script>\n          <script>\n           window.dataLayer = window.dataLayer || [];\n\t\t  function gtag(){dataLayer.push(arguments);}\n\t\t  gtag('js', new Date());\n\n\t\t  gtag('config', 'UA-62099500-1');\n          </script>\n          <!-- Amcharts Files -->\n          <script src=\"/assets/php/charts/amcharts/amcharts.js\" type=\"text/javascript\">\n          </script>\n          <script src=\"/assets/php/charts/amcharts/serial.js\" type=\"text/javascript\">\n          </script>\n          <script src=\"/assets/php/charts/amcharts/themes/light.js\" type=\"text/javascript\">\n          </script>\n          <script src=\"/assets/php/charts/amcharts/amstock.js\" type=\"text/javascript\">\n          </script>\n          <script src=\"/assets/php/charts/amcharts/plugins/export/export.min.js?version=1527102356\" type=\"text/javascript\">\n          </script>\n          <script src=\"/assets/php/charts/amcharts/plugins/export/libs/fabric.js/fabric.min.js?version=1510086154\" type=\"text/javascript\">\n          </script>\n          <script src=\"/assets/php/charts/amcharts/plugins/export/libs/FileSaver.js/FileSaver.js?version=1500654620\" type=\"text/javascript\">\n          </script>\n          <link href=\"/assets/php/charts/amcharts/plugins/export/export.css\" media=\"all\" rel=\"stylesheet\" type=\"text/css\">\n           <!--<script>\n\t\t\t(function(i,s,o,g,r,a,m){i['GoogleAnalyticsObject']=r;i[r]=i[r]||function(){\n\t\t\t(i[r].q=i[r].q||[]).push(arguments)},i[r].l=1*new Date();a=s.createElement(o),\n\t\t\tm=s.getElementsByTagName(o)[0];a.async=1;a.src=g;m.parentNode.insertBefore(a,m)\n\t\t\t})(window,document,'script','//www.google-analytics.com/analytics.js','ga');\n\n\t\t\tga('create', 'UA-62099500-1', 'auto');\n\t\t\tga('send', 'pageview');\n\t\t\t\n\t\t\t\n\t\t\t\n\t\t   \n\t\t\t//Send one event to GA at 30 seconds to control bounce rate\n\t\t\tsetTimeout(\"ga('send','event','Engaged User','30 Second Engagement')\",30000); \n\n\n\t\t  //This code sends events to ga every 30 seconds when the window is in focus\n\t\t\tvar count = 0;\n\t\t\tvar myInterval;\n\t\t\t\t\t\n\t\t\t// Active\n\t\t\twindow.addEventListener('load', startTimer);\n\t\t\twindow.addEventListener('focus', startTimer);\n\n\t\t\t// Inactive\n\t\t\twindow.addEventListener('blur', stopTimer);\n\n\t\t\tfunction timerHandler() {\n\t\t\t\tcount++;\n\t\t\t\t\n\t\t\t\tif(count % 60 == 0 && count <= 1800) {\n\t\t\t\t\t\n\t\t\t\t\tvar interval = (count/60);\n\t\t\t\t\tinterval = interval.toFixed(0);\n\t\t\t\t\t\n\t\t\t\t\tvar action = interval + \" Minute Engagement\";\n\t\t\t\t\t\n\t\t\t\t\tga('send','event','Engaged User',action);\n\n\t\t\t\t\t\n\t\t\t\t}\n\t\t\t\n\t\t\t}\n\n\t\t\t// Start timer\n\t\t\tfunction startTimer() {\n\t\t\tmyInterval = window.setInterval(timerHandler, 1000);\n\t\t\t}\n\n\t\t\t// Stop timer\n\t\t\tfunction stopTimer() {\n\t\t\twindow.clearInterval(myInterval);\n\t\t\t}\n\t\t\t\n\t\t\t\n\n\t\t</script>-->\n           <style>\n            #style-1::-webkit-scrollbar-track\n{\n\t-webkit-box-shadow: inset 0 0 6px rgba(0,0,0,0.3);\n\tborder-radius: 3px;\n\tbackground-color: #F5F5F5;\n}\n\n#style-1::-webkit-scrollbar\n{\n\twidth: 18px;\n\tbackground-color: #F5F5F5;\n}\n\n#style-1::-webkit-scrollbar-thumb\n{\n\tborder-radius: 3px;\n\t-webkit-box-shadow: inset 0 0 6px rgba(0,0,0,.3);\n\tbackground-color: #5B9BD5;\n}\n\nhtml {\n\twidth:100%;\n\tposition: relative;\n\tmin-height: 100%;\n}\n\nbody {\n\t\n\twidth:100%;\n\n\t/* Margin bottom by footer height */\n\t  margin-bottom: 80px;\n\t  color: #444;\n\t  background-color:#fff;\n\t  font-family: 'Roboto', sans-serif;\n\t  font-size:14px;\n}\n\n\n\n\n\n.header_content_container {\n\t\n\tmin-width: 1280px;\n\tpadding: 0px;\n}\n\n.main_content_container {\n\t\n\tmin-width: 1280px;\n\tmax-width: 1280px;\n\tpadding: 0px 30px 100px 30px;\n\t\n}\n\n.sub_main_content_container {\n\t\n\t\n}\n\n\n\n#main_content {\n\t\n\tpadding:0px 20px 0px 0px;\n\twidth:826px;\n    float:left;\n\t\n}\n\n#right_sidebar {\n\t\n  width: 300px;\n  float:left;\n  height:3020px;\n\t\n}\n\n#sticky_ad_left {\n\t\n  position: -webkit-sticky;\n  position: sticky;\n  top: 30px;\n\t\n\t\n}\n\n#sticky_ad_right {\n\t\n  position: -webkit-sticky;\n  position: sticky;\n  top: 30px;\n\t\n\t\n}\n\n\n\n\n\n.footer {\n  position: absolute;\n  bottom: 0;\n  width: 100%;\n  /* Set the fixed height of the footer here */\n  height: 100px;\n  margin-top: 10px;\t\n  padding: 30px 20px 20px 20px;\n  color:#fff !important;\n  background-color:#444;\n  text-align: center;\n  font-size:16px;\n}\n\n.footer a {\n  color:#fff !important;\n}\n\n.ticker_search_box {\n\t\n\tbackground-color:#F5F5F5;\n\tborder: 1px solid #E0E0E0;\n\tborder-bottom:none;\n\tpadding:10px 30px 10px 10px;\n\tmargin:0px 0px 0px 0px;\n\ttext-align:center;\n\t\n}\n\n.related_tickers {\n\t\n\twidth:100%;\n\tbackground-color:#F5F5F5;\n\tborder: 1px solid #E0E0E0;\n\tborder-top: 0px;\n\tpadding:3px 30px 3px 10px;\n\tmargin:0px 0px 0px 0px;\n\ttext-align:center;\n\t\n}\n\n.statement_type_select {\n\n\twidth:100%;\n\theight:28px;\n\t\n}\n\n.frequency_select {\n\n\twidth:100%;\n\theight:28px;\n\tfont-weight:600;\n\t\n}\n\n\n.select2 {\n\t\n\ttext-align:left;\n\tfont-weight:600;\n\t\n\t}\n\t\n#jqxInput {\n\n\t\twidth:100%;\n\t\theight:28px;\n\t\t\n}\n\n\n\n.header__parent_container {\n\n\twidth:100%;\n\theight:50px;\n\tpadding:15px 0px 10px -20px; \n\tmargin:0px 0px 0px 0px;\n\tbackground-color:#444;\n\n}\n\n.header_container {\n\n\twidth:100%;\n\theight:50px;\n\tpadding:15px 0px 10px -20px; \n\tmargin:0px 0px 0px 0px;\n\tbackground-color:#444;\n\n}\n\n.header_logo {\n\t\n\tpadding-top:10px;\n\tmargin-left:50px;\n\t\n}\n\n.menu_parent_container {\n\t\n\twidth:100%;\n\theight:34px;\n\tfont-size:16px;\n\tpadding:15px 0px 10px -20px; \n\tmargin:0px 0px 0px 0px;\n\tbackground-color:#0089de;\n}\n\n.menu_container {\n\t\n\twidth:1280px;\n\theight:34px;\n\tfont-size:16px;\n\tpadding:11px 0px 0px -20px; \n\tmargin: 0 auto;\n\tbackground-color:#0089de;\n\tz-index:1000;\n}\n\n.menu_item {\n\n\theight:34px;\n\tfloat:left;\n\tfont-size:14px;\n\tfont-weight:bold;\n\tcolor:#fff;\n\ttext-align:center;\n\tpadding:7px 16px 0px 16px;\t\n\n}\n\n.menu_item:hover\n{\n\tbackground-color:#32a0e4;\n\tcursor: pointer;\n}\n\n.menu_item a\n{\n\tcolor:#fff;\n\tcursor: pointer;\n}\n\n.menu_item a:hover\n{\n\ttext-decoration:none;\n\tcursor: pointer;\n}\n\n.leaderboard_ad {\n\n\tmargin-top:20px;\n\tmargin-bottom:20px;\n\ttext-align:center;\n\tmin-height:100px;\n\n}\n\n#filter_result_count {\n\t\n\twidth:100%;\n\ttext-align:center;\n\tfont-size:24px;\n\tfont-weight:bold;\n\tpadding:10px 15px;\n\tbackground-color:#efefef;\n\tborder: 1px solid #dfdfdf;\n\tmargin:20px;\n\t\n}\n\n\nselect {\n  color: #444;\n  background-color: #FFF;\n  border: 1px solid #AAA;\n  border-radius: 4px;\n  box-sizing: border-box;\n  cursor: pointer;\n  display: block;\n  height:40px;\n  line-height: 40px;\n}\n\n.historical_data_table  {\n    table-layout: fixed;\n\tmargin:20px;\n}\n\n.historical_data_table tbody tr td {\n\t\n\tpadding:6px;\n\tvertical-align: middle !important;\n\n}\n\n\n.descriptors {\n\t\n\ttext-align:center;\n\tfont-size:14px;\n\tpadding:15px;\n\t\n}\n\n.td_metric_name {\n\t\n\twidth:110px;\n\tpadding-top:17px;\n\t\n}\n\n.metric_link {\n\t\n\tfont-size:14px;\n\tfont-weight:bold;\n\n}\n\n.help_icon {\n\t\n\twidth:15px;\n\theight:18px; \n\tpadding-bottom:3px;\n\t\n}\n\n.td_min_value {\n\t\n\twidth:75px;\n\ttext-align:center;\n\tfont-size:13px;\n\t\n}\n\n.td_max_value {\n\t\n\twidth:75px;\n\ttext-align:center;\n\tfont-size:13px;\n\t\n}\n\n#myCombobox .form-control {\n\t\n\tbackground-color: #99d5ff;\n\n\t\n}\n\n.dropdown-toggle {\n\t\n\theight:24px;\n\tpadding-top:0px;\n\tpadding-left:7px;\n\twidth:24px;\n\t\n}\n\n.dropdown-menu-right {\n\t\n\tmin-width:75px;\n\tfont-size:13px;\n\t\n}\n\n.form-control {\n\t\n\tfont-size:12px;\t\n\tpadding:5px 10px;\n\theight:24px;\n\n\t\n}\n\n#myPills1 {\n\t\n\tmargin:0px 15px 10px 0px;\n\t\n}\n\n#jqxgrid {\n\t\n\tborder-radius:0px;\n\t\n}\n\n.jqx-widget-header {\n\t\n    font-family: 'Roboto', sans-serif;\n\tfont-size:13px;\t\n\t\n}\n\n.jqx-item {\n\t\n    font-family: 'Roboto', sans-serif;\n\tfont-size: 13px;\n\t\n}\n\n.jqx-widget-content {\n\t\n\tborder-color: #E0E0E0;\n\t\n}\n\n#jqxgrid .jqx-grid-cell {\n\t\n\tborder-color: #E0E0E0;\n\t\n}\n\n#jqxgrid .jqx-grid-cell-pinned {\n\t\n\tborder-color: #E0E0E0;\n\tbackground-color: #F5F5F5;\n\t\n}\n\n#jqxgrid .jqx-grid-column-header {\n\t\n\tborder-color: #E0E0E0;\n\tbackground-color: #F5F5F5;\n\t\n}\n\n.clear_zero {\n\n\theight:0px;\n\n}\n\n\n\n/* Styles for Popup Charts */\n\n.tpd-size-large {\n\t\n\tmargin:0px;\t\n\tpadding: 0px;\n}\n\n.popup_window_wrapper {\n\t\n\tmargin:15px;\n\t\n}\n\n.popup_stock_name {\n\n\tfont-size:16px;\n\tfont-weight:bold;\n\tmargin:5px;\n\n}\n\n.popup_stock_attributes {\n\n\tfont-size:13px;\n\tfont-weight:bold;\n\tmargin:5px;\n\n}\n\n.popup_stock_description {\n\n\tfont-size:12px;\n\tmargin:5px;\n\n}\n\n.jqx-input {\n\t\n\tfont-size:14px;\n\t\n} \n\n.jqx-menu-item {\n\t\n\tfont-size:14px;\n\t\n}\n\n.jqx-input {\n\t\n\tpadding:5px 10px;\n\t\n}\n\n.nav-tabs {\n    border: 1px solid #E0E0E0;\n\tbackground-color:#F5F5F5;\n\tpadding: 3px 5px 0px 5px;\n\tmargin: 0px 0px 10px 0px;\n}\n\n.nav-tabs>li>a {\n\tfont-size:13px;\n\tpadding:7px 12px;\n\tfont-weight:600;\n    margin-right: 0px;\n    line-height: 1.42857143;\n    border: 0px;\n    border-radius: 0px 0px 0 0;\n\tbackground-color:#F5F5F5;\n\n}\n\n.nav-tabs>li>a .active {\n    margin-right: 0px;\n    line-height: 1.42857143;\n    border: 1px solid #E0E0E0;\n    border-radius: 0px 0px 0 0;\n\tbackground-color:#F5F5F5;\n\n}\n\n.nav-tabs>li>a:hover { \n    background-color: #F5F5F5;\n\ttext-decoration: underline;\n\n}\n\n.donate_buttons {\n\n\tmargin-left:20px;\n\t\n\t}\n\n.modal-body {\n\n\tmargin:10px 40px 20px 40px;\n\ttext-align:left;\n\tfont-size:18px;\n\n}\n\n.modal-body li {\n\n\tmargin-top:20px;\n\tfont-size:14px;\n\n}\n\n\n.modal_title {\n\n\n\ttext-align:center;\n\tmargin-bottom:30px;\n\n}\n\n.modal-body th{\n\n\tmargin-left:10px;\n\tfont-size:14px;\n}\n\n.modal-body td {\n\n\tcolor: #337ab7;\n\tmargin-left:10px;\n\tfont-size:14px;\n}\n\n.modal_button {\n\n\tmargin-top:50px;\n\ttext-align:center;\n\tfont-size:16px;\n\n}\n           </style>\n          </link>\n         </link>\n        </link>\n       </link>\n      </meta>\n     </meta>\n    </meta>\n   </meta>\n  </meta>\n </head>\n <body class=\"fuelux\">\n  <!--[if lt IE 7]>\n            <p class=\"browsehappy\">You are using an <strong>outdated</strong> browser. Please <a href=\"https://browsehappy.com/\">upgrade your browser</a> to improve your experience.</p>\n        <![endif]-->\n  <div class=\"header_content_container container-fluid\">\n   <div class=\"header_parent_container\">\n    <div class=\"header_container\">\n     <div class=\"header_logo col-xs-2\">\n      <a class=\"logo\" href=\"https://www.macrotrends.net\" title=\"MacroTrends Home Page\">\n       <img src=\"/assets/images/logo_bright1.png\"/>\n      </a>\n     </div>\n     <div class=\"col-xs-1 pull-right\" style=\"padding-top:8px; margin-right:10px; margin-left:0px; padding-left:0px;\">\n     </div>\n     <div class=\"col-xs-5 pull-right\" style=\"padding-top:8px;\">\n      <form>\n       <div class=\"typeahead__container\">\n        <div class=\"typeahead__field\">\n         <span class=\"typeahead__query\">\n          <input autocomplete=\"off\" autofocus=\"\" class=\"js-typeahead\" name=\"q\" placeholder=\"Search over 200,000 charts...\" type=\"search\"/>\n         </span>\n         <span class=\"typeahead__button\">\n          <button type=\"submit\">\n           <span class=\"typeahead__search-icon\">\n           </span>\n          </button>\n         </span>\n        </div>\n       </div>\n      </form>\n     </div>\n    </div>\n   </div>\n   <div class=\"menu_parent_container\">\n    <div class=\"menu_container\">\n     <a href=\"/stocks/stock-screener\">\n      <div class=\"menu_item\">\n       Stock Screener\n      </div>\n     </a>\n     <a href=\"/stocks/research\">\n      <div class=\"menu_item\">\n       Stock Research\n      </div>\n     </a>\n     <a href=\"/charts/stock-indexes\">\n      <div class=\"menu_item\">\n       Market Indexes\n      </div>\n     </a>\n     <a href=\"/charts/precious-metals\">\n      <div class=\"menu_item\">\n       Precious Metals\n      </div>\n     </a>\n     <a href=\"/charts/energy\">\n      <div class=\"menu_item\">\n       Energy\n      </div>\n     </a>\n     <a href=\"/charts/commodities\">\n      <div class=\"menu_item\">\n       Commodities\n      </div>\n     </a>\n     <a href=\"/charts/exchange-rates\">\n      <div class=\"menu_item\">\n       Exchange Rates\n      </div>\n     </a>\n     <a href=\"/charts/interest-rates\">\n      <div class=\"menu_item\">\n       Interest Rates\n      </div>\n     </a>\n     <a href=\"/futures\">\n      <div class=\"menu_item\">\n       Futures\n      </div>\n     </a>\n     <a href=\"/charts/economy\">\n      <div class=\"menu_item\">\n       Economy\n      </div>\n     </a>\n     <a href=\"/countries/topic-overview\">\n      <div class=\"menu_item\">\n       Global Metrics\n      </div>\n     </a>\n    </div>\n   </div>\n  </div>\n  <div class=\"main_content_container container-fluid\" id=\"main_content_container\">\n   <div class=\"adx_top_ad col-xs-12\" id=\"ic_leaderboard\" style=\"margin: 20px 20px 30px 20px; min-height:265px; text-align:center;\">\n    <!--Smartad # 4058: Macrotrends - 970x250 Image - Placement 2-->\n    <iframe height=\"250\" id=\"dianomi_leaderboard\" scrolling=\"NO\" src=\"//www.dianomi.com/smartads.epl?id=4058\" style=\"height: 250px; border: none; overflow: hidden;\" width=\"970\">\n    </iframe>\n   </div>\n   <div style=\"margin:20px;\">\n    <h2 style=\"margin-left:0px; font-weight:600; color:#444;\">\n     GameStop Revenue 2006-2020 | GME\n    </h2>\n   </div>\n   <div class=\"sub_main_content_container\">\n    <div id=\"main_content\">\n     <div class=\"navigation_tabs\" style=\"margin-bottom:20px;\">\n      <ul class=\"nav nav-tabs\" id=\"myTabs\" style=\"font-size:15px;\">\n       <li>\n        <a href=\"https://www.macrotrends.net/stocks/charts/GME/gamestop/stock-price-history\">\n         Prices\n        </a>\n       </li>\n       <li>\n        <a href=\"https://www.macrotrends.net/stocks/charts/GME/gamestop/financial-statements\">\n         Financials\n        </a>\n       </li>\n       <li class=\"active\">\n        <a href=\"https://www.macrotrends.net/stocks/charts/GME/gamestop/revenue\">\n         Revenue &amp; Profit\n        </a>\n       </li>\n       <li>\n        <a href=\"https://www.macrotrends.net/stocks/charts/GME/gamestop/total-assets\">\n         Assets &amp; Liabilities\n        </a>\n       </li>\n       <li>\n        <a href=\"https://www.macrotrends.net/stocks/charts/GME/gamestop/profit-margins\">\n         Margins\n        </a>\n       </li>\n       <li>\n        <a href=\"https://www.macrotrends.net/stocks/charts/GME/gamestop/pe-ratio\">\n         Price Ratios\n        </a>\n       </li>\n       <li>\n        <a href=\"https://www.macrotrends.net/stocks/charts/GME/gamestop/current-ratio\">\n         Other Ratios\n        </a>\n       </li>\n       <li>\n        <a href=\"https://www.macrotrends.net/stocks/charts/GME/gamestop/dividend-yield-history\">\n         Other Metrics\n        </a>\n       </li>\n      </ul>\n      <ul class=\"nav nav-tabs\" id=\"myTabs\" style=\"font-size:15px;\">\n       <li class=\"active\">\n        <a href=\"https://www.macrotrends.net/stocks/charts/GME/gamestop/revenue\">\n         Revenue\n        </a>\n       </li>\n       <li>\n        <a href=\"https://www.macrotrends.net/stocks/charts/GME/gamestop/gross-profit\">\n         Gross Profit\n        </a>\n       </li>\n       <li>\n        <a href=\"https://www.macrotrends.net/stocks/charts/GME/gamestop/operating-income\">\n         Operating Income\n        </a>\n       </li>\n       <li>\n        <a href=\"https://www.macrotrends.net/stocks/charts/GME/gamestop/ebitda\">\n         EBITDA\n        </a>\n       </li>\n       <li>\n        <a href=\"https://www.macrotrends.net/stocks/charts/GME/gamestop/net-income\">\n         Net Income\n        </a>\n       </li>\n       <li>\n        <a href=\"https://www.macrotrends.net/stocks/charts/GME/gamestop/eps-earnings-per-share-diluted\">\n         EPS\n        </a>\n       </li>\n       <li>\n        <a href=\"https://www.macrotrends.net/stocks/charts/GME/gamestop/shares-outstanding\">\n         Shares Outstanding\n        </a>\n       </li>\n      </ul>\n     </div>\n     <div class=\"nav-tabs\" style=\"margin-bottom:20px; padding:15px; text-align:center; font-weight:600;\">\n      <span>\n       For a detailed definition, formula and example for\n       <a href=\"/formulas-definitions/revenue\">\n        Revenue\n       </a>\n       , check out our new background page\n       <a href=\"/formulas-definitions/revenue\">\n        here\n       </a>\n       .\n      </span>\n     </div>\n     <div style=\"background-color:#fff; margin: 0px 0px 20px 0px; padding:20px 30px; border:1px solid #dfdfdf;\">\n      <span style=\"color:#444; line-height: 1.8;\">\n       GameStop revenue from 2006 to 2020. Revenue can be defined as the amount of money a company receives from its customers in exchange for the sales of goods or services.  Revenue is the top line item on an income statement from which all costs and expenses are subtracted to arrive at net income.\n      </span>\n     </div>\n     <div style=\"background-color:#fff; margin: 30px 0px 30px 0px; text-align:center; min-height:90px;\">\n      <div id=\"ic_728_90\" style=\"margin:10px 20px;\">\n      </div>\n     </div>\n     <div class=\"ticker_search_box\" style=\"text-align:center;\">\n      <div style=\"width:400px; margin-left:20px; border-bottom:none;\">\n       <script type=\"text/javascript\">\n        $(document).ready(function () {\n\t\t\t\t                \n\t\t\t\t\tvar url = \"https://www.macrotrends.net/assets/php/ticker_search_list.php\";\n\t\t\t\t\n                // prepare the data\n                var source =\n                {\n                    datatype: \"json\",\n                    datafields: [\n                        { name: 'n' },\n\t\t\t\t\t\t{ name: 's'}\n                    ],\n                    url: url\n                };\n                var dataAdapter = new $.jqx.dataAdapter(source);\n                // Create a jqxInput\n                $(\"#jqxInput\").jqxInput({ source: dataAdapter, minLength: 1, placeHolder: \"Search for ticker or company name...\", items: 20, searchMode: 'containsignorecase', displayMember: \"n\", valueMember: \"s\", width: '100%', height: 22, theme: 'bootstrap'});\n                $(\"#jqxInput\").on('select', function (event) {\n                    if (event.args) {\n                        var item = event.args.item;\n\t\t\t\t\t\t\n\t\t\t\t\t\t//Have to split the ticker and slug back out since jqxinput only seems to allow one data value\n\t\t\t\t\t\tvar itemArray = item.value.split(\"\\/\"); \n\t\t\t\t\t\tvar ticker = itemArray[0];\n\t\t\t\t\t\tvar slug = itemArray[1];\n                        if (item) {\n\t\t\t\t\t\t\t\n\t\t\t\t\t\t\t\t\t\t\t\t\t\t\n\t\t\t\t\t\t\t\twindow.location = \"https://www.macrotrends.net/stocks/charts/\" + ticker + \"/\" + slug + \"/revenue\";\n\t\t\t\t\t\t\t\n\t\t\t\t\t\t\t                        }\n                    }\n                });\n            });\n       </script>\n       <input id=\"jqxInput\">\n       </input>\n      </div>\n      <div style=\"width:280px; margin-top: -32px; margin-left:80px; border-bottom:none; float:right;\">\n       <button class=\"chart_buttons btn btn-success btn-sm\" id=\"compareStocks\" style=\"margin-right:15px;\">\n        <span class=\"glyphicon glyphicon-stats\">\n        </span>\n        <strong>\n         Compare GME With Other Stocks\n        </strong>\n       </button>\n      </div>\n     </div>\n     <div style=\"height:690px; background-color:#fff; border:1px solid #dfdfdf;\">\n      <iframe frameborder=\"0\" height=\"680\" hspace=\"0\" id=\"chart_iframe\" margin=\"0px\" marginheight=\"0\" marginwidth=\"0\" scrolling=\"NO\" src=\"https://www.macrotrends.net/assets/php/fundamental_iframe.php?t=GME&amp;type=revenue&amp;statement=income-statement&amp;freq=Q\" title=\"Interactive chart: GameStop Revenue 2006-2020 | GME\" valign=\"middle\" vspace=\"0\" width=\"800\">\n      </iframe>\n     </div>\n     <div id=\"ic_video_ad\">\n     </div>\n     <div style=\"background-color:#fff; margin: 30px 0px; padding:10px 30px; border:1px solid #dfdfdf;\">\n      <iframe frameborder=\"0\" height=\"300\" hspace=\"0\" id=\"dianomi_below_chart\" marginheight=\"0\" marginwidth=\"0\" scrolling=\"NO\" src=\"//www.dianomi.com/smartads.epl?id=4057\" valign=\"middle\" vspace=\"0\" width=\"100%\">\n      </iframe>\n     </div>\n     <div id=\"style-1\" style=\"background-color:#fff; height:510px; overflow:auto; margin: 30px 0px 30px 0px; padding:0px 30px 20px 0px; border:1px solid #dfdfdf;\">\n      <div class=\"col-xs-6\">\n       <table class=\"historical_data_table table\">\n        <thead>\n         <tr>\n          <th colspan=\"2\" style=\"text-align:center\">\n           GameStop Annual Revenue\n           <br/>\n           <span style=\"font-size:14px;\">\n            (Millions of US $)\n           </span>\n          </th>\n         </tr>\n        </thead>\n        <tbody>\n         <tr>\n          <td style=\"text-align:center\">\n           2020\n          </td>\n          <td style=\"text-align:center\">\n           $6,466\n          </td>\n         </tr>\n         <tr>\n          <td style=\"text-align:center\">\n           2019\n          </td>\n          <td style=\"text-align:center\">\n           $8,285\n          </td>\n         </tr>\n         <tr>\n          <td style=\"text-align:center\">\n           2018\n          </td>\n          <td style=\"text-align:center\">\n           $8,547\n          </td>\n         </tr>\n         <tr>\n          <td style=\"text-align:center\">\n           2017\n          </td>\n          <td style=\"text-align:center\">\n           $7,965\n          </td>\n         </tr>\n         <tr>\n          <td style=\"text-align:center\">\n           2016\n          </td>\n          <td style=\"text-align:center\">\n           $9,364\n          </td>\n         </tr>\n         <tr>\n          <td style=\"text-align:center\">\n           2015\n          </td>\n          <td style=\"text-align:center\">\n           $9,296\n          </td>\n         </tr>\n         <tr>\n          <td style=\"text-align:center\">\n           2014\n          </td>\n          <td style=\"text-align:center\">\n           $9,040\n          </td>\n         </tr>\n         <tr>\n          <td style=\"text-align:center\">\n           2013\n          </td>\n          <td style=\"text-align:center\">\n           $8,887\n          </td>\n         </tr>\n         <tr>\n          <td style=\"text-align:center\">\n           2012\n          </td>\n          <td style=\"text-align:center\">\n           $9,551\n          </td>\n         </tr>\n         <tr>\n          <td style=\"text-align:center\">\n           2011\n          </td>\n          <td style=\"text-align:center\">\n           $9,474\n          </td>\n         </tr>\n         <tr>\n          <td style=\"text-align:center\">\n           2010\n          </td>\n          <td style=\"text-align:center\">\n           $9,078\n          </td>\n         </tr>\n         <tr>\n          <td style=\"text-align:center\">\n           2009\n          </td>\n          <td style=\"text-align:center\">\n           $8,806\n          </td>\n         </tr>\n         <tr>\n          <td style=\"text-align:center\">\n           2008\n          </td>\n          <td style=\"text-align:center\">\n           $7,094\n          </td>\n         </tr>\n         <tr>\n          <td style=\"text-align:center\">\n           2007\n          </td>\n          <td style=\"text-align:center\">\n           $5,319\n          </td>\n         </tr>\n         <tr>\n          <td style=\"text-align:center\">\n           2006\n          </td>\n          <td style=\"text-align:center\">\n           $3,092\n          </td>\n         </tr>\n         <tr>\n          <td style=\"text-align:center\">\n           2005\n          </td>\n          <td style=\"text-align:center\">\n           $1,843\n          </td>\n         </tr>\n        </tbody>\n       </table>\n      </div>\n      <div class=\"col-xs-6\">\n       <table class=\"historical_data_table table\">\n        <thead>\n         <tr>\n          <th colspan=\"2\" style=\"text-align:center\">\n           GameStop Quarterly Revenue\n           <br/>\n           <span style=\"font-size:14px;\">\n            (Millions of US $)\n           </span>\n          </th>\n         </tr>\n        </thead>\n        <tbody>\n         <tr>\n          <td style=\"text-align:center\">\n           2020-10-31\n          </td>\n          <td style=\"text-align:center\">\n           $1,005\n          </td>\n         </tr>\n         <tr>\n          <td style=\"text-align:center\">\n           2020-07-31\n          </td>\n          <td style=\"text-align:center\">\n           $942\n          </td>\n         </tr>\n         <tr>\n          <td style=\"text-align:center\">\n           2020-04-30\n          </td>\n          <td style=\"text-align:center\">\n           $1,021\n          </td>\n         </tr>\n         <tr>\n          <td style=\"text-align:center\">\n           2020-01-31\n          </td>\n          <td style=\"text-align:center\">\n           $2,194\n          </td>\n         </tr>\n         <tr>\n          <td style=\"text-align:center\">\n           2019-10-31\n          </td>\n          <td style=\"text-align:center\">\n           $1,439\n          </td>\n         </tr>\n         <tr>\n          <td style=\"text-align:center\">\n           2019-07-31\n          </td>\n          <td style=\"text-align:center\">\n           $1,286\n          </td>\n         </tr>\n         <tr>\n          <td style=\"text-align:center\">\n           2019-04-30\n          </td>\n          <td style=\"text-align:center\">\n           $1,548\n          </td>\n         </tr>\n         <tr>\n          <td style=\"text-align:center\">\n           2019-01-31\n          </td>\n          <td style=\"text-align:center\">\n           $3,063\n          </td>\n         </tr>\n         <tr>\n          <td style=\"text-align:center\">\n           2018-10-31\n          </td>\n          <td style=\"text-align:center\">\n           $1,935\n          </td>\n         </tr>\n         <tr>\n          <td style=\"text-align:center\">\n           2018-07-31\n          </td>\n          <td style=\"text-align:center\">\n           $1,501\n          </td>\n         </tr>\n         <tr>\n          <td style=\"text-align:center\">\n           2018-04-30\n          </td>\n          <td style=\"text-align:center\">\n           $1,786\n          </td>\n         </tr>\n         <tr>\n          <td style=\"text-align:center\">\n           2018-01-31\n          </td>\n          <td style=\"text-align:center\">\n           $2,825\n          </td>\n         </tr>\n         <tr>\n          <td style=\"text-align:center\">\n           2017-10-31\n          </td>\n          <td style=\"text-align:center\">\n           $1,989\n          </td>\n         </tr>\n         <tr>\n          <td style=\"text-align:center\">\n           2017-07-31\n          </td>\n          <td style=\"text-align:center\">\n           $1,688\n          </td>\n         </tr>\n         <tr>\n          <td style=\"text-align:center\">\n           2017-04-30\n          </td>\n          <td style=\"text-align:center\">\n           $2,046\n          </td>\n         </tr>\n         <tr>\n          <td style=\"text-align:center\">\n           2017-01-31\n          </td>\n          <td style=\"text-align:center\">\n           $2,403\n          </td>\n         </tr>\n         <tr>\n          <td style=\"text-align:center\">\n           2016-10-31\n          </td>\n          <td style=\"text-align:center\">\n           $1,959\n          </td>\n         </tr>\n         <tr>\n          <td style=\"text-align:center\">\n           2016-07-31\n          </td>\n          <td style=\"text-align:center\">\n           $1,632\n          </td>\n         </tr>\n         <tr>\n          <td style=\"text-align:center\">\n           2016-04-30\n          </td>\n          <td style=\"text-align:center\">\n           $1,972\n          </td>\n         </tr>\n         <tr>\n          <td style=\"text-align:center\">\n           2016-01-31\n          </td>\n          <td style=\"text-align:center\">\n           $3,525\n          </td>\n         </tr>\n         <tr>\n          <td style=\"text-align:center\">\n           2015-10-31\n          </td>\n          <td style=\"text-align:center\">\n           $2,016\n          </td>\n         </tr>\n         <tr>\n          <td style=\"text-align:center\">\n           2015-07-31\n          </td>\n          <td style=\"text-align:center\">\n           $1,762\n          </td>\n         </tr>\n         <tr>\n          <td style=\"text-align:center\">\n           2015-04-30\n          </td>\n          <td style=\"text-align:center\">\n           $2,061\n          </td>\n         </tr>\n         <tr>\n          <td style=\"text-align:center\">\n           2015-01-31\n          </td>\n          <td style=\"text-align:center\">\n           $3,476\n          </td>\n         </tr>\n         <tr>\n          <td style=\"text-align:center\">\n           2014-10-31\n          </td>\n          <td style=\"text-align:center\">\n           $2,092\n          </td>\n         </tr>\n         <tr>\n          <td style=\"text-align:center\">\n           2014-07-31\n          </td>\n          <td style=\"text-align:center\">\n           $1,731\n          </td>\n         </tr>\n         <tr>\n          <td style=\"text-align:center\">\n           2014-04-30\n          </td>\n          <td style=\"text-align:center\">\n           $1,996\n          </td>\n         </tr>\n         <tr>\n          <td style=\"text-align:center\">\n           2014-01-31\n          </td>\n          <td style=\"text-align:center\">\n           $3,684\n          </td>\n         </tr>\n         <tr>\n          <td style=\"text-align:center\">\n           2013-10-31\n          </td>\n          <td style=\"text-align:center\">\n           $2,107\n          </td>\n         </tr>\n         <tr>\n          <td style=\"text-align:center\">\n           2013-07-31\n          </td>\n          <td style=\"text-align:center\">\n           $1,384\n          </td>\n         </tr>\n         <tr>\n          <td style=\"text-align:center\">\n           2013-04-30\n          </td>\n          <td style=\"text-align:center\">\n           $1,865\n          </td>\n         </tr>\n         <tr>\n          <td style=\"text-align:center\">\n           2013-01-31\n          </td>\n          <td style=\"text-align:center\">\n           $3,562\n          </td>\n         </tr>\n         <tr>\n          <td style=\"text-align:center\">\n           2012-10-31\n          </td>\n          <td style=\"text-align:center\">\n           $1,773\n          </td>\n         </tr>\n         <tr>\n          <td style=\"text-align:center\">\n           2012-07-31\n          </td>\n          <td style=\"text-align:center\">\n           $1,550\n          </td>\n         </tr>\n         <tr>\n          <td style=\"text-align:center\">\n           2012-04-30\n          </td>\n          <td style=\"text-align:center\">\n           $2,002\n          </td>\n         </tr>\n         <tr>\n          <td style=\"text-align:center\">\n           2012-01-31\n          </td>\n          <td style=\"text-align:center\">\n           $3,579\n          </td>\n         </tr>\n         <tr>\n          <td style=\"text-align:center\">\n           2011-10-31\n          </td>\n          <td style=\"text-align:center\">\n           $1,947\n          </td>\n         </tr>\n         <tr>\n          <td style=\"text-align:center\">\n           2011-07-31\n          </td>\n          <td style=\"text-align:center\">\n           $1,744\n          </td>\n         </tr>\n         <tr>\n          <td style=\"text-align:center\">\n           2011-04-30\n          </td>\n          <td style=\"text-align:center\">\n           $2,281\n          </td>\n         </tr>\n         <tr>\n          <td style=\"text-align:center\">\n           2011-01-31\n          </td>\n          <td style=\"text-align:center\">\n           $3,693\n          </td>\n         </tr>\n         <tr>\n          <td style=\"text-align:center\">\n           2010-10-31\n          </td>\n          <td style=\"text-align:center\">\n           $1,899\n          </td>\n         </tr>\n         <tr>\n          <td style=\"text-align:center\">\n           2010-07-31\n          </td>\n          <td style=\"text-align:center\">\n           $1,799\n          </td>\n         </tr>\n         <tr>\n          <td style=\"text-align:center\">\n           2010-04-30\n          </td>\n          <td style=\"text-align:center\">\n           $2,083\n          </td>\n         </tr>\n         <tr>\n          <td style=\"text-align:center\">\n           2010-01-31\n          </td>\n          <td style=\"text-align:center\">\n           $3,524\n          </td>\n         </tr>\n         <tr>\n          <td style=\"text-align:center\">\n           2009-10-31\n          </td>\n          <td style=\"text-align:center\">\n           $1,835\n          </td>\n         </tr>\n         <tr>\n          <td style=\"text-align:center\">\n           2009-07-31\n          </td>\n          <td style=\"text-align:center\">\n           $1,739\n          </td>\n         </tr>\n         <tr>\n          <td style=\"text-align:center\">\n           2009-04-30\n          </td>\n          <td style=\"text-align:center\">\n           $1,981\n          </td>\n         </tr>\n         <tr>\n          <td style=\"text-align:center\">\n           2009-01-31\n          </td>\n          <td style=\"text-align:center\">\n           $3,492\n          </td>\n         </tr>\n         <tr>\n          <td style=\"text-align:center\">\n           2008-10-31\n          </td>\n          <td style=\"text-align:center\">\n           $1,696\n          </td>\n         </tr>\n         <tr>\n          <td style=\"text-align:center\">\n           2008-07-31\n          </td>\n          <td style=\"text-align:center\">\n           $1,804\n          </td>\n         </tr>\n         <tr>\n          <td style=\"text-align:center\">\n           2008-04-30\n          </td>\n          <td style=\"text-align:center\">\n           $1,814\n          </td>\n         </tr>\n         <tr>\n          <td style=\"text-align:center\">\n           2008-01-31\n          </td>\n          <td style=\"text-align:center\">\n           $2,866\n          </td>\n         </tr>\n         <tr>\n          <td style=\"text-align:center\">\n           2007-10-31\n          </td>\n          <td style=\"text-align:center\">\n           $1,611\n          </td>\n         </tr>\n         <tr>\n          <td style=\"text-align:center\">\n           2007-07-31\n          </td>\n          <td style=\"text-align:center\">\n           $1,338\n          </td>\n         </tr>\n         <tr>\n          <td style=\"text-align:center\">\n           2007-04-30\n          </td>\n          <td style=\"text-align:center\">\n           $1,279\n          </td>\n         </tr>\n         <tr>\n          <td style=\"text-align:center\">\n           2007-01-31\n          </td>\n          <td style=\"text-align:center\">\n           $2,304\n          </td>\n         </tr>\n         <tr>\n          <td style=\"text-align:center\">\n           2006-10-31\n          </td>\n          <td style=\"text-align:center\">\n           $1,012\n          </td>\n         </tr>\n         <tr>\n          <td style=\"text-align:center\">\n           2006-07-31\n          </td>\n          <td style=\"text-align:center\">\n           $963\n          </td>\n         </tr>\n         <tr>\n          <td style=\"text-align:center\">\n           2006-04-30\n          </td>\n          <td style=\"text-align:center\">\n           $1,040\n          </td>\n         </tr>\n         <tr>\n          <td style=\"text-align:center\">\n           2006-01-31\n          </td>\n          <td style=\"text-align:center\">\n           $1,667\n          </td>\n         </tr>\n         <tr>\n          <td style=\"text-align:center\">\n           2005-10-31\n          </td>\n          <td style=\"text-align:center\">\n           $534\n          </td>\n         </tr>\n         <tr>\n          <td style=\"text-align:center\">\n           2005-07-31\n          </td>\n          <td style=\"text-align:center\">\n           $416\n          </td>\n         </tr>\n         <tr>\n          <td style=\"text-align:center\">\n           2005-04-30\n          </td>\n          <td style=\"text-align:center\">\n           $475\n          </td>\n         </tr>\n         <tr>\n          <td style=\"text-align:center\">\n           2005-01-31\n          </td>\n          <td style=\"text-align:center\">\n           $709\n          </td>\n         </tr>\n        </tbody>\n       </table>\n      </div>\n     </div>\n     <div style=\"background-color:#fff; margin: 0px 0px 20px 0px; padding:5px 50px 5px 10px; border:1px solid #dfdfdf;\">\n      <table class=\"historical_data_table table\">\n       <thead>\n        <tr>\n         <th style=\"text-align:center\">\n          Sector\n         </th>\n         <th style=\"text-align:center\">\n          Industry\n         </th>\n         <th style=\"text-align:center\">\n          Market Cap\n         </th>\n         <th style=\"text-align:center\">\n          Revenue\n         </th>\n        </tr>\n       </thead>\n       <tbody>\n        <tr>\n         <td style=\"text-align:center\">\n          <a href=\"https://www.macrotrends.net/stocks/sector/3/retail-wholesale\">\n           Retail/Wholesale\n          </a>\n         </td>\n         <td style=\"text-align:center\">\n          <a href=\"https://www.macrotrends.net/stocks/industry/156/\">\n           Retail - Consumer Electronics\n          </a>\n         </td>\n         <td style=\"text-align:center\">\n          $2.831B\n         </td>\n         <td style=\"text-align:center\">\n          $6.466B\n         </td>\n        </tr>\n        <tr>\n         <td colspan=\"4\" style=\"padding:15px;\">\n          <span>\n           GameStop Corp. is the world's largest video game and entertainment software retailer. The company operates 4,816 retail stores across the United States and in fifteen countries worldwide. The company also operates two e-commerce sites, GameStop.com and EBgames.com, and publishes Game Informer? magazine, a leading multi-platform video game publication. GameStop Corp. sells new and used video game software, hardware and accessories for next generation video game systems from Sony, Nintendo, and Microsoft. In addition, the company sells PC entertainment software, related accessories and other merchandise.\n          </span>\n         </td>\n        </tr>\n       </tbody>\n      </table>\n     </div>\n     <div style=\"background-color:#fff; margin: 20px 0px 30px 0px; padding:5px 50px 5px 10px; border:1px solid #dfdfdf;\">\n      <table class=\"historical_data_table table\">\n       <thead>\n        <tr>\n         <th style=\"text-align:center; width:40%;\">\n          Stock Name\n         </th>\n         <th style=\"text-align:center; width:20%;\">\n          Country\n         </th>\n         <th style=\"text-align:center; width:20%;\">\n          Market Cap\n         </th>\n         <th style=\"text-align:center; width:20%;\">\n          PE Ratio\n         </th>\n        </tr>\n       </thead>\n       <tbody>\n        <tr>\n         <td style=\"text-align:left\">\n          <a href=\"/stocks/charts/BBY/best-buy/revenue\">\n           Best Buy (BBY)\n          </a>\n         </td>\n         <td style=\"text-align:center\">\n          United States\n         </td>\n         <td style=\"text-align:center\">\n          $30.555B\n         </td>\n         <td style=\"text-align:center\">\n          16.08\n         </td>\n        </tr>\n        <tr>\n         <td style=\"text-align:left\">\n          <a href=\"/stocks/charts/GMELY/gome-retail-holdings/revenue\">\n           GOME Retail Holdings (GMELY)\n          </a>\n         </td>\n         <td style=\"text-align:center\">\n          China\n         </td>\n         <td style=\"text-align:center\">\n          $4.479B\n         </td>\n         <td style=\"text-align:center\">\n          0.00\n         </td>\n        </tr>\n        <tr>\n         <td style=\"text-align:left\">\n          <a href=\"/stocks/charts/CONN/conns/revenue\">\n           Conn's (CONN)\n          </a>\n         </td>\n         <td style=\"text-align:center\">\n          United States\n         </td>\n         <td style=\"text-align:center\">\n          $0.426B\n         </td>\n         <td style=\"text-align:center\">\n          0.00\n         </td>\n        </tr>\n        <tr>\n         <td style=\"text-align:left\">\n          <a href=\"/stocks/charts/TAIT/taitron-components/revenue\">\n           Taitron Components (TAIT)\n          </a>\n         </td>\n         <td style=\"text-align:center\">\n          United States\n         </td>\n         <td style=\"text-align:center\">\n          $0.026B\n         </td>\n         <td style=\"text-align:center\">\n          0.00\n         </td>\n        </tr>\n       </tbody>\n      </table>\n     </div>\n    </div>\n    <div \"=\"\" id=\"right_sidebar\">\n     <!--<a href=\"/stocks/stock-screener\" style=\"text-decoration:none; color: #fff; \">\n\t\t\t\t\t<div style=\"margin:0px; padding: 20px; width:300px; background-color: #01579b; min-height:150px; text-align:center;\">\n\n\t\t\t\t\t\t<h2 style=\"font-weight:600;\">Try our new<br />stock screener!</h2></a>\n\n\t\t\t\t\t</div>\n\t\t\t\t</a>-->\n     <!--<div style=\"margin-top:0px; min-height:250px;\">\n\n\t\t\t\t\t<script src='//ads.investingchannel.com/adtags/Macrotrends/fundamentalanalysis/300x600.js?zhpos=300_2&multi_size=false' type='text/javascript' charset='utf-8'></script>\n\n\t\t\t\t</div>-->\n     <div style=\"margin-top:0px; min-height:250px;\">\n      <div id=\"ic_300_250\">\n      </div>\n     </div>\n     <div id=\"sticky_ad_right\">\n      <div style=\"margin-top:30px; min-height:250px;\">\n       <div id=\"ic_300_600\">\n       </div>\n      </div>\n     </div>\n    </div>\n   </div>\n  </div>\n  <footer class=\"footer\">\n   <span>\n    © 2010-2021 Macrotrends LLC\n   </span>\n   |\n   <a href=\"/terms\">\n    Terms of Service\n   </a>\n   |\n   <a href=\"/privacy\">\n    Privacy Policy\n   </a>\n   |\n   <a href=\"mailto:%69n%66o@%6Dac%72otrends%2En%65t\">\n    Contact Us\n   </a>\n   |\n   <a href=\"/ccpa\">\n    Do Not Sell My Personal Information\n   </a>\n   <br/>\n   <span>\n    Fundamental data from\n   </span>\n   <a href=\"https://www.zacksdata.com\" rel=\"nofollow\" target=\"_blank\">\n    Zacks Investment Research, Inc.\n   </a>\n  </footer>\n  <div aria-hidden=\"true\" aria-labelledby=\"exampleModalLabel\" class=\"modal\" id=\"smallWidthModal1\" role=\"dialog\" tabindex=\"-1\">\n   <div class=\"modal-dialog modal-lg\">\n    <div class=\"modal-content\">\n     <div class=\"modal-body\">\n      <div class=\"modal_title\">\n       <h2>\n        <strong>\n         We Need Your Support!\n        </strong>\n       </h2>\n      </div>\n      <p>\n       Backlinks from other websites are the lifeblood of our site and a primary source of new traffic.\n       <p>\n        <p>\n         If you use our chart images on your site or blog, we ask that you provide attribution via a \"dofollow\" link back to this page.  We have provided a few examples below that you can copy and paste to your site:\n        </p>\n        <br/>\n        <table class=\"table\">\n         <thead>\n          <tr>\n           <th>\n            Link Preview\n           </th>\n           <th>\n            HTML Code (Click to Copy)\n           </th>\n          </tr>\n         </thead>\n         <tbody>\n          <tr>\n           <td>\n            <a>\n             GameStop Revenue 2006-2020 | GME\n            </a>\n           </td>\n           <td>\n            <input class=\"modal_link\" size=\"60\" type=\"text\" value=\"&lt;a href='https://www.macrotrends.net/stocks/charts/GME/gamestop/revenue'&gt;GameStop Revenue 2006-2020 | GME&lt;/a&gt;\"/>\n           </td>\n          </tr>\n          <tr>\n           <td>\n            <a>\n             Macrotrends\n            </a>\n           </td>\n           <td>\n            <input class=\"modal_link\" size=\"60\" type=\"text\" value=\"&lt;a href='https://www.macrotrends.net/stocks/charts/GME/gamestop/revenue'&gt;Macrotrends&lt;/a&gt;\"/>\n           </td>\n          </tr>\n          <tr>\n           <td>\n            <a>\n             Source\n            </a>\n           </td>\n           <td>\n            <input class=\"modal_link\" size=\"60\" type=\"text\" value=\"&lt;a href='https://www.macrotrends.net/stocks/charts/GME/gamestop/revenue'&gt;Source&lt;/a&gt;\"/>\n           </td>\n          </tr>\n         </tbody>\n        </table>\n        <br/>\n        <p style=\"text-align:center\">\n         Your image export is now complete.  Please check your download folder.\n        </p>\n       </p>\n      </p>\n     </div>\n     <div class=\"modal-footer\">\n      <button class=\"btn btn-primary\" data-dismiss=\"modal\" type=\"button\">\n       Close Window\n      </button>\n     </div>\n    </div>\n   </div>\n  </div>\n  <div aria-hidden=\"true\" aria-labelledby=\"exampleModalLabel\" class=\"modal\" id=\"smallWidthModal2\" role=\"dialog\" tabindex=\"-1\">\n   <div class=\"modal-dialog modal-lg\">\n    <div class=\"modal-content\">\n     <div class=\"modal-body\">\n      <div class=\"modal_title\">\n       <h2>\n        <strong>\n         We Need Your Support!\n        </strong>\n       </h2>\n      </div>\n      <p>\n       Backlinks from other websites are the lifeblood of our site and a primary source of new traffic.\n       <p>\n        <p>\n         If you use our datasets on your site or blog, we ask that you provide attribution via a \"dofollow\" link back to this page.  We have provided a few examples below that you can copy and paste to your site:\n        </p>\n        <br/>\n        <table class=\"table\">\n         <thead>\n          <tr>\n           <th>\n            Link Preview\n           </th>\n           <th>\n            HTML Code (Click to Copy)\n           </th>\n          </tr>\n         </thead>\n         <tbody>\n          <tr>\n           <td>\n            <a>\n             GameStop Revenue 2006-2020 | GME\n            </a>\n           </td>\n           <td>\n            <input class=\"modal_link\" size=\"50\" type=\"text\" value=\"&lt;a href='https://www.macrotrends.net/stocks/charts/GME/gamestop/revenue'&gt;GameStop Revenue 2006-2020 | GME&lt;/a&gt;\"/>\n           </td>\n          </tr>\n          <tr>\n           <td>\n            <a>\n             Macrotrends\n            </a>\n           </td>\n           <td>\n            <input class=\"modal_link\" size=\"50\" type=\"text\" value=\"&lt;a href='https://www.macrotrends.net/stocks/charts/GME/gamestop/revenue'&gt;Macrotrends&lt;/a&gt;\"/>\n           </td>\n          </tr>\n          <tr>\n           <td>\n            <a>\n             Source\n            </a>\n           </td>\n           <td>\n            <input class=\"modal_link\" size=\"50\" type=\"text\" value=\"&lt;a href='https://www.macrotrends.net/stocks/charts/GME/gamestop/revenue'&gt;Source&lt;/a&gt;\"/>\n           </td>\n          </tr>\n         </tbody>\n        </table>\n        <br/>\n        <p style=\"text-align:center\">\n         Your data export is now complete.  Please check your download folder.\n        </p>\n       </p>\n      </p>\n     </div>\n     <div class=\"modal-footer\">\n      <button class=\"btn btn-primary\" data-dismiss=\"modal\" type=\"button\">\n       Close Window\n      </button>\n     </div>\n    </div>\n   </div>\n  </div>\n  <script type=\"text/javascript\">\n   $.typeahead({\n\t\tinput: '.js-typeahead',\n\t\tminLength: 1,\n\t\tfilter: false,  //Disables typahead filter to just show everything in the results from the database\n\t\tdebug: false,\n\t\thighlight: true,\n\t\tmaxItem: 10,\n\t\tdynamic: true,\n\t\tdelay: 200,\n\t\tsearchOnFocus: true,\n\t\tbackdrop: {\n\t\t\t\"background-color\": \"#fff\"\n\t\t},\n\t\thref: \"{{url}}\",\n\t\temptyTemplate: \"no result for {{query}}\",\n\t\tdisplay: [\"name\"],\n\t\tsource: {\n\t\t\tusers: {\n\t\t\t\tajax: {\n\t\t\t\t\turl: '/assets/php/all_pages_query.php',\n\t\t\t\t\tdata: {\n\t\t\t\t\t\tq: '{{query}}'\n\t\t\t\t\t}\n\t\t\t\t}\n\t\t\t}\n\t\t}\n\t});\n  </script>\n  <script>\n   if (screen.width >= 1280) {\n\t\n\t$( \"#ic_video_ad\" ).append( \"<div id=\\\"IC_D_3x6\\\" style=\\\"margin:30px;\\\"></div>\" );\n\n\t\t\t\t\n}\n\n\t// /*! js-cookie v3.0.0-rc.1 | MIT */\n\t// !function(e,t){\"object\"==typeof exports&&\"undefined\"!=typeof module?module.exports=t():\"function\"==typeof define&&define.amd?define(t):(e=e||self,function(){var n=e.Cookies,r=e.Cookies=t();r.noConflict=function(){return e.Cookies=n,r}}())}(this,function(){\"use strict\";function e(e){for(var t=1;t<arguments.length;t++){var n=arguments[t];for(var r in n)e[r]=n[r]}return e}var t={read:function(e){return e.replace(/(%[\\dA-F]{2})+/gi,decodeURIComponent)},write:function(e){return encodeURIComponent(e).replace(/%(2[346BF]|3[AC-F]|40|5[BDE]|60|7[BCD])/g,decodeURIComponent)}};return function n(r,o){function i(t,n,i){if(\"undefined\"!=typeof document){\"number\"==typeof(i=e({},o,i)).expires&&(i.expires=new Date(Date.now()+864e5*i.expires)),i.expires&&(i.expires=i.expires.toUTCString()),t=encodeURIComponent(t).replace(/%(2[346B]|5E|60|7C)/g,decodeURIComponent).replace(/[()]/g,escape),n=r.write(n,t);var c=\"\";for(var u in i)i[u]&&(c+=\"; \"+u,!0!==i[u]&&(c+=\"=\"+i[u].split(\";\")[0]));return document.cookie=t+\"=\"+n+c}}return Object.create({set:i,get:function(e){if(\"undefined\"!=typeof document&&(!arguments.length||e)){for(var n=document.cookie?document.cookie.split(\"; \"):[],o={},i=0;i<n.length;i++){var c=n[i].split(\"=\"),u=c.slice(1).join(\"=\");'\"'===u[0]&&(u=u.slice(1,-1));try{var f=t.read(c[0]);if(o[f]=r.read(u,f),e===f)break}catch(e){}}return e?o[e]:o}},remove:function(t,n){i(t,\"\",e({},n,{expires:-1}))},withAttributes:function(t){return n(this.converter,e({},this.attributes,t))},withConverter:function(t){return n(e({},this.converter,t),this.attributes)}},{attributes:{value:Object.freeze(o)},converter:{value:Object.freeze(r)}})}(t,{path:\"/\"})});\n\n\t\t\t\n\t// // Cookie Settings\n\t// var maxCookieValue = 4, initCookie = 1, expirationDays = 1;\n\t// var cookieName = \"session_pageviews\";\n\t// var getCookie = Cookies.get(cookieName);\n\n\t// // Under the Hood\n\t// if (getCookie == null) {\n\t\t// Cookies.set(cookieName, initCookie, { expires: expirationDays });\n\t\t// console.log('Cookie set to value 1');\n\t\t// $( \"#ic_video_ad\" ).append( \"<div id=\\\"IC_D_3x6\\\" style=\\\"margin:30px;\\\"></div>\" );\n\t// } else {\n\t\t// if (getCookie >= initCookie && getCookie < maxCookieValue) {\n\t\t\t// getCookie++;\n\t\t\t// Cookies.set(cookieName, getCookie, { expires: expirationDays });\n\t\t\t// console.log('Cookie incremented. New value is ' + getCookie);\n\t\t\t// $( \"#ic_video_ad\" ).append( \"<div id=\\\"IC_D_3x6\\\" style=\\\"margin:30px;\\\"></div>\" );\n\t\t// }\n\t\t// else if (getCookie >= maxCookieValue && getCookie < 7) {\n\t\t\t// getCookie++;\n\t\t\t// Cookies.set(cookieName, getCookie, { expires: expirationDays });\n\t\t\t// console.log('Cookie max allowed value reached. No video ads showing. New value is ' + getCookie);\n\t\t\t// //Cookies.remove(cookieName);\n\t\t\t// // if cookie is equal with the number you've set, then do something\n\t\t\t// // hide an element, delete the cookie etc...\n\t\t// }\n\t\t// else if (getCookie >= 7) {\n\t\t\t// Cookies.remove(cookieName);\n\t\t\t// // if cookie is equal with the number you've set, then do something\n\t\t\t// // hide an element, delete the cookie etc...\n\t\t// }\t\n\t// }\n  </script>\n  <script>\n   $(document).ready(function() {\n\t\n\t// Selects all of the text in the chart export window when clicked\n\t$(\".modal_link\").focus(function() {\n\t\tvar $this = $(this);\n\t\t$this.select();\n\n\t\t// Work around Chrome's little problem\n\t\t$this.mouseup(function() {\n\t\t\t// Prevent further mouseup intervention\n\t\t\t$this.unbind(\"mouseup\");\n\t\t\treturn false;\n\t\t});\n\t});\t\n\t\n\t\n\t$('[data-toggle=\"tooltip\"]').tooltip();\n\t\n    $('.statement_type_select').select2({\n\t\n\ttheme: \"classic\",\n\tminimumResultsForSearch: 20\n\t\n\t});\n\n    $('.frequency_select').select2({\n\t\n\ttheme: \"classic\",\n\tminimumResultsForSearch: 20\n\t\n\t});\n\t\n\t\n});\n\n$( \"#compareStocks\" ).click(function() {\n\t\n\t\n\twindow.location.href = '/stocks/stock-comparison?s=revenue&axis=single&comp=GME';\n\t\n\t\n});\n\n$( \"#chartExport\" ).click(function() {\n\t\n\t\twindow.$('#smallWidthModal1').modal();\n\n\t\t//Turn off scroll bar for image export\n\t\tchart.chartScrollbarSettings.enabled = false;\n\t\tchart.validateNow(); \n\t\t\n\t\t\n\t\tchart.export.capture({},function() {\n\t\t\tthis.toPNG({},function(data) {\n\t\t\t\t// Download the image to the browser\n\t\t\t\tthis.download( data, \"image/png\", \"GME-revenue-2021-02-22-macrotrends.png\" );\n\t\t\t\t\n\t\t\t\t});\n\n\t\t//Turn scroll bar back on again\n\t\tchart.chartScrollbarSettings.enabled = true;\n\t\tchart.validateNow(); \n\t\t\t\t\n\t});\n\n});\n\n$( \".statement_type_select\" ).change(function() {\n  \n  window.location.href = 'https://testing.macrotrends.net/assets/php/income_statement_testing.php?t=TAIT&type=' + this.value + '&freq=Q';\n\n});\n\n$( \".frequency_select\" ).change(function() {\n  \n  window.location.href = '/assets/php/new_chart_page.php?t=TAIT&type=revenue&freq=' + this.value;\n\n});\n  </script>\n  <!--<div class=\"modal\" id=\"contribute_modal\" tabindex=\"-1\" role=\"dialog\" aria-labelledby=\"exampleModalLabel\" aria-hidden=\"false\">\n  <div class=\"modal-dialog modal-lg\">\n    <div class=\"modal-content\">\n      <div class=\"modal-body\" style=\"margin:20px 40px 20px 40px; text-align:left;font-size:18px;\">\n\t  \t  \n\n\n<div class=\"row\">\n\n<div class=\"col-xs-6\">\n\n<script src=\"https://donorbox.org/widget.js\" paypalExpress=\"true\"></script><iframe src=\"https://donorbox.org/embed/macrotrends-donations?hide_donation_meter=true\" height=\"685px\" width=\"100%\" style=\"max-width:500px; min-width:310px; max-height:none!important\" seamless=\"seamless\" name=\"donorbox\" frameborder=\"0\" scrolling=\"no\" allowpaymentrequest></iframe>\n\n</div>\n\n<div class=\"col-xs-6\">\n\n\t\t<div class=\"modal_title\"><h1><strong>We Need Your Support!</strong></h1></div>\n\n\t\t<p><strong>Macrotrends has been subscription-free since 2010 and we want to keep it that way.</strong></p>\n\n<p>Our goal has always been to serve as an easily accessible, high quality source of investment research for both professionals and amateurs alike.</p>\n\n<p>Any amount that you can contribute will help ensure we can keep the site completely free for many years to come.</p>\n\n<p style=\"margin-top:20px;\">Regards,</p>\n<p>The Macrotrends Team</p>\n\n</div>\n\n</div>\n\n</div>\n\n      <div class=\"modal-footer\" style=\"text-align:center;\">\n        <button type=\"button\" class=\"btn btn-success\" data-dismiss=\"modal\">Maybe Next Time...</button>\n      </div>\n    </div>\n  </div>\n</div>\t\n\n\n<script src=\"/ads.js\" type=\"text/javascript\"></script>\n\n<script>\n\n$(document).ready(function() {\n\t\n\tvar botPattern = \"(googlebot\\/|Googlebot-Mobile|Googlebot-Image|Google favicon|Mediapartners-Google|bingbot|slurp|java|wget|curl|Commons-HttpClient|Python-urllib|libwww|httpunit|nutch|phpcrawl|msnbot|jyxobot|FAST-WebCrawler|FAST Enterprise Crawler|biglotron|teoma|convera|seekbot|gigablast|exabot|ngbot|ia_archiver|GingerCrawler|webmon |httrack|webcrawler|grub.org|UsineNouvelleCrawler|antibot|netresearchserver|speedy|fluffy|bibnum.bnf|findlink|msrbot|panscient|yacybot|AISearchBot|IOI|ips-agent|tagoobot|MJ12bot|dotbot|woriobot|yanga|buzzbot|mlbot|yandexbot|purebot|Linguee Bot|Voyager|CyberPatrol|voilabot|baiduspider|citeseerxbot|spbot|twengabot|postrank|turnitinbot|scribdbot|page2rss|sitebot|linkdex|Adidxbot|blekkobot|ezooms|dotbot|Mail.RU_Bot|discobot|heritrix|findthatfile|europarchive.org|NerdByNature.Bot|sistrix crawler|ahrefsbot|Aboundex|domaincrawler|wbsearchbot|summify|ccbot|edisterbot|seznambot|ec2linkfinder|gslfbot|aihitbot|intelium_bot|facebookexternalhit|yeti|RetrevoPageAnalyzer|lb-spider|sogou|lssbot|careerbot|wotbox|wocbot|ichiro|DuckDuckBot|lssrocketcrawler|drupact|webcompanycrawler|acoonbot|openindexspider|gnam gnam spider|web-archive-net.com.bot|backlinkcrawler|coccoc|integromedb|content crawler spider|toplistbot|seokicks-robot|it2media-domain-crawler|ip-web-crawler.com|siteexplorer.info|elisabot|proximic|changedetection|blexbot|arabot|WeSEE:Search|niki-bot|CrystalSemanticsBot|rogerbot|360Spider|psbot|InterfaxScanBot|Lipperhey SEO Service|CC Metadata Scaper|g00g1e.net|GrapeshotCrawler|urlappendbot|brainobot|fr-crawler|binlar|SimpleCrawler|Livelapbot|Twitterbot|cXensebot|smtbot|bnf.fr_bot|A6-Indexer|ADmantX|Facebot|Twitterbot|OrangeBot|memorybot|AdvBot|MegaIndex|SemanticScholarBot|ltx71|nerdybot|xovibot|BUbiNG|Qwantify|archive.org_bot|Applebot|TweetmemeBot|crawler4j|findxbot|SemrushBot|yoozBot|lipperhey|y!j-asr|Domain Re-Animator Bot|AddThis)\";\n\n\tvar re = new RegExp(botPattern, 'i');\n\n\tif (re.test(navigator.userAgent)) {\n\t\t\n\t} else {\n\t\t\n\t\t//Check to see whether they are running an ad blocker\n\t\tif(document.getElementById('12mORwMnaEkJXlxz')){\n\t\t  var ad_blocker = 'N';\n\t\t} else {\n\t\t  var ad_blocker = 'Y';\n\t\t}\n\n\t\t$.post('https://api.ipstack.com/check?access_key=14fe63e83d5cfefa0b3d4cec498479ba&output=json&fields=ip,continent_name,country_name,region_name,city', \n\t\tfunction(ip_data){\n\t\t\t\n\t\t\t$.post('https://www.macrotrends.net/assets/php/page_view_tracking.php', {ip: ip_data.ip,continent: ip_data.continent_name, country: ip_data.country_name, state: ip_data.region_name, city: ip_data.city, screen_width: screen.width, ads: ad_blocker, page_type: 'stock'}, \n\t\t\t\tfunction(data){\n\t\t\t\t\t/*\t\t\t\t\t\n\t\t\t\t\tif(data % 20 === 0) {\n\t\t\t\t\t\t\n\t\t\t\t\t\t//$('#contribute_modal').modal();\n\t\t\t\t\t\t\n\t\t\t\t\t}\n\t\t\t\t\t*/\n\t\t\t\t});\n\t\t\n\t\t});\n\n\n\t}\n\t\n\n});\n\n\n$.post('https://api.ipstack.com/check?access_key=14fe63e83d5cfefa0b3d4cec498479ba&output=json&fields=ip,continent_name,country_name,region_name,city', \nfunction(ip_data){\n\t\n\t$(\".contribute_user_id\").val(ip_data.ip);\n\t\n});\n\n$( \".donate_buttons\" ).click(function() {\n  \n\tvar payment = $(this).attr(\"value\");\n\n\t$.post('https://api.ipstack.com/check?access_key=14fe63e83d5cfefa0b3d4cec498479ba&output=json&fields=ip,continent_name,country_name,region_name,city', \n\t\tfunction(ip_data){\n\t\t\t\t\t\n\t\t$.post('https://www.macrotrends.net/assets/php/page_view_tracking.php', {ip: ip_data.ip, paid: payment}); \n\t\n\t});\n\t\t \n});\n\n</script>\n\n-->\n  <script type=\"text/javascript\">\n   var clicky_site_ids = clicky_site_ids || [];\nclicky_site_ids.push(100827248);\n(function() {\n  var s = document.createElement('script');\n  s.type = 'text/javascript';\n  s.async = true;\n  s.src = '//static.getclicky.com/js';\n  ( document.getElementsByTagName('head')[0] || document.getElementsByTagName('body')[0] ).appendChild( s );\n})();\n  </script>\n  <noscript>\n   <p>\n    <img alt=\"Clicky\" height=\"1\" src=\"//in.getclicky.com/100827248ns.gif\" width=\"1\"/>\n   </p>\n  </noscript>\n </body>\n</html>\n\n"
     ]
    }
   ],
   "source": [
    "soup_1 = BeautifulSoup(html_data_1.text, 'html.parser')\n",
    "print(soup_1.prettify())"
   ]
  },
  {
   "cell_type": "code",
   "execution_count": 37,
   "metadata": {},
   "outputs": [
    {
     "output_type": "execute_result",
     "data": {
      "text/plain": [
       "<table class=\"historical_data_table table\">\n",
       "<thead>\n",
       "<tr>\n",
       "<th colspan=\"2\" style=\"text-align:center\">GameStop Annual Revenue<br/><span style=\"font-size:14px;\">(Millions of US $)</span></th>\n",
       "</tr>\n",
       "</thead>\n",
       "<tbody>\n",
       "<tr>\n",
       "<td style=\"text-align:center\">2020</td>\n",
       "<td style=\"text-align:center\">$6,466</td>\n",
       "</tr>\n",
       "<tr>\n",
       "<td style=\"text-align:center\">2019</td>\n",
       "<td style=\"text-align:center\">$8,285</td>\n",
       "</tr>\n",
       "<tr>\n",
       "<td style=\"text-align:center\">2018</td>\n",
       "<td style=\"text-align:center\">$8,547</td>\n",
       "</tr>\n",
       "<tr>\n",
       "<td style=\"text-align:center\">2017</td>\n",
       "<td style=\"text-align:center\">$7,965</td>\n",
       "</tr>\n",
       "<tr>\n",
       "<td style=\"text-align:center\">2016</td>\n",
       "<td style=\"text-align:center\">$9,364</td>\n",
       "</tr>\n",
       "<tr>\n",
       "<td style=\"text-align:center\">2015</td>\n",
       "<td style=\"text-align:center\">$9,296</td>\n",
       "</tr>\n",
       "<tr>\n",
       "<td style=\"text-align:center\">2014</td>\n",
       "<td style=\"text-align:center\">$9,040</td>\n",
       "</tr>\n",
       "<tr>\n",
       "<td style=\"text-align:center\">2013</td>\n",
       "<td style=\"text-align:center\">$8,887</td>\n",
       "</tr>\n",
       "<tr>\n",
       "<td style=\"text-align:center\">2012</td>\n",
       "<td style=\"text-align:center\">$9,551</td>\n",
       "</tr>\n",
       "<tr>\n",
       "<td style=\"text-align:center\">2011</td>\n",
       "<td style=\"text-align:center\">$9,474</td>\n",
       "</tr>\n",
       "<tr>\n",
       "<td style=\"text-align:center\">2010</td>\n",
       "<td style=\"text-align:center\">$9,078</td>\n",
       "</tr>\n",
       "<tr>\n",
       "<td style=\"text-align:center\">2009</td>\n",
       "<td style=\"text-align:center\">$8,806</td>\n",
       "</tr>\n",
       "<tr>\n",
       "<td style=\"text-align:center\">2008</td>\n",
       "<td style=\"text-align:center\">$7,094</td>\n",
       "</tr>\n",
       "<tr>\n",
       "<td style=\"text-align:center\">2007</td>\n",
       "<td style=\"text-align:center\">$5,319</td>\n",
       "</tr>\n",
       "<tr>\n",
       "<td style=\"text-align:center\">2006</td>\n",
       "<td style=\"text-align:center\">$3,092</td>\n",
       "</tr>\n",
       "<tr>\n",
       "<td style=\"text-align:center\">2005</td>\n",
       "<td style=\"text-align:center\">$1,843</td>\n",
       "</tr>\n",
       "</tbody>\n",
       "</table>"
      ]
     },
     "metadata": {},
     "execution_count": 37
    }
   ],
   "source": [
    "# finding the class 'historical_data_table table' in the HTML script\n",
    "game_annual_revenue = soup_1.find('table', {'class':'historical_data_table table'})\n",
    "game_annual_revenue"
   ]
  },
  {
   "cell_type": "code",
   "execution_count": 39,
   "metadata": {},
   "outputs": [
    {
     "output_type": "execute_result",
     "data": {
      "text/plain": [
       "2"
      ]
     },
     "metadata": {},
     "execution_count": 39
    }
   ],
   "source": [
    "# getting the number of columns in the table\n",
    "for row in game_annual_revenue.findAll(\"tr\"):\n",
    "    cells = row.findAll(\"td\")\n",
    "\n",
    "len(cells)"
   ]
  },
  {
   "cell_type": "code",
   "execution_count": 41,
   "metadata": {},
   "outputs": [
    {
     "output_type": "execute_result",
     "data": {
      "text/plain": [
       "17"
      ]
     },
     "metadata": {},
     "execution_count": 41
    }
   ],
   "source": [
    "# getting the number of rows in the table including header\n",
    "rows_1 = game_annual_revenue.findAll(\"tr\")\n",
    "len(rows_1)"
   ]
  },
  {
   "cell_type": "code",
   "execution_count": 42,
   "metadata": {},
   "outputs": [
    {
     "output_type": "stream",
     "name": "stdout",
     "text": [
      "['GameStop Annual Revenue(Millions of US $)']\n1\n"
     ]
    }
   ],
   "source": [
    "# getting the table Header\n",
    "header_1 = [th.text.rstrip() for th in rows_1[0].find_all('th')]\n",
    "\n",
    "print(header_1)\n",
    "print(len(header_1))"
   ]
  },
  {
   "cell_type": "code",
   "execution_count": 43,
   "metadata": {},
   "outputs": [],
   "source": [
    "# scraping the data and append to respective lists\n",
    "c1 = []\n",
    "c2 = []\n",
    "\n",
    "for row in game_annual_revenue.findAll(\"tr\"):\n",
    "    cells = row.findAll('td')\n",
    "    if len(cells) == 2: # Only extract table body not heading\n",
    "        c1.append(cells[0].find(text = True))\n",
    "        c2.append(cells[1].find(text = True))"
   ]
  },
  {
   "cell_type": "code",
   "execution_count": 45,
   "metadata": {},
   "outputs": [
    {
     "output_type": "execute_result",
     "data": {
      "text/plain": [
       "{'GameStop Annual Revenue(Millions of US $)': 0}"
      ]
     },
     "metadata": {},
     "execution_count": 45
    }
   ],
   "source": [
    "# making a dictionary to become a dataframe\n",
    "d_1 = dict([(x, 0) for x in header_1])\n",
    "d_1"
   ]
  },
  {
   "cell_type": "code",
   "execution_count": 46,
   "metadata": {},
   "outputs": [],
   "source": [
    "# making a dataframe\n",
    "d_1['Year'] = c1\n",
    "d_1['Gamestop Annual Revenue(Millions of US $)'] = c2"
   ]
  },
  {
   "cell_type": "code",
   "execution_count": 47,
   "metadata": {},
   "outputs": [],
   "source": [
    "df_1 = pd.DataFrame(d_1)"
   ]
  },
  {
   "cell_type": "code",
   "execution_count": 48,
   "metadata": {},
   "outputs": [
    {
     "output_type": "execute_result",
     "data": {
      "text/plain": [
       "   GameStop Annual Revenue(Millions of US $)  Year  \\\n",
       "0                                          0  2020   \n",
       "1                                          0  2019   \n",
       "2                                          0  2018   \n",
       "3                                          0  2017   \n",
       "4                                          0  2016   \n",
       "\n",
       "  Gamestop Annual Revenue(Millions of US $)  \n",
       "0                                    $6,466  \n",
       "1                                    $8,285  \n",
       "2                                    $8,547  \n",
       "3                                    $7,965  \n",
       "4                                    $9,364  "
      ],
      "text/html": "<div>\n<style scoped>\n    .dataframe tbody tr th:only-of-type {\n        vertical-align: middle;\n    }\n\n    .dataframe tbody tr th {\n        vertical-align: top;\n    }\n\n    .dataframe thead th {\n        text-align: right;\n    }\n</style>\n<table border=\"1\" class=\"dataframe\">\n  <thead>\n    <tr style=\"text-align: right;\">\n      <th></th>\n      <th>GameStop Annual Revenue(Millions of US $)</th>\n      <th>Year</th>\n      <th>Gamestop Annual Revenue(Millions of US $)</th>\n    </tr>\n  </thead>\n  <tbody>\n    <tr>\n      <th>0</th>\n      <td>0</td>\n      <td>2020</td>\n      <td>$6,466</td>\n    </tr>\n    <tr>\n      <th>1</th>\n      <td>0</td>\n      <td>2019</td>\n      <td>$8,285</td>\n    </tr>\n    <tr>\n      <th>2</th>\n      <td>0</td>\n      <td>2018</td>\n      <td>$8,547</td>\n    </tr>\n    <tr>\n      <th>3</th>\n      <td>0</td>\n      <td>2017</td>\n      <td>$7,965</td>\n    </tr>\n    <tr>\n      <th>4</th>\n      <td>0</td>\n      <td>2016</td>\n      <td>$9,364</td>\n    </tr>\n  </tbody>\n</table>\n</div>"
     },
     "metadata": {},
     "execution_count": 48
    }
   ],
   "source": [
    "df_1.head()"
   ]
  },
  {
   "source": [
    "## Question 5. Tesla Stock and Revenue Dashboard"
   ],
   "cell_type": "markdown",
   "metadata": {}
  },
  {
   "source": [
    "## Question 6. GameStop Stock and Revenue Dashboard"
   ],
   "cell_type": "markdown",
   "metadata": {}
  },
  {
   "source": [
    "## Question 7. Sharing your Assignment Notebook"
   ],
   "cell_type": "markdown",
   "metadata": {}
  }
 ]
}