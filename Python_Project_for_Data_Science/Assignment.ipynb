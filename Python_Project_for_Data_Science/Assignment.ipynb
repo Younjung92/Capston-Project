{
 "metadata": {
  "language_info": {
   "codemirror_mode": {
    "name": "ipython",
    "version": 3
   },
   "file_extension": ".py",
   "mimetype": "text/x-python",
   "name": "python",
   "nbconvert_exporter": "python",
   "pygments_lexer": "ipython3",
   "version": "3.9.1-final"
  },
  "orig_nbformat": 2,
  "kernelspec": {
   "name": "python3",
   "display_name": "Python 3.9.1 64-bit",
   "metadata": {
    "interpreter": {
     "hash": "7812ea015bdcee6f23a998adcdd2ef97c151c0c241b7b7070987d9313e41299d"
    }
   }
  }
 },
 "nbformat": 4,
 "nbformat_minor": 2,
 "cells": [
  {
   "source": [
    "# Analyzing Historical Stock/Revenue Data and Builidng a Dashboard"
   ],
   "cell_type": "markdown",
   "metadata": {}
  },
  {
   "source": [
    "## Question 1. Extracting Tesla Stock Data Using yfinance"
   ],
   "cell_type": "markdown",
   "metadata": {}
  },
  {
   "cell_type": "code",
   "execution_count": 1,
   "metadata": {},
   "outputs": [],
   "source": [
    "# importing libraries\n",
    "import pandas as pd\n",
    "import yfinance as yf"
   ]
  },
  {
   "cell_type": "code",
   "execution_count": 2,
   "metadata": {},
   "outputs": [],
   "source": [
    "# using 'Ticker' module to extract data\n",
    "tesla = yf.Ticker(\"TSLA\")"
   ]
  },
  {
   "cell_type": "code",
   "execution_count": 3,
   "metadata": {},
   "outputs": [
    {
     "output_type": "execute_result",
     "data": {
      "text/plain": [
       "{'zip': '94304',\n",
       " 'sector': 'Consumer Cyclical',\n",
       " 'fullTimeEmployees': 70757,\n",
       " 'longBusinessSummary': 'Tesla, Inc. designs, develops, manufactures, leases, and sells electric vehicles, and energy generation and storage systems in the United States, China, and internationally. The company operates in two segments, Automotive, and Energy Generation and Storage. The Automotive segment offers electric vehicles, as well as sells automotive regulatory credits. It provides sedans and sport utility vehicles through direct and used vehicle sales, a network of Tesla Superchargers, and in-app upgrades; and purchase financing and leasing services. This segment is also involved in the provision of non-warranty after-sales vehicle services, sale of used vehicles, retail merchandise, and vehicle insurance, as well as sale of products through its subsidiaries to third party customers; services for electric vehicles through its company-owned service locations, and Tesla mobile service technicians; and vehicle limited warranties and extended service plans. The Energy Generation and Storage segment engages in the design, manufacture, installation, sale, and leasing of solar energy generation and energy storage products, and related services to residential, commercial, and industrial customers and utilities through its website, stores, and galleries, as well as through a network of channel partners. This segment also offers service and repairs to its energy product customers, including under warranty; and various financing options to its solar customers. The company was formerly known as Tesla Motors, Inc. and changed its name to Tesla, Inc. in February 2017. Tesla, Inc. was founded in 2003 and is headquartered in Palo Alto, California.',\n",
       " 'city': 'Palo Alto',\n",
       " 'phone': '650-681-5000',\n",
       " 'state': 'CA',\n",
       " 'country': 'United States',\n",
       " 'companyOfficers': [],\n",
       " 'website': 'http://www.tesla.com',\n",
       " 'maxAge': 1,\n",
       " 'address1': '3500 Deer Creek Road',\n",
       " 'industry': 'Auto Manufacturers',\n",
       " 'previousClose': 787.38,\n",
       " 'regularMarketOpen': 795,\n",
       " 'twoHundredDayAverage': 554.72736,\n",
       " 'trailingAnnualDividendYield': None,\n",
       " 'payoutRatio': 0,\n",
       " 'volume24Hr': None,\n",
       " 'regularMarketDayHigh': 796.7899,\n",
       " 'navPrice': None,\n",
       " 'averageDailyVolume10Day': 21237340,\n",
       " 'totalAssets': None,\n",
       " 'regularMarketPreviousClose': 787.38,\n",
       " 'fiftyDayAverage': 828.02423,\n",
       " 'trailingAnnualDividendRate': None,\n",
       " 'open': 795,\n",
       " 'toCurrency': None,\n",
       " 'averageVolume10days': 21237340,\n",
       " 'expireDate': None,\n",
       " 'yield': None,\n",
       " 'algorithm': None,\n",
       " 'dividendRate': None,\n",
       " 'exDividendDate': None,\n",
       " 'beta': 2.090715,\n",
       " 'circulatingSupply': None,\n",
       " 'startDate': None,\n",
       " 'regularMarketDayLow': 777.39,\n",
       " 'priceHint': 2,\n",
       " 'currency': 'USD',\n",
       " 'trailingPE': 1220.7812,\n",
       " 'regularMarketVolume': 18958255,\n",
       " 'lastMarket': None,\n",
       " 'maxSupply': None,\n",
       " 'openInterest': None,\n",
       " 'marketCap': 749933953024,\n",
       " 'volumeAllCurrencies': None,\n",
       " 'strikePrice': None,\n",
       " 'averageVolume': 40965440,\n",
       " 'priceToSalesTrailing12Months': 23.780249,\n",
       " 'dayLow': 777.39,\n",
       " 'ask': 761.27,\n",
       " 'ytdReturn': None,\n",
       " 'askSize': 800,\n",
       " 'volume': 18958255,\n",
       " 'fiftyTwoWeekHigh': 900.4,\n",
       " 'forwardPE': 144.41774,\n",
       " 'fromCurrency': None,\n",
       " 'fiveYearAvgDividendYield': None,\n",
       " 'fiftyTwoWeekLow': 70.102,\n",
       " 'bid': 758,\n",
       " 'tradeable': False,\n",
       " 'dividendYield': None,\n",
       " 'bidSize': 800,\n",
       " 'dayHigh': 796.7899,\n",
       " 'exchange': 'NMS',\n",
       " 'shortName': 'Tesla, Inc.',\n",
       " 'longName': 'Tesla, Inc.',\n",
       " 'exchangeTimezoneName': 'America/New_York',\n",
       " 'exchangeTimezoneShortName': 'EST',\n",
       " 'isEsgPopulated': False,\n",
       " 'gmtOffSetMilliseconds': '-18000000',\n",
       " 'quoteType': 'EQUITY',\n",
       " 'symbol': 'TSLA',\n",
       " 'messageBoardId': 'finmb_27444752',\n",
       " 'market': 'us_market',\n",
       " 'annualHoldingsTurnover': None,\n",
       " 'enterpriseToRevenue': 23.635,\n",
       " 'beta3Year': None,\n",
       " 'profitMargins': 0.02286,\n",
       " 'enterpriseToEbitda': 174.43,\n",
       " '52WeekChange': 3.6852326,\n",
       " 'morningStarRiskRating': None,\n",
       " 'forwardEps': 5.41,\n",
       " 'revenueQuarterlyGrowth': None,\n",
       " 'sharesOutstanding': 959854016,\n",
       " 'fundInceptionDate': None,\n",
       " 'annualReportExpenseRatio': None,\n",
       " 'bookValue': 23.151,\n",
       " 'sharesShort': 52379526,\n",
       " 'sharesPercentSharesOut': 0.0546,\n",
       " 'fundFamily': None,\n",
       " 'lastFiscalYearEnd': 1609372800,\n",
       " 'heldPercentInstitutions': 0.42529,\n",
       " 'netIncomeToCommon': 690000000,\n",
       " 'trailingEps': 0.64,\n",
       " 'lastDividendValue': None,\n",
       " 'SandP52WeekChange': 0.1675049,\n",
       " 'priceToBook': 33.748005,\n",
       " 'heldPercentInsiders': 0.19985001,\n",
       " 'nextFiscalYearEnd': 1672444800,\n",
       " 'mostRecentQuarter': 1609372800,\n",
       " 'shortRatio': 1.4,\n",
       " 'sharesShortPreviousMonthDate': 1609372800,\n",
       " 'floatShares': 771530247,\n",
       " 'enterpriseValue': 745340534784,\n",
       " 'threeYearAverageReturn': None,\n",
       " 'lastSplitDate': 1598832000,\n",
       " 'lastSplitFactor': '5:1',\n",
       " 'legalType': None,\n",
       " 'lastDividendDate': None,\n",
       " 'morningStarOverallRating': None,\n",
       " 'earningsQuarterlyGrowth': 1.571,\n",
       " 'dateShortInterest': 1611878400,\n",
       " 'pegRatio': 6.37,\n",
       " 'lastCapGain': None,\n",
       " 'shortPercentOfFloat': 0.0679,\n",
       " 'sharesShortPriorMonth': 60620873,\n",
       " 'impliedSharesOutstanding': None,\n",
       " 'category': None,\n",
       " 'fiveYearAverageReturn': None,\n",
       " 'regularMarketPrice': 795,\n",
       " 'logo_url': 'https://logo.clearbit.com/tesla.com'}"
      ]
     },
     "metadata": {},
     "execution_count": 3
    }
   ],
   "source": [
    "# using the attribue 'info' \n",
    "tesla_info = tesla.info\n",
    "tesla_info"
   ]
  },
  {
   "cell_type": "code",
   "execution_count": 5,
   "metadata": {},
   "outputs": [
    {
     "output_type": "execute_result",
     "data": {
      "text/plain": [
       "             Open   High    Low  Close    Volume  Dividends  Stock Splits\n",
       "Date                                                                     \n",
       "2010-06-29  3.800  5.000  3.508  4.778  93831500          0           0.0\n",
       "2010-06-30  5.158  6.084  4.660  4.766  85935500          0           0.0\n",
       "2010-07-01  5.000  5.184  4.054  4.392  41094000          0           0.0\n",
       "2010-07-02  4.600  4.620  3.742  3.840  25699000          0           0.0\n",
       "2010-07-06  4.000  4.000  3.166  3.222  34334500          0           0.0"
      ],
      "text/html": "<div>\n<style scoped>\n    .dataframe tbody tr th:only-of-type {\n        vertical-align: middle;\n    }\n\n    .dataframe tbody tr th {\n        vertical-align: top;\n    }\n\n    .dataframe thead th {\n        text-align: right;\n    }\n</style>\n<table border=\"1\" class=\"dataframe\">\n  <thead>\n    <tr style=\"text-align: right;\">\n      <th></th>\n      <th>Open</th>\n      <th>High</th>\n      <th>Low</th>\n      <th>Close</th>\n      <th>Volume</th>\n      <th>Dividends</th>\n      <th>Stock Splits</th>\n    </tr>\n    <tr>\n      <th>Date</th>\n      <th></th>\n      <th></th>\n      <th></th>\n      <th></th>\n      <th></th>\n      <th></th>\n      <th></th>\n    </tr>\n  </thead>\n  <tbody>\n    <tr>\n      <th>2010-06-29</th>\n      <td>3.800</td>\n      <td>5.000</td>\n      <td>3.508</td>\n      <td>4.778</td>\n      <td>93831500</td>\n      <td>0</td>\n      <td>0.0</td>\n    </tr>\n    <tr>\n      <th>2010-06-30</th>\n      <td>5.158</td>\n      <td>6.084</td>\n      <td>4.660</td>\n      <td>4.766</td>\n      <td>85935500</td>\n      <td>0</td>\n      <td>0.0</td>\n    </tr>\n    <tr>\n      <th>2010-07-01</th>\n      <td>5.000</td>\n      <td>5.184</td>\n      <td>4.054</td>\n      <td>4.392</td>\n      <td>41094000</td>\n      <td>0</td>\n      <td>0.0</td>\n    </tr>\n    <tr>\n      <th>2010-07-02</th>\n      <td>4.600</td>\n      <td>4.620</td>\n      <td>3.742</td>\n      <td>3.840</td>\n      <td>25699000</td>\n      <td>0</td>\n      <td>0.0</td>\n    </tr>\n    <tr>\n      <th>2010-07-06</th>\n      <td>4.000</td>\n      <td>4.000</td>\n      <td>3.166</td>\n      <td>3.222</td>\n      <td>34334500</td>\n      <td>0</td>\n      <td>0.0</td>\n    </tr>\n  </tbody>\n</table>\n</div>"
     },
     "metadata": {},
     "execution_count": 5
    }
   ],
   "source": [
    "# Extracting share price \n",
    "tesla_share_price_data = tesla.history(period = \"max\")\n",
    "tesla_share_price_data.head()"
   ]
  },
  {
   "source": [
    "## Question 2. Extracting Tesla Revenue Data Using Webscraping"
   ],
   "cell_type": "markdown",
   "metadata": {}
  },
  {
   "cell_type": "code",
   "execution_count": 6,
   "metadata": {},
   "outputs": [],
   "source": [
    "# importing libraries\n",
    "import requests\n",
    "from bs4 import BeautifulSoup"
   ]
  },
  {
   "cell_type": "code",
   "execution_count": 7,
   "metadata": {},
   "outputs": [
    {
     "output_type": "execute_result",
     "data": {
      "text/plain": [
       "<Response [200]>"
      ]
     },
     "metadata": {},
     "execution_count": 7
    }
   ],
   "source": [
    "# using 'requests' library to download the webpage below\n",
    "url = \"https://finance.yahoo.com/quote/TSLA/financials?p=TSLA\"\n",
    "html_data = requests.get(url)\n",
    "html_data"
   ]
  },
  {
   "cell_type": "code",
   "execution_count": 23,
   "metadata": {},
   "outputs": [
    {
     "output_type": "error",
     "ename": "ImportError",
     "evalue": "html5lib not found, please install it",
     "traceback": [
      "\u001b[0;31m---------------------------------------------------------------------------\u001b[0m",
      "\u001b[0;31mImportError\u001b[0m                               Traceback (most recent call last)",
      "\u001b[0;32m<ipython-input-23-ea1558d86b2a>\u001b[0m in \u001b[0;36m<module>\u001b[0;34m\u001b[0m\n\u001b[0;32m----> 1\u001b[0;31m \u001b[0mdf\u001b[0m \u001b[0;34m=\u001b[0m \u001b[0mpd\u001b[0m\u001b[0;34m.\u001b[0m\u001b[0mread_html\u001b[0m\u001b[0;34m(\u001b[0m\u001b[0murl\u001b[0m\u001b[0;34m)\u001b[0m\u001b[0;34m[\u001b[0m\u001b[0;36m0\u001b[0m\u001b[0;34m]\u001b[0m\u001b[0;34m\u001b[0m\u001b[0;34m\u001b[0m\u001b[0m\n\u001b[0m\u001b[1;32m      2\u001b[0m \u001b[0mdf\u001b[0m\u001b[0;34m\u001b[0m\u001b[0;34m\u001b[0m\u001b[0m\n",
      "\u001b[0;32m/Library/Frameworks/Python.framework/Versions/3.9/lib/python3.9/site-packages/pandas/util/_decorators.py\u001b[0m in \u001b[0;36mwrapper\u001b[0;34m(*args, **kwargs)\u001b[0m\n\u001b[1;32m    297\u001b[0m                 )\n\u001b[1;32m    298\u001b[0m                 \u001b[0mwarnings\u001b[0m\u001b[0;34m.\u001b[0m\u001b[0mwarn\u001b[0m\u001b[0;34m(\u001b[0m\u001b[0mmsg\u001b[0m\u001b[0;34m,\u001b[0m \u001b[0mFutureWarning\u001b[0m\u001b[0;34m,\u001b[0m \u001b[0mstacklevel\u001b[0m\u001b[0;34m=\u001b[0m\u001b[0mstacklevel\u001b[0m\u001b[0;34m)\u001b[0m\u001b[0;34m\u001b[0m\u001b[0;34m\u001b[0m\u001b[0m\n\u001b[0;32m--> 299\u001b[0;31m             \u001b[0;32mreturn\u001b[0m \u001b[0mfunc\u001b[0m\u001b[0;34m(\u001b[0m\u001b[0;34m*\u001b[0m\u001b[0margs\u001b[0m\u001b[0;34m,\u001b[0m \u001b[0;34m**\u001b[0m\u001b[0mkwargs\u001b[0m\u001b[0;34m)\u001b[0m\u001b[0;34m\u001b[0m\u001b[0;34m\u001b[0m\u001b[0m\n\u001b[0m\u001b[1;32m    300\u001b[0m \u001b[0;34m\u001b[0m\u001b[0m\n\u001b[1;32m    301\u001b[0m         \u001b[0;32mreturn\u001b[0m \u001b[0mwrapper\u001b[0m\u001b[0;34m\u001b[0m\u001b[0;34m\u001b[0m\u001b[0m\n",
      "\u001b[0;32m/Library/Frameworks/Python.framework/Versions/3.9/lib/python3.9/site-packages/pandas/io/html.py\u001b[0m in \u001b[0;36mread_html\u001b[0;34m(io, match, flavor, header, index_col, skiprows, attrs, parse_dates, thousands, encoding, decimal, converters, na_values, keep_default_na, displayed_only)\u001b[0m\n\u001b[1;32m   1083\u001b[0m     \u001b[0mio\u001b[0m \u001b[0;34m=\u001b[0m \u001b[0mstringify_path\u001b[0m\u001b[0;34m(\u001b[0m\u001b[0mio\u001b[0m\u001b[0;34m)\u001b[0m\u001b[0;34m\u001b[0m\u001b[0;34m\u001b[0m\u001b[0m\n\u001b[1;32m   1084\u001b[0m \u001b[0;34m\u001b[0m\u001b[0m\n\u001b[0;32m-> 1085\u001b[0;31m     return _parse(\n\u001b[0m\u001b[1;32m   1086\u001b[0m         \u001b[0mflavor\u001b[0m\u001b[0;34m=\u001b[0m\u001b[0mflavor\u001b[0m\u001b[0;34m,\u001b[0m\u001b[0;34m\u001b[0m\u001b[0;34m\u001b[0m\u001b[0m\n\u001b[1;32m   1087\u001b[0m         \u001b[0mio\u001b[0m\u001b[0;34m=\u001b[0m\u001b[0mio\u001b[0m\u001b[0;34m,\u001b[0m\u001b[0;34m\u001b[0m\u001b[0;34m\u001b[0m\u001b[0m\n",
      "\u001b[0;32m/Library/Frameworks/Python.framework/Versions/3.9/lib/python3.9/site-packages/pandas/io/html.py\u001b[0m in \u001b[0;36m_parse\u001b[0;34m(flavor, io, match, attrs, encoding, displayed_only, **kwargs)\u001b[0m\n\u001b[1;32m    887\u001b[0m     \u001b[0mretained\u001b[0m \u001b[0;34m=\u001b[0m \u001b[0;32mNone\u001b[0m\u001b[0;34m\u001b[0m\u001b[0;34m\u001b[0m\u001b[0m\n\u001b[1;32m    888\u001b[0m     \u001b[0;32mfor\u001b[0m \u001b[0mflav\u001b[0m \u001b[0;32min\u001b[0m \u001b[0mflavor\u001b[0m\u001b[0;34m:\u001b[0m\u001b[0;34m\u001b[0m\u001b[0;34m\u001b[0m\u001b[0m\n\u001b[0;32m--> 889\u001b[0;31m         \u001b[0mparser\u001b[0m \u001b[0;34m=\u001b[0m \u001b[0m_parser_dispatch\u001b[0m\u001b[0;34m(\u001b[0m\u001b[0mflav\u001b[0m\u001b[0;34m)\u001b[0m\u001b[0;34m\u001b[0m\u001b[0;34m\u001b[0m\u001b[0m\n\u001b[0m\u001b[1;32m    890\u001b[0m         \u001b[0mp\u001b[0m \u001b[0;34m=\u001b[0m \u001b[0mparser\u001b[0m\u001b[0;34m(\u001b[0m\u001b[0mio\u001b[0m\u001b[0;34m,\u001b[0m \u001b[0mcompiled_match\u001b[0m\u001b[0;34m,\u001b[0m \u001b[0mattrs\u001b[0m\u001b[0;34m,\u001b[0m \u001b[0mencoding\u001b[0m\u001b[0;34m,\u001b[0m \u001b[0mdisplayed_only\u001b[0m\u001b[0;34m)\u001b[0m\u001b[0;34m\u001b[0m\u001b[0;34m\u001b[0m\u001b[0m\n\u001b[1;32m    891\u001b[0m \u001b[0;34m\u001b[0m\u001b[0m\n",
      "\u001b[0;32m/Library/Frameworks/Python.framework/Versions/3.9/lib/python3.9/site-packages/pandas/io/html.py\u001b[0m in \u001b[0;36m_parser_dispatch\u001b[0;34m(flavor)\u001b[0m\n\u001b[1;32m    836\u001b[0m     \u001b[0;32mif\u001b[0m \u001b[0mflavor\u001b[0m \u001b[0;32min\u001b[0m \u001b[0;34m(\u001b[0m\u001b[0;34m\"bs4\"\u001b[0m\u001b[0;34m,\u001b[0m \u001b[0;34m\"html5lib\"\u001b[0m\u001b[0;34m)\u001b[0m\u001b[0;34m:\u001b[0m\u001b[0;34m\u001b[0m\u001b[0;34m\u001b[0m\u001b[0m\n\u001b[1;32m    837\u001b[0m         \u001b[0;32mif\u001b[0m \u001b[0;32mnot\u001b[0m \u001b[0m_HAS_HTML5LIB\u001b[0m\u001b[0;34m:\u001b[0m\u001b[0;34m\u001b[0m\u001b[0;34m\u001b[0m\u001b[0m\n\u001b[0;32m--> 838\u001b[0;31m             \u001b[0;32mraise\u001b[0m \u001b[0mImportError\u001b[0m\u001b[0;34m(\u001b[0m\u001b[0;34m\"html5lib not found, please install it\"\u001b[0m\u001b[0;34m)\u001b[0m\u001b[0;34m\u001b[0m\u001b[0;34m\u001b[0m\u001b[0m\n\u001b[0m\u001b[1;32m    839\u001b[0m         \u001b[0;32mif\u001b[0m \u001b[0;32mnot\u001b[0m \u001b[0m_HAS_BS4\u001b[0m\u001b[0;34m:\u001b[0m\u001b[0;34m\u001b[0m\u001b[0;34m\u001b[0m\u001b[0m\n\u001b[1;32m    840\u001b[0m             \u001b[0;32mraise\u001b[0m \u001b[0mImportError\u001b[0m\u001b[0;34m(\u001b[0m\u001b[0;34m\"BeautifulSoup4 (bs4) not found, please install it\"\u001b[0m\u001b[0;34m)\u001b[0m\u001b[0;34m\u001b[0m\u001b[0;34m\u001b[0m\u001b[0m\n",
      "\u001b[0;31mImportError\u001b[0m: html5lib not found, please install it"
     ]
    }
   ],
   "source": [
    "df = pd.read_html(url)[0]\n",
    "df"
   ]
  },
  {
   "cell_type": "code",
   "execution_count": 19,
   "metadata": {},
   "outputs": [
    {
     "output_type": "execute_result",
     "data": {
      "text/plain": [
       "tsCount\",\"getAllResearchReports\"],\"responseField\":\"finance\"},\"tachyon.technicalPremiumInsights\":{\"path\":\"\\u002Fws\\u002Finsights\\u002Fv2\\u002Ffinance\\u002Fpremium\\u002Finsights\",\"timeout\":2000,\"query\":[\"lang\",\"region\",\"corsDomain\",\"symbol\",\"reportsCount\",\"getAllResearchReports\"],\"responseField\":\"finance\"},\"tachyon.topNTicker\":{\"host\":\"iquery.finance.yahoo.com\",\"path\":\"\\u002Fws\\u002Fuser-support\\u002Fv1\\u002FtopNTicker\\u002Fguid\",\"query\":[\"lang\",\"region\",\"corsDomain\",\"userId\",\"count\",\"quoteType\",\"market\",\"enablePadding\"],\"timeout\":5000,\"dataValidation\":true,\"get\":{\"enablePadding\":true}},\"tachyon.trending\":{\"path\":\"\\u002Fv1\\u002Ffinance\\u002Ftrending\\u002F{region}\",\"timeout\":2000,\"query\":[\"lang\",\"region\",\"corsDomain\",\"count\"],\"responseField\":\"finance\"},\"tachyon.userPreferences\":{\"path\":\"\\u002Fv1\\u002Ffinance\\u002Fuserpreferences\",\"query\":[\"crumb\"],\"timeout\":3000},\"tachyon.valueAnalyzer\":{\"path\":\"\\u002Fws\\u002Fvalue-analyzer\\u002Fv1\\u002Ffinance\\u002Fpremium\\u002FvalueAnalyzer\\u002Fportal\",\"timeout\":4000,\"query\":[\"lang\",\"region\",\"corsDomain\",\"symbols\",\"formatted\"],\"responseField\":\"finance\",\"get\":{\"formatted\":true},\"dataValidation\":true},\"tachyon.valueAnalyzerDrilldown\":{\"path\":\"\\u002Fws\\u002Fvalue-analyzer\\u002Fv1\\u002Ffinance\\u002Fpremium\\u002FvalueAnalyzer\",\"timeout\":4000,\"query\":[\"lang\",\"region\",\"corsDomain\",\"symbol\",\"formatted\",\"start\",\"end\"],\"responseField\":\"finance\",\"get\":{\"formatted\":true},\"dataValidation\":true},\"tachyon.video\":{\"protocol\":\"https\",\"host\":\"video-api.yql.yahoo.com\",\"client\":{\"protocol\":\"https\",\"host\":[\"video-api.yql.yahoo.com\"]},\"path\":\"\\u002Fv1\\u002Fvideo\\u002Falias\\u002Fchannels\\u002Ffinance-ticker\\u002Fids\",\"timeout\":6000,\"query\":[\"lang\",\"region\",\"corsDomain\",\"count\",\"tickers\",\"site\",\"related_tickers\",\"expn\",\"dev_type\",\"lang\"]},\"tachyon.videoList\":{\"protocol\":\"https\",\"host\":\"video-api.yql.yahoo.com\",\"path\":\"\\u002Fv1\\u002Fvideo\\u002Fchannels\\u002F{listId}\",\"timeout\":6000,\"query\":[\"lang\",\"region\",\"corsDomain\",\"dev_type\",\"site\",\"lang\",\"region\"]},\"tachyon.visualization\":{\"path\":\"\\u002Fv1\\u002Ffinance\\u002Fvisualization\",\"query\":[\"lang\",\"region\",\"corsDomain\",\"formatted\",\"crumb\"],\"timeout\":3000,\"responseField\":\"finance\"},\"tachyon.watchlistPerformance\":{\"path\":\"\\u002Fv7\\u002Ffinance\\u002Fportfolio\\u002Fperformance\\u002F{slug}\",\"query\":[\"lang\",\"region\",\"corsDomain\",\"slug\",\"symbols\"],\"timeout\":3000,\"responseField\":\"finance\"}}}},\"xhrContext\":{\"feature\":\"adsMigration,canvassOffnet,ccOnMute,disableCommentsMessage,debouncesearch100,deferDarla,ecmaModern,emptyServiceWorker,enableCCPAFooter,enableCMP,enableConsentData,enableFeatureTours,enableFinancialsTemplate,enableFreeFinRichSearch,enableGuceJs,enableGuceJsOverlay,enableNavFeatureCue,enableNewResearchInsights,enablePfSummaryForEveryone,enablePremiumSingleCTA,enablePrivacyUpdate,enableStreamDebounce,enableTheming,enableUpgradeLeafPage,enableVideoURL,enableXrayNcp,enableXrayNcpInModal,enableXrayTickerEntities,enableYahooSans,enableYodleeErrorMsgCriOS,ncpListStream,ncpPortfolioStream,ncpQspStream,ncpStream,ncpStreamIntl,ncpTopicStream,newContentAttribution,newLogo,oathPlayer,optimizeSearch,relatedVideoFeature,threeAmigos,waferHeader,useNextGenHistory,videoNativePlaylist,sunsetMotif2,enableUserPrefAPI,livecoverage,darlaFirstRenderingVisible,enableTradeit,enableFeatureBar,enableSearchEnhancement,enableUserSentiment,enableBankrateWidget,enableYodlee,canvassReplies,enablePremiumFinancials,enableInstapage,enableNewResearchFilterMW,showExpiredIdeas,showMorningStar,enableSingleRail,enableSEOResearchReport,enhanceAddToWL,article2_csn,sponsoredAds,enableStageAds,enableTradeItLinkBrokerSecondaryPromo,premiumPromoHeader,enableQspPremiumPromoSmall,clientDelayNone,threeAmigosMabEnabled,threeAmigosAdsEnabledAndStreamIndex0,enableRelatedTickers,enableNotification,financeRightRailA20,enableBrokerCenter\",\"bkt\":\"finance-US-en-US-def\",\"crumb\":\"hKlm\\u002FZobNDt\",\"device\":\"desktop\",\"intl\":\"us\",\"lang\":\"en-US\",\"partner\":\"none\",\"prid\":\"d947tlhg37e1k\",\"region\":\"US\",\"site\":\"finance\",\"tz\":\"Europe\\u002FAmsterdam\",\"ver\":\"0.102.4387\",\"ecma\":\"default\"}}}},\"plugins\":{\"BundlePlugin\":{\"mainBundle\":\"td-app-finance\"},\"ResourcePlugin\":{\"registry\":{\"configs\":{\"td-app-finance\":{\"US_strings\":1,\"ads\":1,\"aft\":1,\"app\":1,\"assets\":1,\"atomize\":1,\"autocomplete\":1,\"beacon\":1,\"cdn\":1,\"constants\":1,\"cookies\":1,\"csp-policy\":1,\"dimensions\":1,\"feature\":1,\"i13n\":1,\"louter\":1,\"marketdata\":1,\"topics\":1,\"ui\":1,\"videoreel\":1,\"themes\\u002Fpremium\":1,\"bundles\\u002Fconfig\":1,\"atomic\\u002Fatomizer-config\":1,\"atomic\\u002Fthemes\\u002Fdark\":1,\"atomic\\u002Fthemes\\u002Flight\":1,\"appletOverrides\\u002Ftdv2-wafer-header\\u002FcomponentMailPreview\":1},\"Videos\":{\"componentVideos\":1,\"componentVideosNav\":1},\"Trumponomics\":{\"componentTrumponomics\":1,\"previousPresidentData\":1},\"Screener\":{\"componentScreener\":1,\"componentScreenerTable\":1},\"Research\":{\"componentResearch\":1,\"filters\":1,\"reportConf\":1},\"RatesPage\":{\"rateIframeMap\":1},\"QuotePage\":{\"componentNavHeader\":1,\"componentQuoteECDWrapper\":1,\"componentQuoteHeader\":1,\"componentQuoteNav\":1,\"quoteSummaryColumnLayout\":1},\"Quote\":{\"componentQuote\":1,\"equityKeyStatistics\":1,\"esg\":1,\"etfKeyStatistics\":1,\"holders\":1,\"keyStatistics\":1,\"mockPremiumData\":1,\"mutualFundKeyStatistics\":1,\"qsp\\u002Fequity\":1,\"qsp\\u002FetfHolding\":1,\"qsp\\u002FetfPerformance\":1,\"qsp\\u002FetfProfile\":1,\"qsp\\u002FmutualFundHolding\":1,\"qsp\\u002FmutualFundPerformance\":1,\"qsp\\u002FmutualFundProfile\":1,\"qsp\\u002FmutualFundPurchaseInfo\":1,\"qsp\\u002FmutualFundRisk\":1,\"financials\\u002FbalanceSheet\":1,\"financials\\u002FbalanceSheet_B\":1,\"financials\\u002FbalanceSheet_I\":1,\"financials\\u002FbalanceSheet_M\":1,\"financials\\u002FbalanceSheet_N\":1,\"financials\\u002FbalanceSheet_T\":1,\"financials\\u002FbalanceSheet_U\":1,\"financials\\u002FcashFlow\":1,\"financials\\u002FcashFlow_B\":1,\"financials\\u002FcashFlow_I\":1,\"financials\\u002FcashFlow_M\":1,\"financials\\u002FcashFlow_N\":1,\"financials\\u002FcashFlow_T\":1,\"financials\\u002FcashFlow_U\":1,\"financials\\u002FcashflowStatement\":1,\"financials\\u002FincomeStatement\":1,\"financials\\u002FincomeStatement_B\":1,\"financials\\u002FincomeStatement_I\":1,\"financials\\u002FincomeStatement_M\":1,\"financials\\u002FincomeStatement_N\":1,\"financials\\u002FincomeStatement_T\":1,\"financials\\u002FincomeStatement_U\":1,\"financials\\u002Ftemplates\":1},\"PremiumSplash\":{\"componentPremiumSplash\":1},\"Portfolio\":{\"componentPortfolios\":1,\"currencies\":1},\"Lookup\":{\"listColumns\":1},\"Industry\":{\"componentIndustry\":1,\"sectorsList\":1},\"FullScreenChartIQPage\":{\"componentFullScreenChart\":1},\"Events\":{\"componentEvents\":1,\"componentWebinars\":1},\"EventSplash\":{\"componentEventSplash\":1},\"DataUtility\":{\"componentDataUtility\":1,\"dataUtilityConfig\":1},\"CuratedWatchlists\":{\"listColumns\":1},\"Calendar\":{\"componentCalEvents\":1},\"express-premium-subscriptions\":{\"skuMapping\":1},\"tdv2-wafer-utils\":{\"componentGtmPixel\":1,\"wafer\":1,\"styles\\u002Ftabs\":1},\"react-avatar\":{\"defaultColors\":1},\"react-finance\":{\"app\":1,\"atomize\":1,\"componentFooter\":1,\"componentNavHelper\":1,\"componentNotificationAlert\":1,\"componentPremiumUpsell\":1,\"componentQuoteSummaryPreview\":1,\"componentSignInBtn\":1,\"componentUH\":1,\"cookies\":1,\"defaultViews\":1,\"i13n\":1,\"industries\":1,\"listConfig\":1,\"styles\\u002Fbtn\":1,\"styles\\u002Fcommon\":1,\"styles\\u002Fdropbox\":1,\"styles\\u002Finput\":1,\"styles\\u002FreactAutoCompleteResults\":1,\"styles\\u002Ftable\":1},\"react-tile\":{\"config\":1},\"react-video\":{\"ve-module\":1,\"video-reel\":1},\"sports-ybar-utils\":{\"app\":1,\"navDropdown\":1,\"wafer\":1},\"td-service-canvas\":{\"config\":1},\"td-service-canvass\":{\"api\":1},\"td-service-darla\":{\"config\":1},\"tdv2-applet-account-switch\":{\"componentAccountSwitch\":1,\"i13n\":1},\"tdv2-applet-canvass\":{\"app\":1,\"atomize\":1,\"componentCanvassMessage\":1,\"componentComments\":1},\"tdv2-applet-channels\":{\"componentChannels\":1,\"thumbnails\":1},\"tdv2-applet-content-caas\":{\"componentContentCaas\":1},\"tdv2-applet-discussion\":{\"componentDiscussionCarousel\":1,\"componentDiscussionList\":1},\"tdv2-applet-featurebar\":{\"componentFeatureBar\":1,\"componentFeatureBarSmartphone\":1},\"tdv2-applet-follow\":{\"componentFollow\":1,\"regal\":1},\"tdv2-applet-native-ads\":{\"componentGeminiDeals\":1,\"componentPencilAd\":1,\"componentSponsoredAd\":1},\"tdv2-applet-navrail\":{\"componentNavLite\":1,\"nav\\u002Fdesktop\":1,\"nav\\u002Findex\":1,\"nav\\u002Fmaster\":1,\"nav\\u002Fsmartphone\":1,\"nav\\u002Ftablet\":1,\"nav\\u002Fsite\\u002Fautos\":1,\"nav\\u002Fsite\\u002Fbeauty\":1,\"nav\\u002Fsite\\u002Fcelebrity\":1,\"nav\\u002Fsite\\u002Fcricket\":1,\"nav\\u002Fsite\\u002Fentertainment\":1,\"nav\\u002Fsite\\u002Ffinance\":1,\"nav\\u002Fsite\\u002Ffood\":1,\"nav\\u002Fsite\\u002Ffp\":1,\"nav\\u002Fsite\\u002Fgma\":1,\"nav\\u002Fsite\\u002Fhkstylemen\":1,\"nav\\u002Fsite\\u002Fhktravelnow\":1,\"nav\\u002Fsite\\u002Findex\":1,\"nav\\u002Fsite\\u002Fivy\":1,\"nav\\u002Fsite\\u002Fkatiecouric\":1,\"nav\\u002Fsite\\u002Flifestyle\":1,\"nav\\u002Fsite\\u002Fm6info\":1,\"nav\\u002Fsite\\u002Fmovies\":1,\"nav\\u002Fsite\\u002Fmusic\":1,\"nav\\u002Fsite\\u002Fnews\":1,\"nav\\u002Fsite\\u002Fsaludbucal\":1,\"nav\\u002Fsite\\u002Fsaudebucal\":1,\"nav\\u002Fsite\\u002Fsports\":1,\"nav\\u002Fsite\\u002Fstyle\":1,\"nav\\u002Fsite\\u002Ftech\":1,\"nav\\u002Fsite\\u002Ftravel\":1,\"nav\\u002Fsite\\u002Ftv\":1,\"nav\\u002Fsite\\u002Fweather\":1,\"nav\\u002Fsite\\u002Fyourfinancialjourney\":1,\"nav\\u002Fpartner\\u002Findex\":1,\"nav\\u002Flang\\u002Findex\":1,\"nav\\u002Fdevice\\u002Findex\":1},\"tdv2-applet-rawads\":{\"componentRawAds\":1},\"tdv2-applet-search-input\":{\"searchassist\":1},\"tdv2-applet-sponsored-moments\":{\"componentDesktopMomentsAd\":1,\"componentReserveMomentsAdWrapper\":1,\"componentSponsoredMomentsAd\":1,\"componentSponsoredMomentsAdWafer\":1,\"componentSponsoredMomentsCaas\":1,\"wafer\":1},\"tdv2-applet-stream\":{\"componentStream\":1},\"tdv2-applet-stream-hero\":{\"componentFeaturedHero\":1,\"componentStreamHero\":1,\"componentStreamHeroCarousel\":1,\"componentWideHero\":1},\"tdv2-applet-swisschamp\":{\"componentBookmarkButton\":1},\"tdv2-applet-uh\":{\"componentHeader\":1,\"searchOrigins\":1,\"components\\u002Findex\":1,\"components\\u002Fmaster\":1,\"components\\u002Fsite\\u002Findex\":1,\"components\\u002Fpartner\\u002Findex\":1,\"components\\u002Flang\\u002Findex\":1,\"components\\u002Fenvironment\\u002Findex\":1,\"components\\u002Fdevice\\u002Findex\":1},\"tdv2-applet-userintent\":{\"componentUserintent\":1},\"tdv2-applet-video-lightbox\":{\"componentContentLightboxVideo\":1,\"componentVideoLightbox\":1},\"tdv2-applet-video-modal\":{\"componentVideoModal\":1,\"keyboard-shortcuts\":1,\"modalShareButtons\":1,\"thumbnails-cover\":1,\"thumbnails\":1,\"videoModalExamples\":1},\"tdv2-service-ads\":{\"config\":1},\"tdv2-service-caas\":{\"content\":1,\"dimensions\":1,\"sidekick\":1},\"tdv2-service-cds\":{\"config\":1},\"tdv2-wafer-adfeedback\":{\"app\":1,\"wafer\":1},\"tdv2-wafer-header\":{\"aol-channels\":1,\"app\":1,\"componentHeader\":1,\"componentHeaderDesktop\":1,\"componentHeaderIntl\":1,\"componentHeaderTablet\":1,\"componentHeaderYBar\":1,\"componentLockerCheckIn\":1,\"componentMailCount\":1,\"componentMailPreview\":1,\"componentMailPreviewMyYahoo\":1,\"componentMailPreviewOptIn\":1,\"dimensions\":1,\"wafer\":1,\"utils\\u002FgetAtomicClassNames\":1,\"styles\\u002FAccordionPanelItem\":1,\"styles\\u002FAds\":1,\"styles\\u002FBackButton\":1,\"styles\\u002FBackButtonNew\":1,\"styles\\u002FDialogue\":1,\"styles\\u002FGetApp\":1,\"styles\\u002FHandwrite\":1,\"styles\\u002FHeader\":1,\"styles\\u002FHeaderDesktop\":1,\"styles\\u002FHeaderTablet\":1,\"styles\\u002FLogo\":1,\"styles\\u002FLogoNew\":1,\"styles\\u002FMailCount\":1,\"styles\\u002FMailMenu\":1,\"styles\\u002FMailPreview\":1,\"styles\\u002FMailPreviewMyYahoo\":1,\"styles\\u002FMailPreviewOptIn\":1,\"styles\\u002FNavigationBar\":1,\"styles\\u002FNotificationMenu\":1,\"styles\\u002FProfileButton\":1,\"styles\\u002FProfileMenu\":1,\"styles\\u002FProfilePanel\":1,\"styles\\u002FSearchAssist\":1,\"styles\\u002FSearchBox\":1,\"styles\\u002FSearchButton\":1,\"styles\\u002FSearchKeyword\":1,\"styles\\u002FSimplePanelItem\":1,\"styles\\u002FSkipLinks\":1,\"styles\\u002FTooltip\":1,\"styles\\u002FTopBar\":1,\"styles\\u002FWeatherMenu\":1,\"styles\\u002Findex\":1,\"headerDesktop\\u002Far-JO\":1,\"headerDesktop\\u002Fde-DE\":1,\"headerDesktop\\u002Fel-GR\":1,\"headerDesktop\\u002Fen-AE\":1,\"headerDesktop\\u002Fen-AU\":1,\"headerDesktop\\u002Fen-GB\":1,\"headerDesktop\\u002Fen-IE\":1,\"headerDesktop\\u002Fen-IN\":1,\"headerDesktop\\u002Fen-MY\":1,\"headerDesktop\\u002Fen-NZ\":1,\"headerDesktop\\u002Fen-PH\":1,\"headerDesktop\\u002Fen-SG\":1,\"headerDesktop\\u002Fen-ZA\":1,\"headerDesktop\\u002Fes-ES\":1,\"headerDesktop\\u002Fes-US\":1,\"headerDesktop\\u002Ffr-BE\":1,\"headerDesktop\\u002Ffr-FR\":1,\"headerDesktop\\u002Fid-ID\":1,\"headerDesktop\\u002Findex\":1,\"headerDesktop\\u002Fit-IT\":1,\"headerDesktop\\u002Fnl-BE\":1,\"headerDesktop\\u002Fpt-BR\":1,\"headerDesktop\\u002Fro-RO\":1,\"headerDesktop\\u002Fsv-SE\":1,\"headerDesktop\\u002Fvi-VN\":1,\"assets\\u002FAssistJs-v1\":1,\"assets\\u002FAssistJs\":1,\"assets\\u002FLogo\":1,\"assets\\u002FNavigationScrollHandler\":1,\"assets\\u002FNotificationClient\":1,\"assets\\u002FPanelItems\":1},\"tdv2-wafer-viewer\":{\"dimensions\":1,\"wafer\":1},\"@vzmi\\u002Fvertical-video-util\":{\"category\":1},\"video-service\":{\"channel_service_config\":1}},\"lang\":{\"td-app-finance\":{\"strings\":1},\"@vzmi\\u002Fnebula.i18n\":{\"strings\":1},\"nextgen-utils\":{\"strings\":1},\"tdv2-wafer-utils\":{\"strings\":1},\"react-finance\":{\"strings\":1},\"react-tumblr-tile\":{\"strings\":1},\"td-ads\":{\"strings\":1},\"tdv2-applet-account-switch\":{\"strings\":1},\"tdv2-applet-canvass\":{\"strings\":1},\"tdv2-applet-channels\":{\"strings\":1},\"tdv2-applet-content-caas\":{\"strings\":1},\"tdv2-applet-discussion\":{\"strings\":1},\"tdv2-applet-featurebar\":{\"strings\":1},\"tdv2-applet-follow\":{\"strings\":1},\"tdv2-applet-native-ads\":{\"strings\":1},\"tdv2-applet-navrail\":{\"strings\":1},\"tdv2-applet-rawads\":{\"strings\":1},\"tdv2-applet-search-input\":{\"strings\":1},\"tdv2-applet-sponsored-moments\":{\"strings\":1},\"tdv2-applet-stream\":{\"strings\":1},\"tdv2-applet-stream-hero\":{\"strings\":1},\"tdv2-applet-swisschamp\":{\"strings\":1},\"tdv2-applet-uh\":{\"strings\":1},\"tdv2-applet-userintent\":{\"strings\":1},\"tdv2-applet-video-lightbox\":{\"strings\":1},\"tdv2-applet-video-modal\":{\"strings\":1},\"tdv2-wafer-adfeedback\":{\"strings\":1},\"tdv2-wafer-header\":{\"strings\":1},\"yahoodotcom-layout\":{\"strings\":1}}},\"options\":{\"defaultBundle\":\"td-app-finance\"}}}};\n",
       "}(this));\n",
       "</script><script>\n",
       "    (function(win) {\n",
       "      win.vzm = win.vzm || {};\n",
       "      win.vzm.swScreenshotTarget = '.render-target-active';\n",
       "      win.vzm.getPageContext = function() {\n",
       "        return {\"contentSite\":\"\",\"rid\":\"d947tlhg37e1k\",\"guid\":\"guid not found\",\"authed\":\"0\",\"ynet\":\"0\",\"ssl\":\"1\",\"spdy\":\"0\",\"ytee\":\"0\",\"mode\":\"normal\",\"site\":\"finance\",\"region\":\"US\",\"lang\":\"en-US\",\"bucket\":\"finance-US-en-US-def\",\"colo\":\"ir2\",\"device\":\"desktop\",\"bot\":\"1\",\"ecma\":\"default\",\"environment\":\"prod\",\"intl\":\"us\",\"partner\":\"none\",\"tz\":\"Europe/Amsterdam\",\"feature\":[\"adsMigration\",\"canvassOffnet\",\"ccOnMute\",\"disableCommentsMessage\",\"debouncesearch100\",\"deferDarla\",\"ecmaModern\",\"emptyServiceWorker\",\"enableCCPAFooter\",\"enableCMP\",\"enableConsentData\",\"enableFeatureTours\",\"enableFinancialsTemplate\",\"enableFreeFinRichSearch\",\"enableGuceJs\",\"enableGuceJsOverlay\",\"enableNavFeatureCue\",\"enableNewResearchInsights\",\"enablePfSummaryForEveryone\",\"enablePremiumSingleCTA\",\"enablePrivacyUpdate\",\"enableStreamDebounce\",\"enableTheming\",\"enableUpgradeLeafPage\",\"enableVideoURL\",\"enableXrayNcp\",\"enableXrayNcpInModal\",\"enableXrayTickerEntities\",\"enableYahooSans\",\"enableYodleeErrorMsgCriOS\",\"ncpListStream\",\"ncpPortfolioStream\",\"ncpQspStream\",\"ncpStream\",\"ncpStreamIntl\",\"ncpTopicStream\",\"newContentAttribution\",\"newLogo\",\"oathPlayer\",\"optimizeSearch\",\"relatedVideoFeature\",\"threeAmigos\",\"waferHeader\",\"useNextGenHistory\",\"videoNativePlaylist\",\"sunsetMotif2\",\"enableUserPrefAPI\",\"livecoverage\",\"darlaFirstRenderingVisible\",\"enableTradeit\",\"enableFeatureBar\",\"enableSearchEnhancement\",\"enableUserSentiment\",\"enableBankrateWidget\",\"enableYodlee\",\"canvassReplies\",\"enablePremiumFinancials\",\"enableInstapage\",\"enableNewResearchFilterMW\",\"showExpiredIdeas\",\"showMorningStar\",\"enableSingleRail\",\"enableSEOResearchReport\",\"enhanceAddToWL\",\"article2_csn\",\"sponsoredAds\",\"enableStageAds\",\"enableTradeItLinkBrokerSecondaryPromo\",\"premiumPromoHeader\",\"enableQspPremiumPromoSmall\",\"clientDelayNone\",\"threeAmigosMabEnabled\",\"threeAmigosAdsEnabledAndStreamIndex0\",\"enableRelatedTickers\",\"enableNotification\",\"financeRightRailA20\",\"enableBrokerCenter\"],\"theme\":\"none\",\"nps\":{}};\n",
       "      };\n",
       "      \n",
       "    }(window));\n",
       "    </script>\n",
       "<script id=\"wafer-db-config\" type=\"application/json\">{\"name\":\"scooby\",\"version\":1}</script>\n",
       "<script id=\"wafer-caas-config\" type=\"application/json\">{\"caasUrl\":\"https://www.yahoo.com/caas/content/article/\",\"contextParams\":\"appid=article2_csn&bucket=HPMODALMAST100,FPSATE101,FPDOGFOOD202&device=desktop&features=enableAdFeedbackV2,enableInArticleAd,enableSlideShowKV,enableVideoDocking,ncp,oathPlayer,outStream,enableXrayTickerEntities,enableXrayNcpInModal,enableXrayNcp&lang=en-US&region=US&site=finance\"}</script>\n",
       "<script defer=\"\" src=\"https://s.yimg.com/zz/combo?s:aaq/vzm/cs_1.1.3.js&amp;s:os/yaft/yaft-0.3.27.min.js&amp;s:os/yaft/yaft-plugin-aftnoad-0.1.5.min.js\"></script>\n",
       "<script src=\"https://s.yimg.com/aaq/wf/wf-core-1.43.12.js\"></script>\n",
       "<script defer=\"\" src=\"https://s.yimg.com/aaq/wf/wf-rapid-1.5.0.js\"></script>\n",
       "<script defer=\"\" src=\"https://s.yimg.com/aaq/wf/wf-bind-1.1.2.js\"></script>\n",
       "<script defer=\"\" src=\"https://s.yimg.com/aaq/wf/wf-fetch-1.16.7.js\"></script>\n",
       "<script defer=\"\" src=\"https://s.yimg.com/aaq/wf/wf-form-1.27.0.js\"></script>\n",
       "<script defer=\"\" src=\"https://s.yimg.com/aaq/wf/wf-image-1.1.8.js\"></script>\n",
       "<script defer=\"\" src=\"https://s.yimg.com/aaq/wf/wf-menu-1.0.0.js\"></script>\n",
       "<script defer=\"\" src=\"https://s.yimg.com/aaq/wf/wf-tabs-1.10.9.js\"></script>\n",
       "<script defer=\"\" src=\"https://s.yimg.com/aaq/wf/wf-toggle-1.13.4.js\"></script>\n",
       "<script defer=\"\" src=\"https://s.yimg.com/aaq/wf/wf-tooltip-1.0.15.js\"></script>\n",
       "<script defer=\"\" src=\"https://s.yimg.com/aaq/wf/wf-caas-1.14.1.js\"></script>\n",
       "<script defer=\"\" src=\"https://s.yimg.com/aaq/wf/wf-darla-1.0.21.js\"></script>\n",
       "<script defer=\"\" src=\"https://s.yimg.com/aaq/wf/wf-loader-1.5.7.js\"></script>\n",
       "<script defer=\"\" src=\"https://s.yimg.com/aaq/wf/wf-sticky-1.0.9.js\"></script>\n",
       "<script defer=\"\" src=\"https://s.yimg.com/aaq/wf/wf-template-1.3.5.js\"></script>\n",
       "<script src=\"https://s.yimg.com/aaq/hp-viewer/desktop_1.9.41.js\"></script>\n",
       "<script defer=\"\" src=\"https://s.yimg.com/uc/finance/dd-site/js/main.27004e423a9eb48d818d.min.js\"></script>\n",
       "<script async=\"\" src=\"https://s.yimg.com/aaq/vzm/perf-vitals_1.3.0.js\"></script>\n",
       "<script>(function () {\n",
       "    const appDiv = document.getElementById('app');\n",
       "    if (sessionStorage.getItem('yahooSansFinanceFontLoaded')) {\n",
       "        // don't wait for fonts to load\n",
       "        appDiv.className += ' Ff($yahooSansFinanceFont)!';\n",
       "        return;\n",
       "    }\n",
       "\n",
       "    if ('fonts' in document && typeof Promise !== 'undefined' && appDiv) {\n",
       "        Promise.all([\n",
       "            document.fonts.load('1em Yahoo Sans Finance'),\n",
       "            document.fonts.load('500 1em Yahoo Sans Finance'),\n",
       "            document.fonts.load('600 1em Yahoo Sans Finance'),\n",
       "            document.fonts.load('700 1em Yahoo Sans Finance')\n",
       "        ]).then(function () {\n",
       "            appDiv.className += ' Ff($yahooSansFinanceFont)!';\n",
       "\n",
       "            // cache for repeated session views\n",
       "            sessionStorage.setItem('yahooSansFinanceFontLoaded', true);\n",
       "        });\n",
       "    }\n",
       "})();\n",
       "</script>\n",
       "<script>\n",
       "        (function () {\n",
       "            var w = window.wafer || {};\n",
       "            typeof w.ready === 'function' && w.ready(function () {\n",
       "                typeof w.on === 'function' && w.on('tab:selected', function (e) {\n",
       "                    try {\n",
       "                        if (e && e.meta && e.meta.targetElem.id === 'header-notification-menu') {\n",
       "                            window.setTimeout(function hideBadge() {w.base.state = {financeNotification:{hideBadge:'1'}};}, 250);\n",
       "                            var rapidEvent = w.base.state.financeNotification.i13n.showPanel;\n",
       "                            window.rapidInstance.beaconEvent(rapidEvent.event, rapidEvent.data, rapidEvent.outcm);\n",
       "                        }\n",
       "                    } catch (ignore) {}\n",
       "                });\n",
       "            }, window);\n",
       "        })();</script>\n",
       "<script>window.webpackPublicPath='https://s.yimg.com/uc/finance/dd-site/js/';</script></body></html>"
      ]
     },
     "metadata": {},
     "execution_count": 19
    }
   ],
   "source": [
    "# parsing the html data using 'beautifuSoup' library\n",
    "soup = BeautifulSoup(html_data.text, 'html.parser')\n",
    "soup"
   ]
  },
  {
   "cell_type": "code",
   "execution_count": 11,
   "metadata": {},
   "outputs": [
    {
     "output_type": "execute_result",
     "data": {
      "text/plain": [
       "<title>Tesla, Inc. (TSLA) Income Statement - Yahoo Finance</title>"
      ]
     },
     "metadata": {},
     "execution_count": 11
    }
   ],
   "source": [
    "soup.title"
   ]
  },
  {
   "cell_type": "code",
   "execution_count": 12,
   "metadata": {},
   "outputs": [
    {
     "output_type": "error",
     "ename": "AttributeError",
     "evalue": "'NoneType' object has no attribute 'find_all'",
     "traceback": [
      "\u001b[0;31m---------------------------------------------------------------------------\u001b[0m",
      "\u001b[0;31mAttributeError\u001b[0m                            Traceback (most recent call last)",
      "\u001b[0;32m<ipython-input-12-c56f8ca6d7c5>\u001b[0m in \u001b[0;36m<module>\u001b[0;34m\u001b[0m\n\u001b[0;32m----> 1\u001b[0;31m \u001b[0msoup\u001b[0m\u001b[0;34m.\u001b[0m\u001b[0mfind\u001b[0m\u001b[0;34m(\u001b[0m\u001b[0;34m\"tbody\"\u001b[0m\u001b[0;34m)\u001b[0m\u001b[0;34m.\u001b[0m\u001b[0mfind_all\u001b[0m\u001b[0;34m(\u001b[0m\u001b[0;34m\"tr\"\u001b[0m\u001b[0;34m)\u001b[0m\u001b[0;34m\u001b[0m\u001b[0;34m\u001b[0m\u001b[0m\n\u001b[0m",
      "\u001b[0;31mAttributeError\u001b[0m: 'NoneType' object has no attribute 'find_all'"
     ]
    }
   ],
   "source": []
  },
  {
   "cell_type": "code",
   "execution_count": null,
   "metadata": {},
   "outputs": [],
   "source": [
    "# extracting the table with historical revenues and storing it into a dataframe\n",
    "\n",
    "tesla_revenue = pd.DataFrame(columns = [\"Date\", \"Total Revenue\"])\n",
    "\n",
    "for column in soup.find(\"tbody\").find_all(\"tr\"):\n",
    "    row = column.find_all(\"span\")\n",
    "    "
   ]
  },
  {
   "source": [
    "## Question 3. Extracting GameStop Stock Data Using yfinance"
   ],
   "cell_type": "markdown",
   "metadata": {}
  },
  {
   "source": [
    "## Question 4. Extracting GameStop Revenue Data Using Webscraping"
   ],
   "cell_type": "markdown",
   "metadata": {}
  },
  {
   "source": [
    "## Question 5. Tesla Stock and Revenue Dashboard"
   ],
   "cell_type": "markdown",
   "metadata": {}
  },
  {
   "source": [
    "## Question 6. GameStop Stock and Revenue Dashboard"
   ],
   "cell_type": "markdown",
   "metadata": {}
  },
  {
   "source": [
    "## Question 7. Sharing your Assignment Notebook"
   ],
   "cell_type": "markdown",
   "metadata": {}
  }
 ]
}